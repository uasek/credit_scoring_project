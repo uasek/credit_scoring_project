{
 "cells": [
  {
   "cell_type": "markdown",
   "metadata": {},
   "source": [
    "🧠 🦷 🦴 👀 👁 👅 👄 💋 🩸"
   ]
  },
  {
   "cell_type": "markdown",
   "metadata": {},
   "source": [
    "**Автор:** Миша\n",
    "\n",
    "**Цель:** посмотреть, как работают и как встраиваются в пайплайн разные штуки для работы с несбалансированными данными.\n",
    "\n",
    "**Библиотеки** : `imblearn`"
   ]
  },
  {
   "cell_type": "code",
   "execution_count": 1,
   "metadata": {},
   "outputs": [],
   "source": [
    "import numpy as np\n",
    "import pandas as pd\n",
    "\n",
    "from sklearn.pipeline import Pipeline\n",
    "from sklearn.linear_model import LogisticRegression"
   ]
  },
  {
   "cell_type": "markdown",
   "metadata": {},
   "source": [
    "Воспользуемся для примера первым датасетом (German)."
   ]
  },
  {
   "cell_type": "code",
   "execution_count": 73,
   "metadata": {},
   "outputs": [],
   "source": [
    "df = pd.read_csv('https://archive.ics.uci.edu/ml/machine-learning-databases/statlog/german/german.data',\n",
    "                 header = None, sep = ' ')\n",
    "\n",
    "# based on the .doc data description\n",
    "df.columns = ['cheq_acc', 'dur_t', 'cred_hist', 'purp', 'cred_amt', 'save_acc', \n",
    "              'empl_t', 'inst_to_income', 'pers_status', 'guarant_flg',\n",
    "              'residence_t', 'prop', 'age', 'inst_plan', 'house', 'n_loans',\n",
    "              'job', 'n_depend', 'tel_flg', 'foreign_flg', 'target']\n",
    "\n",
    "cat_vals = ['cheq_acc', 'cred_hist', 'purp', 'save_acc', \n",
    "            'empl_t', 'pers_status', 'guarant_flg', 'prop', \n",
    "            'inst_plan', 'house', 'job', 'tel_flg', 'foreign_flg']\n",
    "num_vals = ['dur_t', 'cred_amt', 'inst_to_income', 'residence_t', \n",
    "            'age', 'n_loans', 'n_depend']"
   ]
  },
  {
   "cell_type": "code",
   "execution_count": 74,
   "metadata": {},
   "outputs": [],
   "source": [
    "X = df.drop(\"target\", axis=1)\n",
    "y = df[\"target\"] - 1"
   ]
  },
  {
   "cell_type": "markdown",
   "metadata": {},
   "source": [
    "Тут возникла следующая проблема: у классов из библиотеки `imblearn` нет методов `fit` и `transform` -- они не встают в наши пайплайны. Для решения этой проблемы можно использовать:\n",
    "\n",
    "- [пайплайн от `mblearn`](https://stackoverflow.com/questions/50245684/using-smote-with-gridsearchcv-in-scikit-learn)\n",
    "\n",
    "- `OverSamplingClassifier` на основе кода [отсюда](https://github.com/analyticalmindsltd/smote_variants/issues/8).\n",
    "\n",
    "Покажем ниже, как работает второй способ:"
   ]
  },
  {
   "cell_type": "code",
   "execution_count": 64,
   "metadata": {},
   "outputs": [],
   "source": [
    "from sklearn.base import BaseEstimator, ClassifierMixin\n",
    "\n",
    "class OverasamplingClassifier(BaseEstimator, ClassifierMixin):\n",
    "\n",
    "    def __init__(self, oversampler, classifier):\n",
    "        self.oversampler= oversampler\n",
    "        self.classifier= classifier\n",
    "\n",
    "    def fit(self, X, y=None):\n",
    "        X_samp, y_samp= self.oversampler.fit_resample(X, y)  # вот тут поменял название метода\n",
    "        self.classifier.fit(X_samp, y_samp)\n",
    "        return self\n",
    "\n",
    "    def predict(self, X):\n",
    "        return self.classifier.predict(X)\n",
    "\n",
    "    def predict_proba(self, X):\n",
    "        return self.classifier.predict_proba(X)\n",
    "\n",
    "    def get_params(self, deep=True):\n",
    "        return {'oversampler': self.oversampler, 'classifier': self.classifier}\n",
    "\n",
    "    def set_params(self, **parameters):\n",
    "        for parameter, value in parameters.items():\n",
    "            setattr(self, parameter, value)\n",
    "        return self"
   ]
  },
  {
   "cell_type": "markdown",
   "metadata": {},
   "source": [
    "Протестируем на следующих алгоритмах:"
   ]
  },
  {
   "cell_type": "code",
   "execution_count": 60,
   "metadata": {},
   "outputs": [],
   "source": [
    "from imblearn.over_sampling import RandomOverSampler, SMOTE, ADASYN\n",
    "from imblearn.under_sampling import RandomUnderSampler"
   ]
  },
  {
   "cell_type": "markdown",
   "metadata": {},
   "source": [
    "# RandomOverSampler"
   ]
  },
  {
   "cell_type": "code",
   "execution_count": 75,
   "metadata": {},
   "outputs": [
    {
     "data": {
      "text/plain": [
       "Pipeline(steps=[('woe',\n",
       "                 WoEEncoder(variables=['cheq_acc', 'cred_hist', 'purp',\n",
       "                                       'save_acc', 'empl_t', 'pers_status',\n",
       "                                       'guarant_flg', 'prop', 'inst_plan',\n",
       "                                       'house', 'job', 'tel_flg',\n",
       "                                       'foreign_flg'])),\n",
       "                ('model',\n",
       "                 OverasamplingClassifier(classifier=LogisticRegression(max_iter=1000,\n",
       "                                                                       penalty='none'),\n",
       "                                         oversampler=RandomOverSampler()))])"
      ]
     },
     "execution_count": 75,
     "metadata": {},
     "output_type": "execute_result"
    }
   ],
   "source": [
    "pipeline = Pipeline([\n",
    "    ('woe', WoEEncoder(variables=cat_vals)),\n",
    "    ('model', OverasamplingClassifier(\n",
    "        RandomOverSampler(),\n",
    "        LogisticRegression(penalty='none', max_iter=1000)\n",
    "    )\n",
    "    )\n",
    "])\n",
    "\n",
    "pipeline.fit(X, y)"
   ]
  },
  {
   "cell_type": "code",
   "execution_count": 76,
   "metadata": {},
   "outputs": [
    {
     "data": {
      "text/plain": [
       "array([0, 1, 0, 1, 1], dtype=int64)"
      ]
     },
     "execution_count": 76,
     "metadata": {},
     "output_type": "execute_result"
    }
   ],
   "source": [
    "pipeline.predict(X)[:5]"
   ]
  },
  {
   "cell_type": "markdown",
   "metadata": {},
   "source": [
    "# RandomUnderSampler"
   ]
  },
  {
   "cell_type": "markdown",
   "metadata": {},
   "source": [
    "Несмотря на название вспомогательного класса, тоже работает :)"
   ]
  },
  {
   "cell_type": "code",
   "execution_count": 78,
   "metadata": {},
   "outputs": [
    {
     "data": {
      "text/plain": [
       "Pipeline(steps=[('woe',\n",
       "                 WoEEncoder(variables=['cheq_acc', 'cred_hist', 'purp',\n",
       "                                       'save_acc', 'empl_t', 'pers_status',\n",
       "                                       'guarant_flg', 'prop', 'inst_plan',\n",
       "                                       'house', 'job', 'tel_flg',\n",
       "                                       'foreign_flg'])),\n",
       "                ('model',\n",
       "                 OverasamplingClassifier(classifier=LogisticRegression(max_iter=1000,\n",
       "                                                                       penalty='none'),\n",
       "                                         oversampler=RandomUnderSampler()))])"
      ]
     },
     "execution_count": 78,
     "metadata": {},
     "output_type": "execute_result"
    }
   ],
   "source": [
    "pipeline = Pipeline([\n",
    "    ('woe', WoEEncoder(variables=cat_vals)),\n",
    "    ('model', OverasamplingClassifier(\n",
    "        RandomUnderSampler(),\n",
    "        LogisticRegression(penalty='none', max_iter=1000)\n",
    "    )\n",
    "    )\n",
    "])\n",
    "\n",
    "pipeline.fit(X, y)"
   ]
  },
  {
   "cell_type": "code",
   "execution_count": 79,
   "metadata": {},
   "outputs": [
    {
     "data": {
      "text/plain": [
       "array([0, 1, 0, 1, 1], dtype=int64)"
      ]
     },
     "execution_count": 79,
     "metadata": {},
     "output_type": "execute_result"
    }
   ],
   "source": [
    "pipeline.predict(X)[:5]"
   ]
  },
  {
   "cell_type": "markdown",
   "metadata": {},
   "source": [
    "# SMOTE"
   ]
  },
  {
   "cell_type": "code",
   "execution_count": 80,
   "metadata": {},
   "outputs": [
    {
     "data": {
      "text/plain": [
       "Pipeline(steps=[('woe',\n",
       "                 WoEEncoder(variables=['cheq_acc', 'cred_hist', 'purp',\n",
       "                                       'save_acc', 'empl_t', 'pers_status',\n",
       "                                       'guarant_flg', 'prop', 'inst_plan',\n",
       "                                       'house', 'job', 'tel_flg',\n",
       "                                       'foreign_flg'])),\n",
       "                ('model',\n",
       "                 OverasamplingClassifier(classifier=LogisticRegression(max_iter=1000,\n",
       "                                                                       penalty='none'),\n",
       "                                         oversampler=SMOTE(k_neighbors=3)))])"
      ]
     },
     "execution_count": 80,
     "metadata": {},
     "output_type": "execute_result"
    }
   ],
   "source": [
    "pipeline = Pipeline([\n",
    "    ('woe', WoEEncoder(variables=cat_vals)),\n",
    "    ('model', OverasamplingClassifier(\n",
    "        SMOTE(k_neighbors=3),\n",
    "        LogisticRegression(penalty='none', max_iter=1000)\n",
    "    )\n",
    "    )\n",
    "])\n",
    "\n",
    "pipeline.fit(X, y)"
   ]
  },
  {
   "cell_type": "code",
   "execution_count": 81,
   "metadata": {},
   "outputs": [
    {
     "data": {
      "text/plain": [
       "array([0, 1, 0, 1, 1], dtype=int64)"
      ]
     },
     "execution_count": 81,
     "metadata": {},
     "output_type": "execute_result"
    }
   ],
   "source": [
    "pipeline.predict(X)[:5]"
   ]
  },
  {
   "cell_type": "markdown",
   "metadata": {},
   "source": [
    "# ADASYN"
   ]
  },
  {
   "cell_type": "code",
   "execution_count": 82,
   "metadata": {},
   "outputs": [
    {
     "data": {
      "text/plain": [
       "Pipeline(steps=[('woe',\n",
       "                 WoEEncoder(variables=['cheq_acc', 'cred_hist', 'purp',\n",
       "                                       'save_acc', 'empl_t', 'pers_status',\n",
       "                                       'guarant_flg', 'prop', 'inst_plan',\n",
       "                                       'house', 'job', 'tel_flg',\n",
       "                                       'foreign_flg'])),\n",
       "                ('model',\n",
       "                 OverasamplingClassifier(classifier=LogisticRegression(max_iter=1000,\n",
       "                                                                       penalty='none'),\n",
       "                                         oversampler=ADASYN()))])"
      ]
     },
     "execution_count": 82,
     "metadata": {},
     "output_type": "execute_result"
    }
   ],
   "source": [
    "pipeline = Pipeline([\n",
    "    ('woe', WoEEncoder(variables=cat_vals)),\n",
    "    ('model', OverasamplingClassifier(\n",
    "        ADASYN(),\n",
    "        LogisticRegression(penalty='none', max_iter=1000)\n",
    "    )\n",
    "    )\n",
    "])\n",
    "\n",
    "pipeline.fit(X, y)"
   ]
  },
  {
   "cell_type": "code",
   "execution_count": 83,
   "metadata": {},
   "outputs": [
    {
     "data": {
      "text/plain": [
       "array([0, 1, 0, 1, 1], dtype=int64)"
      ]
     },
     "execution_count": 83,
     "metadata": {},
     "output_type": "execute_result"
    }
   ],
   "source": [
    "pipeline.predict(X)[:5]"
   ]
  },
  {
   "cell_type": "markdown",
   "metadata": {},
   "source": [
    "Выводы:\n",
    "\n",
    "- отчасти удалось решить проблему с тем, что классы `imblearn` не встают в пайплайн\n",
    "- тем не менее, у такого подхода есть проблема - мы вынуждены делать under / over sampling в самом конце, перед обучением модели, и не можем поставить его куда-то раньше."
   ]
  }
 ],
 "metadata": {
  "interpreter": {
   "hash": "cc5f70855ac006f3de45a3cc3b9e7d8d53845e50458809cb162b0174266dec97"
  },
  "kernelspec": {
   "display_name": "Python 3 (ipykernel)",
   "language": "python",
   "name": "python3"
  },
  "language_info": {
   "codemirror_mode": {
    "name": "ipython",
    "version": 3
   },
   "file_extension": ".py",
   "mimetype": "text/x-python",
   "name": "python",
   "nbconvert_exporter": "python",
   "pygments_lexer": "ipython3",
   "version": "3.9.7"
  }
 },
 "nbformat": 4,
 "nbformat_minor": 4
}
