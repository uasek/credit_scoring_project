{
 "cells": [
  {
   "cell_type": "markdown",
   "id": "2068d1f3-e396-4f94-947e-bcac3ce779cf",
   "metadata": {
    "id": "mlhq3qfjqFO2",
    "tags": []
   },
   "source": [
    "# Model Risk MVP\n",
    "\n",
    "_Initial commit: Anton Markov, 1 October 2021_\n",
    "\n",
    "_Latest edit: Anton Markov, 30 October 2021_\n"
   ]
  },
  {
   "cell_type": "code",
   "execution_count": 1,
   "id": "e0b96165-5b35-476b-8718-7bb1bf813ea6",
   "metadata": {},
   "outputs": [],
   "source": [
    "import time\n",
    "import os\n",
    "import json\n",
    "import numpy as np\n",
    "import pandas as pd\n",
    "import matplotlib.pyplot as plt\n",
    "\n",
    "from sklearn import datasets, metrics, model_selection\n",
    "from sklearn.metrics import roc_auc_score\n",
    "from sklearn.model_selection import train_test_split\n",
    "\n",
    "from hyperopt import hp\n",
    "# from catboost import CatBoostClassifier\n",
    "from lightgbm import LGBMClassifier\n",
    "from xgboost import XGBClassifier\n",
    "from sklearn.ensemble import RandomForestClassifier\n",
    "from sklearn.tree import DecisionTreeClassifier\n",
    "from sklearn import tree\n",
    "\n",
    "# for HyperOpt class\n",
    "import lightgbm as lgb\n",
    "import xgboost as xgb\n",
    "# import catboost as ctb\n",
    "from hyperopt import fmin, tpe, STATUS_OK, STATUS_FAIL, Trials"
   ]
  },
  {
   "cell_type": "code",
   "execution_count": 2,
   "id": "a4fdea02-ff1b-4027-8e2d-91ba1ad73b33",
   "metadata": {},
   "outputs": [],
   "source": [
    "# новый пакет!\n",
    "from feature_engine.encoding import WoEEncoder\n",
    "from feature_engine.creation import CombineWithReferenceFeature\n",
    "from feature_engine.selection import RecursiveFeatureAddition"
   ]
  },
  {
   "cell_type": "code",
   "execution_count": 3,
   "id": "e37a88b8-d31a-4c67-9297-8c90d0f330b7",
   "metadata": {},
   "outputs": [],
   "source": [
    "from sklearn.pipeline import Pipeline"
   ]
  },
  {
   "cell_type": "code",
   "execution_count": 6,
   "id": "b576f1f2-19bd-4e39-b54d-7f467bb48550",
   "metadata": {},
   "outputs": [],
   "source": [
    "with open('../datasets/01_german/factors.json') as json_file:\n",
    "    factors_dict = json.load(json_file)"
   ]
  },
  {
   "cell_type": "code",
   "execution_count": 7,
   "id": "bb564ba0-f004-4851-b4f0-5f4699449599",
   "metadata": {},
   "outputs": [
    {
     "data": {
      "text/plain": [
       "['cheq_acc',\n",
       " 'cred_hist',\n",
       " 'purp',\n",
       " 'save_acc',\n",
       " 'empl_t',\n",
       " 'pers_status',\n",
       " 'guarant_flg',\n",
       " 'prop',\n",
       " 'inst_plan',\n",
       " 'house',\n",
       " 'job',\n",
       " 'tel_flg',\n",
       " 'foreign_flg']"
      ]
     },
     "execution_count": 7,
     "metadata": {},
     "output_type": "execute_result"
    }
   ],
   "source": [
    "factors_dict['cat_vals']"
   ]
  },
  {
   "cell_type": "code",
   "execution_count": 8,
   "id": "46c5eb5c-56d8-454e-be7c-04b38cca3a9e",
   "metadata": {},
   "outputs": [],
   "source": [
    "seed = 42"
   ]
  },
  {
   "cell_type": "code",
   "execution_count": 9,
   "id": "41fbb4b3-38f3-415f-b1b5-f5ce230aecc3",
   "metadata": {},
   "outputs": [],
   "source": [
    "def Gini(y, y_pred):\n",
    "    res = roc_auc_score(y, y_pred) * 2 - 1\n",
    "    print(f\"Gini: {res}\")\n",
    "    return(res)"
   ]
  },
  {
   "cell_type": "markdown",
   "id": "2d3f3d60-6198-4153-8cc3-490ea8219d66",
   "metadata": {},
   "source": [
    "## With pipeline"
   ]
  },
  {
   "cell_type": "code",
   "execution_count": 16,
   "id": "1f93c1ae-124b-4c7a-b09f-af3a7552eec5",
   "metadata": {},
   "outputs": [],
   "source": [
    "X_train = pd.read_parquet('../datasets/01_german/samples/X_train.parquet')\n",
    "X_test  = pd.read_parquet('../datasets/01_german/samples/X_test.parquet')\n",
    "y_train = pd.read_parquet('../datasets/01_german/samples/y_train.parquet').target\n",
    "y_test  = pd.read_parquet('../datasets/01_german/samples/y_test.parquet').target"
   ]
  },
  {
   "cell_type": "code",
   "execution_count": 17,
   "id": "86037584-d647-4598-a67a-33a9d0cc46d6",
   "metadata": {},
   "outputs": [],
   "source": [
    "woe = WoEEncoder(variables = factors_dict['cat_vals'])\n",
    "feat_eng = CombineWithReferenceFeature(\n",
    "    variables_to_combine = list(X_train.columns),\n",
    "    reference_variables = list(X_train.columns),\n",
    "    operations = ['mul']\n",
    ")\n",
    "lgbm_mdl = LGBMClassifier(\n",
    "    num_leaves = 10,\n",
    "    learning_rate = .1,\n",
    "    reg_alpha = 8,\n",
    "    reg_lambda = 8,\n",
    "    random_state = seed\n",
    ")\n",
    "feat_sel = RecursiveFeatureAddition(\n",
    "    lgbm_mdl,\n",
    "    threshold = 0.005\n",
    ")"
   ]
  },
  {
   "cell_type": "code",
   "execution_count": 18,
   "id": "67ebc368-1fcd-4f17-b964-5373580b0d3f",
   "metadata": {},
   "outputs": [],
   "source": [
    "mdl_pipe = Pipeline(\n",
    "    [('encode', woe), ('feat_eng', feat_eng), ('feat_select', feat_sel), ('lgbm', lgbm_mdl)]\n",
    ")"
   ]
  },
  {
   "cell_type": "code",
   "execution_count": 21,
   "id": "85ec255c-dcb2-47a5-98c9-ee001d998b9c",
   "metadata": {
    "tags": []
   },
   "outputs": [
    {
     "name": "stdout",
     "output_type": "stream",
     "text": [
      "Gini: 0.7746717241072156\n"
     ]
    },
    {
     "data": {
      "text/plain": [
       "0.7746717241072156"
      ]
     },
     "execution_count": 21,
     "metadata": {},
     "output_type": "execute_result"
    }
   ],
   "source": [
    "mdl_pipe.fit(X_train, y_train)\n",
    "Gini(y_train, mdl_pipe.predict_proba(X_train)[:, 1])"
   ]
  },
  {
   "cell_type": "code",
   "execution_count": 22,
   "id": "aac1d33b-1c3a-4033-adc3-2582522ee777",
   "metadata": {},
   "outputs": [
    {
     "name": "stdout",
     "output_type": "stream",
     "text": [
      "Gini: 0.5843250390671957\n"
     ]
    },
    {
     "data": {
      "text/plain": [
       "0.5843250390671957"
      ]
     },
     "execution_count": 22,
     "metadata": {},
     "output_type": "execute_result"
    }
   ],
   "source": [
    "Gini(y_test, mdl_pipe.predict_proba(X_test)[:, 1])"
   ]
  },
  {
   "cell_type": "markdown",
   "id": "f7170076-0c43-4cc2-b065-19e01f3cafaa",
   "metadata": {},
   "source": [
    "Получили то же самое!"
   ]
  }
 ],
 "metadata": {
  "kernelspec": {
   "display_name": "Python 3 (ipykernel)",
   "language": "python",
   "name": "python3"
  },
  "language_info": {
   "codemirror_mode": {
    "name": "ipython",
    "version": 3
   },
   "file_extension": ".py",
   "mimetype": "text/x-python",
   "name": "python",
   "nbconvert_exporter": "python",
   "pygments_lexer": "ipython3",
   "version": "3.9.7"
  }
 },
 "nbformat": 4,
 "nbformat_minor": 5
}
