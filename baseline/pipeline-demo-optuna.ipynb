{
 "cells": [
  {
   "cell_type": "markdown",
   "id": "6b95fcbe-4085-4cb6-8fde-7c4601826387",
   "metadata": {
    "id": "mlhq3qfjqFO2"
   },
   "source": [
    "# Optuna pipeline\n",
    "\n",
    "Цель данного ноутбука -- показать, как можно применять библиотеку `optuna` для оптимизации гиперпараметров и подбора элементов пайплайна. Начало скопировано из ноутбука про `hyperopt`.\n",
    "\n",
    "Главная [страница](https://optuna.org/) библиотеки. [Документация](https://optuna.readthedocs.io/en/stable/index.html).\n",
    "Судя по документации, это довольно интересная штука с большими возможностями по настройке, сохранению и обработке результатов экспериментов.\n",
    "Интересные страницы, которые стоит посмотреть:\n",
    " - [optuna.study](https://optuna.readthedocs.io/en/stable/reference/study.html)\n",
    " - [Study](https://optuna.readthedocs.io/en/stable/reference/generated/optuna.study.Study.html#optuna.study.Study)\n",
    " - [Trial](https://optuna.readthedocs.io/en/stable/reference/generated/optuna.trial.Trial.html#optuna.trial.Trial)\n",
    " - [как настроить verbose](https://optuna.readthedocs.io/en/stable/reference/logging.html)"
   ]
  },
  {
   "cell_type": "markdown",
   "id": "fb8a06e4",
   "metadata": {},
   "source": [
    "Далее идет кусок из ноута по аналогии с ноутбуком по `hyperopt`.\n",
    "\n",
    "---"
   ]
  },
  {
   "cell_type": "markdown",
   "id": "67a9abbb-ee51-484f-96b8-192c3474e7ff",
   "metadata": {},
   "source": [
    "## 1. Technicals"
   ]
  },
  {
   "cell_type": "code",
   "execution_count": 1,
   "id": "b144269a-e212-4862-bccc-765c1e35f0fa",
   "metadata": {},
   "outputs": [],
   "source": [
    "import time\n",
    "import os\n",
    "import json\n",
    "import numpy as np\n",
    "import pandas as pd\n",
    "import matplotlib.pyplot as plt\n",
    "import sklearn\n",
    "import optuna\n",
    "import umap\n",
    "seed=42\n",
    "\n",
    "from sklearn.metrics import roc_auc_score\n",
    "from imblearn.pipeline import Pipeline\n",
    "\n",
    "# from catboost import CatBoostClassifier\n",
    "from lightgbm import LGBMClassifier\n",
    "from imblearn.over_sampling import RandomOverSampler, SMOTE, ADASYN\n",
    "from imblearn.under_sampling import RandomUnderSampler\n",
    "\n",
    "\n",
    "# новый пакет!\n",
    "from feature_engine.encoding import WoEEncoder\n",
    "from feature_engine.creation import CombineWithReferenceFeature\n",
    "from feature_engine.encoding import OneHotEncoder\n",
    "\n",
    "from feature_engine.encoding.base_encoder import BaseCategoricalTransformer\n",
    "from feature_engine.validation import _return_tags\n",
    "from feature_engine.variable_manipulation import _check_input_parameter_variables\n",
    "\n",
    "from mlxtend.feature_selection import SequentialFeatureSelector\n",
    "from feature_engine.selection  import SelectByShuffling\n",
    "from feature_engine.selection  import RecursiveFeatureAddition\n",
    "from feature_engine.selection  import SmartCorrelatedSelection"
   ]
  },
  {
   "cell_type": "markdown",
   "id": "8020c325-11af-4cfc-9d61-5d2378598fdd",
   "metadata": {},
   "source": [
    "## 2. Import Dataset"
   ]
  },
  {
   "cell_type": "code",
   "execution_count": 2,
   "id": "b6b36c16-1aa8-41a0-8462-74cfbe7fc49c",
   "metadata": {},
   "outputs": [],
   "source": [
    "X_train = pd.read_parquet('../datasets/01_german/samples/X_train.parquet')\n",
    "y_train = pd.read_parquet('../datasets/01_german/samples/y_train.parquet').target\n",
    "\n",
    "# X_train, X_valid, y_train, y_valid = train_test_split(X_train, y_train, test_size=0.33, random_state=42)\n",
    "\n",
    "X_test  = pd.read_parquet('../datasets/01_german/samples/X_test.parquet')\n",
    "y_test  = pd.read_parquet('../datasets/01_german/samples/y_test.parquet').target"
   ]
  },
  {
   "cell_type": "code",
   "execution_count": 3,
   "id": "fff79df1-8826-4f05-918e-03652f8a036d",
   "metadata": {},
   "outputs": [
    {
     "data": {
      "text/plain": [
       "['cheq_acc',\n",
       " 'cred_hist',\n",
       " 'purp',\n",
       " 'save_acc',\n",
       " 'empl_t',\n",
       " 'pers_status',\n",
       " 'guarant_flg',\n",
       " 'prop',\n",
       " 'inst_plan',\n",
       " 'house',\n",
       " 'job',\n",
       " 'tel_flg',\n",
       " 'foreign_flg']"
      ]
     },
     "execution_count": 3,
     "metadata": {},
     "output_type": "execute_result"
    }
   ],
   "source": [
    "with open('../datasets/01_german/factors.json') as json_file:\n",
    "    factors_dict = json.load(json_file)\n",
    "\n",
    "factors_dict['cat_vals']"
   ]
  },
  {
   "cell_type": "markdown",
   "id": "58540fea-e6ce-462c-8427-30f443126065",
   "metadata": {},
   "source": [
    "## 3. Define Modules"
   ]
  },
  {
   "cell_type": "markdown",
   "id": "4773fea9-9067-4d91-a30d-4594eb5a3716",
   "metadata": {},
   "source": [
    "All the modules that might be part of the pipeline should be defined below (or import them):"
   ]
  },
  {
   "cell_type": "code",
   "execution_count": 4,
   "id": "787e5638",
   "metadata": {},
   "outputs": [],
   "source": [
    "# костыль для импорта из \"соседней\" директории\n",
    "import sys\n",
    "sys.path.insert(1, \"../\")\n",
    "\n",
    "from modules.feature_selection import CombineWithReferenceFeature_adj\n",
    "from modules.preprocessing import DimensionReducer\n",
    "from modules.encoders import WoEEncoder_adj"
   ]
  },
  {
   "cell_type": "code",
   "execution_count": 5,
   "id": "22dc81ed-dce6-4a74-a8cd-549a82b69ad9",
   "metadata": {},
   "outputs": [],
   "source": [
    "WoE_module = WoEEncoder_adj(variables = factors_dict['cat_vals'])\n",
    "\n",
    "OneHot_module = OneHotEncoder(variables = factors_dict['cat_vals'])\n",
    "\n",
    "PCA_module = DimensionReducer(\n",
    "    gen_class = sklearn.decomposition.PCA,\n",
    "    n_components = 2,    # сколько оставить компонентов; по дефолту - все\n",
    "    whiten = False,      # отключаем whitening - декорреляцию фичей\n",
    "    svd_solver = \"full\", # детали SVD преобразования, за подробностями см. доки\n",
    ")\n",
    "\n",
    "kPCA_module = DimensionReducer(\n",
    "    gen_class = sklearn.decomposition.KernelPCA,\n",
    "    n_components = 8,  # сколько оставить компонентов; по дефолту - все\n",
    "    kernel = \"linear\", # ядро. По дфеолту линейное. Можно сделать своё, но тогда его нужно предварительно вычислить отдельно,\n",
    "                       # поставить kernel = \"precomputed\" и передать уже вычисленное ядро в качестве X\n",
    "    degree = 3,        # степень полинома для некоторых типов ядер. Важный параметр для тьюнинга, но сильно напрягает процессор\n",
    "    n_jobs = -1        # объект умеет быть многопоточным! -1 займет все ядра\n",
    ")\n",
    "\n",
    "Isomap_module = DimensionReducer(\n",
    "    gen_class = sklearn.manifold.Isomap,\n",
    "    n_neighbors = 5, #количество соседей при вычислении KNN. Основной гиперпараметр, кстати (!!!)\n",
    "    n_components = 2,  #сколько оставить компонент; по дефолту - 2\n",
    "    path_method = \"auto\", #алгоритм, который вычисляет кратчайший путь. Варианты см. на странице функции. Этот подбирает сам.\n",
    "    neighbors_algorithm = \"auto\", #алгоритм, который ищет соседей. Инстанс класса NearestNeighbours\n",
    "    n_jobs = -1 #объект умеет быть многопоточным! -1 займет все ядра\n",
    ")\n",
    "\n",
    "UMAP_module = DimensionReducer(\n",
    "    gen_class = umap.UMAP,\n",
    "    n_neighbors = 5,  # количество соседей при вычислении KNN. Основной гиперпараметр, кстати (!!!)\n",
    "    n_components = 2, # сколько оставить компонентов; по дефолту - 2\n",
    "    min_dist = 0.1    # минимальная дистанция, которую можно сохранять между точками в получающемся пространстве. \n",
    "    # Гиперпараметр. При увеличении начинает лучше улавливать общую структуру, но хуже - локальную\n",
    ")\n",
    "\n",
    "CombWRef_module = CombineWithReferenceFeature_adj(\n",
    "    operations = ['mul']\n",
    ")\n",
    "\n",
    "lgbm_mdl = LGBMClassifier(\n",
    "    num_leaves = 10,\n",
    "    learning_rate = .1,\n",
    "    reg_alpha = 8,\n",
    "    reg_lambda = 8,\n",
    "    random_state = seed\n",
    ")\n",
    "\n",
    "# Tackling imbalances in target\n",
    "RUS_module    = RandomUnderSampler(random_state = seed)\n",
    "ROS_module    = RandomOverSampler(random_state = seed)\n",
    "SMOTE_module  = SMOTE(random_state = seed)\n",
    "ADASYN_module = ADASYN(random_state = seed)\n",
    "\n",
    "# feature selection\n",
    "SeqFearSel_module = SequentialFeatureSelector(\n",
    "    estimator  = lgbm_mdl,  \n",
    "    # k_features = 5,                                                  \n",
    "    forward    = True,                                                  \n",
    "    floating   = True,                                                \n",
    "    verbose    = 0,\n",
    "    cv         = 5\n",
    ")\n",
    "RecFeatAdd_module = RecursiveFeatureAddition(\n",
    "    lgbm_mdl,\n",
    "    threshold = 0.005\n",
    ")\n",
    "# SelShuffl_module = SelectByShuffling(\n",
    "#     estimator = lgbm_mdl,\n",
    "#     # variables=X.columns.to_list(),                                      # можно задать подмножество\n",
    "#     scoring='roc_auc',                                                  # метрика\n",
    "#     threshold=0.01,                                                     # порог ее снижения\n",
    "#     cv=5,\n",
    "#     random_state=42\n",
    "# )\n",
    "SmartSel_module = SmartCorrelatedSelection(\n",
    "    # variables=X.columns.to_list(),\n",
    "    method=\"pearson\",                # можно взять свою функцию\n",
    "    threshold=0.3,                   # порог корреляции\n",
    "    selection_method=\"variance\",     # из коррелирующих групп выбираем признак с наиб дисперсией\n",
    "    estimator=None,                  # понадобится для selection_method=\"model_performance\"        \n",
    "    cv=5\n",
    ")\n"
   ]
  },
  {
   "cell_type": "code",
   "execution_count": 6,
   "id": "12046c50-6419-41a5-add4-99f4329eda48",
   "metadata": {},
   "outputs": [],
   "source": [
    "modules = {\n",
    "    'WoE':         WoE_module,\n",
    "    'OneHot':      OneHot_module,\n",
    "    'PCA':         PCA_module,\n",
    "    'kPCA':        kPCA_module,\n",
    "    'Isomap':      Isomap_module,\n",
    "    'UMAP':        UMAP_module,\n",
    "    'CombWRef':    CombWRef_module,\n",
    "    'RecFeatAdd':  RecFeatAdd_module,\n",
    "    'lgbm':        lgbm_mdl,\n",
    "    'RUS':         RUS_module,      \n",
    "    'ROS':         ROS_module,      \n",
    "    'SMOTE':       SMOTE_module,  \n",
    "    'ADASYN':      ADASYN_module,\n",
    "    'SeqFearSel':  SeqFearSel_module,\n",
    "    'RecFeatAdd':  RecFeatAdd_module,\n",
    "    # 'SelShuffl':   SelShuffl_module,\n",
    "    'SmartSel':    SmartSel_module,\n",
    "    'passthrough' : 'passthrough'      # можно добавить в (не последнюю) ячейку пайплайна, чтобы пропустить ее\n",
    "}"
   ]
  },
  {
   "cell_type": "markdown",
   "id": "f9191776-4f78-43dc-aa59-162abcb164d5",
   "metadata": {
    "tags": []
   },
   "source": [
    "## 4. Define Pipeline"
   ]
  },
  {
   "cell_type": "markdown",
   "id": "547825ef",
   "metadata": {},
   "source": [
    "Кандидаты для каждого элемента пайплайна (`passthrough` означает, что пропускаем)."
   ]
  },
  {
   "cell_type": "code",
   "execution_count": 7,
   "id": "47770fdd",
   "metadata": {},
   "outputs": [],
   "source": [
    "pipe_params = {\n",
    "    # 'missing_vals': \n",
    "    'cat_encoding':  ['OneHot', 'WoE'], # , 'woe' пропустить нельзя из-за наличия кат. пер-х\n",
    "    'imbalance':     ['passthrough', 'RUS', 'ROS', 'SMOTE', 'ADASYN'],\n",
    "    'feat_eng':      ['passthrough', 'PCA', 'kPCA', 'Isomap', 'UMAP'], # , 'CombWRef' # удалил, т.к. долго считается\n",
    "    'feat_sel':      ['passthrough', 'SeqFearSel', 'RecFeatAdd', 'SmartSel'], # 'SelShuffl' is omitted, since it might drop all Xs\n",
    "    'lgbm':          ['lgbm']\n",
    "}"
   ]
  },
  {
   "cell_type": "markdown",
   "id": "1e5ba8bd",
   "metadata": {},
   "source": [
    "Функции для выбора гиперпараметров для отдельных элементов -- самая напряжная часть оптуны, т.к. нужно вручную прописывать, из какого множества выбирать:"
   ]
  },
  {
   "cell_type": "code",
   "execution_count": 8,
   "id": "6cc1fc7e",
   "metadata": {},
   "outputs": [],
   "source": [
    "def PCA_params(trial) -> dict:\n",
    "    return {\n",
    "        \"n_components\" : trial.suggest_int(\"PCA__n_components\", 2, 11),\n",
    "        \"whiten\" : trial.suggest_categorical(\n",
    "            \"PCA__whiten\",\n",
    "            [True, False]\n",
    "            ),\n",
    "        \"svd_solver\" : trial.suggest_categorical(\n",
    "            \"PCA__svd_solver\",\n",
    "            ['full', 'arpack', 'auto', 'randomized']\n",
    "            )\n",
    "    }\n",
    "\n",
    "def kPCA_params(trial):\n",
    "    return {\n",
    "        \"n_components\" : trial.suggest_int(\"kPCA__n_components\", 5, 11),\n",
    "        \"kernel\" : trial.suggest_categorical(\n",
    "            \"kPCA__kernel\",\n",
    "            ['linear', 'poly', 'rbf', 'sigmoid', 'cosine', 'precomputed']\n",
    "            ),\n",
    "    }\n",
    "\n",
    "def Isomap_params(trial):\n",
    "    return {\n",
    "        \"n_neighbors\" : trial.suggest_int(\"Isomap__n_neighbors\", 2, 11),\n",
    "        \"n_components\" : trial.suggest_int(\"Isomap__n_components\", 2, 5),\n",
    "        \"path_method\" : trial.suggest_categorical(\n",
    "            \"Isomap__path_method\",\n",
    "            ['auto', 'FW', 'D']\n",
    "            )\n",
    "    }\n",
    "\n",
    "def UMAP_params(trial):\n",
    "    return {\n",
    "        \"n_neighbors\" : trial.suggest_int(\"UMAP__n_neighbors\", 2, 11),\n",
    "        \"n_components\" : trial.suggest_int(\"UMAP__n_components\", 2, 11),\n",
    "        \"min_dist\" : trial.suggest_float(\"UMAP__min_dist\", 0.05, 1, step=0.05)\n",
    "    }\n",
    "\n",
    "def LightGBM_params(trial):\n",
    "    return {\n",
    "        \"learning_rate\" : trial.suggest_float(\"LightGBM__learning_rate\", 0.05, 0.31, step=0.05),\n",
    "        \"num_leaves\" : trial.suggest_int(\"LightGBM__num_leaves\", 5, 16),\n",
    "        \"reg_alpha\" : trial.suggest_int(\"LightGBM__reg_alpha\", 0, 16),\n",
    "        \"reg_lambda\" : trial.suggest_int(\"LightGBM__reg_lambda\", 0, 0.16),\n",
    "        \"n_estimators\" : 100\n",
    "    }"
   ]
  },
  {
   "cell_type": "markdown",
   "id": "1354281c",
   "metadata": {},
   "source": [
    "Сложим их в словарик и подадим его на вход оптимизируемой функции:"
   ]
  },
  {
   "cell_type": "code",
   "execution_count": 9,
   "id": "8b710156-03b3-4e15-9b8f-3d1056037741",
   "metadata": {},
   "outputs": [],
   "source": [
    "modules_hparams = {\n",
    "    'PCA' : PCA_params,\n",
    "    'kPCA' : kPCA_params,\n",
    "    'UMAP' : UMAP_params,\n",
    "    'LightGBM' : LightGBM_params\n",
    "}"
   ]
  },
  {
   "cell_type": "markdown",
   "id": "16fe3069",
   "metadata": {},
   "source": [
    "Оптимизиуемая функция. Должна принимать на вход объект `trial` и возвращать значение метрики:"
   ]
  },
  {
   "cell_type": "code",
   "execution_count": 10,
   "id": "e41ac736",
   "metadata": {},
   "outputs": [],
   "source": [
    "def Gini(y, y_pred):\n",
    "    res = roc_auc_score(y, y_pred) * 2 - 1\n",
    "    print(f\"Gini: {res}\")\n",
    "    return(res)\n",
    "\n",
    "def objective(trial, modules, pipe_params, modules_hparams) -> float:\n",
    "    \"\"\"\n",
    "    Функция для подачи в библиотеку.\n",
    "\n",
    "    Parameters\n",
    "    ----------\n",
    "    trial : ...\n",
    "        Вспомогательный аргумент, используется непосредственно оптуной.\n",
    "    modules : dict\n",
    "        Ключ - название модуля, значение - объект данного класса.\n",
    "        Примеры пар: 'WoE' : WoE_module, \"passthrough\" : \"passthrough\".\n",
    "    pipe_params : dict\n",
    "        Ключ - этап пайплайна, значение - лист с вариантами на данный этап.\n",
    "        Пример пары: 'feat_eng' : ['passthrough', 'PCA', 'kPCA', 'Isomap', 'UMAP'].\n",
    "    modules_params : dict\n",
    "        Ключ - название модуля (как у modules),\n",
    "        значение - функция: trial -> dict с параметрами данного модуля\n",
    "\n",
    "    Returns\n",
    "    -------\n",
    "    Значение оптимизируемой метрики (в данном случае gini).\n",
    "    \"\"\"\n",
    "    pipeline = []\n",
    "    \n",
    "    # часть 1: выбираем модули и параметры к ним\n",
    "    for elem, options in pipe_params.items():                                    # итерация по парам (ключ, значение) словаря\n",
    "        choice : str = trial.suggest_categorical(f\"pipe__{elem}\", options)       # выбираем элемент пайплайна\n",
    "        module = modules[choice]                                                 # достаем этот объект из словаря\n",
    "\n",
    "        if choice in modules_hparams.keys():                                     # если мы также оптимизируем гиперпараметры для элемента пайплайна\n",
    "            hp_function : callable = modules_hparams[choice]                     # функция, которая возвращает гиперпараметры\n",
    "            hp_choice : dict = hp_function(trial)                                # конкретный набор, который она вернула\n",
    "            module.set_params(**hp_choice)\n",
    "\n",
    "        pipeline.append(\n",
    "            # (choice, module)\n",
    "            (elem, module)\n",
    "        )\n",
    "    \n",
    "    pipeline = Pipeline(pipeline)                                                # получаем модель\n",
    "\n",
    "    # часть 2: оцениваем качество получившейся модели\n",
    "    pipeline.fit(X_train, y_train)\n",
    "    y_pred = pipeline.predict_proba(X_test)[:, 1]\n",
    "    metric = roc_auc_score(y_test, y_pred)\n",
    "\n",
    "    return metric"
   ]
  },
  {
   "cell_type": "markdown",
   "id": "0f558f05",
   "metadata": {},
   "source": [
    "Собственно запуск оптимизации:"
   ]
  },
  {
   "cell_type": "code",
   "execution_count": 11,
   "id": "0659b471",
   "metadata": {},
   "outputs": [
    {
     "name": "stderr",
     "output_type": "stream",
     "text": [
      "\u001b[32m[I 2022-01-09 23:24:02,629]\u001b[0m A new study created in memory with name: no-name-8905eced-b8b9-45d1-882b-160210d0c25a\u001b[0m\n",
      "\u001b[32m[I 2022-01-09 23:24:24,611]\u001b[0m Trial 0 finished with value: 0.5680971270585405 and parameters: {'pipe__cat_encoding': 'WoE', 'pipe__imbalance': 'passthrough', 'pipe__feat_eng': 'UMAP', 'UMAP__n_neighbors': 10, 'UMAP__n_components': 4, 'UMAP__min_dist': 0.2, 'pipe__feat_sel': 'RecFeatAdd', 'pipe__lgbm': 'lgbm'}. Best is trial 0 with value: 0.5680971270585405.\u001b[0m\n",
      "d:\\environments\\scoring_project\\lib\\site-packages\\sklearn\\manifold\\_spectral_embedding.py:260: UserWarning: Graph is not fully connected, spectral embedding may not work as expected.\n",
      "  warnings.warn(\n",
      "\u001b[32m[I 2022-01-09 23:24:32,022]\u001b[0m Trial 1 finished with value: 0.7875946628200505 and parameters: {'pipe__cat_encoding': 'WoE', 'pipe__imbalance': 'ADASYN', 'pipe__feat_eng': 'UMAP', 'UMAP__n_neighbors': 3, 'UMAP__n_components': 2, 'UMAP__min_dist': 0.9500000000000001, 'pipe__feat_sel': 'passthrough', 'pipe__lgbm': 'lgbm'}. Best is trial 1 with value: 0.7875946628200505.\u001b[0m\n",
      "\u001b[32m[I 2022-01-09 23:24:32,230]\u001b[0m Trial 2 finished with value: 0.7970909965140041 and parameters: {'pipe__cat_encoding': 'OneHot', 'pipe__imbalance': 'SMOTE', 'pipe__feat_eng': 'passthrough', 'pipe__feat_sel': 'passthrough', 'pipe__lgbm': 'lgbm'}. Best is trial 2 with value: 0.7970909965140041.\u001b[0m\n",
      "\u001b[32m[I 2022-01-09 23:24:32,439]\u001b[0m Trial 3 finished with value: 0.8025003005168889 and parameters: {'pipe__cat_encoding': 'WoE', 'pipe__imbalance': 'ADASYN', 'pipe__feat_eng': 'PCA', 'PCA__n_components': 3, 'PCA__whiten': True, 'PCA__svd_solver': 'full', 'pipe__feat_sel': 'passthrough', 'pipe__lgbm': 'lgbm'}. Best is trial 3 with value: 0.8025003005168889.\u001b[0m\n",
      "\u001b[32m[I 2022-01-09 23:24:40,788]\u001b[0m Trial 4 finished with value: 0.5631085467003245 and parameters: {'pipe__cat_encoding': 'WoE', 'pipe__imbalance': 'RUS', 'pipe__feat_eng': 'UMAP', 'UMAP__n_neighbors': 6, 'UMAP__n_components': 3, 'UMAP__min_dist': 0.7500000000000001, 'pipe__feat_sel': 'RecFeatAdd', 'pipe__lgbm': 'lgbm'}. Best is trial 3 with value: 0.8025003005168889.\u001b[0m\n"
     ]
    }
   ],
   "source": [
    "study = optuna.create_study(\n",
    "    direction='maximize',\n",
    "    sampler=optuna.samplers.TPESampler(seed=seed)  # необязательный аргумент, однако seed настраивается через него\n",
    "                                                   # сид работает, после перезапуска кода результат воспроизводится\n",
    "    )\n",
    "study.optimize(\n",
    "    func=lambda trial: objective(trial, modules, pipe_params, modules_hparams),  # оптимизируемая функция\n",
    "    n_trials=5,                                                                  # число попыток\n",
    "    timeout=600,                                                                 # лимит по времени\n",
    "    )"
   ]
  },
  {
   "cell_type": "code",
   "execution_count": 12,
   "id": "4f467845",
   "metadata": {},
   "outputs": [
    {
     "data": {
      "text/plain": [
       "{'pipe__cat_encoding': 'WoE',\n",
       " 'pipe__imbalance': 'ADASYN',\n",
       " 'pipe__feat_eng': 'PCA',\n",
       " 'PCA__n_components': 3,\n",
       " 'PCA__whiten': True,\n",
       " 'PCA__svd_solver': 'full',\n",
       " 'pipe__feat_sel': 'passthrough',\n",
       " 'pipe__lgbm': 'lgbm'}"
      ]
     },
     "execution_count": 12,
     "metadata": {},
     "output_type": "execute_result"
    }
   ],
   "source": [
    "study.best_params"
   ]
  },
  {
   "cell_type": "code",
   "execution_count": 13,
   "id": "04dbcfd2",
   "metadata": {},
   "outputs": [
    {
     "data": {
      "text/plain": [
       "FrozenTrial(number=3, values=[0.8025003005168889], datetime_start=datetime.datetime(2022, 1, 9, 23, 24, 32, 230810), datetime_complete=datetime.datetime(2022, 1, 9, 23, 24, 32, 439312), params={'pipe__cat_encoding': 'WoE', 'pipe__imbalance': 'ADASYN', 'pipe__feat_eng': 'PCA', 'PCA__n_components': 3, 'PCA__whiten': True, 'PCA__svd_solver': 'full', 'pipe__feat_sel': 'passthrough', 'pipe__lgbm': 'lgbm'}, distributions={'pipe__cat_encoding': CategoricalDistribution(choices=('OneHot', 'WoE')), 'pipe__imbalance': CategoricalDistribution(choices=('passthrough', 'RUS', 'ROS', 'SMOTE', 'ADASYN')), 'pipe__feat_eng': CategoricalDistribution(choices=('passthrough', 'PCA', 'kPCA', 'Isomap', 'UMAP')), 'PCA__n_components': IntUniformDistribution(high=11, low=2, step=1), 'PCA__whiten': CategoricalDistribution(choices=(True, False)), 'PCA__svd_solver': CategoricalDistribution(choices=('full', 'arpack', 'auto', 'randomized')), 'pipe__feat_sel': CategoricalDistribution(choices=('passthrough', 'SeqFearSel', 'RecFeatAdd', 'SmartSel')), 'pipe__lgbm': CategoricalDistribution(choices=('lgbm',))}, user_attrs={}, system_attrs={}, intermediate_values={}, trial_id=3, state=TrialState.COMPLETE, value=None)"
      ]
     },
     "execution_count": 13,
     "metadata": {},
     "output_type": "execute_result"
    }
   ],
   "source": [
    "study.best_trial"
   ]
  },
  {
   "cell_type": "code",
   "execution_count": 14,
   "id": "afa1c9c8",
   "metadata": {},
   "outputs": [
    {
     "data": {
      "text/plain": [
       "0.8025003005168889"
      ]
     },
     "execution_count": 14,
     "metadata": {},
     "output_type": "execute_result"
    }
   ],
   "source": [
    "study.best_value"
   ]
  }
 ],
 "metadata": {
  "interpreter": {
   "hash": "cc5f70855ac006f3de45a3cc3b9e7d8d53845e50458809cb162b0174266dec97"
  },
  "kernelspec": {
   "display_name": "maa-automl",
   "language": "python",
   "name": "python3"
  },
  "language_info": {
   "codemirror_mode": {
    "name": "ipython",
    "version": 3
   },
   "file_extension": ".py",
   "mimetype": "text/x-python",
   "name": "python",
   "nbconvert_exporter": "python",
   "pygments_lexer": "ipython3",
   "version": "3.9.9"
  },
  "toc-autonumbering": false,
  "toc-showcode": false,
  "toc-showtags": false
 },
 "nbformat": 4,
 "nbformat_minor": 5
}
