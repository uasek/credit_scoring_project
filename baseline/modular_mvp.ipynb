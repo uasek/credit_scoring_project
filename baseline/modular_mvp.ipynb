{
 "cells": [
  {
   "cell_type": "markdown",
   "id": "6b95fcbe-4085-4cb6-8fde-7c4601826387",
   "metadata": {
    "id": "mlhq3qfjqFO2"
   },
   "source": [
    "# Model Risk MVP\n",
    "\n",
    "_Initial commit: Anton Markov, 1 October 2021_\n",
    "\n",
    "_Latest edit: Anton Markov, 2 October 2021_\n",
    "\n",
    "Основная цель данного ноутбука — построить базовую структуру модели кредитного \n",
    "скоринга с модульной архитектурой. \n",
    "\n"
   ]
  },
  {
   "cell_type": "code",
   "execution_count": 1,
   "id": "b144269a-e212-4862-bccc-765c1e35f0fa",
   "metadata": {},
   "outputs": [],
   "source": [
    "import time\n",
    "import os\n",
    "import json\n",
    "import numpy as np\n",
    "import pandas as pd\n",
    "import matplotlib.pyplot as plt\n",
    "\n",
    "from sklearn import datasets, metrics, model_selection\n",
    "from sklearn.metrics import roc_auc_score\n",
    "from sklearn.model_selection import train_test_split\n",
    "\n",
    "from hyperopt import hp\n",
    "# from catboost import CatBoostClassifier\n",
    "from lightgbm import LGBMClassifier\n",
    "from xgboost import XGBClassifier\n",
    "from sklearn.ensemble import RandomForestClassifier\n",
    "from sklearn.tree import DecisionTreeClassifier\n",
    "from sklearn import tree\n",
    "\n",
    "# for HyperOpt class\n",
    "import lightgbm as lgb\n",
    "import xgboost as xgb\n",
    "# import catboost as ctb\n",
    "from hyperopt import fmin, tpe, STATUS_OK, STATUS_FAIL, Trials"
   ]
  },
  {
   "cell_type": "code",
   "execution_count": 2,
   "id": "7eb6db62-76e3-41f8-9f1d-5058cadc1ac7",
   "metadata": {},
   "outputs": [],
   "source": [
    "# новый пакет!\n",
    "from feature_engine.encoding import WoEEncoder\n",
    "from feature_engine.creation import CombineWithReferenceFeature\n",
    "from feature_engine.selection import RecursiveFeatureAddition"
   ]
  },
  {
   "cell_type": "code",
   "execution_count": 3,
   "id": "f0184b01-7b88-4340-a73c-73677be9af67",
   "metadata": {},
   "outputs": [],
   "source": [
    "from sklearn.pipeline import Pipeline"
   ]
  },
  {
   "cell_type": "code",
   "execution_count": 4,
   "id": "30298cd5-9826-403f-b63e-e6cab89a064e",
   "metadata": {},
   "outputs": [],
   "source": [
    "with open('../datasets/01_german/factors.json') as json_file:\n",
    "    factors_dict = json.load(json_file)"
   ]
  },
  {
   "cell_type": "code",
   "execution_count": 5,
   "id": "1bd10c8d-7b07-424f-a198-8eef180911e5",
   "metadata": {},
   "outputs": [
    {
     "data": {
      "text/plain": [
       "['cheq_acc',\n",
       " 'cred_hist',\n",
       " 'purp',\n",
       " 'save_acc',\n",
       " 'empl_t',\n",
       " 'pers_status',\n",
       " 'guarant_flg',\n",
       " 'prop',\n",
       " 'inst_plan',\n",
       " 'house',\n",
       " 'job',\n",
       " 'tel_flg',\n",
       " 'foreign_flg']"
      ]
     },
     "execution_count": 5,
     "metadata": {},
     "output_type": "execute_result"
    }
   ],
   "source": [
    "factors_dict['cat_vals']"
   ]
  },
  {
   "cell_type": "code",
   "execution_count": 6,
   "id": "f2550a6d-604b-4c7c-9929-0d9365b10eb4",
   "metadata": {},
   "outputs": [],
   "source": [
    "seed = 42"
   ]
  },
  {
   "cell_type": "code",
   "execution_count": 7,
   "id": "85ac53db-2b8f-45b7-b253-509fa7045915",
   "metadata": {},
   "outputs": [],
   "source": [
    "def Gini(y, y_pred):\n",
    "    res = roc_auc_score(y, y_pred) * 2 - 1\n",
    "    print(f\"Gini: {res}\")\n",
    "    return(res)"
   ]
  },
  {
   "cell_type": "markdown",
   "id": "d1dd395b-0fd6-45a3-8159-974fda475d01",
   "metadata": {},
   "source": [
    "## Without pipeline"
   ]
  },
  {
   "cell_type": "code",
   "execution_count": 8,
   "id": "4b937d3e-94d1-4b3a-b4c1-b2f8a879e6e9",
   "metadata": {},
   "outputs": [],
   "source": [
    "X_train = pd.read_parquet('../datasets/01_german/samples/X_train.parquet')\n",
    "X_test  = pd.read_parquet('../datasets/01_german/samples/X_test.parquet')\n",
    "y_train = pd.read_parquet('../datasets/01_german/samples/y_train.parquet').target\n",
    "y_test  = pd.read_parquet('../datasets/01_german/samples/y_test.parquet').target"
   ]
  },
  {
   "cell_type": "markdown",
   "id": "b87cd560-510a-4484-b657-a6c043d397b5",
   "metadata": {},
   "source": [
    "### 1. Categorical variables encoding"
   ]
  },
  {
   "cell_type": "code",
   "execution_count": 9,
   "id": "e1ad9199-8379-4eba-924a-8d31330d9d55",
   "metadata": {},
   "outputs": [],
   "source": [
    "woe = WoEEncoder(variables = factors_dict['cat_vals'])\n",
    "woe.fit(X = X_train, y = y_train)\n",
    "X_train = woe.transform(X_train)\n",
    "X_test  = woe.transform(X_test)"
   ]
  },
  {
   "cell_type": "markdown",
   "id": "f4144b54-bcb5-4b43-bfb3-1873ff8a007e",
   "metadata": {},
   "source": [
    "### 2. Feature engineering"
   ]
  },
  {
   "cell_type": "code",
   "execution_count": 10,
   "id": "02ec2a3d-bcf2-495d-a138-19d26a3421cc",
   "metadata": {},
   "outputs": [],
   "source": [
    "feat_eng = CombineWithReferenceFeature(\n",
    "    variables_to_combine = list(X_train.columns),\n",
    "    reference_variables = list(X_train.columns),\n",
    "    operations = ['mul']\n",
    ")"
   ]
  },
  {
   "cell_type": "code",
   "execution_count": 11,
   "id": "f9b476a5-a22b-4e79-89a5-9725c9cc34b1",
   "metadata": {},
   "outputs": [],
   "source": [
    "X_train = feat_eng.fit_transform(X_train)\n",
    "X_test  = feat_eng.fit_transform(X_test)"
   ]
  },
  {
   "cell_type": "markdown",
   "id": "191f2a05-7710-4548-9bc6-97532e8b50b0",
   "metadata": {},
   "source": [
    "### 3. Feature selection"
   ]
  },
  {
   "cell_type": "code",
   "execution_count": 12,
   "id": "2e1d62eb-bde2-459f-a3ca-15d5f6e6f2de",
   "metadata": {},
   "outputs": [],
   "source": [
    "lgbm_mdl = LGBMClassifier(\n",
    "    num_leaves = 10,\n",
    "    learning_rate = .1,\n",
    "    reg_alpha = 8,\n",
    "    reg_lambda = 8,\n",
    "    random_state = seed\n",
    ")\n",
    "\n",
    "feat_sel = RecursiveFeatureAddition(\n",
    "    lgbm_mdl,\n",
    "    threshold = 0.005\n",
    ")"
   ]
  },
  {
   "cell_type": "code",
   "execution_count": 13,
   "id": "8dca385f-04bf-4b03-a67e-56d5d19d5950",
   "metadata": {},
   "outputs": [],
   "source": [
    "X_train_short = feat_sel.fit_transform(X_train, y_train)"
   ]
  },
  {
   "cell_type": "code",
   "execution_count": 14,
   "id": "be0f3022-9760-4dae-ab31-b41b042010e8",
   "metadata": {},
   "outputs": [],
   "source": [
    "X_test_short = feat_sel.transform(X_test)"
   ]
  },
  {
   "cell_type": "markdown",
   "id": "09f539ed-57e3-424d-9b71-1bad678e2ccc",
   "metadata": {},
   "source": [
    "### 4. Fit - Predict on short list"
   ]
  },
  {
   "cell_type": "code",
   "execution_count": 15,
   "id": "096bfa5d-36e9-4663-865a-732531df1f56",
   "metadata": {},
   "outputs": [
    {
     "name": "stdout",
     "output_type": "stream",
     "text": [
      "TRAIN\n",
      "Gini: 0.7746717241072156\n",
      "\n",
      "TEST\n",
      "Gini: 0.5843250390671957\n"
     ]
    },
    {
     "data": {
      "text/plain": [
       "0.5843250390671957"
      ]
     },
     "execution_count": 15,
     "metadata": {},
     "output_type": "execute_result"
    }
   ],
   "source": [
    "lgbm_mdl.fit(X_train_short, y_train)\n",
    "\n",
    "print('TRAIN')\n",
    "Gini(y_train, lgbm_mdl.predict_proba(X_train_short)[:, 1])\n",
    "print('\\nTEST')\n",
    "Gini(y_test, lgbm_mdl.predict_proba(X_test_short)[:, 1])"
   ]
  },
  {
   "cell_type": "markdown",
   "id": "8020c325-11af-4cfc-9d61-5d2378598fdd",
   "metadata": {},
   "source": [
    "## With pipeline"
   ]
  },
  {
   "cell_type": "code",
   "execution_count": 16,
   "id": "b6b36c16-1aa8-41a0-8462-74cfbe7fc49c",
   "metadata": {},
   "outputs": [],
   "source": [
    "X_train = pd.read_parquet('../datasets/01_german/samples/X_train.parquet')\n",
    "X_test  = pd.read_parquet('../datasets/01_german/samples/X_test.parquet')\n",
    "y_train = pd.read_parquet('../datasets/01_german/samples/y_train.parquet').target\n",
    "y_test  = pd.read_parquet('../datasets/01_german/samples/y_test.parquet').target"
   ]
  },
  {
   "cell_type": "code",
   "execution_count": 17,
   "id": "22dc81ed-dce6-4a74-a8cd-549a82b69ad9",
   "metadata": {},
   "outputs": [],
   "source": [
    "woe = WoEEncoder(variables = factors_dict['cat_vals'])\n",
    "feat_eng = CombineWithReferenceFeature(\n",
    "    variables_to_combine = list(X_train.columns),\n",
    "    reference_variables = list(X_train.columns),\n",
    "    operations = ['mul']\n",
    ")\n",
    "lgbm_mdl = LGBMClassifier(\n",
    "    num_leaves = 10,\n",
    "    learning_rate = .1,\n",
    "    reg_alpha = 8,\n",
    "    reg_lambda = 8,\n",
    "    random_state = seed\n",
    ")\n",
    "feat_sel = RecursiveFeatureAddition(\n",
    "    lgbm_mdl,\n",
    "    threshold = 0.005\n",
    ")"
   ]
  },
  {
   "cell_type": "code",
   "execution_count": 18,
   "id": "262543ff-7197-453a-a200-6586c9061c6c",
   "metadata": {},
   "outputs": [],
   "source": [
    "mdl_pipe = Pipeline(\n",
    "    [('encode', woe), ('feat_eng', feat_eng), ('feat_select', feat_sel), ('lgbm', lgbm_mdl)]\n",
    ")"
   ]
  },
  {
   "cell_type": "code",
   "execution_count": 21,
   "id": "a9366fe9-6ee2-4397-84ed-29fd22cfd4a2",
   "metadata": {
    "tags": []
   },
   "outputs": [
    {
     "name": "stdout",
     "output_type": "stream",
     "text": [
      "Gini: 0.7746717241072156\n"
     ]
    },
    {
     "data": {
      "text/plain": [
       "0.7746717241072156"
      ]
     },
     "execution_count": 21,
     "metadata": {},
     "output_type": "execute_result"
    }
   ],
   "source": [
    "mdl_pipe.fit(X_train, y_train)\n",
    "Gini(y_train, mdl_pipe.predict_proba(X_train)[:, 1])"
   ]
  },
  {
   "cell_type": "code",
   "execution_count": 22,
   "id": "d9037548-15ed-44d9-89a2-4c07f8a84671",
   "metadata": {},
   "outputs": [
    {
     "name": "stdout",
     "output_type": "stream",
     "text": [
      "Gini: 0.5843250390671957\n"
     ]
    },
    {
     "data": {
      "text/plain": [
       "0.5843250390671957"
      ]
     },
     "execution_count": 22,
     "metadata": {},
     "output_type": "execute_result"
    }
   ],
   "source": [
    "Gini(y_test, mdl_pipe.predict_proba(X_test)[:, 1])"
   ]
  },
  {
   "cell_type": "markdown",
   "id": "ce935ca2-129a-43d5-aabc-f83ec1ca4d36",
   "metadata": {},
   "source": [
    "Получили то же самое!"
   ]
  }
 ],
 "metadata": {
  "kernelspec": {
   "display_name": "Python 3 (ipykernel)",
   "language": "python",
   "name": "python3"
  },
  "language_info": {
   "codemirror_mode": {
    "name": "ipython",
    "version": 3
   },
   "file_extension": ".py",
   "mimetype": "text/x-python",
   "name": "python",
   "nbconvert_exporter": "python",
   "pygments_lexer": "ipython3",
   "version": "3.7.6"
  }
 },
 "nbformat": 4,
 "nbformat_minor": 5
}
