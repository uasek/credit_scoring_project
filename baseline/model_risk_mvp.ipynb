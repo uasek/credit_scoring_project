{
  "nbformat": 4,
  "nbformat_minor": 0,
  "metadata": {
    "colab": {
      "name": "model_risk_mvp.ipynb",
      "provenance": [],
      "collapsed_sections": []
    },
    "kernelspec": {
      "name": "python3",
      "display_name": "Python 3"
    },
    "language_info": {
      "name": "python"
    }
  },
  "cells": [
    {
      "cell_type": "markdown",
      "metadata": {
        "id": "mlhq3qfjqFO2"
      },
      "source": [
        "# Model Risk MVP\n",
        "\n",
        "_Initial commit: Anton Markov, 1 October 2021_\n",
        "\n",
        "_Latest edit: Anton Markov, 2 October 2021_\n",
        "\n",
        "Основная цель данного ноутбука — построить базовую структуру модели кредитного \n",
        "скоринга. Модульную архитектуру реализую потом. \n",
        "\n",
        "__Логика модели:__\n",
        "\n",
        "1. Импорт данных. Разбивка данных на TRAIN / TEST\n",
        "3. Missing values imputation\n",
        "4. Preprocessing\n",
        "5. Baseline\n",
        "6. Feature selection\n",
        "7. Hyperopt\n",
        "8. Final model training\n",
        "9. Model validation\n"
      ]
    },
    {
      "cell_type": "code",
      "metadata": {
        "id": "9juM1ktWsBoQ"
      },
      "source": [
        "import time\n",
        "import os\n",
        "import json\n",
        "import numpy as np\n",
        "import pandas as pd\n",
        "import matplotlib.pyplot as plt\n",
        "\n",
        "from sklearn import datasets, metrics, model_selection\n",
        "from sklearn.metrics import roc_auc_score\n",
        "from sklearn.model_selection import train_test_split\n",
        "\n",
        "from hyperopt import hp\n",
        "# from catboost import CatBoostClassifier\n",
        "from lightgbm import LGBMClassifier\n",
        "from xgboost import XGBClassifier\n",
        "from sklearn.ensemble import RandomForestClassifier\n",
        "from sklearn.tree import DecisionTreeClassifier\n",
        "from sklearn import tree\n",
        "\n",
        "# for HyperOpt class\n",
        "import lightgbm as lgb\n",
        "import xgboost as xgb\n",
        "# import catboost as ctb\n",
        "from hyperopt import fmin, tpe, STATUS_OK, STATUS_FAIL, Trials"
      ],
      "execution_count": null,
      "outputs": []
    },
    {
      "cell_type": "code",
      "metadata": {
        "id": "EnGk7G9j44Jp"
      },
      "source": [
        "# params\n",
        "seed = 42\n",
        "dataset = 'german'\n",
        "num_factors = 10"
      ],
      "execution_count": null,
      "outputs": []
    },
    {
      "cell_type": "code",
      "metadata": {
        "id": "W6d0XbGquI7H"
      },
      "source": [
        "# сохраним окружение\n",
        "!pip freeze > /content/requirements.txt\n",
        "# !conda env export > /content/requirements.yml"
      ],
      "execution_count": null,
      "outputs": []
    },
    {
      "cell_type": "code",
      "metadata": {
        "id": "rubVK2U4wZ7b"
      },
      "source": [
        "# засекаем время\n",
        "startTime = time.time()"
      ],
      "execution_count": null,
      "outputs": []
    },
    {
      "cell_type": "markdown",
      "metadata": {
        "id": "ZQeuUgSSq338"
      },
      "source": [
        "## 1. Импорт данных. Разбивка TRAIN / TEST\n",
        "\n",
        "Пока подгружаю и предобрабатываю в одном пайплайне, по-хорошему этот блок лучше изолировать: у каждого датасета своя атмосфера, эту часть сложно унифицировать, в модульной архитектуре это будет мешать.\n",
        "\n",
        "Визуальный анализ не делаю, его следует делать по каждому датасету отдельно. Реализуем, когда будет модульная архитектура."
      ]
    },
    {
      "cell_type": "markdown",
      "metadata": {
        "id": "dIlJWP2urVz-"
      },
      "source": [
        "### 1.1. German Dataset\n",
        "\n",
        "[Ссылка на скачивание](https://archive.ics.uci.edu/ml/datasets/statlog+(german+credit+data))\n",
        "\n",
        "Самый популярный, но довольно маленький датасет. Подгружаю только из-за отсутствия необходимости делать какие-то преобразования: многое уже подчищено."
      ]
    },
    {
      "cell_type": "code",
      "metadata": {
        "id": "ZzFSXTM_rU_N",
        "colab": {
          "base_uri": "https://localhost:8080/",
          "height": 226
        },
        "outputId": "d02e15ef-0858-4f21-dc0e-d618c4c0c918"
      },
      "source": [
        "df = pd.read_csv('https://archive.ics.uci.edu/ml/machine-learning-databases/statlog/german/german.data',\n",
        "                 header = None, sep = ' ')\n",
        "\n",
        "# based on the .doc data description\n",
        "df.columns = ['cheq_acc', 'dur_t', 'cred_hist', 'purp', 'cred_amt', 'save_acc', \n",
        "              'empl_t', 'inst_to_income', 'pers_status', 'guarant_flg',\n",
        "              'residence_t', 'prop', 'age', 'inst_plan', 'house', 'n_loans',\n",
        "              'job', 'n_depend', 'tel_flg', 'foreign_flg', 'target']\n",
        "\n",
        "df.head()"
      ],
      "execution_count": null,
      "outputs": [
        {
          "output_type": "execute_result",
          "data": {
            "text/html": [
              "<div>\n",
              "<style scoped>\n",
              "    .dataframe tbody tr th:only-of-type {\n",
              "        vertical-align: middle;\n",
              "    }\n",
              "\n",
              "    .dataframe tbody tr th {\n",
              "        vertical-align: top;\n",
              "    }\n",
              "\n",
              "    .dataframe thead th {\n",
              "        text-align: right;\n",
              "    }\n",
              "</style>\n",
              "<table border=\"1\" class=\"dataframe\">\n",
              "  <thead>\n",
              "    <tr style=\"text-align: right;\">\n",
              "      <th></th>\n",
              "      <th>cheq_acc</th>\n",
              "      <th>dur_t</th>\n",
              "      <th>cred_hist</th>\n",
              "      <th>purp</th>\n",
              "      <th>cred_amt</th>\n",
              "      <th>save_acc</th>\n",
              "      <th>empl_t</th>\n",
              "      <th>inst_to_income</th>\n",
              "      <th>pers_status</th>\n",
              "      <th>guarant_flg</th>\n",
              "      <th>residence_t</th>\n",
              "      <th>prop</th>\n",
              "      <th>age</th>\n",
              "      <th>inst_plan</th>\n",
              "      <th>house</th>\n",
              "      <th>n_loans</th>\n",
              "      <th>job</th>\n",
              "      <th>n_depend</th>\n",
              "      <th>tel_flg</th>\n",
              "      <th>foreign_flg</th>\n",
              "      <th>target</th>\n",
              "    </tr>\n",
              "  </thead>\n",
              "  <tbody>\n",
              "    <tr>\n",
              "      <th>0</th>\n",
              "      <td>A11</td>\n",
              "      <td>6</td>\n",
              "      <td>A34</td>\n",
              "      <td>A43</td>\n",
              "      <td>1169</td>\n",
              "      <td>A65</td>\n",
              "      <td>A75</td>\n",
              "      <td>4</td>\n",
              "      <td>A93</td>\n",
              "      <td>A101</td>\n",
              "      <td>4</td>\n",
              "      <td>A121</td>\n",
              "      <td>67</td>\n",
              "      <td>A143</td>\n",
              "      <td>A152</td>\n",
              "      <td>2</td>\n",
              "      <td>A173</td>\n",
              "      <td>1</td>\n",
              "      <td>A192</td>\n",
              "      <td>A201</td>\n",
              "      <td>1</td>\n",
              "    </tr>\n",
              "    <tr>\n",
              "      <th>1</th>\n",
              "      <td>A12</td>\n",
              "      <td>48</td>\n",
              "      <td>A32</td>\n",
              "      <td>A43</td>\n",
              "      <td>5951</td>\n",
              "      <td>A61</td>\n",
              "      <td>A73</td>\n",
              "      <td>2</td>\n",
              "      <td>A92</td>\n",
              "      <td>A101</td>\n",
              "      <td>2</td>\n",
              "      <td>A121</td>\n",
              "      <td>22</td>\n",
              "      <td>A143</td>\n",
              "      <td>A152</td>\n",
              "      <td>1</td>\n",
              "      <td>A173</td>\n",
              "      <td>1</td>\n",
              "      <td>A191</td>\n",
              "      <td>A201</td>\n",
              "      <td>2</td>\n",
              "    </tr>\n",
              "    <tr>\n",
              "      <th>2</th>\n",
              "      <td>A14</td>\n",
              "      <td>12</td>\n",
              "      <td>A34</td>\n",
              "      <td>A46</td>\n",
              "      <td>2096</td>\n",
              "      <td>A61</td>\n",
              "      <td>A74</td>\n",
              "      <td>2</td>\n",
              "      <td>A93</td>\n",
              "      <td>A101</td>\n",
              "      <td>3</td>\n",
              "      <td>A121</td>\n",
              "      <td>49</td>\n",
              "      <td>A143</td>\n",
              "      <td>A152</td>\n",
              "      <td>1</td>\n",
              "      <td>A172</td>\n",
              "      <td>2</td>\n",
              "      <td>A191</td>\n",
              "      <td>A201</td>\n",
              "      <td>1</td>\n",
              "    </tr>\n",
              "    <tr>\n",
              "      <th>3</th>\n",
              "      <td>A11</td>\n",
              "      <td>42</td>\n",
              "      <td>A32</td>\n",
              "      <td>A42</td>\n",
              "      <td>7882</td>\n",
              "      <td>A61</td>\n",
              "      <td>A74</td>\n",
              "      <td>2</td>\n",
              "      <td>A93</td>\n",
              "      <td>A103</td>\n",
              "      <td>4</td>\n",
              "      <td>A122</td>\n",
              "      <td>45</td>\n",
              "      <td>A143</td>\n",
              "      <td>A153</td>\n",
              "      <td>1</td>\n",
              "      <td>A173</td>\n",
              "      <td>2</td>\n",
              "      <td>A191</td>\n",
              "      <td>A201</td>\n",
              "      <td>1</td>\n",
              "    </tr>\n",
              "    <tr>\n",
              "      <th>4</th>\n",
              "      <td>A11</td>\n",
              "      <td>24</td>\n",
              "      <td>A33</td>\n",
              "      <td>A40</td>\n",
              "      <td>4870</td>\n",
              "      <td>A61</td>\n",
              "      <td>A73</td>\n",
              "      <td>3</td>\n",
              "      <td>A93</td>\n",
              "      <td>A101</td>\n",
              "      <td>4</td>\n",
              "      <td>A124</td>\n",
              "      <td>53</td>\n",
              "      <td>A143</td>\n",
              "      <td>A153</td>\n",
              "      <td>2</td>\n",
              "      <td>A173</td>\n",
              "      <td>2</td>\n",
              "      <td>A191</td>\n",
              "      <td>A201</td>\n",
              "      <td>2</td>\n",
              "    </tr>\n",
              "  </tbody>\n",
              "</table>\n",
              "</div>"
            ],
            "text/plain": [
              "  cheq_acc  dur_t cred_hist purp  ...  n_depend tel_flg foreign_flg  target\n",
              "0      A11      6       A34  A43  ...         1    A192        A201       1\n",
              "1      A12     48       A32  A43  ...         1    A191        A201       2\n",
              "2      A14     12       A34  A46  ...         2    A191        A201       1\n",
              "3      A11     42       A32  A42  ...         2    A191        A201       1\n",
              "4      A11     24       A33  A40  ...         2    A191        A201       2\n",
              "\n",
              "[5 rows x 21 columns]"
            ]
          },
          "metadata": {},
          "execution_count": 5
        }
      ]
    },
    {
      "cell_type": "markdown",
      "metadata": {
        "id": "Cqj5IwbL4on1"
      },
      "source": [
        "Очевидно, что мы имеем большое число категориальных переменных. В дальнейшем мы заменим их при помощи WOE-преобразования. На данный момент лишь сформируем разбивку train vs. test и запишем список переменных"
      ]
    },
    {
      "cell_type": "code",
      "metadata": {
        "id": "CCmcyqPC4pGF"
      },
      "source": [
        "X = df.loc[:, df.columns != 'target']\n",
        "y = df.target - 1\n",
        "\n",
        "X_train, X_test, y_train, y_test = train_test_split(X, y, test_size=0.3, random_state=seed)\n",
        "\n",
        "X_train.reset_index(inplace=True, drop=True)\n",
        "X_test.reset_index(inplace=True, drop=True)\n",
        "y_train.reset_index(inplace=True, drop=True)\n",
        "y_test.reset_index(inplace=True, drop=True)\n",
        "\n",
        "# Save data & info ===\n",
        "# parquet is optimized for large volumes of data\n",
        "!mkdir /content/german\n",
        "X_train.to_parquet('/content/german/X_train.parquet')\n",
        "X_test.to_parquet('/content/german/X_test.parquet')\n",
        "# переводим pd.Series в pd.DataFrame для удобного экспорта\n",
        "pd.DataFrame(y_train).to_parquet('/content/german/y_train.parquet')\n",
        "pd.DataFrame(y_test).to_parquet('/content/german/y_test.parquet')\n",
        "\n",
        "# сохраняем списки категориальных и колич. переменных\n",
        "cat_vals = ['cheq_acc', 'cred_hist', 'purp', 'save_acc', \n",
        "            'empl_t', 'pers_status', 'guarant_flg', 'prop', \n",
        "            'inst_plan', 'house', 'job', 'tel_flg', 'foreign_flg']\n",
        "num_vals = ['dur_t', 'cred_amt', 'inst_to_income', 'residence_t', \n",
        "            'age', 'n_loans', 'n_depend']\n",
        "\n",
        "with open('/content/german/factors.json', 'w') as f:\n",
        "    json.dump({'cat_vals': cat_vals, \"num_vals\": num_vals}, f)"
      ],
      "execution_count": null,
      "outputs": []
    },
    {
      "cell_type": "markdown",
      "metadata": {
        "id": "RdgydjpFyX53"
      },
      "source": [
        "### 1.2. Taiwanese Dataset\n",
        "\n",
        "[Ссылка на скачивание](https://archive.ics.uci.edu/ml/datasets/default+of+credit+card+clients)\n",
        "\n",
        "Достаточно большой датасет, который также встречается во многих статьях."
      ]
    },
    {
      "cell_type": "code",
      "metadata": {
        "id": "LC-Opc1uqzOv",
        "colab": {
          "base_uri": "https://localhost:8080/",
          "height": 278
        },
        "outputId": "9dcc30a8-6e06-4682-e4c1-fb00ae46da20"
      },
      "source": [
        "df = pd.read_excel('https://archive.ics.uci.edu/ml/machine-learning-databases/00350/default%20of%20credit%20card%20clients.xls', skiprows=1)\n",
        "df.drop('ID', axis='columns', inplace=True)\n",
        "df.head()"
      ],
      "execution_count": null,
      "outputs": [
        {
          "output_type": "execute_result",
          "data": {
            "text/html": [
              "<div>\n",
              "<style scoped>\n",
              "    .dataframe tbody tr th:only-of-type {\n",
              "        vertical-align: middle;\n",
              "    }\n",
              "\n",
              "    .dataframe tbody tr th {\n",
              "        vertical-align: top;\n",
              "    }\n",
              "\n",
              "    .dataframe thead th {\n",
              "        text-align: right;\n",
              "    }\n",
              "</style>\n",
              "<table border=\"1\" class=\"dataframe\">\n",
              "  <thead>\n",
              "    <tr style=\"text-align: right;\">\n",
              "      <th></th>\n",
              "      <th>LIMIT_BAL</th>\n",
              "      <th>SEX</th>\n",
              "      <th>EDUCATION</th>\n",
              "      <th>MARRIAGE</th>\n",
              "      <th>AGE</th>\n",
              "      <th>PAY_0</th>\n",
              "      <th>PAY_2</th>\n",
              "      <th>PAY_3</th>\n",
              "      <th>PAY_4</th>\n",
              "      <th>PAY_5</th>\n",
              "      <th>PAY_6</th>\n",
              "      <th>BILL_AMT1</th>\n",
              "      <th>BILL_AMT2</th>\n",
              "      <th>BILL_AMT3</th>\n",
              "      <th>BILL_AMT4</th>\n",
              "      <th>BILL_AMT5</th>\n",
              "      <th>BILL_AMT6</th>\n",
              "      <th>PAY_AMT1</th>\n",
              "      <th>PAY_AMT2</th>\n",
              "      <th>PAY_AMT3</th>\n",
              "      <th>PAY_AMT4</th>\n",
              "      <th>PAY_AMT5</th>\n",
              "      <th>PAY_AMT6</th>\n",
              "      <th>default payment next month</th>\n",
              "    </tr>\n",
              "  </thead>\n",
              "  <tbody>\n",
              "    <tr>\n",
              "      <th>0</th>\n",
              "      <td>20000</td>\n",
              "      <td>2</td>\n",
              "      <td>2</td>\n",
              "      <td>1</td>\n",
              "      <td>24</td>\n",
              "      <td>2</td>\n",
              "      <td>2</td>\n",
              "      <td>-1</td>\n",
              "      <td>-1</td>\n",
              "      <td>-2</td>\n",
              "      <td>-2</td>\n",
              "      <td>3913</td>\n",
              "      <td>3102</td>\n",
              "      <td>689</td>\n",
              "      <td>0</td>\n",
              "      <td>0</td>\n",
              "      <td>0</td>\n",
              "      <td>0</td>\n",
              "      <td>689</td>\n",
              "      <td>0</td>\n",
              "      <td>0</td>\n",
              "      <td>0</td>\n",
              "      <td>0</td>\n",
              "      <td>1</td>\n",
              "    </tr>\n",
              "    <tr>\n",
              "      <th>1</th>\n",
              "      <td>120000</td>\n",
              "      <td>2</td>\n",
              "      <td>2</td>\n",
              "      <td>2</td>\n",
              "      <td>26</td>\n",
              "      <td>-1</td>\n",
              "      <td>2</td>\n",
              "      <td>0</td>\n",
              "      <td>0</td>\n",
              "      <td>0</td>\n",
              "      <td>2</td>\n",
              "      <td>2682</td>\n",
              "      <td>1725</td>\n",
              "      <td>2682</td>\n",
              "      <td>3272</td>\n",
              "      <td>3455</td>\n",
              "      <td>3261</td>\n",
              "      <td>0</td>\n",
              "      <td>1000</td>\n",
              "      <td>1000</td>\n",
              "      <td>1000</td>\n",
              "      <td>0</td>\n",
              "      <td>2000</td>\n",
              "      <td>1</td>\n",
              "    </tr>\n",
              "    <tr>\n",
              "      <th>2</th>\n",
              "      <td>90000</td>\n",
              "      <td>2</td>\n",
              "      <td>2</td>\n",
              "      <td>2</td>\n",
              "      <td>34</td>\n",
              "      <td>0</td>\n",
              "      <td>0</td>\n",
              "      <td>0</td>\n",
              "      <td>0</td>\n",
              "      <td>0</td>\n",
              "      <td>0</td>\n",
              "      <td>29239</td>\n",
              "      <td>14027</td>\n",
              "      <td>13559</td>\n",
              "      <td>14331</td>\n",
              "      <td>14948</td>\n",
              "      <td>15549</td>\n",
              "      <td>1518</td>\n",
              "      <td>1500</td>\n",
              "      <td>1000</td>\n",
              "      <td>1000</td>\n",
              "      <td>1000</td>\n",
              "      <td>5000</td>\n",
              "      <td>0</td>\n",
              "    </tr>\n",
              "    <tr>\n",
              "      <th>3</th>\n",
              "      <td>50000</td>\n",
              "      <td>2</td>\n",
              "      <td>2</td>\n",
              "      <td>1</td>\n",
              "      <td>37</td>\n",
              "      <td>0</td>\n",
              "      <td>0</td>\n",
              "      <td>0</td>\n",
              "      <td>0</td>\n",
              "      <td>0</td>\n",
              "      <td>0</td>\n",
              "      <td>46990</td>\n",
              "      <td>48233</td>\n",
              "      <td>49291</td>\n",
              "      <td>28314</td>\n",
              "      <td>28959</td>\n",
              "      <td>29547</td>\n",
              "      <td>2000</td>\n",
              "      <td>2019</td>\n",
              "      <td>1200</td>\n",
              "      <td>1100</td>\n",
              "      <td>1069</td>\n",
              "      <td>1000</td>\n",
              "      <td>0</td>\n",
              "    </tr>\n",
              "    <tr>\n",
              "      <th>4</th>\n",
              "      <td>50000</td>\n",
              "      <td>1</td>\n",
              "      <td>2</td>\n",
              "      <td>1</td>\n",
              "      <td>57</td>\n",
              "      <td>-1</td>\n",
              "      <td>0</td>\n",
              "      <td>-1</td>\n",
              "      <td>0</td>\n",
              "      <td>0</td>\n",
              "      <td>0</td>\n",
              "      <td>8617</td>\n",
              "      <td>5670</td>\n",
              "      <td>35835</td>\n",
              "      <td>20940</td>\n",
              "      <td>19146</td>\n",
              "      <td>19131</td>\n",
              "      <td>2000</td>\n",
              "      <td>36681</td>\n",
              "      <td>10000</td>\n",
              "      <td>9000</td>\n",
              "      <td>689</td>\n",
              "      <td>679</td>\n",
              "      <td>0</td>\n",
              "    </tr>\n",
              "  </tbody>\n",
              "</table>\n",
              "</div>"
            ],
            "text/plain": [
              "   LIMIT_BAL  SEX  EDUCATION  ...  PAY_AMT5  PAY_AMT6  default payment next month\n",
              "0      20000    2          2  ...         0         0                           1\n",
              "1     120000    2          2  ...         0      2000                           1\n",
              "2      90000    2          2  ...      1000      5000                           0\n",
              "3      50000    2          2  ...      1069      1000                           0\n",
              "4      50000    1          2  ...       689       679                           0\n",
              "\n",
              "[5 rows x 24 columns]"
            ]
          },
          "metadata": {},
          "execution_count": 7
        }
      ]
    },
    {
      "cell_type": "markdown",
      "metadata": {
        "id": "yCBREGX39-F9"
      },
      "source": [
        "Судя по всему, все переменные количественные. Нашим легче."
      ]
    },
    {
      "cell_type": "code",
      "metadata": {
        "id": "sK9qCFYZpjGk"
      },
      "source": [
        "X = df.loc[:, df.columns != 'default payment next month']\n",
        "y = df['default payment next month']\n",
        "\n",
        "X_train, X_test, y_train, y_test = train_test_split(X, y, test_size=0.3, random_state=seed)\n",
        "\n",
        "X_train.reset_index(inplace=True, drop=True)\n",
        "X_test.reset_index(inplace=True, drop=True)\n",
        "y_train.reset_index(inplace=True, drop=True)\n",
        "y_test.reset_index(inplace=True, drop=True)\n",
        "\n",
        "# Save data & info ===\n",
        "# parquet is optimized for large volumes of data\n",
        "!mkdir /content/taiwanese\n",
        "X_train.to_parquet('/content/taiwanese/X_train.parquet')\n",
        "X_test.to_parquet('/content/taiwanese/X_test.parquet')\n",
        "# переводим pd.Series в pd.DataFrame для удобного экспорта\n",
        "pd.DataFrame(y_train).to_parquet('/content/taiwanese/y_train.parquet')\n",
        "pd.DataFrame(y_test).to_parquet('/content/taiwanese/y_test.parquet')\n",
        "\n",
        "# сохраняем списки категориальных и колич. переменных\n",
        "cat_vals = []\n",
        "num_vals = df.columns.to_list()\n",
        "\n",
        "with open('/content/taiwanese/factors.json', 'w') as f:\n",
        "    json.dump({'cat_vals': cat_vals, \"num_vals\": num_vals}, f)"
      ],
      "execution_count": null,
      "outputs": []
    },
    {
      "cell_type": "markdown",
      "metadata": {
        "id": "my5KvRY__hgE"
      },
      "source": [
        "## 2. Missing Values Imputation\n",
        "\n",
        "В первую очередь мы подгружаем датасет, указанный в параметрах\n"
      ]
    },
    {
      "cell_type": "code",
      "metadata": {
        "id": "RHU60zq9ALHN"
      },
      "source": [
        "X_train = pd.read_parquet(f'/content/{dataset}/X_train.parquet')\n",
        "X_test = pd.read_parquet(f'/content/{dataset}/X_test.parquet')\n",
        "\n",
        "# переводим обратно в pd.Series\n",
        "y_train = pd.read_parquet(f'/content/{dataset}/y_train.parquet').iloc[:, 0]\n",
        "y_test = pd.read_parquet(f'/content/{dataset}/y_test.parquet').iloc[:, 0]\n",
        "\n",
        "# испортируем типы переменных\n",
        "with open(f'/content/{dataset}/factors.json', 'r') as f:\n",
        "    vals_dict = json.load(f)\n",
        "cat_vals = vals_dict['cat_vals']\n",
        "num_vals = vals_dict['num_vals']"
      ],
      "execution_count": null,
      "outputs": []
    },
    {
      "cell_type": "markdown",
      "metadata": {
        "id": "65tv1lj9AL2n"
      },
      "source": [
        "\n",
        "Поскольку в обоих рассматриваемых датасетах все факторы заполнены, мы пока ставим \"заглушку\"."
      ]
    },
    {
      "cell_type": "code",
      "metadata": {
        "colab": {
          "base_uri": "https://localhost:8080/"
        },
        "id": "HmK65pvdAMKE",
        "outputId": "ffbed327-913e-408b-fc65-de7d956a7257"
      },
      "source": [
        "X_train.isna().sum(axis=0)"
      ],
      "execution_count": null,
      "outputs": [
        {
          "output_type": "execute_result",
          "data": {
            "text/plain": [
              "cheq_acc          0\n",
              "dur_t             0\n",
              "cred_hist         0\n",
              "purp              0\n",
              "cred_amt          0\n",
              "save_acc          0\n",
              "empl_t            0\n",
              "inst_to_income    0\n",
              "pers_status       0\n",
              "guarant_flg       0\n",
              "residence_t       0\n",
              "prop              0\n",
              "age               0\n",
              "inst_plan         0\n",
              "house             0\n",
              "n_loans           0\n",
              "job               0\n",
              "n_depend          0\n",
              "tel_flg           0\n",
              "foreign_flg       0\n",
              "dtype: int64"
            ]
          },
          "metadata": {},
          "execution_count": 10
        }
      ]
    },
    {
      "cell_type": "code",
      "metadata": {
        "colab": {
          "base_uri": "https://localhost:8080/"
        },
        "id": "5Nsg3boOA1JG",
        "outputId": "c3ab0784-7014-463d-f290-ef4e3f6084ed"
      },
      "source": [
        "X_test.isna().sum(axis=0)"
      ],
      "execution_count": null,
      "outputs": [
        {
          "output_type": "execute_result",
          "data": {
            "text/plain": [
              "cheq_acc          0\n",
              "dur_t             0\n",
              "cred_hist         0\n",
              "purp              0\n",
              "cred_amt          0\n",
              "save_acc          0\n",
              "empl_t            0\n",
              "inst_to_income    0\n",
              "pers_status       0\n",
              "guarant_flg       0\n",
              "residence_t       0\n",
              "prop              0\n",
              "age               0\n",
              "inst_plan         0\n",
              "house             0\n",
              "n_loans           0\n",
              "job               0\n",
              "n_depend          0\n",
              "tel_flg           0\n",
              "foreign_flg       0\n",
              "dtype: int64"
            ]
          },
          "metadata": {},
          "execution_count": 11
        }
      ]
    },
    {
      "cell_type": "code",
      "metadata": {
        "id": "0oFW7PPjA52N"
      },
      "source": [
        "X_train.fillna(999, inplace=True)\n",
        "X_test.fillna(999, inplace=True)"
      ],
      "execution_count": null,
      "outputs": []
    },
    {
      "cell_type": "markdown",
      "metadata": {
        "id": "IGHwALDEBioe"
      },
      "source": [
        "## 3. Preprocessing\n",
        "\n",
        "Теоретически здесь должна быть ребалансировка или feature engineering, но пока этот раздел опустим. В обоих датасетах 20-30% целевых событий, что не так плохо изначально. Поэтому пока сделаю только WOE-трансформацию для категориальных переменных."
      ]
    },
    {
      "cell_type": "markdown",
      "metadata": {
        "id": "aVqZdI_1B92B"
      },
      "source": [
        "### 3.1. Ребалансировка"
      ]
    },
    {
      "cell_type": "code",
      "metadata": {
        "id": "XvMFPQbgB8nu"
      },
      "source": [
        ""
      ],
      "execution_count": null,
      "outputs": []
    },
    {
      "cell_type": "markdown",
      "metadata": {
        "id": "lTaJyC25CHAe"
      },
      "source": [
        "### 3.2. WOE-трансформация"
      ]
    },
    {
      "cell_type": "code",
      "metadata": {
        "colab": {
          "base_uri": "https://localhost:8080/"
        },
        "id": "ZEUacnFcBCre",
        "outputId": "541152a0-1ce5-4d43-d251-246edf88c012"
      },
      "source": [
        "# технические детали, могу устно пояснить — Антон\n",
        "\n",
        "# готовим библиотеку через одно место: скачиваем только 3 нужных скрипта\n",
        "!git clone https://github.com/sberbank-ai/wing /content/wing\n",
        "!cp /content/wing/wing/core/main.py /content/main.py \n",
        "!cp /content/wing/wing/core/optimizer.py /content/optimizer.py \n",
        "!cp /content/wing/wing/core/functions.py /content/functions.py \n",
        "!rm -R /content/wing\n",
        "\n",
        "# заменяем относительный reference на абсолютный\n",
        "!sed -i 's/.functions/functions/g' /content/optimizer.py\n",
        "!sed -i 's/.functions/functions/g' /content/main.py\n",
        "!sed -i 's/.optimizer/optimizer/g' /content/main.py\n",
        "\n",
        "# косяк в изначальной либе\n",
        "!sed -i 's/selfoptimizer/self.optimizer/g' /content/optimizer.py\n",
        "!sed -i 's/selfoptimizer/self.optimizer/g' /content/main.py"
      ],
      "execution_count": null,
      "outputs": [
        {
          "output_type": "stream",
          "name": "stdout",
          "text": [
            "Cloning into '/content/wing'...\n",
            "remote: Enumerating objects: 62, done.\u001b[K\n",
            "remote: Total 62 (delta 0), reused 0 (delta 0), pack-reused 62\u001b[K\n",
            "Unpacking objects: 100% (62/62), done.\n"
          ]
        }
      ]
    },
    {
      "cell_type": "code",
      "metadata": {
        "id": "zldHunC1DX6o"
      },
      "source": [
        "from main import WingsOfEvidence"
      ],
      "execution_count": null,
      "outputs": []
    },
    {
      "cell_type": "code",
      "metadata": {
        "colab": {
          "base_uri": "https://localhost:8080/",
          "height": 143
        },
        "id": "yiDUmwjPMf-4",
        "outputId": "9ddec445-d027-477a-8e85-3b0c5160971d"
      },
      "source": [
        "X_test.head(3)"
      ],
      "execution_count": null,
      "outputs": [
        {
          "output_type": "execute_result",
          "data": {
            "text/html": [
              "<div>\n",
              "<style scoped>\n",
              "    .dataframe tbody tr th:only-of-type {\n",
              "        vertical-align: middle;\n",
              "    }\n",
              "\n",
              "    .dataframe tbody tr th {\n",
              "        vertical-align: top;\n",
              "    }\n",
              "\n",
              "    .dataframe thead th {\n",
              "        text-align: right;\n",
              "    }\n",
              "</style>\n",
              "<table border=\"1\" class=\"dataframe\">\n",
              "  <thead>\n",
              "    <tr style=\"text-align: right;\">\n",
              "      <th></th>\n",
              "      <th>cheq_acc</th>\n",
              "      <th>dur_t</th>\n",
              "      <th>cred_hist</th>\n",
              "      <th>purp</th>\n",
              "      <th>cred_amt</th>\n",
              "      <th>save_acc</th>\n",
              "      <th>empl_t</th>\n",
              "      <th>inst_to_income</th>\n",
              "      <th>pers_status</th>\n",
              "      <th>guarant_flg</th>\n",
              "      <th>residence_t</th>\n",
              "      <th>prop</th>\n",
              "      <th>age</th>\n",
              "      <th>inst_plan</th>\n",
              "      <th>house</th>\n",
              "      <th>n_loans</th>\n",
              "      <th>job</th>\n",
              "      <th>n_depend</th>\n",
              "      <th>tel_flg</th>\n",
              "      <th>foreign_flg</th>\n",
              "    </tr>\n",
              "  </thead>\n",
              "  <tbody>\n",
              "    <tr>\n",
              "      <th>0</th>\n",
              "      <td>A11</td>\n",
              "      <td>18</td>\n",
              "      <td>A32</td>\n",
              "      <td>A43</td>\n",
              "      <td>3190</td>\n",
              "      <td>A61</td>\n",
              "      <td>A73</td>\n",
              "      <td>2</td>\n",
              "      <td>A92</td>\n",
              "      <td>A101</td>\n",
              "      <td>2</td>\n",
              "      <td>A121</td>\n",
              "      <td>24</td>\n",
              "      <td>A143</td>\n",
              "      <td>A152</td>\n",
              "      <td>1</td>\n",
              "      <td>A173</td>\n",
              "      <td>1</td>\n",
              "      <td>A191</td>\n",
              "      <td>A201</td>\n",
              "    </tr>\n",
              "    <tr>\n",
              "      <th>1</th>\n",
              "      <td>A11</td>\n",
              "      <td>18</td>\n",
              "      <td>A32</td>\n",
              "      <td>A40</td>\n",
              "      <td>4380</td>\n",
              "      <td>A62</td>\n",
              "      <td>A73</td>\n",
              "      <td>3</td>\n",
              "      <td>A93</td>\n",
              "      <td>A101</td>\n",
              "      <td>4</td>\n",
              "      <td>A123</td>\n",
              "      <td>35</td>\n",
              "      <td>A143</td>\n",
              "      <td>A152</td>\n",
              "      <td>1</td>\n",
              "      <td>A172</td>\n",
              "      <td>2</td>\n",
              "      <td>A192</td>\n",
              "      <td>A201</td>\n",
              "    </tr>\n",
              "    <tr>\n",
              "      <th>2</th>\n",
              "      <td>A11</td>\n",
              "      <td>24</td>\n",
              "      <td>A31</td>\n",
              "      <td>A40</td>\n",
              "      <td>2325</td>\n",
              "      <td>A62</td>\n",
              "      <td>A74</td>\n",
              "      <td>2</td>\n",
              "      <td>A93</td>\n",
              "      <td>A101</td>\n",
              "      <td>3</td>\n",
              "      <td>A123</td>\n",
              "      <td>32</td>\n",
              "      <td>A141</td>\n",
              "      <td>A152</td>\n",
              "      <td>1</td>\n",
              "      <td>A173</td>\n",
              "      <td>1</td>\n",
              "      <td>A191</td>\n",
              "      <td>A201</td>\n",
              "    </tr>\n",
              "  </tbody>\n",
              "</table>\n",
              "</div>"
            ],
            "text/plain": [
              "  cheq_acc  dur_t cred_hist purp  ...   job n_depend tel_flg  foreign_flg\n",
              "0      A11     18       A32  A43  ...  A173        1    A191         A201\n",
              "1      A11     18       A32  A40  ...  A172        2    A192         A201\n",
              "2      A11     24       A31  A40  ...  A173        1    A191         A201\n",
              "\n",
              "[3 rows x 20 columns]"
            ]
          },
          "metadata": {},
          "execution_count": 15
        }
      ]
    },
    {
      "cell_type": "code",
      "metadata": {
        "id": "aIl2fR6qGk7m"
      },
      "source": [
        "##########################################################################\n",
        "### ВНИМАНИЕ! ### ЕСЛИ КТО-ТО УМЕЕТ УКАЗЫВАТЬ СИД В WOE, НАУЧИТЕ МЕНЯ! ###\n",
        "##########################################################################\n",
        "wings = WingsOfEvidence(\n",
        "    columns_to_apply=cat_vals, \n",
        "    n_initial=20, \n",
        "    n_target=10, \n",
        "    only_values=True\n",
        ")\n",
        "wings.fit(X_train, y_train)\n",
        "\n",
        "X_train_WOE = wings.transform(X_train)\n",
        "X_test_WOE =  wings.transform(X_test)\n",
        "\n",
        "X_train_WOE.to_parquet(f'/content/{dataset}/X_train_WOE.parquet')\n",
        "X_test_WOE.to_parquet(f'/content/{dataset}/X_test_WOE.parquet')\n",
        "\n",
        "for c in cat_vals:\n",
        "    X_train[c] = X_train_WOE['WOE_' + c]\n",
        "    X_test[c]  = X_test_WOE['WOE_' + c]"
      ],
      "execution_count": null,
      "outputs": []
    },
    {
      "cell_type": "code",
      "metadata": {
        "colab": {
          "base_uri": "https://localhost:8080/",
          "height": 163
        },
        "id": "n4YjLbvHNdqu",
        "outputId": "c81338fe-d8f0-4b63-9b07-b5fb487d37c8"
      },
      "source": [
        "X_test.head(3)"
      ],
      "execution_count": null,
      "outputs": [
        {
          "output_type": "execute_result",
          "data": {
            "text/html": [
              "<div>\n",
              "<style scoped>\n",
              "    .dataframe tbody tr th:only-of-type {\n",
              "        vertical-align: middle;\n",
              "    }\n",
              "\n",
              "    .dataframe tbody tr th {\n",
              "        vertical-align: top;\n",
              "    }\n",
              "\n",
              "    .dataframe thead th {\n",
              "        text-align: right;\n",
              "    }\n",
              "</style>\n",
              "<table border=\"1\" class=\"dataframe\">\n",
              "  <thead>\n",
              "    <tr style=\"text-align: right;\">\n",
              "      <th></th>\n",
              "      <th>cheq_acc</th>\n",
              "      <th>dur_t</th>\n",
              "      <th>cred_hist</th>\n",
              "      <th>purp</th>\n",
              "      <th>cred_amt</th>\n",
              "      <th>save_acc</th>\n",
              "      <th>empl_t</th>\n",
              "      <th>inst_to_income</th>\n",
              "      <th>pers_status</th>\n",
              "      <th>guarant_flg</th>\n",
              "      <th>residence_t</th>\n",
              "      <th>prop</th>\n",
              "      <th>age</th>\n",
              "      <th>inst_plan</th>\n",
              "      <th>house</th>\n",
              "      <th>n_loans</th>\n",
              "      <th>job</th>\n",
              "      <th>n_depend</th>\n",
              "      <th>tel_flg</th>\n",
              "      <th>foreign_flg</th>\n",
              "    </tr>\n",
              "  </thead>\n",
              "  <tbody>\n",
              "    <tr>\n",
              "      <th>0</th>\n",
              "      <td>-0.788869</td>\n",
              "      <td>18</td>\n",
              "      <td>-0.160963</td>\n",
              "      <td>0.513722</td>\n",
              "      <td>3190</td>\n",
              "      <td>-0.231914</td>\n",
              "      <td>-0.029193</td>\n",
              "      <td>2</td>\n",
              "      <td>-0.280309</td>\n",
              "      <td>-0.021201</td>\n",
              "      <td>2</td>\n",
              "      <td>0.544924</td>\n",
              "      <td>24</td>\n",
              "      <td>0.090352</td>\n",
              "      <td>0.218116</td>\n",
              "      <td>1</td>\n",
              "      <td>0.012056</td>\n",
              "      <td>1</td>\n",
              "      <td>-0.066374</td>\n",
              "      <td>0.0</td>\n",
              "    </tr>\n",
              "    <tr>\n",
              "      <th>1</th>\n",
              "      <td>-0.788869</td>\n",
              "      <td>18</td>\n",
              "      <td>-0.160963</td>\n",
              "      <td>-0.433830</td>\n",
              "      <td>4380</td>\n",
              "      <td>-0.182016</td>\n",
              "      <td>-0.029193</td>\n",
              "      <td>3</td>\n",
              "      <td>0.179744</td>\n",
              "      <td>-0.021201</td>\n",
              "      <td>4</td>\n",
              "      <td>-0.043180</td>\n",
              "      <td>35</td>\n",
              "      <td>0.090352</td>\n",
              "      <td>0.218116</td>\n",
              "      <td>1</td>\n",
              "      <td>0.133837</td>\n",
              "      <td>2</td>\n",
              "      <td>0.093026</td>\n",
              "      <td>0.0</td>\n",
              "    </tr>\n",
              "    <tr>\n",
              "      <th>2</th>\n",
              "      <td>-0.788869</td>\n",
              "      <td>24</td>\n",
              "      <td>-1.247152</td>\n",
              "      <td>-0.433830</td>\n",
              "      <td>2325</td>\n",
              "      <td>-0.182016</td>\n",
              "      <td>0.101402</td>\n",
              "      <td>2</td>\n",
              "      <td>0.179744</td>\n",
              "      <td>-0.021201</td>\n",
              "      <td>3</td>\n",
              "      <td>-0.043180</td>\n",
              "      <td>32</td>\n",
              "      <td>-0.381505</td>\n",
              "      <td>0.218116</td>\n",
              "      <td>1</td>\n",
              "      <td>0.012056</td>\n",
              "      <td>1</td>\n",
              "      <td>-0.066374</td>\n",
              "      <td>0.0</td>\n",
              "    </tr>\n",
              "  </tbody>\n",
              "</table>\n",
              "</div>"
            ],
            "text/plain": [
              "   cheq_acc  dur_t  cred_hist  ...  n_depend   tel_flg  foreign_flg\n",
              "0 -0.788869     18  -0.160963  ...         1 -0.066374          0.0\n",
              "1 -0.788869     18  -0.160963  ...         2  0.093026          0.0\n",
              "2 -0.788869     24  -1.247152  ...         1 -0.066374          0.0\n",
              "\n",
              "[3 rows x 20 columns]"
            ]
          },
          "metadata": {},
          "execution_count": 17
        }
      ]
    },
    {
      "cell_type": "markdown",
      "metadata": {
        "id": "rX_xNqUOCICk"
      },
      "source": [
        "### 3.3. Feature Engineering"
      ]
    },
    {
      "cell_type": "code",
      "metadata": {
        "id": "wUX6_CZsD3US"
      },
      "source": [
        ""
      ],
      "execution_count": null,
      "outputs": []
    },
    {
      "cell_type": "markdown",
      "metadata": {
        "id": "cu3wnn5sHK3A"
      },
      "source": [
        "### 3.4. Исключение нестабильных во времени переменных\n",
        "\n",
        "Надо, если данные по месяцам, а не как у нас."
      ]
    },
    {
      "cell_type": "code",
      "metadata": {
        "id": "MyLt5of0HI09"
      },
      "source": [
        ""
      ],
      "execution_count": null,
      "outputs": []
    },
    {
      "cell_type": "markdown",
      "metadata": {
        "id": "xFucdqM9Bk5B"
      },
      "source": [
        "## 4. Baseline\n",
        "\n",
        "Подберем бейзлайн из списка\n",
        "\n",
        "* LightGBM\n",
        "* XGBoost \n",
        "* Random Forest\n",
        "* Decision Tree\n",
        "\n",
        "CatBoost в Colab'e не установлен, добавим позже."
      ]
    },
    {
      "cell_type": "code",
      "metadata": {
        "id": "7hke5AGTBgWf"
      },
      "source": [
        "def calc_ginis(mdl, X_list, y_list, label_list):\n",
        "    # на каждой из паре выборка - таргет (X, y) измеряет\n",
        "    # и принтит Gini\n",
        "    ginis = {}\n",
        "    for i in range(len(X_list)):\n",
        "        y_pred = mdl.predict_proba(X_list[i])\n",
        "        gini = roc_auc_score(y_list[i], y_pred[:, 1]) * 2 - 1\n",
        "        print(f'GINI {label_list[i]}: {gini}')\n",
        "        ginis[label_list[i]] = gini\n",
        "    return(ginis)"
      ],
      "execution_count": null,
      "outputs": []
    },
    {
      "cell_type": "markdown",
      "metadata": {
        "id": "JStC3TsDO9bH"
      },
      "source": [
        "### 4.1. LightGBM"
      ]
    },
    {
      "cell_type": "code",
      "metadata": {
        "colab": {
          "base_uri": "https://localhost:8080/"
        },
        "id": "F2Tl0ue5O87r",
        "outputId": "2fcee4aa-f7ee-4cc3-85ea-6c5e6ae856b3"
      },
      "source": [
        "%%time\n",
        "lgbm_mdl = LGBMClassifier(\n",
        "    num_leaves = 10,\n",
        "    learning_rate = .1,\n",
        "    reg_alpha = 8,\n",
        "    reg_lambda = 8,\n",
        "    random_state = seed\n",
        ")\n",
        "lgbm_mdl.fit(X_train, y_train, verbose = True)"
      ],
      "execution_count": null,
      "outputs": [
        {
          "output_type": "stream",
          "name": "stdout",
          "text": [
            "CPU times: user 48.8 ms, sys: 6.17 ms, total: 55 ms\n",
            "Wall time: 43.2 ms\n"
          ]
        }
      ]
    },
    {
      "cell_type": "code",
      "metadata": {
        "colab": {
          "base_uri": "https://localhost:8080/"
        },
        "id": "Mfypkod6Panr",
        "outputId": "d5c66662-85b7-4010-d21b-4d8b494ac1bc"
      },
      "source": [
        "calc_ginis(\n",
        "    mdl = lgbm_mdl,\n",
        "    X_list = [X_train, X_test],\n",
        "    y_list = [y_train, y_test],\n",
        "    label_list = ['TRAIN', 'TEST']\n",
        ")"
      ],
      "execution_count": null,
      "outputs": [
        {
          "output_type": "stream",
          "name": "stdout",
          "text": [
            "GINI TRAIN: 0.7259864157709583\n",
            "GINI TEST: 0.5355171144644828\n"
          ]
        },
        {
          "output_type": "execute_result",
          "data": {
            "text/plain": [
              "{'TEST': 0.5355171144644828, 'TRAIN': 0.7259864157709583}"
            ]
          },
          "metadata": {},
          "execution_count": 20
        }
      ]
    },
    {
      "cell_type": "markdown",
      "metadata": {
        "id": "8iJ-uunfP2Er"
      },
      "source": [
        "Жесткое переобучение! Будем разбираться..."
      ]
    },
    {
      "cell_type": "markdown",
      "metadata": {
        "id": "bDc6df0ZP10l"
      },
      "source": [
        "### 4.2. XGBoost"
      ]
    },
    {
      "cell_type": "code",
      "metadata": {
        "colab": {
          "base_uri": "https://localhost:8080/"
        },
        "id": "8LGxZ3k2PoDA",
        "outputId": "a0d43b3d-c091-445d-b279-fcacdbc9718d"
      },
      "source": [
        "%%time\n",
        "xgb_mdl = XGBClassifier(\n",
        "    max_depth = 3,\n",
        "    learning_rate = .1,\n",
        "    reg_alpha = 8,\n",
        "    reg_lambda = 8,\n",
        "    seed = seed\n",
        ")\n",
        "xgb_mdl.fit(X_train, y_train, verbose = True)"
      ],
      "execution_count": null,
      "outputs": [
        {
          "output_type": "stream",
          "name": "stdout",
          "text": [
            "CPU times: user 81 ms, sys: 17.6 ms, total: 98.6 ms\n",
            "Wall time: 215 ms\n"
          ]
        }
      ]
    },
    {
      "cell_type": "code",
      "metadata": {
        "colab": {
          "base_uri": "https://localhost:8080/"
        },
        "id": "JMyL6mX-QZ4S",
        "outputId": "6b29b1e1-0d56-4ce3-abc5-2754d79e746b"
      },
      "source": [
        "calc_ginis(\n",
        "    mdl = xgb_mdl,\n",
        "    X_list = [X_train, X_test],\n",
        "    y_list = [y_train, y_test],\n",
        "    label_list = ['TRAIN', 'TEST']\n",
        ")"
      ],
      "execution_count": null,
      "outputs": [
        {
          "output_type": "stream",
          "name": "stdout",
          "text": [
            "GINI TRAIN: 0.7356629863865365\n",
            "GINI TEST: 0.5462432304537568\n"
          ]
        },
        {
          "output_type": "execute_result",
          "data": {
            "text/plain": [
              "{'TEST': 0.5462432304537568, 'TRAIN': 0.7356629863865365}"
            ]
          },
          "metadata": {},
          "execution_count": 22
        }
      ]
    },
    {
      "cell_type": "markdown",
      "metadata": {
        "id": "k05SNF5KQpLF"
      },
      "source": [
        "Переобучение ещё чуть больше, но качетсов на тесте тоже выше."
      ]
    },
    {
      "cell_type": "markdown",
      "metadata": {
        "id": "HOyZ-ootQpAM"
      },
      "source": [
        "### 4.3. Random Forest"
      ]
    },
    {
      "cell_type": "code",
      "metadata": {
        "colab": {
          "base_uri": "https://localhost:8080/"
        },
        "id": "QkAVSEe9QZrJ",
        "outputId": "4c03bc68-40a1-4fd3-c2f1-618a9231d963"
      },
      "source": [
        "%%time\n",
        "rf_mdl = RandomForestClassifier(\n",
        "    max_depth = 3,\n",
        "    random_state = seed,\n",
        "    verbose=0\n",
        ")\n",
        "rf_mdl.fit(X_train, y_train)"
      ],
      "execution_count": null,
      "outputs": [
        {
          "output_type": "stream",
          "name": "stdout",
          "text": [
            "CPU times: user 136 ms, sys: 991 µs, total: 137 ms\n",
            "Wall time: 141 ms\n"
          ]
        }
      ]
    },
    {
      "cell_type": "code",
      "metadata": {
        "colab": {
          "base_uri": "https://localhost:8080/"
        },
        "id": "lu2BXJLzQy2p",
        "outputId": "4095ee90-b8fc-4a48-9b63-936cf8c36960"
      },
      "source": [
        "calc_ginis(\n",
        "    mdl = rf_mdl,\n",
        "    X_list = [X_train, X_test],\n",
        "    y_list = [y_train, y_test],\n",
        "    label_list = ['TRAIN', 'TEST']\n",
        ")"
      ],
      "execution_count": null,
      "outputs": [
        {
          "output_type": "stream",
          "name": "stdout",
          "text": [
            "GINI TRAIN: 0.7028425535232268\n",
            "GINI TEST: 0.581471160418529\n"
          ]
        },
        {
          "output_type": "execute_result",
          "data": {
            "text/plain": [
              "{'TEST': 0.581471160418529, 'TRAIN': 0.7028425535232268}"
            ]
          },
          "metadata": {},
          "execution_count": 24
        }
      ]
    },
    {
      "cell_type": "markdown",
      "metadata": {
        "id": "Z0wLrC0IRLGq"
      },
      "source": [
        "Ого! RF лучше бустингов! Что-то тут не так... Надо очень сильно в регуляризацию."
      ]
    },
    {
      "cell_type": "markdown",
      "metadata": {
        "id": "rcXx_BxeRK9M"
      },
      "source": [
        "### 4.4. Decision Tree"
      ]
    },
    {
      "cell_type": "code",
      "metadata": {
        "colab": {
          "base_uri": "https://localhost:8080/"
        },
        "id": "XHdPUL1BRBSw",
        "outputId": "c4762af4-1bd1-49d0-cc4a-4e689a148403"
      },
      "source": [
        "%%time\n",
        "tree_mdl = DecisionTreeClassifier(\n",
        "    max_leaf_nodes = 10,\n",
        "    random_state = seed\n",
        ")\n",
        "tree_mdl.fit(X_train, y_train)"
      ],
      "execution_count": null,
      "outputs": [
        {
          "output_type": "stream",
          "name": "stdout",
          "text": [
            "CPU times: user 3.84 ms, sys: 0 ns, total: 3.84 ms\n",
            "Wall time: 3.98 ms\n"
          ]
        }
      ]
    },
    {
      "cell_type": "code",
      "metadata": {
        "colab": {
          "base_uri": "https://localhost:8080/"
        },
        "id": "bdTx_n-2RmG7",
        "outputId": "58250405-1110-4d2b-dfbe-e4d3ddc61aef"
      },
      "source": [
        "calc_ginis(\n",
        "    mdl = tree_mdl,\n",
        "    X_list = [X_train, X_test],\n",
        "    y_list = [y_train, y_test],\n",
        "    label_list = ['TRAIN', 'TEST']\n",
        ")"
      ],
      "execution_count": null,
      "outputs": [
        {
          "output_type": "stream",
          "name": "stdout",
          "text": [
            "GINI TRAIN: 0.5710346037283545\n",
            "GINI TEST: 0.5004469214995533\n"
          ]
        },
        {
          "output_type": "execute_result",
          "data": {
            "text/plain": [
              "{'TEST': 0.5004469214995533, 'TRAIN': 0.5710346037283545}"
            ]
          },
          "metadata": {},
          "execution_count": 26
        }
      ]
    },
    {
      "cell_type": "markdown",
      "metadata": {
        "id": "Be2jVugbRnBf"
      },
      "source": [
        "Не лучше и не хуже бустингов, но без переобучения."
      ]
    },
    {
      "cell_type": "markdown",
      "metadata": {
        "id": "lLBITBm6ESbN"
      },
      "source": [
        "### 4.5. Conclusion\n",
        "\n",
        "Пока кажется, что бустинги и RF — лучшие алгоритмы. Сам я не могу поверить, что RF лучше бустингов, поэтому будем работать над регуляризацией."
      ]
    },
    {
      "cell_type": "markdown",
      "metadata": {
        "id": "WdbyWBEuRnpK"
      },
      "source": [
        "## 5. Feature Selection\n",
        "\n",
        "Предлагаю in the long run задать # переменных как экзогенный фактор при оптимизации, пока задаю экспертно (от фонаря)."
      ]
    },
    {
      "cell_type": "code",
      "metadata": {
        "colab": {
          "base_uri": "https://localhost:8080/"
        },
        "id": "efearvYvEAaS",
        "outputId": "bf1b206c-c8c5-4795-f224-e4b2ba9be051"
      },
      "source": [
        "# reminder\n",
        "print(f'В параметрах задано следующее число факторов в финальной модели: {num_factors}')"
      ],
      "execution_count": null,
      "outputs": [
        {
          "output_type": "stream",
          "name": "stdout",
          "text": [
            "В параметрах задано следующее число факторов в финальной модели: 10\n"
          ]
        }
      ]
    },
    {
      "cell_type": "code",
      "metadata": {
        "id": "8eLEoHSVFNwT"
      },
      "source": [
        ""
      ],
      "execution_count": null,
      "outputs": []
    }
  ]
}