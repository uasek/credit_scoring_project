{
 "cells": [
  {
   "cell_type": "markdown",
   "id": "6b95fcbe-4085-4cb6-8fde-7c4601826387",
   "metadata": {
    "id": "mlhq3qfjqFO2"
   },
   "source": [
    "# Model Risk Pipeline\n",
    "\n",
    "This notebook aims at demonstrating how one might employ the default pipeline for ML tasks. Hyperparameter optimization relies on `hyperopt` library, we expect to add `optuna` support in the future.\n",
    "\n",
    "__Inputs:__\n",
    "\n",
    "1. Dataset\n",
    "\n",
    "__Ouputs:__\n",
    "\n",
    "1. Optimal pipeline structure, as obtained by `hyperopt`\n",
    "2. Optimal model"
   ]
  },
  {
   "cell_type": "markdown",
   "id": "67a9abbb-ee51-484f-96b8-192c3474e7ff",
   "metadata": {},
   "source": [
    "## 1. Technicals"
   ]
  },
  {
   "cell_type": "code",
   "execution_count": 1,
   "id": "f482c43e-5375-4ec8-876b-27ed9a6452fd",
   "metadata": {},
   "outputs": [],
   "source": [
    "import time\n",
    "import os\n",
    "import json\n",
    "import numpy as np\n",
    "import pandas as pd\n",
    "import matplotlib.pyplot as plt\n",
    "import sklearn\n",
    "from hyperopt import hp\n",
    "\n",
    "from modules.utils import gini_score\n",
    "from modules.defaults import get_default_modules\n",
    "from modules.pipeline import PipeHPOpt\n",
    "\n",
    "from hyperopt import fmin, tpe, STATUS_OK, STATUS_FAIL, Trials"
   ]
  },
  {
   "cell_type": "code",
   "execution_count": 2,
   "id": "f2550a6d-604b-4c7c-9929-0d9365b10eb4",
   "metadata": {},
   "outputs": [],
   "source": [
    "seed = 42"
   ]
  },
  {
   "cell_type": "markdown",
   "id": "8020c325-11af-4cfc-9d61-5d2378598fdd",
   "metadata": {},
   "source": [
    "## 2. Import Dataset"
   ]
  },
  {
   "cell_type": "code",
   "execution_count": 3,
   "id": "b6b36c16-1aa8-41a0-8462-74cfbe7fc49c",
   "metadata": {},
   "outputs": [],
   "source": [
    "X_train = pd.read_parquet('../datasets/01_german/samples/X_train.parquet')\n",
    "y_train = pd.read_parquet('../datasets/01_german/samples/y_train.parquet').target\n",
    "\n",
    "X_test  = pd.read_parquet('../datasets/01_german/samples/X_test.parquet')\n",
    "y_test  = pd.read_parquet('../datasets/01_german/samples/y_test.parquet').target"
   ]
  },
  {
   "cell_type": "code",
   "execution_count": 4,
   "id": "fff79df1-8826-4f05-918e-03652f8a036d",
   "metadata": {},
   "outputs": [],
   "source": [
    "with open('../datasets/01_german/factors.json') as json_file:\n",
    "    factors_dict = json.load(json_file)"
   ]
  },
  {
   "cell_type": "code",
   "execution_count": 5,
   "id": "84bcf567-6fb6-455c-8ec6-09028e11e734",
   "metadata": {},
   "outputs": [
    {
     "data": {
      "text/plain": [
       "['cheq_acc',\n",
       " 'cred_hist',\n",
       " 'purp',\n",
       " 'save_acc',\n",
       " 'empl_t',\n",
       " 'pers_status',\n",
       " 'guarant_flg',\n",
       " 'prop',\n",
       " 'inst_plan',\n",
       " 'house',\n",
       " 'job',\n",
       " 'tel_flg',\n",
       " 'foreign_flg']"
      ]
     },
     "execution_count": 5,
     "metadata": {},
     "output_type": "execute_result"
    }
   ],
   "source": [
    "factors_dict['cat_vals']"
   ]
  },
  {
   "cell_type": "markdown",
   "id": "58540fea-e6ce-462c-8427-30f443126065",
   "metadata": {},
   "source": [
    "## 3. Define Modules"
   ]
  },
  {
   "cell_type": "markdown",
   "id": "4773fea9-9067-4d91-a30d-4594eb5a3716",
   "metadata": {},
   "source": [
    "All the modules that might be part of the pipeline should be defined below (or import them):"
   ]
  },
  {
   "cell_type": "code",
   "execution_count": 6,
   "id": "9ee8541b-6b30-48ed-b918-8af26103a91a",
   "metadata": {},
   "outputs": [],
   "source": [
    "# get default modules\n",
    "pipe_modules = get_default_modules()"
   ]
  },
  {
   "cell_type": "markdown",
   "id": "f9191776-4f78-43dc-aa59-162abcb164d5",
   "metadata": {
    "tags": []
   },
   "source": [
    "## 4. Define Pipeline"
   ]
  },
  {
   "cell_type": "markdown",
   "id": "cfc113da-2803-4158-b23f-685890180303",
   "metadata": {},
   "source": [
    "### 4.1. Структура Pipeline"
   ]
  },
  {
   "cell_type": "markdown",
   "id": "31fcacdc-9228-4db2-b546-25700f07e8e6",
   "metadata": {},
   "source": [
    "Определим структуру самого пайплайна. Словесное описание:\n",
    "    \n",
    "1. Энкодинг категориальных переменных:\n",
    "    + OneHotEncoder\n",
    "    + WoE\n",
    "3. Feature Engineering:\n",
    "    + PCA\n",
    "    + Kernel PCA\n",
    "    + Isomap\n",
    "    + UMAP\n",
    "    + Combine with Reference (feature multiplication)\n",
    "    + _отсутствует_\n",
    "4. Feature Selection:\n",
    "    + RecursiveFeatureAddition\n",
    "    + SequentialFeatureSelector\n",
    "    + SmartCorrelatedSelection\n",
    "    + _отсутствует_\n",
    "4. Resampling:\n",
    "    + Randomised Undersampling (RUS)\n",
    "    + Randomised Oversampling  (ROS)\n",
    "    + Synthetic Minority Oversampling Technique (SMOTE)\n",
    "    + Adaptive Synthetic (ADASYN)\n",
    "    + _отсутствует_\n",
    "5. LightGBM"
   ]
  },
  {
   "cell_type": "markdown",
   "id": "dbda1a09-9ad5-480d-b1ef-7ecdeaa21774",
   "metadata": {},
   "source": [
    "А так это будет выражаться в коде:"
   ]
  },
  {
   "cell_type": "code",
   "execution_count": 7,
   "id": "3af3a5d1-d094-4acd-a218-a6e3839928eb",
   "metadata": {},
   "outputs": [],
   "source": [
    "pipe_params = {\n",
    "    # 'missing_vals': \n",
    "    'cat_encoding':  hp.choice('cat_encoding', ['OneHot', 'WoE']), # , 'woe' пропустить нельзя из-за наличия кат. пер-х\n",
    "    'imbalance':     hp.choice('imbalance',    ['skip', 'RUS', 'ROS', 'SMOTE', 'ADASYN']),\n",
    "    'feat_eng':      hp.choice('feat_eng',     ['skip', 'PCA', 'kPCA', 'Isomap', 'UMAP']), # , 'CombWRef' # удалил, т.к. долго считается\n",
    "    # 'feat_filter':   hp.choice() -- unstable, low quality (SHAP, IV, feat_importance, ...) \n",
    "    'feat_sel':      hp.choice('feat_sel',     ['skip', 'SeqFearSel', 'RecFeatAdd', 'SmartSel']), # 'SelShuffl' is omitted, since it might drop all Xs\n",
    "    'lgbm':          'lgbm'\n",
    "}"
   ]
  },
  {
   "cell_type": "markdown",
   "id": "d9529da0-a54b-46ee-b43b-b6f5a14b4705",
   "metadata": {},
   "source": [
    "Заметим, что 'skip' позволяет игнорировать соответствующий шаг в пайплайне. Названия типа `\"onehot\"` должны совпадать с названиями в словаре `modules`, который мы определили на Шаге 3."
   ]
  },
  {
   "cell_type": "markdown",
   "id": "823e3b4f-8611-485d-9b80-fd347684a1e2",
   "metadata": {},
   "source": [
    "### 4.2. Гиперпараметры модулей"
   ]
  },
  {
   "cell_type": "markdown",
   "id": "6ed1b7ab-92ba-4154-9936-c218e70f8dbf",
   "metadata": {},
   "source": [
    "В следующий словарь добавляем гиперпараметры каждого из модулей, которые мы хотим оптимизировать. Названия строятся следующи образом:\n",
    "\n",
    "`<Название модуля>__<название параметра>`\n",
    "\n",
    "Например, чтобы задать параметр `num_leaves` модуля lgbm, трубуется добваить значение с ключем `lgbm__num_leaves`."
   ]
  },
  {
   "cell_type": "code",
   "execution_count": 8,
   "id": "8b710156-03b3-4e15-9b8f-3d1056037741",
   "metadata": {},
   "outputs": [],
   "source": [
    "set_params = {\n",
    "    # OneHotEncoder does not need hyperparams\n",
    "    # RecFeatAdd might be redefined to receive a correct estimator\n",
    "    # PCA\n",
    "    'DimRed__PCA__n_components':      hp.choice('PCA__n_components',      np.arange(2, 11)),\n",
    "    'DimRed__PCA__whiten':            hp.choice('PCA__whiten',            [True, False]),\n",
    "    'DimRed__PCA__svd_solver':        hp.choice('PCA__svd_solver',        ['full', 'arpack', 'auto', 'randomized']),\n",
    "    \n",
    "    # kPCA\n",
    "    'DimRed__kPCA__n_components':     hp.choice('kPCA__n_components',     np.arange(5, 11)),\n",
    "    'DimRed__kPCA__kernel':           hp.choice('kPCA__kernel',           ['linear', 'poly', 'rbf', 'sigmoid', 'cosine', 'precomputed']),\n",
    "    \n",
    "    # Isomap\n",
    "    'DimRed__Isomap__n_neighbors':    hp.choice('Isomap__n_neighbors',    np.arange(2, 11)),\n",
    "    'DimRed__Isomap__n_components':   hp.choice('Isomap__n_components',   np.arange(2, 5)),\n",
    "    'DimRed__Isomap__path_method':    hp.choice('Isomap__path_method',    ['auto', 'FW', 'D']),\n",
    "    \n",
    "    # UMAP\n",
    "    'DimRed__UMAP__n_neighbors':      hp.choice('UMAP__n_neighbors',      np.arange(2, 11)),\n",
    "    'DimRed__UMAP__n_components':     hp.choice('UMAP__n_components',     np.arange(2, 11)),\n",
    "    'DimRed__UMAP__min_dist':         hp.choice('UMAP__min_dist',         np.arange(0.05, 1, 0.05)),\n",
    "    \n",
    "    # LightGBM\n",
    "    'lgbm__learning_rate':    hp.choice('lgbm__learning_rate',    np.arange(0.05, 0.31, 0.05)),\n",
    "    'lgbm__num_leaves':       hp.choice('lgbm__num_leaves',       np.arange(5, 16, 1, dtype=int)),\n",
    "    'lgbm__reg_alpha':        hp.choice('lgbm__reg_alpha',        np.arange(0, 16, 1, dtype=int)),\n",
    "    'lgbm__reg_lambda':       hp.choice('lgbm__reg_lambda',       np.arange(0, 16, 1, dtype=int)),\n",
    "    'lgbm__n_estimators':     100\n",
    "}"
   ]
  },
  {
   "cell_type": "markdown",
   "id": "211e087a-0d3e-45ab-95a4-51dfa65d4fe0",
   "metadata": {},
   "source": [
    "Чтобы параметры можно было оптимизировать, модули должны иметь метод `.set_params()`."
   ]
  },
  {
   "cell_type": "markdown",
   "id": "d0394d46-ceb8-4d7c-8d9f-34ae8a58c8a8",
   "metadata": {},
   "source": [
    "### 4.3. Подстановка оптимизационной задачи"
   ]
  },
  {
   "cell_type": "code",
   "execution_count": 9,
   "id": "a3d558b4-e575-4e78-9999-72581f265261",
   "metadata": {},
   "outputs": [],
   "source": [
    "# technicals — define minimization task\n",
    "pipe_para = dict()\n",
    "pipe_para['pipe_params']    = pipe_params\n",
    "pipe_para['set_params']     = set_params\n",
    "pipe_para['loss_func']      = lambda y, pred: -sklearn.metrics.roc_auc_score(y, pred)\n",
    "# pipe_para['loss_func']      = lambda y, pred: -sklearn.metrics.log_loss(y, pred)"
   ]
  },
  {
   "cell_type": "code",
   "execution_count": 10,
   "id": "35572ab5-126d-4c78-a757-5a423def797f",
   "metadata": {
    "tags": []
   },
   "outputs": [
    {
     "name": "stdout",
     "output_type": "stream",
     "text": [
      "100%|███████████████████████████████████████████████| 10/10 [03:18<00:00, 19.81s/trial, best loss: -0.7701240836375024]\n"
     ]
    }
   ],
   "source": [
    "%%capture --no-stdout\n",
    "hpoptimizer = PipeHPOpt(X_train, y_train, modules=pipe_modules, mode='kfold', n_folds = 4, seed=seed)\n",
    "lgb_opt, trials = hpoptimizer.process(space=pipe_para, trials=Trials(), algo=tpe.suggest, max_evals=10)"
   ]
  },
  {
   "cell_type": "markdown",
   "id": "49e4f5de-fb1e-4ecd-ae57-bbb5da1f1c76",
   "metadata": {},
   "source": [
    "## 5. Results Analysis"
   ]
  },
  {
   "cell_type": "code",
   "execution_count": 11,
   "id": "739b7ca6-89f8-46a5-8b4c-78a33730fc8d",
   "metadata": {},
   "outputs": [
    {
     "data": {
      "text/plain": [
       "{'loss_func': <function __main__.<lambda>(y, pred)>,\n",
       " 'pipe_params': {'cat_encoding': 'WoE',\n",
       "  'feat_eng': 'kPCA',\n",
       "  'feat_sel': 'skip',\n",
       "  'imbalance': 'SMOTE',\n",
       "  'lgbm': 'lgbm'},\n",
       " 'set_params': {'DimRed__Isomap__n_components': 3,\n",
       "  'DimRed__Isomap__n_neighbors': 2,\n",
       "  'DimRed__Isomap__path_method': 'D',\n",
       "  'DimRed__PCA__n_components': 4,\n",
       "  'DimRed__PCA__svd_solver': 'arpack',\n",
       "  'DimRed__PCA__whiten': False,\n",
       "  'DimRed__UMAP__min_dist': 0.1,\n",
       "  'DimRed__UMAP__n_components': 2,\n",
       "  'DimRed__UMAP__n_neighbors': 6,\n",
       "  'DimRed__kPCA__kernel': 'sigmoid',\n",
       "  'DimRed__kPCA__n_components': 5,\n",
       "  'lgbm__learning_rate': 0.1,\n",
       "  'lgbm__n_estimators': 100,\n",
       "  'lgbm__num_leaves': 11,\n",
       "  'lgbm__reg_alpha': 2,\n",
       "  'lgbm__reg_lambda': 4}}"
      ]
     },
     "execution_count": 11,
     "metadata": {},
     "output_type": "execute_result"
    }
   ],
   "source": [
    "hpoptimizer.get_best_params()"
   ]
  },
  {
   "cell_type": "code",
   "execution_count": 12,
   "id": "b71e6259-9a6b-48b3-be5e-afddd7b058a9",
   "metadata": {},
   "outputs": [
    {
     "name": "stderr",
     "output_type": "stream",
     "text": [
      "c:\\users\\antonmarkov\\01-studies\\01-phd\\year-3\\model-risks\\credit_scoring_project\\lib\\site-packages\\sklearn\\utils\\validation.py:1677: FutureWarning: Feature names only support names that are all strings. Got feature names with dtypes: ['int', 'str']. An error will be raised in 1.2.\n",
      "  FutureWarning,\n"
     ]
    },
    {
     "data": {
      "text/plain": [
       "Pipeline(steps=[('WoE', WoEEncoder_adj()),\n",
       "                ('kPCA',\n",
       "                 <modules.preprocessing.DimensionReducer object at 0x000001CCA6564B48>),\n",
       "                ('SMOTE', SMOTE(random_state=42)),\n",
       "                ('lgbm',\n",
       "                 LGBMClassifier(num_leaves=11, random_state=42, reg_alpha=2,\n",
       "                                reg_lambda=4))])"
      ]
     },
     "execution_count": 12,
     "metadata": {},
     "output_type": "execute_result"
    }
   ],
   "source": [
    "best_mdl = hpoptimizer.get_best_model()\n",
    "best_mdl"
   ]
  },
  {
   "cell_type": "code",
   "execution_count": 14,
   "id": "8fc8832c-8df3-4acb-8535-11dc6a9523ad",
   "metadata": {},
   "outputs": [
    {
     "name": "stdout",
     "output_type": "stream",
     "text": [
      "Gini: 0.9224162887194827\n",
      "Gini: 0.6249549224666426\n"
     ]
    },
    {
     "data": {
      "text/plain": [
       "0.6249549224666426"
      ]
     },
     "execution_count": 14,
     "metadata": {},
     "output_type": "execute_result"
    }
   ],
   "source": [
    "gini_score(y_train, best_mdl.predict_proba(X_train)[:, 1])\n",
    "gini_score(y_test, best_mdl.predict_proba(X_test)[:, 1])"
   ]
  },
  {
   "cell_type": "code",
   "execution_count": null,
   "id": "9a86b659-45f3-4dfa-95fc-93c970cc5586",
   "metadata": {},
   "outputs": [],
   "source": []
  },
  {
   "cell_type": "code",
   "execution_count": 15,
   "id": "b969a161-a175-454f-9b2b-83d2c74129a9",
   "metadata": {
    "tags": []
   },
   "outputs": [
    {
     "data": {
      "text/plain": [
       "[-0.6100505302785196,\n",
       " -0.7392480722529629,\n",
       " -0.7608021917188518,\n",
       " -0.7626486355273503,\n",
       " -0.6979022915182889,\n",
       " -0.6161658963211276,\n",
       " -0.7251588231158989,\n",
       " -0.7436826083729274,\n",
       " -0.7701240836375024,\n",
       " -0.6822371267211811]"
      ]
     },
     "execution_count": 15,
     "metadata": {},
     "output_type": "execute_result"
    }
   ],
   "source": [
    "[r['loss'] for r in trials.results]"
   ]
  },
  {
   "cell_type": "code",
   "execution_count": 16,
   "id": "7e1fb6ef-47c1-430b-b686-afe89e47b1dc",
   "metadata": {},
   "outputs": [
    {
     "data": {
      "image/png": "[encoded data removed]",
      "text/plain": [
       "<Figure size 432x288 with 1 Axes>"
      ]
     },
     "metadata": {
      "needs_background": "light"
     },
     "output_type": "display_data"
    },
    {
     "data": {
      "text/plain": [
       "<Figure size 432x288 with 0 Axes>"
      ]
     },
     "metadata": {},
     "output_type": "display_data"
    }
   ],
   "source": [
    "plt.plot(np.array([r['loss'] for r in trials.results]))\n",
    "plt.title('Hyperopt: loss function dynamics')\n",
    "plt.xlabel('Epoch')\n",
    "plt.ylabel('Average loss (-AUC) on k cross-validation samples')\n",
    "plt.show()\n",
    "plt.savefig('loss_dynamics_hp_1000_tpe_suggest.png')"
   ]
  }
 ],
 "metadata": {
  "kernelspec": {
   "display_name": "Python 3 (ipykernel)",
   "language": "python",
   "name": "python3"
  },
  "language_info": {
   "codemirror_mode": {
    "name": "ipython",
    "version": 3
   },
   "file_extension": ".py",
   "mimetype": "text/x-python",
   "name": "python",
   "nbconvert_exporter": "python",
   "pygments_lexer": "ipython3",
   "version": "3.7.6"
  },
  "toc-autonumbering": false,
  "toc-showcode": false,
  "toc-showtags": false
 },
 "nbformat": 4,
 "nbformat_minor": 5
}
