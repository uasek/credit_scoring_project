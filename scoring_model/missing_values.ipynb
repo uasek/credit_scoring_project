{
 "cells": [
  {
   "cell_type": "code",
   "execution_count": 1,
   "id": "67647c78-c330-4c72-ba2d-94dc2958fcbd",
   "metadata": {},
   "outputs": [],
   "source": [
    "import numpy as np\n",
    "import pandas as pd"
   ]
  },
  {
   "cell_type": "code",
   "execution_count": 37,
   "id": "78a38012-f873-4eb9-8ecc-f3a21f97a71b",
   "metadata": {},
   "outputs": [],
   "source": [
    "class missing_filler_mean():\n",
    "    \n",
    "    \"\"\"\n",
    "    Returns a table with all the missing values in numerical columns filled with mean and all the \n",
    "    missing values in categorical columns filled with special category.\n",
    "    params::x DataFrame with the data\n",
    "    params::categorical_variables list of categorical varaibles\n",
    "    params::filling_category a value to fill the missing values in categorical variables\n",
    "    \"\"\"\n",
    "    \n",
    "    def __init__(self, x, categorical_variables = [], filling_category = \"filler\", y = None):\n",
    "        self.x = x\n",
    "        self.y = y\n",
    "        self.categorical_variables = categorical_variables\n",
    "        self.filling_category = filling_category\n",
    "        \n",
    "    def fit(self):\n",
    "        self.mean_to_fill = self.x.mean()\n",
    "        return self\n",
    "    \n",
    "    def transform(self):\n",
    "        filled_table = self.x.fillna(self.mean_to_fill)\n",
    "        if len(self.categorical_variables) != 0:\n",
    "            filled_table[self.categorical_variables].fillna(self.filling_category, inplace = True)\n",
    "        return filled_table\n",
    "    "
   ]
  },
  {
   "cell_type": "markdown",
   "id": "69f951ba-cec5-42db-88b8-8f0719d9d290",
   "metadata": {},
   "source": [
    "Проверим, как работает"
   ]
  },
  {
   "cell_type": "code",
   "execution_count": 39,
   "id": "c4c859e8-355b-427e-bebc-03b321bd25c4",
   "metadata": {},
   "outputs": [
    {
     "data": {
      "text/html": [
       "<div>\n",
       "<style scoped>\n",
       "    .dataframe tbody tr th:only-of-type {\n",
       "        vertical-align: middle;\n",
       "    }\n",
       "\n",
       "    .dataframe tbody tr th {\n",
       "        vertical-align: top;\n",
       "    }\n",
       "\n",
       "    .dataframe thead th {\n",
       "        text-align: right;\n",
       "    }\n",
       "</style>\n",
       "<table border=\"1\" class=\"dataframe\">\n",
       "  <thead>\n",
       "    <tr style=\"text-align: right;\">\n",
       "      <th></th>\n",
       "      <th>SomeVariable</th>\n",
       "      <th>OneMoreVariable</th>\n",
       "      <th>SomeCategoricalVariable</th>\n",
       "    </tr>\n",
       "  </thead>\n",
       "  <tbody>\n",
       "    <tr>\n",
       "      <th>0</th>\n",
       "      <td>1.0</td>\n",
       "      <td>12.0</td>\n",
       "      <td>Biba</td>\n",
       "    </tr>\n",
       "    <tr>\n",
       "      <th>1</th>\n",
       "      <td>2.0</td>\n",
       "      <td>66.0</td>\n",
       "      <td>I</td>\n",
       "    </tr>\n",
       "    <tr>\n",
       "      <th>2</th>\n",
       "      <td>4.0</td>\n",
       "      <td>12.0</td>\n",
       "      <td>Boba</td>\n",
       "    </tr>\n",
       "    <tr>\n",
       "      <th>3</th>\n",
       "      <td>5.0</td>\n",
       "      <td>NaN</td>\n",
       "      <td>Dva</td>\n",
       "    </tr>\n",
       "    <tr>\n",
       "      <th>4</th>\n",
       "      <td>NaN</td>\n",
       "      <td>99.0</td>\n",
       "      <td>None</td>\n",
       "    </tr>\n",
       "  </tbody>\n",
       "</table>\n",
       "</div>"
      ],
      "text/plain": [
       "   SomeVariable  OneMoreVariable SomeCategoricalVariable\n",
       "0           1.0             12.0                    Biba\n",
       "1           2.0             66.0                       I\n",
       "2           4.0             12.0                    Boba\n",
       "3           5.0              NaN                     Dva\n",
       "4           NaN             99.0                    None"
      ]
     },
     "execution_count": 39,
     "metadata": {},
     "output_type": "execute_result"
    }
   ],
   "source": [
    "test_df = pd.DataFrame({\"SomeVariable\" : [1,2,4,5,None], \n",
    "                       \"OneMoreVariable\" : [12, 66, 12, None, 99], \n",
    "                       \"SomeCategoricalVariable\" : [\"Biba\", \"I\", \"Boba\", \"Dva\", None]})\n",
    "test_df"
   ]
  },
  {
   "cell_type": "code",
   "execution_count": 40,
   "id": "a51525f4-c3af-410d-9dae-266ed143c9e5",
   "metadata": {},
   "outputs": [
    {
     "data": {
      "text/html": [
       "<div>\n",
       "<style scoped>\n",
       "    .dataframe tbody tr th:only-of-type {\n",
       "        vertical-align: middle;\n",
       "    }\n",
       "\n",
       "    .dataframe tbody tr th {\n",
       "        vertical-align: top;\n",
       "    }\n",
       "\n",
       "    .dataframe thead th {\n",
       "        text-align: right;\n",
       "    }\n",
       "</style>\n",
       "<table border=\"1\" class=\"dataframe\">\n",
       "  <thead>\n",
       "    <tr style=\"text-align: right;\">\n",
       "      <th></th>\n",
       "      <th>SomeVariable</th>\n",
       "      <th>OneMoreVariable</th>\n",
       "      <th>SomeCategoricalVariable</th>\n",
       "    </tr>\n",
       "  </thead>\n",
       "  <tbody>\n",
       "    <tr>\n",
       "      <th>0</th>\n",
       "      <td>1.0</td>\n",
       "      <td>12.00</td>\n",
       "      <td>Biba</td>\n",
       "    </tr>\n",
       "    <tr>\n",
       "      <th>1</th>\n",
       "      <td>2.0</td>\n",
       "      <td>66.00</td>\n",
       "      <td>I</td>\n",
       "    </tr>\n",
       "    <tr>\n",
       "      <th>2</th>\n",
       "      <td>4.0</td>\n",
       "      <td>12.00</td>\n",
       "      <td>Boba</td>\n",
       "    </tr>\n",
       "    <tr>\n",
       "      <th>3</th>\n",
       "      <td>5.0</td>\n",
       "      <td>47.25</td>\n",
       "      <td>Dva</td>\n",
       "    </tr>\n",
       "    <tr>\n",
       "      <th>4</th>\n",
       "      <td>3.0</td>\n",
       "      <td>99.00</td>\n",
       "      <td>Grazhdanina</td>\n",
       "    </tr>\n",
       "  </tbody>\n",
       "</table>\n",
       "</div>"
      ],
      "text/plain": [
       "   SomeVariable  OneMoreVariable SomeCategoricalVariable\n",
       "0           1.0            12.00                    Biba\n",
       "1           2.0            66.00                       I\n",
       "2           4.0            12.00                    Boba\n",
       "3           5.0            47.25                     Dva\n",
       "4           3.0            99.00             Grazhdanina"
      ]
     },
     "execution_count": 40,
     "metadata": {},
     "output_type": "execute_result"
    }
   ],
   "source": [
    "obj = missing_filler_mean(test_df, \"SomeCategoricalVariable\", \"Grazhdanina\")\n",
    "obj.fit()\n",
    "obj.transform()"
   ]
  }
 ],
 "metadata": {
  "kernelspec": {
   "display_name": "Python 3",
   "language": "python",
   "name": "python3"
  },
  "language_info": {
   "codemirror_mode": {
    "name": "ipython",
    "version": 3
   },
   "file_extension": ".py",
   "mimetype": "text/x-python",
   "name": "python",
   "nbconvert_exporter": "python",
   "pygments_lexer": "ipython3",
   "version": "3.8.8"
  }
 },
 "nbformat": 4,
 "nbformat_minor": 5
}
