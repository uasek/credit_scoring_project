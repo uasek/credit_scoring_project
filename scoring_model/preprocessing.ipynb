{
 "cells": [
  {
   "cell_type": "code",
   "execution_count": 851,
   "id": "b5d8aabe-0b08-48d0-acf7-ee38a0284b11",
   "metadata": {},
   "outputs": [],
   "source": [
    "import pandas as pd\n",
    "import numpy as np\n",
    "import feature_engine.outliers \n",
    "import matplotlib.pyplot as plt\n",
    "import os\n",
    "from sklearn.impute import KNNImputer\n",
    "from feature_engine.imputation import MeanMedianImputer\n",
    "from feature_engine.imputation import CategoricalImputer\n",
    "from sklearn import datasets\n",
    "from sklearn.model_selection import train_test_split"
   ]
  },
  {
   "cell_type": "code",
   "execution_count": 1017,
   "id": "596a384e-2c1a-49bf-946b-5d675b4153ee",
   "metadata": {},
   "outputs": [],
   "source": [
    "n = 10000\n",
    "\n",
    "test_df = pd.DataFrame(dict(a=np.random.normal(loc=10,scale=1,size=n) ))"
   ]
  },
  {
   "cell_type": "markdown",
   "id": "fb1a8a7b-46f6-4976-91ee-3df8374a29b8",
   "metadata": {},
   "source": [
    "# Методы предобработки\n",
    "\n",
    "\n",
    "__Автор__: Ваня П.\n",
    "\n",
    "\n",
    "## Структура\n",
    "\n",
    "- Описание метода\n",
    "- Код\n",
    "- Тест всех модулей\n",
    "- Тест в пайплайне\n",
    "- Микровыводы\n"
   ]
  },
  {
   "cell_type": "markdown",
   "id": "aaeed6cf-61ff-4df1-94c9-8fcbe586436d",
   "metadata": {
    "tags": []
   },
   "source": [
    "# Winsorizer\n"
   ]
  },
  {
   "cell_type": "markdown",
   "id": "d57accd6-2a94-4b89-85cd-ce18f26a45be",
   "metadata": {},
   "source": [
    "- Ограничивает выборку по заданному методу и параметрам справа и/или слева, все значения, выходящие за границы, делает равными ограничению, работает только с числовыми переменными"
   ]
  },
  {
   "cell_type": "markdown",
   "id": "b2226279-9b70-4e2d-ba17-16313c1ed24d",
   "metadata": {},
   "source": [
    "### Код"
   ]
  },
  {
   "cell_type": "code",
   "execution_count": 1067,
   "id": "88c1d17c-e461-4351-b8d1-268dbb94673b",
   "metadata": {
    "tags": []
   },
   "outputs": [],
   "source": [
    "class Winsorizer():\n",
    "    \n",
    "    def __init__(self, **kwargs):\n",
    "        self.winsorizer = feature_engine.outliers.Winsorizer(**kwargs)\n",
    "        \n",
    "    def fit(self, X, y= None):\n",
    "        self.winsorizer.fit( X, y= None)\n",
    "        return self\n",
    "    \n",
    "    def transform(self, X):\n",
    "        \n",
    "        return self.winsorizer.transform(X)\n",
    "    \n",
    "    def get_params(self):\n",
    "        \n",
    "        return self.__dict__['winsorizer'].get_params()\n",
    "\n",
    "    def set_params(self, **kwargs):\n",
    "        \n",
    "        self = self.winsorizer.set_params(**kwargs)\n",
    "            \n",
    "        return self\n",
    "    "
   ]
  },
  {
   "cell_type": "code",
   "execution_count": 1068,
   "id": "be5e362a-01c2-4bcd-b193-b146c5453812",
   "metadata": {},
   "outputs": [],
   "source": [
    "wins = Winsorizer(capping_method = 'gaussian',fold = 2)\n",
    "\n",
    "wins.fit(X_train, y_train)\n",
    "X_train_t = wins.transform(X_train)\n"
   ]
  },
  {
   "cell_type": "markdown",
   "id": "dc244bd2-8e83-4835-b9be-d1524faf7cc4",
   "metadata": {},
   "source": [
    "### Проверка методов\n"
   ]
  },
  {
   "cell_type": "code",
   "execution_count": 1071,
   "id": "910ae4e3-8e12-40d1-b2b8-b105f97b0f00",
   "metadata": {},
   "outputs": [
    {
     "data": {
      "image/png": "[encoded data removed]",
      "text/plain": [
       "<Figure size 432x288 with 1 Axes>"
      ]
     },
     "metadata": {
      "needs_background": "light"
     },
     "output_type": "display_data"
    },
    {
     "data": {
      "image/png": "[encoded data removed]",
      "text/plain": [
       "<Figure size 432x288 with 1 Axes>"
      ]
     },
     "metadata": {
      "needs_background": "light"
     },
     "output_type": "display_data"
    },
    {
     "data": {
      "text/plain": [
       "{'capping_method': 'gaussian',\n",
       " 'fold': 100,\n",
       " 'missing_values': 'raise',\n",
       " 'tail': 'both',\n",
       " 'variables': None}"
      ]
     },
     "execution_count": 1071,
     "metadata": {},
     "output_type": "execute_result"
    }
   ],
   "source": [
    "wins = Winsorizer(capping_method = 'gaussian', fold = 1, tail = 'both')\n",
    "\n",
    "wins.fit(test_df)\n",
    "\n",
    "plt.hist(test_df, color='orange', ec='black', bins = 30)\n",
    "plt.title(f'Distribution of {col}')\n",
    "plt.show()\n",
    "\n",
    "wins.set_params(capping_method = 'gaussian', fold = 100, tail = 'both')\n",
    "res_df = wins.transform(test_df)\n",
    "\n",
    "plt.hist(res_df, color='orange', ec='black', bins = 30)\n",
    "plt.title(f'Distribution of {col}')\n",
    "plt.show()\n",
    "\n",
    "wins.get_params()\n"
   ]
  },
  {
   "cell_type": "markdown",
   "id": "e19dc634-6714-4fdc-84cf-1f6f5866ddef",
   "metadata": {},
   "source": [
    "### Проверка в пайплайне"
   ]
  },
  {
   "cell_type": "code",
   "execution_count": 1072,
   "id": "4783b388-bdff-4480-81fc-7d8df4f4b4c0",
   "metadata": {},
   "outputs": [
    {
     "data": {
      "image/png": "[encoded data removed]",
      "text/plain": [
       "<Figure size 432x288 with 1 Axes>"
      ]
     },
     "metadata": {
      "needs_background": "light"
     },
     "output_type": "display_data"
    },
    {
     "data": {
      "image/png": "[encoded data removed]",
      "text/plain": [
       "<Figure size 432x288 with 1 Axes>"
      ]
     },
     "metadata": {
      "needs_background": "light"
     },
     "output_type": "display_data"
    }
   ],
   "source": [
    "pipeline_wins = Pipeline(\n",
    "    [\n",
    "     ('Winsorizer' , Winsorizer(capping_method = 'gaussian', fold = 1, tail = 'both'))\n",
    "     ])\n",
    "\n",
    "pipeline_wins.fit(test_df)\n",
    "\n",
    "res_df = pipeline_wins.transform(test_df)\n",
    "\n",
    "plt.hist(test_df, color='orange', ec='black', bins = 50)\n",
    "plt.title(f'Normal distribution')\n",
    "plt.show()\n",
    "\n",
    "plt.hist(res_df, color='orange', ec='black', bins = 50)\n",
    "plt.title(f'Transformed distribution')\n",
    "plt.show()"
   ]
  },
  {
   "cell_type": "markdown",
   "id": "3b6ba560-9d43-41b2-9925-adc4529206b7",
   "metadata": {},
   "source": [
    "### Микровыводы\n",
    "- Игнорирует нечисловые переменные\n",
    "- Успешно встает в пайплайн\n",
    "- Позволяет ограничивать выборку разными способами через параметры\n",
    "- Может быть использовать для обработки выбросов"
   ]
  },
  {
   "cell_type": "markdown",
   "id": "a1b52238-212b-4e1e-8603-f79bf3afd3a3",
   "metadata": {},
   "source": [
    "# Логарифм\n",
    "\n",
    "Возвращает отлогарифмированный датасет по основанию 10 или exp.\n",
    "\n",
    "### Код"
   ]
  },
  {
   "cell_type": "code",
   "execution_count": 1042,
   "id": "74dbf2c7-65ad-45bd-a1b6-66c446ea88f3",
   "metadata": {},
   "outputs": [],
   "source": [
    "import feature_engine.transformation\n",
    "    \n",
    "class LogTransformer():\n",
    "    \n",
    "    def __init__(self, base = '10'):\n",
    "        self.LogTransformer = feature_engine.transformation.LogTransformer()\n",
    "        self.LogTransformer.base = base\n",
    "        \n",
    "    def fit(self, X, y= None):\n",
    "        self.LogTransformer.fit(X, y= None)\n",
    "        return self\n",
    "\n",
    "    def transform(self, X):\n",
    "\n",
    "        return self.LogTransformer.transform(X)\n",
    "    \n",
    "    def inverse_transform(self, X):\n",
    "\n",
    "        return self.LogTransformer.inverse_transform(X)\n",
    "\n",
    "    def get_params(self):\n",
    "\n",
    "        return self.__dict__['LogTransformer'].get_params()\n",
    "\n",
    "    def set_params(self, **kwargs):\n",
    "\n",
    "        self.LogTransformer.set_params(**kwargs)\n",
    "\n",
    "        return self"
   ]
  },
  {
   "cell_type": "markdown",
   "id": "78b5d416-80ea-4d2e-9dfd-f6a66901a751",
   "metadata": {},
   "source": [
    "### Проверка методов\n"
   ]
  },
  {
   "cell_type": "code",
   "execution_count": 1043,
   "id": "58b128c6-5456-434f-9808-d188dc32890d",
   "metadata": {},
   "outputs": [
    {
     "data": {
      "image/png": "[encoded data removed]",
      "text/plain": [
       "<Figure size 432x288 with 1 Axes>"
      ]
     },
     "metadata": {
      "needs_background": "light"
     },
     "output_type": "display_data"
    },
    {
     "data": {
      "image/png": "[encoded data removed]",
      "text/plain": [
       "<Figure size 432x288 with 1 Axes>"
      ]
     },
     "metadata": {
      "needs_background": "light"
     },
     "output_type": "display_data"
    },
    {
     "name": "stdout",
     "output_type": "stream",
     "text": [
      "{'base': '10', 'variables': None}\n"
     ]
    },
    {
     "data": {
      "image/png": "[encoded data removed]",
      "text/plain": [
       "<Figure size 432x288 with 1 Axes>"
      ]
     },
     "metadata": {
      "needs_background": "light"
     },
     "output_type": "display_data"
    },
    {
     "name": "stdout",
     "output_type": "stream",
     "text": [
      "{'base': 'e', 'variables': None}\n"
     ]
    }
   ],
   "source": [
    "obj = LogTransformer()\n",
    "obj.fit(test_df)\n",
    "res_df = obj.transform(test_df)\n",
    "\n",
    "plt.hist(test_df, color='orange', ec='black', bins = 50)\n",
    "plt.title(f'Normal distribution')\n",
    "plt.show()\n",
    "\n",
    "plt.hist(res_df, color='orange', ec='black', bins = 50)\n",
    "plt.title(f'Transformed distribution with base = 10')\n",
    "plt.show()\n",
    "\n",
    "print(obj.get_params())\n",
    "\n",
    "obj.set_params(base = 'e')\n",
    "res_df = obj.transform(test_df)\n",
    "\n",
    "plt.hist(res_df, color='orange', ec='black', bins = 50)\n",
    "plt.title(f'Transformed distribution with base = e')\n",
    "plt.show()\n",
    "\n",
    "print(obj.get_params())"
   ]
  },
  {
   "cell_type": "markdown",
   "id": "189e8a17-01d5-4f5b-9930-864006494ac0",
   "metadata": {},
   "source": [
    "### Проверка в пайплайне\n"
   ]
  },
  {
   "cell_type": "code",
   "execution_count": 1044,
   "id": "68769add-ae25-4005-821d-42d4177eaab0",
   "metadata": {},
   "outputs": [
    {
     "data": {
      "image/png": "[encoded data removed]",
      "text/plain": [
       "<Figure size 432x288 with 1 Axes>"
      ]
     },
     "metadata": {
      "needs_background": "light"
     },
     "output_type": "display_data"
    },
    {
     "data": {
      "image/png": "[encoded data removed]",
      "text/plain": [
       "<Figure size 432x288 with 1 Axes>"
      ]
     },
     "metadata": {
      "needs_background": "light"
     },
     "output_type": "display_data"
    }
   ],
   "source": [
    "pipeline_log = Pipeline(\n",
    "    [\n",
    "     ('LogTransformer' , LogTransformer())\n",
    "     ])\n",
    "\n",
    "pipeline_log.fit(test_df)\n",
    "\n",
    "res_df = pipeline_log.transform(test_df)\n",
    "\n",
    "plt.hist(test_df, color='orange', ec='black', bins = 50)\n",
    "plt.title(f'Normal distribution')\n",
    "plt.show()\n",
    "\n",
    "plt.hist(res_df, color='orange', ec='black', bins = 50)\n",
    "plt.title(f'Transformed distribution')\n",
    "plt.show()"
   ]
  },
  {
   "cell_type": "markdown",
   "id": "f3f9ee4d-993e-4d72-ab7e-c608ba559f9a",
   "metadata": {},
   "source": [
    "### Микровыводы \n",
    "- Не принимает на вход выборку с отрицательными значениями\n",
    "- Принимает только числовые переменные\n",
    "- Спокойно встает в пайплайн\n"
   ]
  },
  {
   "cell_type": "markdown",
   "id": "8cc09121-5845-4ff5-9e16-f142c32715bd",
   "metadata": {},
   "source": [
    "# Степенное преобразование\n",
    "\n",
    "Возводит датасет в заданную степень или экспаненту."
   ]
  },
  {
   "cell_type": "markdown",
   "id": "951b349d-0524-451d-a341-aa5d75b01ac2",
   "metadata": {},
   "source": [
    "### Код"
   ]
  },
  {
   "cell_type": "code",
   "execution_count": 1045,
   "id": "203bbe52-50a4-4d95-b09e-00113f4b5a49",
   "metadata": {},
   "outputs": [],
   "source": [
    "import feature_engine.transformation\n",
    "    \n",
    "class PowerTransformer():\n",
    "    \n",
    "    def __init__(self, exp = 0.5):\n",
    "        self.PowerTransformer = feature_engine.transformation.PowerTransformer()\n",
    "        self.PowerTransformer.exp = exp\n",
    "        \n",
    "    def fit(self, X, y= None):\n",
    "        self.PowerTransformer.fit(X, y= None)\n",
    "        return self\n",
    "\n",
    "    def transform(self, X):\n",
    "\n",
    "        return self.PowerTransformer.transform(X)\n",
    "    \n",
    "    def inverse_transform(self, X):\n",
    "\n",
    "        return self.PowerTransformer.inverse_transform(X)\n",
    "\n",
    "    def get_params(self):\n",
    "\n",
    "        return self.__dict__['PowerTransformer'].get_params()\n",
    "\n",
    "    def set_params(self, **kwargs):\n",
    "\n",
    "        self.PowerTransformer.set_params(**kwargs)\n",
    "\n",
    "        return self"
   ]
  },
  {
   "cell_type": "markdown",
   "id": "d2c5ae18-879d-4b27-8161-f6ada4394b5e",
   "metadata": {},
   "source": [
    "###  Провека методов"
   ]
  },
  {
   "cell_type": "code",
   "execution_count": 1046,
   "id": "4692caa5-591c-48bc-afb4-9947136ed3c0",
   "metadata": {},
   "outputs": [
    {
     "data": {
      "image/png": "[encoded data removed]",
      "text/plain": [
       "<Figure size 432x288 with 1 Axes>"
      ]
     },
     "metadata": {
      "needs_background": "light"
     },
     "output_type": "display_data"
    },
    {
     "data": {
      "image/png": "[encoded data removed]",
      "text/plain": [
       "<Figure size 432x288 with 1 Axes>"
      ]
     },
     "metadata": {
      "needs_background": "light"
     },
     "output_type": "display_data"
    },
    {
     "data": {
      "text/plain": [
       "{'exp': 6, 'variables': None}"
      ]
     },
     "execution_count": 1046,
     "metadata": {},
     "output_type": "execute_result"
    }
   ],
   "source": [
    "obj = PowerTransformer()\n",
    "obj.set_params(exp = 6)\n",
    "obj.fit(test_df)\n",
    "res_df = obj.transform(test_df)\n",
    "\n",
    "plt.hist(test_df, color='orange', ec='black', bins = 50)\n",
    "plt.title(f'Normal distribution')\n",
    "plt.show()\n",
    "\n",
    "plt.hist(res_df, color='orange', ec='black', bins = 50)\n",
    "plt.title(f'Transformed distribution')\n",
    "plt.show()\n",
    "\n",
    "obj.get_params()"
   ]
  },
  {
   "cell_type": "markdown",
   "id": "1d88de02-7cca-401a-b9e0-59e211ecfd0f",
   "metadata": {},
   "source": [
    "### Проверка в пайплайне\n",
    "\n"
   ]
  },
  {
   "cell_type": "code",
   "execution_count": 1048,
   "id": "e5e0d062-64bd-4c2d-9311-9704e5d3d492",
   "metadata": {},
   "outputs": [
    {
     "data": {
      "image/png": "[encoded data removed]",
      "text/plain": [
       "<Figure size 432x288 with 1 Axes>"
      ]
     },
     "metadata": {
      "needs_background": "light"
     },
     "output_type": "display_data"
    },
    {
     "data": {
      "image/png": "[encoded data removed]",
      "text/plain": [
       "<Figure size 432x288 with 1 Axes>"
      ]
     },
     "metadata": {
      "needs_background": "light"
     },
     "output_type": "display_data"
    }
   ],
   "source": [
    "pipeline_log = Pipeline(\n",
    "    [\n",
    "     ('PowerTransformer' , PowerTransformer(exp = 6))\n",
    "     ])\n",
    "\n",
    "pipeline_log.fit(test_df)\n",
    "\n",
    "res_df = pipeline_log.transform(test_df)\n",
    "\n",
    "plt.hist(test_df, color='orange', ec='black', bins = 50)\n",
    "plt.title(f'Normal distribution')\n",
    "plt.show()\n",
    "\n",
    "plt.hist(res_df, color='orange', ec='black', bins = 50)\n",
    "plt.title(f'Transformed distribution')\n",
    "plt.show()"
   ]
  },
  {
   "cell_type": "markdown",
   "id": "d31e9dbc-4011-4d37-8a62-9a746e736fab",
   "metadata": {},
   "source": [
    "### Микровыводы"
   ]
  },
  {
   "cell_type": "markdown",
   "id": "8489f004-8a53-4b18-87a9-b47cbc2ab740",
   "metadata": {},
   "source": [
    "- Не принимает на вход отрицательные значения\n",
    "- Принимает только числовые переменные\n",
    "- Успешно встраивается в пайплайн"
   ]
  },
  {
   "cell_type": "markdown",
   "id": "3058b33b-c2eb-4626-8dd4-6068dbf10128",
   "metadata": {},
   "source": [
    "# BoxCoxTransformer\n",
    "\n",
    "The BoxCoxTransformer() applies the BoxCox transformation to numerical variables.\n",
    "\n",
    "The Box-Cox transformation is defined as:\n",
    "\n",
    "$$T(Y)=\\dfrac{Y \\exp(λ)−1}{λ} \\;\\; \\text{if} \\;\\; λ!=0$$\n",
    "\n",
    "$$log(Y) \\;\\; \\text{otherwise}$$"
   ]
  },
  {
   "cell_type": "markdown",
   "id": "60b0e5b7-f800-4b8a-bade-fa36c44f277c",
   "metadata": {},
   "source": [
    "### Код"
   ]
  },
  {
   "cell_type": "code",
   "execution_count": 1049,
   "id": "77928dc8-4485-4dae-9db6-63fdd09ff0dd",
   "metadata": {},
   "outputs": [],
   "source": [
    "class BoxCoxTransformer():\n",
    "    \n",
    "    def __init__(self, exp = 0.5):\n",
    "        self.BoxCoxTransformer = feature_engine.transformation.BoxCoxTransformer()\n",
    "        #self.BoxCoxTransformer.exp = exp\n",
    "        \n",
    "    def fit(self, X, y= None):\n",
    "        self.BoxCoxTransformer.fit(X, y= None)\n",
    "        return self\n",
    "\n",
    "    def transform(self, X):\n",
    "\n",
    "        return self.BoxCoxTransformer.transform(X)\n",
    "\n",
    "    def get_params(self):\n",
    "\n",
    "        return self.__dict__['BoxCoxTransformer'].get_params()\n",
    "\n",
    "    def set_params(self, **kwargs):\n",
    "\n",
    "        self.BoxCoxTransformer.set_params(**kwargs)\n",
    "\n",
    "        return self\n",
    "    "
   ]
  },
  {
   "cell_type": "markdown",
   "id": "714b2fc7-b7d6-4874-a305-81e2196c2f94",
   "metadata": {},
   "source": [
    "### Проверка методов"
   ]
  },
  {
   "cell_type": "code",
   "execution_count": 1050,
   "id": "0bb008eb-8fd0-4ed6-a7c1-c99a209da429",
   "metadata": {},
   "outputs": [
    {
     "data": {
      "image/png": "[encoded data removed]",
      "text/plain": [
       "<Figure size 432x288 with 1 Axes>"
      ]
     },
     "metadata": {
      "needs_background": "light"
     },
     "output_type": "display_data"
    },
    {
     "data": {
      "image/png": "[encoded data removed]",
      "text/plain": [
       "<Figure size 432x288 with 1 Axes>"
      ]
     },
     "metadata": {
      "needs_background": "light"
     },
     "output_type": "display_data"
    },
    {
     "data": {
      "text/plain": [
       "{'variables': None}"
      ]
     },
     "execution_count": 1050,
     "metadata": {},
     "output_type": "execute_result"
    }
   ],
   "source": [
    "obj = BoxCoxTransformer()\n",
    "obj.fit(test_df)\n",
    "\n",
    "res_df = obj.transform(test_df)\n",
    "\n",
    "plt.hist(test_df, color='orange', ec='black', bins = 50)\n",
    "plt.title(f'Normal distribution')\n",
    "plt.show()\n",
    "\n",
    "plt.hist(res_df, color='orange', ec='black', bins = 50)\n",
    "plt.title(f'Transformed distribution')\n",
    "plt.show()\n",
    "\n",
    "obj.get_params()\n"
   ]
  },
  {
   "cell_type": "markdown",
   "id": "699c909f-63b9-4ffd-9f47-1e97688bca2c",
   "metadata": {},
   "source": [
    "### Проверка в пайплайне"
   ]
  },
  {
   "cell_type": "code",
   "execution_count": 1051,
   "id": "e9e170f9-bea0-4afb-9a26-af1018b51865",
   "metadata": {},
   "outputs": [
    {
     "data": {
      "image/png": "[encoded data removed]",
      "text/plain": [
       "<Figure size 432x288 with 1 Axes>"
      ]
     },
     "metadata": {
      "needs_background": "light"
     },
     "output_type": "display_data"
    },
    {
     "data": {
      "image/png": "[encoded data removed]",
      "text/plain": [
       "<Figure size 432x288 with 1 Axes>"
      ]
     },
     "metadata": {
      "needs_background": "light"
     },
     "output_type": "display_data"
    }
   ],
   "source": [
    "pipeline_4 = Pipeline(\n",
    "    [\n",
    "     ('BoxCoxTransformer' , BoxCoxTransformer())\n",
    "     ])\n",
    "\n",
    "pipeline_4.fit(test_df, test_df)\n",
    "res_df = pipeline_4.transform(test_df)\n",
    "\n",
    "plt.hist(test_df, color='orange', ec='black', bins = 50)\n",
    "plt.title(f'Normal distribution')\n",
    "plt.show()\n",
    "\n",
    "plt.hist(res_df, color='orange', ec='black', bins = 50)\n",
    "plt.title(f'Transformed distribution')\n",
    "plt.show()\n"
   ]
  },
  {
   "cell_type": "markdown",
   "id": "e723f62e-a334-4334-837b-6bc20f203b17",
   "metadata": {},
   "source": [
    "### Микровыводы:\n",
    "- Успешно встраивается в пайплайн"
   ]
  },
  {
   "cell_type": "markdown",
   "id": "35d96f38-6102-4c0e-a721-b8a0c49c65fc",
   "metadata": {},
   "source": [
    "# YeoJohnsonTransformer"
   ]
  },
  {
   "cell_type": "markdown",
   "id": "a52777c6-06b5-448d-bd70-9cb43b0bc404",
   "metadata": {},
   "source": [
    "### Код"
   ]
  },
  {
   "cell_type": "code",
   "execution_count": 1063,
   "id": "4ed29ed1-5819-4c30-8bdd-f0b50e21df03",
   "metadata": {},
   "outputs": [],
   "source": [
    "class YeoJohnsonTransformer():\n",
    "    \n",
    "    \n",
    "    def __init__(self, exp = 0.5):\n",
    "        self.YeoJohnsonTransformer = feature_engine.transformation.YeoJohnsonTransformer()\n",
    "        #self.BoxCoxTransformer.exp = exp\n",
    "        \n",
    "    def fit(self, X, y= None):\n",
    "        self.YeoJohnsonTransformer.fit(X, y= None)\n",
    "        return self\n",
    "\n",
    "    def transform(self, X):\n",
    "\n",
    "        return self.YeoJohnsonTransformer.transform(X)\n",
    "\n",
    "    def get_params(self):\n",
    "\n",
    "        return self.__dict__['YeoJohnsonTransformer'].get_params()\n",
    "\n",
    "    def set_params(self, **kwargs):\n",
    "\n",
    "        self.YeoJohnsonTransformer.set_params(**kwargs)\n",
    "\n",
    "        return self\n"
   ]
  },
  {
   "cell_type": "markdown",
   "id": "83008789-674b-4dfc-a5ae-e66e58e26b93",
   "metadata": {},
   "source": [
    "### Проверка методов"
   ]
  },
  {
   "cell_type": "code",
   "execution_count": 1064,
   "id": "79cbfb28-89c0-4b84-9efd-9192358e28be",
   "metadata": {},
   "outputs": [
    {
     "data": {
      "image/png": "[encoded data removed]",
      "text/plain": [
       "<Figure size 432x288 with 1 Axes>"
      ]
     },
     "metadata": {
      "needs_background": "light"
     },
     "output_type": "display_data"
    },
    {
     "data": {
      "image/png": "[encoded data removed]",
      "text/plain": [
       "<Figure size 432x288 with 1 Axes>"
      ]
     },
     "metadata": {
      "needs_background": "light"
     },
     "output_type": "display_data"
    },
    {
     "data": {
      "text/plain": [
       "{'variables': None}"
      ]
     },
     "execution_count": 1064,
     "metadata": {},
     "output_type": "execute_result"
    }
   ],
   "source": [
    "obj = YeoJohnsonTransformer()\n",
    "\n",
    "obj.fit(test_df)\n",
    "res_df = obj.transform(test_df)\n",
    "\n",
    "plt.hist(test_df, color='orange', ec='black', bins = 50)\n",
    "plt.title(f'Normal distribution')\n",
    "plt.show()\n",
    "\n",
    "plt.hist(res_df, color='orange', ec='black', bins = 50)\n",
    "plt.title(f'Transformed distribution')\n",
    "plt.show()\n",
    "\n",
    "obj.get_params()"
   ]
  },
  {
   "cell_type": "markdown",
   "id": "c49a61bd-9814-45fa-99fe-b0572386dd5e",
   "metadata": {},
   "source": [
    "### Проверка в пайплайне"
   ]
  },
  {
   "cell_type": "code",
   "execution_count": 1066,
   "id": "9599e1ba-9e3a-4044-9368-8f36b41423e7",
   "metadata": {},
   "outputs": [
    {
     "data": {
      "image/png": "[encoded data removed]",
      "text/plain": [
       "<Figure size 432x288 with 1 Axes>"
      ]
     },
     "metadata": {
      "needs_background": "light"
     },
     "output_type": "display_data"
    },
    {
     "data": {
      "image/png": "[encoded data removed]",
      "text/plain": [
       "<Figure size 432x288 with 1 Axes>"
      ]
     },
     "metadata": {
      "needs_background": "light"
     },
     "output_type": "display_data"
    }
   ],
   "source": [
    "pipeline_5 = Pipeline(\n",
    "    [\n",
    "     ('YeoJohnsonTransformer' , YeoJohnsonTransformer())\n",
    "     ])\n",
    "\n",
    "pipeline_5.fit(test_df, test_df)\n",
    "\n",
    "\n",
    "plt.hist(test_df, color='orange', ec='black', bins = 50)\n",
    "plt.title(f'Normal distribution')\n",
    "plt.show()\n",
    "\n",
    "plt.hist(pipeline_5.transform(test_df), color='orange', ec='black', bins = 50)\n",
    "plt.title(f'Transformed distribution')\n",
    "plt.show()"
   ]
  },
  {
   "cell_type": "markdown",
   "id": "494e44de-7410-437b-9127-384cb916e515",
   "metadata": {},
   "source": [
    "### Микровыводы\n",
    "\n",
    "- Успешно вставляется в пайплайн"
   ]
  },
  {
   "cell_type": "markdown",
   "id": "697f710b-de62-43d0-b63e-795b1de09881",
   "metadata": {},
   "source": [
    "# Выводы\n",
    "\n",
    "- Модули успешно встраиваются в пайплайн\n",
    "- Требует проверки"
   ]
  }
 ],
 "metadata": {
  "kernelspec": {
   "display_name": "Python 3",
   "language": "python",
   "name": "python3"
  },
  "language_info": {
   "codemirror_mode": {
    "name": "ipython",
    "version": 3
   },
   "file_extension": ".py",
   "mimetype": "text/x-python",
   "name": "python",
   "nbconvert_exporter": "python",
   "pygments_lexer": "ipython3",
   "version": "3.8.8"
  }
 },
 "nbformat": 4,
 "nbformat_minor": 5
}
