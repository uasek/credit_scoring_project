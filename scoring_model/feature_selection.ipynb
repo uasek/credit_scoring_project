{
 "cells": [
  {
   "cell_type": "markdown",
   "metadata": {},
   "source": [
    "😀 😃 😄 😁 😆 😅 😂 🤣 😊 😇 🙂 🙃"
   ]
  },
  {
   "cell_type": "markdown",
   "metadata": {},
   "source": [
    "**Автор:** Миша\n",
    "\n",
    "**Цель:** посмотреть, как работают и как встраиваются в пайплайн разные штуки для отбора переменных.\n",
    "\n",
    "**Библиотеки:** `feature_engine`, `mlxtend`"
   ]
  },
  {
   "cell_type": "code",
   "execution_count": 60,
   "metadata": {},
   "outputs": [],
   "source": [
    "import numpy as np\n",
    "import pandas as pd\n",
    "import matplotlib.pyplot as plt\n",
    "\n",
    "from sklearn.pipeline import Pipeline"
   ]
  },
  {
   "cell_type": "markdown",
   "metadata": {},
   "source": [
    "Будем использовать следующие модели:"
   ]
  },
  {
   "cell_type": "code",
   "execution_count": 14,
   "metadata": {},
   "outputs": [],
   "source": [
    "from sklearn.linear_model import LogisticRegression\n",
    "from xgboost import XGBClassifier"
   ]
  },
  {
   "cell_type": "markdown",
   "metadata": {},
   "source": [
    "Воспользуемся для примера первым датасетом (German)."
   ]
  },
  {
   "cell_type": "code",
   "execution_count": 6,
   "metadata": {},
   "outputs": [],
   "source": [
    "df = pd.read_csv('https://archive.ics.uci.edu/ml/machine-learning-databases/statlog/german/german.data',\n",
    "                 header = None, sep = ' ')\n",
    "\n",
    "# based on the .doc data description\n",
    "df.columns = ['cheq_acc', 'dur_t', 'cred_hist', 'purp', 'cred_amt', 'save_acc', \n",
    "              'empl_t', 'inst_to_income', 'pers_status', 'guarant_flg',\n",
    "              'residence_t', 'prop', 'age', 'inst_plan', 'house', 'n_loans',\n",
    "              'job', 'n_depend', 'tel_flg', 'foreign_flg', 'target']\n",
    "\n",
    "cat_vals = ['cheq_acc', 'cred_hist', 'purp', 'save_acc', \n",
    "            'empl_t', 'pers_status', 'guarant_flg', 'prop', \n",
    "            'inst_plan', 'house', 'job', 'tel_flg', 'foreign_flg']\n",
    "num_vals = ['dur_t', 'cred_amt', 'inst_to_income', 'residence_t', \n",
    "            'age', 'n_loans', 'n_depend']"
   ]
  },
  {
   "cell_type": "markdown",
   "metadata": {},
   "source": [
    "Применим WoE-преобразование к категориальным фичам:"
   ]
  },
  {
   "cell_type": "code",
   "execution_count": 38,
   "metadata": {},
   "outputs": [],
   "source": [
    "from feature_engine.encoding import WoEEncoder\n",
    "encoder = WoEEncoder(variables=cat_vals)\n",
    "\n",
    "X = df.drop(\"target\", axis=1)\n",
    "y = df[\"target\"] - 1\n",
    "encoder.fit(X, y)\n",
    "\n",
    "X = encoder.transform(X)"
   ]
  },
  {
   "cell_type": "markdown",
   "metadata": {},
   "source": [
    "# Greedy (backward & forward) selection"
   ]
  },
  {
   "cell_type": "markdown",
   "metadata": {},
   "source": [
    "## Как работает"
   ]
  },
  {
   "cell_type": "markdown",
   "metadata": {},
   "source": [
    "Не понял, почему в эксель-файле для greedy-selection стоит `feature_engine`: такой функциональности в нем не нашел.\n",
    "\n",
    "Нашим инструментом здесь будет `SequentialFeatureSelector`. [Гайд](http://rasbt.github.io/mlxtend/user_guide/feature_selection/SequentialFeatureSelector/#overview)."
   ]
  },
  {
   "cell_type": "code",
   "execution_count": 2,
   "metadata": {},
   "outputs": [],
   "source": [
    "from mlxtend.feature_selection import SequentialFeatureSelector"
   ]
  },
  {
   "cell_type": "markdown",
   "metadata": {},
   "source": [
    "В датасете у нас 20 фичей, хотим выбрать 5 лучших с помощью greedy-selection:"
   ]
  },
  {
   "cell_type": "code",
   "execution_count": 52,
   "metadata": {},
   "outputs": [
    {
     "name": "stderr",
     "output_type": "stream",
     "text": [
      "[Parallel(n_jobs=1)]: Using backend SequentialBackend with 1 concurrent workers.\n",
      "[Parallel(n_jobs=1)]: Done  20 out of  20 | elapsed:    0.7s finished\n",
      "Features: 1/5[Parallel(n_jobs=1)]: Using backend SequentialBackend with 1 concurrent workers.\n",
      "[Parallel(n_jobs=1)]: Done  19 out of  19 | elapsed:    0.6s finished\n",
      "[Parallel(n_jobs=1)]: Using backend SequentialBackend with 1 concurrent workers.\n",
      "[Parallel(n_jobs=1)]: Done   1 out of   1 | elapsed:    0.0s finished\n",
      "Features: 2/5[Parallel(n_jobs=1)]: Using backend SequentialBackend with 1 concurrent workers.\n",
      "[Parallel(n_jobs=1)]: Done  18 out of  18 | elapsed:    0.7s finished\n",
      "[Parallel(n_jobs=1)]: Using backend SequentialBackend with 1 concurrent workers.\n",
      "[Parallel(n_jobs=1)]: Done   2 out of   2 | elapsed:    0.0s finished\n",
      "Features: 3/5[Parallel(n_jobs=1)]: Using backend SequentialBackend with 1 concurrent workers.\n",
      "[Parallel(n_jobs=1)]: Done  17 out of  17 | elapsed:    1.2s finished\n",
      "[Parallel(n_jobs=1)]: Using backend SequentialBackend with 1 concurrent workers.\n",
      "[Parallel(n_jobs=1)]: Done   3 out of   3 | elapsed:    0.1s finished\n",
      "Features: 4/5[Parallel(n_jobs=1)]: Using backend SequentialBackend with 1 concurrent workers.\n",
      "[Parallel(n_jobs=1)]: Done  16 out of  16 | elapsed:    1.4s finished\n",
      "[Parallel(n_jobs=1)]: Using backend SequentialBackend with 1 concurrent workers.\n",
      "[Parallel(n_jobs=1)]: Done   4 out of   4 | elapsed:    0.1s finished\n",
      "Features: 5/5"
     ]
    },
    {
     "data": {
      "text/plain": [
       "SequentialFeatureSelector(estimator=LogisticRegression(max_iter=1000,\n",
       "                                                       penalty='none'),\n",
       "                          floating=True, k_features=5, verbose=1)"
      ]
     },
     "execution_count": 52,
     "metadata": {},
     "output_type": "execute_result"
    }
   ],
   "source": [
    "selection = SequentialFeatureSelector(\n",
    "    estimator=LogisticRegression(penalty=\"none\", max_iter=1000),  # базовая модель\n",
    "    k_features=5,                                                 # сколько фичей хотим в итоге\n",
    "    forward=True,                                                 # как отбираем: от нуля - forward или ото всех - backward\n",
    "    floating=True,                                                # исключаем ли переменные\n",
    "    verbose=1,\n",
    "    cv=5\n",
    ")\n",
    "\n",
    "selection.fit(X, y)"
   ]
  },
  {
   "cell_type": "markdown",
   "metadata": {},
   "source": [
    "В целом, по аргументам можно видеть все опции, которые перед нами есть. Поэтому можем рассматривать `mlxtentions` как альтернативу `feature_engine` для feature selection."
   ]
  },
  {
   "cell_type": "markdown",
   "metadata": {},
   "source": [
    "Названия отобранных фичей:"
   ]
  },
  {
   "cell_type": "code",
   "execution_count": 56,
   "metadata": {},
   "outputs": [
    {
     "data": {
      "text/plain": [
       "('cheq_acc', 'dur_t', 'cred_hist', 'save_acc', 'empl_t')"
      ]
     },
     "execution_count": 56,
     "metadata": {},
     "output_type": "execute_result"
    }
   ],
   "source": [
    "selection.k_feature_names_"
   ]
  },
  {
   "cell_type": "markdown",
   "metadata": {},
   "source": [
    "Еще может остаться вопрос - по какой метрике этот алгоритм сравнивает модели. Классификаторы - по аккураси, но можно реализовать и свою. Сделаем скоринг случайным числом! (с помощью инфы [отсюда](https://scikit-learn.org/stable/modules/generated/sklearn.metrics.make_scorer.html))."
   ]
  },
  {
   "cell_type": "code",
   "execution_count": 66,
   "metadata": {},
   "outputs": [],
   "source": [
    "from sklearn.metrics import make_scorer\n",
    "\n",
    "@make_scorer\n",
    "def random_metric(y, y_pred):\n",
    "    return np.random.rand()"
   ]
  },
  {
   "cell_type": "code",
   "execution_count": 72,
   "metadata": {},
   "outputs": [
    {
     "name": "stderr",
     "output_type": "stream",
     "text": [
      "[Parallel(n_jobs=1)]: Using backend SequentialBackend with 1 concurrent workers.\n",
      "[Parallel(n_jobs=1)]: Done  20 out of  20 | elapsed:    0.6s finished\n",
      "Features: 1/3[Parallel(n_jobs=1)]: Using backend SequentialBackend with 1 concurrent workers.\n",
      "[Parallel(n_jobs=1)]: Done  19 out of  19 | elapsed:    0.8s finished\n",
      "[Parallel(n_jobs=1)]: Using backend SequentialBackend with 1 concurrent workers.\n",
      "[Parallel(n_jobs=1)]: Done   1 out of   1 | elapsed:    0.0s finished\n",
      "Features: 2/3[Parallel(n_jobs=1)]: Using backend SequentialBackend with 1 concurrent workers.\n",
      "[Parallel(n_jobs=1)]: Done  18 out of  18 | elapsed:    1.2s finished\n",
      "[Parallel(n_jobs=1)]: Using backend SequentialBackend with 1 concurrent workers.\n",
      "[Parallel(n_jobs=1)]: Done   2 out of   2 | elapsed:    0.0s finished\n",
      "Features: 3/3"
     ]
    },
    {
     "name": "stdout",
     "output_type": "stream",
     "text": [
      "Самые крутые фичи: ('cred_hist', 'age', 'job')\n"
     ]
    }
   ],
   "source": [
    "random_selection = SequentialFeatureSelector(\n",
    "    estimator=LogisticRegression(penalty=\"none\", max_iter=1000),\n",
    "    k_features=3,                                                 \n",
    "    forward=True,                                                 \n",
    "    floating=True,                                                \n",
    "    scoring=random_metric,  # : )))\n",
    "    verbose=1,\n",
    "    cv=5\n",
    ")\n",
    "\n",
    "random_selection.fit(X, y)\n",
    "\n",
    "print(f\"Самые крутые фичи: {random_selection.k_feature_names_}\")"
   ]
  },
  {
   "cell_type": "markdown",
   "metadata": {},
   "source": [
    "## Как встроить в пайплайн"
   ]
  },
  {
   "cell_type": "markdown",
   "metadata": {},
   "source": [
    "Метод `fit` есть (выше), `transform` тоже:"
   ]
  },
  {
   "cell_type": "code",
   "execution_count": 59,
   "metadata": {},
   "outputs": [
    {
     "data": {
      "text/plain": [
       "array([[ 8.18098706e-01,  6.00000000e+00, -7.33740578e-01,\n",
       "        -7.04246074e-01, -2.35566071e-01],\n",
       "       [ 4.01391783e-01,  4.80000000e+01,  8.83186170e-02,\n",
       "         2.71357844e-01,  3.21032454e-02],\n",
       "       [-1.17626322e+00,  1.20000000e+01, -7.33740578e-01,\n",
       "         2.71357844e-01, -3.94415272e-01],\n",
       "       ...,\n",
       "       [-1.17626322e+00,  1.20000000e+01,  8.83186170e-02,\n",
       "         2.71357844e-01, -2.35566071e-01],\n",
       "       [ 8.18098706e-01,  4.50000000e+01,  8.83186170e-02,\n",
       "         2.71357844e-01,  3.21032454e-02],\n",
       "       [ 4.01391783e-01,  4.50000000e+01, -7.33740578e-01,\n",
       "         1.39551880e-01,  3.19230430e-01]])"
      ]
     },
     "execution_count": 59,
     "metadata": {},
     "output_type": "execute_result"
    }
   ],
   "source": [
    "selection.transform(X)"
   ]
  },
  {
   "cell_type": "markdown",
   "metadata": {},
   "source": [
    "Попробуем встроить в пайплайн: прикол тут еще в том, что фичи отбираются на основе бустинга, а в итоге на них учится логрег. Да, так тоже можно :)"
   ]
  },
  {
   "cell_type": "code",
   "execution_count": 102,
   "metadata": {},
   "outputs": [],
   "source": [
    "selection = SequentialFeatureSelector(\n",
    "    estimator=XGBClassifier(use_label_encoder=False, eval_metric=\"logloss\"),  \n",
    "    k_features=5,                                                  \n",
    "    forward=True,                                                  \n",
    "    floating=True,                                                \n",
    "    verbose=0,\n",
    "    cv=5\n",
    ")\n",
    "\n",
    "pipeline = Pipeline(\n",
    "    [\n",
    "        ('selection', selection),\n",
    "        ('model', LogisticRegression(penalty=\"none\", max_iter=1000))\n",
    "    ]\n",
    ")\n",
    "\n",
    "pipeline.fit(X, y);"
   ]
  },
  {
   "cell_type": "markdown",
   "metadata": {},
   "source": [
    "Что еще есть интересного по теме в `mlxtentions`:\n",
    "\n",
    "- `ColumnSelector` можно использовать как часть `GridSearch`\n",
    "- `ExhaustiveFeatureSelector` по названию все ясно :)"
   ]
  },
  {
   "cell_type": "markdown",
   "metadata": {},
   "source": [
    "# Stepwise (backward) без переобучения"
   ]
  },
  {
   "cell_type": "markdown",
   "metadata": {},
   "source": [
    "Перейдем теперь к `feature_engine`. В ноутбуке `missing_values` есть пример использования `RecursiveFeatureAddition`. Мы же рассмотрим `SelectByShuffling` -- способ отбора фичей без переобучения модели:"
   ]
  },
  {
   "cell_type": "code",
   "execution_count": 74,
   "metadata": {},
   "outputs": [],
   "source": [
    "from feature_engine.selection import SelectByShuffling"
   ]
  },
  {
   "cell_type": "markdown",
   "metadata": {},
   "source": [
    "Будем шафлить фичи и выкидывать их, если в результате аук снижается менее чем на 0.01:"
   ]
  },
  {
   "cell_type": "code",
   "execution_count": 90,
   "metadata": {},
   "outputs": [
    {
     "data": {
      "text/plain": [
       "SelectByShuffling(cv=5,\n",
       "                  estimator=LogisticRegression(max_iter=1000, penalty='none'),\n",
       "                  random_state=98, threshold=0.01,\n",
       "                  variables=['cheq_acc', 'dur_t', 'cred_hist', 'purp',\n",
       "                             'cred_amt', 'save_acc', 'empl_t', 'inst_to_income',\n",
       "                             'pers_status', 'guarant_flg', 'residence_t',\n",
       "                             'prop', 'age', 'inst_plan', 'house', 'n_loans',\n",
       "                             'job', 'n_depend', 'tel_flg', 'foreign_flg'])"
      ]
     },
     "execution_count": 90,
     "metadata": {},
     "output_type": "execute_result"
    }
   ],
   "source": [
    "selection = SelectByShuffling(\n",
    "    estimator=LogisticRegression(penalty=\"none\", max_iter=1000),\n",
    "    variables=X.columns.to_list(),                                      # можно задать подмножество\n",
    "    scoring='roc_auc',                                                  # метрика\n",
    "    threshold=0.01,                                                     # порог ее снижения\n",
    "    cv=5,\n",
    "    random_state=98\n",
    ")\n",
    "\n",
    "selection.fit(X, y)"
   ]
  },
  {
   "cell_type": "markdown",
   "metadata": {},
   "source": [
    "Итак, можно удалить 18 фичей:"
   ]
  },
  {
   "cell_type": "code",
   "execution_count": 91,
   "metadata": {},
   "outputs": [
    {
     "data": {
      "text/plain": [
       "18"
      ]
     },
     "execution_count": 91,
     "metadata": {},
     "output_type": "execute_result"
    }
   ],
   "source": [
    "len(selection.features_to_drop_)"
   ]
  },
  {
   "cell_type": "markdown",
   "metadata": {},
   "source": [
    "Метод `transform` есть, в пайплайн встанет."
   ]
  },
  {
   "cell_type": "code",
   "execution_count": 94,
   "metadata": {},
   "outputs": [
    {
     "data": {
      "text/plain": [
       "True"
      ]
     },
     "execution_count": 94,
     "metadata": {},
     "output_type": "execute_result"
    }
   ],
   "source": [
    "selection.transform is not None"
   ]
  },
  {
   "cell_type": "markdown",
   "metadata": {},
   "source": [
    "# SmartCorrelatedSelection"
   ]
  },
  {
   "cell_type": "markdown",
   "metadata": {},
   "source": [
    "Прикольная по идее штука, вся нужная инфа в [документации](https://feature-engine.readthedocs.io/en/1.1.x/selection/SmartCorrelatedSelection.html)."
   ]
  },
  {
   "cell_type": "code",
   "execution_count": 96,
   "metadata": {},
   "outputs": [],
   "source": [
    "from feature_engine.selection import SmartCorrelatedSelection"
   ]
  },
  {
   "cell_type": "markdown",
   "metadata": {},
   "source": [
    "Опять можно выбрать подмножество признаков, а вот модель уже **не нужна**!"
   ]
  },
  {
   "cell_type": "code",
   "execution_count": 97,
   "metadata": {},
   "outputs": [
    {
     "data": {
      "text/plain": [
       "SmartCorrelatedSelection(cv=5, selection_method='variance', threshold=0.3,\n",
       "                         variables=['cheq_acc', 'dur_t', 'cred_hist', 'purp',\n",
       "                                    'cred_amt', 'save_acc', 'empl_t',\n",
       "                                    'inst_to_income', 'pers_status',\n",
       "                                    'guarant_flg', 'residence_t', 'prop', 'age',\n",
       "                                    'inst_plan', 'house', 'n_loans', 'job',\n",
       "                                    'n_depend', 'tel_flg', 'foreign_flg'])"
      ]
     },
     "execution_count": 97,
     "metadata": {},
     "output_type": "execute_result"
    }
   ],
   "source": [
    "selection = SmartCorrelatedSelection(\n",
    "    variables=X.columns.to_list(),\n",
    "    method=\"pearson\",                # можно взять свою функцию\n",
    "    threshold=0.3,                   # порог корреляции\n",
    "    selection_method=\"variance\",     # из коррелирующих групп выбираем признак с наиб дисперсией\n",
    "    estimator=None,                  # понадобится для selection_method=\"model_performance\"        \n",
    "    cv=5, \n",
    ")\n",
    "\n",
    "selection.fit(X)"
   ]
  },
  {
   "cell_type": "markdown",
   "metadata": {},
   "source": [
    "Группы коррелирующих фичей:"
   ]
  },
  {
   "cell_type": "code",
   "execution_count": 98,
   "metadata": {},
   "outputs": [
    {
     "data": {
      "text/plain": [
       "[{'cred_amt', 'dur_t'},\n",
       " {'cred_hist', 'n_loans'},\n",
       " {'house', 'residence_t'},\n",
       " {'job', 'tel_flg'}]"
      ]
     },
     "execution_count": 98,
     "metadata": {},
     "output_type": "execute_result"
    }
   ],
   "source": [
    "selection.correlated_feature_sets_"
   ]
  },
  {
   "cell_type": "markdown",
   "metadata": {},
   "source": [
    "Какие нужно выкинуть:"
   ]
  },
  {
   "cell_type": "code",
   "execution_count": 100,
   "metadata": {},
   "outputs": [
    {
     "data": {
      "text/plain": [
       "['dur_t', 'cred_hist', 'house', 'tel_flg']"
      ]
     },
     "execution_count": 100,
     "metadata": {},
     "output_type": "execute_result"
    }
   ],
   "source": [
    "selection.features_to_drop_"
   ]
  },
  {
   "cell_type": "markdown",
   "metadata": {},
   "source": [
    "Встраиваем в пайплайн:"
   ]
  },
  {
   "cell_type": "code",
   "execution_count": 101,
   "metadata": {},
   "outputs": [],
   "source": [
    "pipeline = Pipeline(\n",
    "    [\n",
    "        ('selection', selection),\n",
    "        ('model', LogisticRegression(penalty=\"none\", max_iter=1000))\n",
    "    ]\n",
    ")\n",
    "\n",
    "pipeline.fit(X, y);"
   ]
  },
  {
   "cell_type": "markdown",
   "metadata": {},
   "source": [
    "Кстати, чтобы сделать предикт только для наблюдения 2, нужно пихать данные в пайплайн вот в такой странной форме)"
   ]
  },
  {
   "cell_type": "code",
   "execution_count": 130,
   "metadata": {},
   "outputs": [
    {
     "data": {
      "text/plain": [
       "array([0], dtype=int64)"
      ]
     },
     "execution_count": 130,
     "metadata": {},
     "output_type": "execute_result"
    }
   ],
   "source": [
    "pipeline.predict(X.iloc[1:2, :])"
   ]
  },
  {
   "cell_type": "markdown",
   "metadata": {},
   "source": [
    "Выводы:\n",
    "- есть прикольная библиотека `mlxtend` где реализовано greedy selection (и другие более простые алгоритмы forward- и backward- selection)\n",
    "- из `feature_engine` можно взять `SelectByShuffling` для отбора фичей без переобучения\n",
    "- в обеих библиотеках есть другие прикольные штуки, например `SmartCorrelatedSelection` из `feature_engine`, которая позволяет находить группы коррелированных (по произвольной метрике!) фичей и выбирать из каждой группы одну (на основе произвольного критерия!)."
   ]
  }
 ],
 "metadata": {
  "interpreter": {
   "hash": "cc5f70855ac006f3de45a3cc3b9e7d8d53845e50458809cb162b0174266dec97"
  },
  "kernelspec": {
   "display_name": "Python 3.8.12 64-bit ('base': conda)",
   "name": "python3"
  },
  "language_info": {
   "codemirror_mode": {
    "name": "ipython",
    "version": 3
   },
   "file_extension": ".py",
   "mimetype": "text/x-python",
   "name": "python",
   "nbconvert_exporter": "python",
   "pygments_lexer": "ipython3",
   "version": "3.8.12"
  },
  "orig_nbformat": 4
 },
 "nbformat": 4,
 "nbformat_minor": 2
}
