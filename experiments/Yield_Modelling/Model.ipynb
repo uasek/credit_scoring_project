{
 "cells": [
  {
   "cell_type": "code",
   "execution_count": 23,
   "id": "a2f6e847-b8ac-449c-a584-e34b098dd09d",
   "metadata": {},
   "outputs": [],
   "source": [
    "# path = input(\"Path to the local copy of repository:\")\n",
    "import pathlib\n",
    "import sys\n",
    "sys.path.insert(1, pathlib.Path().resolve().parents[1])\n",
    "\n",
    "from modules import pipeline as pe\n",
    "from local_modules import yield_pipeline as pipe\n",
    "from local_modules import yield_preprocessing as prep\n",
    "\n",
    "import pandas as pd\n",
    "import numpy as np\n",
    "import re\n",
    "from datetime import datetime\n",
    "from sklearn import model_selection\n",
    "from importlib import reload"
   ]
  },
  {
   "cell_type": "code",
   "execution_count": 25,
   "id": "8cc523ff-5490-4d5d-a1b2-8d11baba4e0a",
   "metadata": {},
   "outputs": [
    {
     "name": "stdin",
     "output_type": "stream",
     "text": [
      " C:\\Users\\Ivand\\Repos\\banks\\data\n"
     ]
    }
   ],
   "source": [
    "# path = \"C:\\\\Users\\\\Ivand\\\\Repos\\\\banks\\\\data\"\n",
    "path = input()"
   ]
  },
  {
   "cell_type": "code",
   "execution_count": 26,
   "id": "2e3dec87-14d7-4c13-9f44-5d3ea581b4fc",
   "metadata": {},
   "outputs": [
    {
     "name": "stdout",
     "output_type": "stream",
     "text": [
      "['NoMoodys']\n"
     ]
    }
   ],
   "source": [
    "df_banks = pd.read_csv(path + \"\\\\BanksDFPrepared.csv\")\n",
    "df_banks.drop(df_banks.columns[0], axis = 1, inplace = True)\n",
    "df_bonds = pd.read_csv(path + \"\\\\BondsPrepared.csv\")\n",
    "df_bonds.drop(df_bonds.columns[0], axis = 1, inplace = True)\n",
    "df_bonds = df_bonds.rename({\"cregnum\" : \"REGN\"}, axis = 1)\n",
    "\n",
    "\n",
    "\n",
    "df = df_bonds.merge(df_banks, how = \"left\", on = [\"REGN\", \"Year\", \"Month\"])\n",
    "df_full = df.copy()\n",
    "\n",
    "df.drop([\"ISIN\"], axis = 1, inplace = True)\n",
    "\n",
    "# df = pd.get_dummies(df, columns = [\"Moodys\", \"ExpertRA\"], drop_first = True)\n",
    "\n",
    "df = df[~df.NetIncome.isnull()]\n",
    "df.loc[df.Coupon.isnull(), \"Coupon\"] = 0\n",
    "df.loc[df.Coupon_accum.isnull(), \"Coupon_accum\"] = 0\n",
    "\n",
    "url = \"https://raw.githubusercontent.com/darkmetrics/banks/main/data/metrics.csv\"\n",
    "df_supplement = pd.read_csv(url, parse_dates=True, index_col='date')\n",
    "\n",
    "non_overlap = []\n",
    "for i in list(df_supplement.columns):\n",
    "    if i not in list(df.columns):\n",
    "        non_overlap.append(i)\n",
    "\n",
    "# non_overlap.remove(\"Moodys\")\n",
    "# non_overlap.remove(\"ExpertRA\")\n",
    "non_overlap.remove(\"DefaultIn365Days\")\n",
    "non_overlap.remove(\"DefaultIn730Days\")\n",
    "non_overlap.remove(\"DefaultIn10000Days\")\n",
    "\n",
    "non_overlap.append(\"REGN\")\n",
    "non_overlap.append(\"Year\")\n",
    "non_overlap.append(\"Month\")\n",
    "\n",
    "df_supplement = df_supplement[non_overlap]\n",
    "\n",
    "df_full = df_supplement.merge(df, on = [\"REGN\", \"Year\", \"Month\"], how = \"right\")\n",
    "\n",
    "print(prep.return_constant_columns(df_full))\n",
    "\n",
    "df = prep.return_non_constant_table(df_full)\n",
    "\n",
    "df = df.replace([-np.inf, np.inf], np.nan)\n",
    "\n",
    "df['asset_std'] = df.groupby('REGN')['Assets'].\\\n",
    "                         transform(lambda x: x.rolling(12, 1).std())\n",
    "df['loan_std'] = df.groupby('REGN')['Credits_Me'].\\\n",
    "                        transform(lambda x: x.rolling(12, 1).std())\n",
    "df['corp_loan_std'] = df.groupby('REGN')['CreditsCorporates_Me'].\\\n",
    "                             transform(lambda x: x.rolling(12, 1).std())\n",
    "\n",
    "df.Moodys = df.Moodys.map({\"Ba1\" : 1, \"Ba2\" : 2, \"Ba3\" : 3, \"Baa3\" : 4, \"B1\" : 5, \"B2\" : 6, \"B3\" : 7, \"C\" : 8, \"withdrawn\" : 9})\n",
    "df.ExpertRA = df.ExpertRA.map({\"A\" : 1, \"ruAAA\" : 1, \"ruAA\" : 1, \"ruA\" : 2, \"B\" : 2, \"ruBBB\" : 3, \"ruBB\" : 3, \"ruB\" : 3, \"C\" : 4, \"ruC\" :4, \"no\" : 5, \"withdrawn\" : 5})\n",
    "\n",
    "df = df[np.abs(df.YTM_ind.mean() - df.YTM_ind) <= df.YTM_ind.std()]\n",
    "\n",
    "X_and_y_banks = df.REGN\n",
    "X_and_y_banks = X_and_y_banks.unique()\n",
    "X_and_y_banks_test = np.random.choice(X_and_y_banks, round(len(X_and_y_banks)/5))\n",
    "\n",
    "X_and_y_test = df[(df.REGN.isin(X_and_y_banks_test))&(df.Year == 2020)]\n",
    "X_and_y_train = df[(~df.REGN.isin(X_and_y_banks_test))&(df.Year < 2020)]\n",
    "\n",
    "\n",
    "X_test = X_and_y_test.drop(['G_spread_interpolated','Indicative_price', 'YTM_ind','RF_interpolated'], axis = 1)\n",
    "X_train = X_and_y_train.drop(['G_spread_interpolated','Indicative_price', 'YTM_ind','RF_interpolated'], axis = 1)\n",
    "g_spread_test = X_and_y_test['G_spread_interpolated']\n",
    "g_spread_train = X_and_y_train['G_spread_interpolated']\n",
    "price_test = X_and_y_test['Indicative_price']\n",
    "price_train = X_and_y_train['Indicative_price']\n",
    "ytm_test = X_and_y_test['YTM_ind']\n",
    "ytm_train = X_and_y_train['YTM_ind']\n",
    "\n",
    "X_train.loc[(X_train.Callable != 0)&(X_train.Callable != 1), \"Callable\"] = 1\n",
    "X_test.loc[(X_test.Callable != 0)&(X_test.Callable != 1), \"Callable\"] = 1\n",
    "\n",
    "X_train.reset_index(inplace=True, drop=True)\n",
    "X_test.reset_index(inplace=True, drop=True)\n",
    "g_spread_test.reset_index(inplace=True, drop=True)\n",
    "g_spread_train.reset_index(inplace=True, drop=True)\n",
    "price_test.reset_index(inplace=True, drop=True)\n",
    "price_train.reset_index(inplace=True, drop=True)\n",
    "ytm_test.reset_index(inplace=True, drop=True)\n",
    "ytm_train.reset_index(inplace=True, drop=True)"
   ]
  },
  {
   "cell_type": "markdown",
   "id": "e954bae8-92e1-4203-9e5a-0a97a2e4a74e",
   "metadata": {},
   "source": [
    "#### 1. Outliers are filtered at 1 standard deviation\n",
    "#### 2. Remaining maturities not filtered\n",
    "#### 3. No preliminary averaging for year-month-rating\n"
   ]
  },
  {
   "cell_type": "code",
   "execution_count": 11,
   "id": "e8dd7e40-5b32-432c-9811-9a8315fc529e",
   "metadata": {
    "tags": []
   },
   "outputs": [],
   "source": [
    "X_train_filter1, ys_train1 = prep.outliers_filter(X_train,\n",
    "                        [g_spread_train, price_train, ytm_train], \n",
    "                        [\"G_spread_interpolated\", \"Indicative_price\", \"YTM_ind\"],\n",
    "                        \"(np.abs(X.YTM_ind.mean() - X.YTM_ind) <= X.YTM_ind.std())\")\n",
    "X_test_filter1, ys_test1 = prep.outliers_filter(X_test,\n",
    "                        [g_spread_test, price_test, ytm_test], \n",
    "                        [\"G_spread_interpolated\", \"Indicative_price\", \"YTM_ind\"],\n",
    "                        \"(np.abs(X.YTM_ind.mean() - X.YTM_ind) <= X.YTM_ind.std())\")\n"
   ]
  },
  {
   "cell_type": "markdown",
   "id": "a371f0e3-2a56-4dc6-a3f2-cf9bc8b47157",
   "metadata": {},
   "source": [
    "With standart pipeline"
   ]
  },
  {
   "cell_type": "code",
   "execution_count": 12,
   "id": "143bd3dc-a6df-43ca-a0cf-99a1a0076027",
   "metadata": {
    "tags": []
   },
   "outputs": [
    {
     "name": "stdout",
     "output_type": "stream",
     "text": [
      "gen\n",
      "here\n",
      "100%|█████████████████████████████████████████████| 100/100 [19:20<00:00, 11.60s/trial, best loss: 0.00872978046169041]\n"
     ]
    }
   ],
   "source": [
    "pe = reload(pe)\n",
    "hpoptimizer = pe.PipeHPOpt2( modules= pipe.pipe_modules, mode='kfold', n_folds = 4, seed=42, binary = False, verbose = False)\n",
    "lgb_opt1, best_params1, trials1= hpoptimizer.train(X = X_train_filter1, y = ys_train1[\"G_spread_interpolated\"], space=pipe.pipe_para, trials=pipe.Trials(), algo=pipe.tpe.suggest, max_evals=100)"
   ]
  },
  {
   "cell_type": "markdown",
   "id": "57d130f6-d62b-4818-b04e-345baea2f498",
   "metadata": {},
   "source": [
    "With sampling of banks"
   ]
  },
  {
   "cell_type": "code",
   "execution_count": 13,
   "id": "8a564fd8-9a81-4785-bbf2-125fe3a087cc",
   "metadata": {
    "tags": []
   },
   "outputs": [
    {
     "name": "stdout",
     "output_type": "stream",
     "text": [
      "41 14 1000 54\n",
      "100%|█████████████████████████████████████████████| 100/100 [47:18<00:00, 28.39s/trial, best loss: 0.01495088116726429]\n"
     ]
    }
   ],
   "source": [
    "pe = reload(pe)\n",
    "hpoptimizer = pe.PipeHPOpt3( modules= pipe.pipe_modules, folding_objects = \"REGN\", mode='objects_kfolds', n_folds = 4, seed=42, binary = False, verbose = False, minibatch_size = 2000)\n",
    "lgb_opt1, best_params1, trials1= hpoptimizer.train(X = X_train_filter1, y = ys_train1[\"G_spread_interpolated\"], space=pipe.pipe_para, trials=pipe.Trials(), algo=pipe.tpe.suggest, max_evals=100)"
   ]
  },
  {
   "cell_type": "code",
   "execution_count": 14,
   "id": "06f9966c-6348-485a-9dfb-351c18b4093d",
   "metadata": {},
   "outputs": [
    {
     "data": {
      "text/plain": [
       "0.049393037084726005"
      ]
     },
     "execution_count": 14,
     "metadata": {},
     "output_type": "execute_result"
    }
   ],
   "source": [
    "g_spread_test = lgb_opt1.predict(X_test_filter1)\n",
    "np.abs(g_spread_test - ys_test1[\"G_spread_interpolated\"]).mean()"
   ]
  },
  {
   "cell_type": "markdown",
   "id": "c685bf08-ea58-4e72-8882-583c462bd7dc",
   "metadata": {},
   "source": [
    "#### 1. Outliers are filtered at 1 standard deviation\n",
    "#### 2. Remaining maturities above 62 days\n",
    "#### 3. No preliminary averaging for year-month-rating"
   ]
  },
  {
   "cell_type": "code",
   "execution_count": 15,
   "id": "0975e45e-196a-4ee7-9842-fa8f351f45c2",
   "metadata": {},
   "outputs": [],
   "source": [
    "X_train_filter2, ys_train2 = prep.outliers_filter(X_train_filter1,\n",
    "                        ys_train1, \n",
    "                        [],\n",
    "                        \"X.Days_to_maturity >= 62\")\n",
    "X_test_filter2, ys_test2 = prep.outliers_filter(X_test_filter1,\n",
    "                        ys_test1, \n",
    "                        [],\n",
    "                        \"X.Days_to_maturity >= 62\")\n"
   ]
  },
  {
   "cell_type": "code",
   "execution_count": 16,
   "id": "f934b34c-8835-4060-b1ea-9686ce6039f6",
   "metadata": {},
   "outputs": [
    {
     "name": "stdout",
     "output_type": "stream",
     "text": [
      "gen\n",
      "here\n",
      "100%|████████████████████████████████████████████| 100/100 [30:16<00:00, 18.17s/trial, best loss: 0.008156061835572988]\n"
     ]
    }
   ],
   "source": [
    "pe = reload(pe)\n",
    "hpoptimizer = pe.PipeHPOpt2( modules= pipe.pipe_modules, mode='kfold', n_folds = 4, seed=42, binary = False, verbose = False)\n",
    "lgb_opt2, best_params2, trials2 = hpoptimizer.train(X = X_train_filter2, y = ys_train2[\"G_spread_interpolated\"], space=pipe.pipe_para, trials=pipe.Trials(), algo=pipe.tpe.suggest, max_evals=100)"
   ]
  },
  {
   "cell_type": "markdown",
   "id": "71c0f046-1eed-4f9a-b971-0cbc3f943a80",
   "metadata": {},
   "source": [
    "With standart pipeline"
   ]
  },
  {
   "cell_type": "code",
   "execution_count": 17,
   "id": "bbcfdf49-c5aa-4a15-a993-92953719ef2a",
   "metadata": {
    "tags": []
   },
   "outputs": [
    {
     "name": "stdout",
     "output_type": "stream",
     "text": [
      "41 14 1000 54\n",
      "100%|████████████████████████████████████████████| 100/100 [51:26<00:00, 30.86s/trial, best loss: 0.014257920485557423]\n"
     ]
    }
   ],
   "source": [
    "pe = reload(pe)\n",
    "hpoptimizer = pe.PipeHPOpt3( modules= pipe.pipe_modules, folding_objects = \"REGN\", mode='objects_kfolds', n_folds = 4, seed=42, binary = False, verbose = False, minibatch_size = 2000)\n",
    "lgb_opt2, best_params2, trials2= hpoptimizer.train(X = X_train_filter2, y = ys_train2[\"G_spread_interpolated\"], space=pipe.pipe_para, trials=pipe.Trials(), algo=pipe.tpe.suggest, max_evals=100)"
   ]
  },
  {
   "cell_type": "markdown",
   "id": "343e5f1d-1276-486a-9a83-98460e29251e",
   "metadata": {},
   "source": [
    "With sampling of banks"
   ]
  },
  {
   "cell_type": "code",
   "execution_count": 18,
   "id": "97b0c313-f8af-4c2f-b1de-690412790209",
   "metadata": {},
   "outputs": [
    {
     "data": {
      "text/plain": [
       "0.05378933517351708"
      ]
     },
     "execution_count": 18,
     "metadata": {},
     "output_type": "execute_result"
    }
   ],
   "source": [
    "g_spread_test = lgb_opt2.predict(X_test_filter2)\n",
    "np.abs(g_spread_test - ys_test2[\"G_spread_interpolated\"]).mean()"
   ]
  },
  {
   "cell_type": "markdown",
   "id": "9f664495-24e8-4b6d-aa88-455234db2bc8",
   "metadata": {},
   "source": [
    "#### 1. Outliers are filtered at 1 standard deviation\n",
    "#### 2. Remaining maturities above 62 days\n",
    "#### 3. Preliminary averaging for year-month-rating"
   ]
  },
  {
   "cell_type": "markdown",
   "id": "bea55531-33a1-45dd-b0ce-db3878d48719",
   "metadata": {},
   "source": [
    "With standart pipeline"
   ]
  },
  {
   "cell_type": "code",
   "execution_count": 19,
   "id": "f1ef88f2-ea63-4028-833a-c273b12098ac",
   "metadata": {},
   "outputs": [
    {
     "name": "stdout",
     "output_type": "stream",
     "text": [
      "gen\n",
      "here\n",
      "100%|████████████████████████████████████████████| 100/100 [24:24<00:00, 14.64s/trial, best loss: 0.008860110953885435]\n"
     ]
    }
   ],
   "source": [
    "pe = reload(pe)\n",
    "pipe = reload(pipe)\n",
    "hpoptimizer = pe.PipeHPOpt2( modules= pipe.pipe_modules, mode='kfold', n_folds = 4, seed=42, binary = False, verbose = False)\n",
    "lgb_opt3, best_params3, trials3 = hpoptimizer.train(X = X_train_filter2, y = ys_train2[\"G_spread_interpolated\"], space=pipe.pipe_para_averager, trials=pipe.Trials(), algo=pipe.tpe.suggest, max_evals=100)"
   ]
  },
  {
   "cell_type": "markdown",
   "id": "b2c58a98-1c3e-4f08-8a80-047e1cf434f8",
   "metadata": {},
   "source": [
    "With sampling of banks"
   ]
  },
  {
   "cell_type": "code",
   "execution_count": 20,
   "id": "5f55fc97-07b5-4686-871c-f2a41ae65465",
   "metadata": {},
   "outputs": [
    {
     "name": "stdout",
     "output_type": "stream",
     "text": [
      "41 14 1000 54\n",
      "100%|███████████████████████████████████████████| 100/100 [1:00:40<00:00, 36.40s/trial, best loss: 0.01406088295618157]\n"
     ]
    }
   ],
   "source": [
    "pe = reload(pe)\n",
    "pipe = reload(pipe)\n",
    "hpoptimizer = pe.PipeHPOpt3( modules= pipe.pipe_modules, folding_objects = \"REGN\", mode='objects_kfolds', n_folds = 4, seed=42, binary = False, verbose = False, minibatch_size = 2000)\n",
    "lgb_opt3, best_params3, trials3= hpoptimizer.train(X = X_train_filter2, y = ys_train2[\"G_spread_interpolated\"], space=pipe.pipe_para_averager, trials=pipe.Trials(), algo=pipe.tpe.suggest, max_evals=100)"
   ]
  },
  {
   "cell_type": "code",
   "execution_count": 21,
   "id": "fd867cc3-eb7e-45f6-9002-4967e0f6b5d5",
   "metadata": {},
   "outputs": [
    {
     "data": {
      "text/plain": [
       "0.04647981932716634"
      ]
     },
     "execution_count": 21,
     "metadata": {},
     "output_type": "execute_result"
    }
   ],
   "source": [
    "g_spread_test = lgb_opt3.predict(X_test_filter2)\n",
    "np.abs(g_spread_test - ys_test2[\"G_spread_interpolated\"]).mean()"
   ]
  },
  {
   "cell_type": "code",
   "execution_count": 22,
   "id": "7cc18e81-cb17-4aaf-ab8c-9a52c1bfe747",
   "metadata": {},
   "outputs": [
    {
     "data": {
      "text/plain": [
       "Pipeline(steps=[('IndexReseter',\n",
       "                 <modules.yield_pipeline.IndexReseter object at 0x0000023EBCD2D820>),\n",
       "                ('Averagermod',\n",
       "                 <modules.yield_pipeline.averager object at 0x0000023EBE3EF5E0>),\n",
       "                ('MeanImp', MeanMedianImputer(imputation_method='mean')),\n",
       "                ('catboost',\n",
       "                 <catboost.core.CatBoostRegressor object at 0x0000023EBE522E20>)])"
      ]
     },
     "execution_count": 22,
     "metadata": {},
     "output_type": "execute_result"
    }
   ],
   "source": [
    "lgb_opt3"
   ]
  },
  {
   "cell_type": "markdown",
   "id": "7f3b2cc7-db17-4dcf-b170-883bf2b41345",
   "metadata": {},
   "source": [
    "### Predicting price"
   ]
  },
  {
   "cell_type": "raw",
   "id": "59e2ef24-d891-4e68-8ece-9b1b02e43015",
   "metadata": {},
   "source": [
    "nanprice = ys_train2[\"Indicative_price\"][~(ys_train2[\"Indicative_price\"] != ys_train2[\"Indicative_price\"])].index\n",
    "X_train_price = X_train_filter2.loc[nanprice]\n",
    "nanprice = ys_test2[\"Indicative_price\"][~(ys_test2[\"Indicative_price\"] != ys_test2[\"Indicative_price\"])].index\n",
    "X_test_price = X_test_filter2.loc[nanprice]\n"
   ]
  },
  {
   "cell_type": "raw",
   "id": "6df194b4-93a5-473e-8cf6-9cfcff56a3fc",
   "metadata": {},
   "source": [
    "pe = reload(pe)\n",
    "pipe = reload(pipe)\n",
    "hpoptimizer = pe.PipeHPOpt3( modules= pipe.pipe_modules, folding_objects = \"REGN\", mode='objects_kfolds', n_folds = 4, seed=42, binary = False, verbose = False, minibatch_size = 2000)\n",
    "lgb_opt_price, best_params_price, trials_price = hpoptimizer.train(X = X_train_price, y = ys_train2[\"Indicative_price\"], space=pipe.pipe_para_averager, trials=pipe.Trials(), algo=pipe.tpe.suggest, max_evals=100)"
   ]
  },
  {
   "cell_type": "markdown",
   "id": "92431939-a2ee-4a8d-a3ae-1fef858958e8",
   "metadata": {},
   "source": [
    "## Debug"
   ]
  },
  {
   "cell_type": "code",
   "execution_count": null,
   "id": "91bdf174-0094-40e5-b061-61acac5f13fd",
   "metadata": {},
   "outputs": [],
   "source": [
    "X1 = pe.fallen_data[0]\n",
    "pe.fallen_pipeline[0].fit(X1)\n",
    "X2 = pe.fallen_pipeline[0].transform(X1)\n",
    "pe.fallen_pipeline[1].fit(X2)\n",
    "X3 = pe.fallen_pipeline[1].transform(X2)\n",
    "pe.fallen_pipeline[2].fit(X3, pe.fallen_data[1])\n",
    "X4 = pe.fallen_pipeline[2].transform(X3)\n",
    "pe.fallen_pipeline[3].fit(X4)\n",
    "X5 = pe.fallen_pipeline[3].transform(X4)\n",
    "pe.fallen_pipeline[4].fit(X5)\n",
    "X6 = pe.fallen_pipeline[4].transform(X5)\n",
    "\n",
    "Xt1 = pe.fallen_test\n",
    "Xt2 = pe.fallen_pipeline[0].transform(Xt1)\n",
    "Xt3 = pe.fallen_pipeline[1].transform(Xt2)\n",
    "Xt4 = pe.fallen_pipeline[2].transform(Xt3)\n",
    "Xt5 = pe.fallen_pipeline[3].transform(Xt4)\n",
    "Xt6 = pe.fallen_pipeline[4].transform(Xt5)"
   ]
  },
  {
   "cell_type": "code",
   "execution_count": null,
   "id": "b6de0a1d-7af2-4005-8a68-b426afe6d2a2",
   "metadata": {
    "tags": []
   },
   "outputs": [],
   "source": [
    "from importlib import reload\n",
    "pe = reload(pe)\n",
    "hpoptimizer = pe.PipeHPOpt3( modules= pipe.pipe_modules, folding_objects = 'REGN', mode='objects_kfolds', n_folds = 4, seed=42, binary = False, verbose = False, minibatch_size = 3000)\n",
    "lgb_opt1, best_params1, trials1= hpoptimizer.train(X = X_train, y = g_spread_train, space=pipe.pipe_para, trials=pipe.Trials(), algo=pipe.tpe.suggest, max_evals=100)"
   ]
  }
 ],
 "metadata": {
  "kernelspec": {
   "display_name": "Python 3",
   "language": "python",
   "name": "python3"
  },
  "language_info": {
   "codemirror_mode": {
    "name": "ipython",
    "version": 3
   },
   "file_extension": ".py",
   "mimetype": "text/x-python",
   "name": "python",
   "nbconvert_exporter": "python",
   "pygments_lexer": "ipython3",
   "version": "3.8.8"
  }
 },
 "nbformat": 4,
 "nbformat_minor": 5
}
