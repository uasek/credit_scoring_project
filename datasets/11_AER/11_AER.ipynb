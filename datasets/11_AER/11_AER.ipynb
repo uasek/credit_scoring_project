{
 "cells": [
  {
   "cell_type": "markdown",
   "id": "d3a250cc",
   "metadata": {},
   "source": [
    " ## 0. Подгрузка модулей"
   ]
  },
  {
   "cell_type": "code",
   "execution_count": 1,
   "id": "5cee9390",
   "metadata": {},
   "outputs": [],
   "source": [
    "import time\n",
    "import os\n",
    "import json\n",
    "import numpy as np\n",
    "import pandas as pd\n",
    "import matplotlib.pyplot as plt\n",
    "\n",
    "from sklearn.model_selection import train_test_split"
   ]
  },
  {
   "cell_type": "markdown",
   "id": "72d87908",
   "metadata": {},
   "source": [
    "# AER dataset\n",
    "\n",
    "[Ссылка на скачивание](https://www.kaggle.com/dansbecker/aer-credit-card-data)\n",
    "\n",
    "Таблица содержит информацию о выдаче карты клиенту. \n"
   ]
  },
  {
   "cell_type": "markdown",
   "id": "5ed98795",
   "metadata": {},
   "source": [
    " ## 1.1. Подгрузка данных"
   ]
  },
  {
   "cell_type": "code",
   "execution_count": 3,
   "id": "3ea9d5e1",
   "metadata": {
    "scrolled": true
   },
   "outputs": [
    {
     "data": {
      "text/html": [
       "<div>\n",
       "<style scoped>\n",
       "    .dataframe tbody tr th:only-of-type {\n",
       "        vertical-align: middle;\n",
       "    }\n",
       "\n",
       "    .dataframe tbody tr th {\n",
       "        vertical-align: top;\n",
       "    }\n",
       "\n",
       "    .dataframe thead th {\n",
       "        text-align: right;\n",
       "    }\n",
       "</style>\n",
       "<table border=\"1\" class=\"dataframe\">\n",
       "  <thead>\n",
       "    <tr style=\"text-align: right;\">\n",
       "      <th></th>\n",
       "      <th>target</th>\n",
       "      <th>reports</th>\n",
       "      <th>age</th>\n",
       "      <th>income</th>\n",
       "      <th>share</th>\n",
       "      <th>expenditure</th>\n",
       "      <th>owner</th>\n",
       "      <th>selfemp</th>\n",
       "      <th>dependents</th>\n",
       "      <th>months</th>\n",
       "      <th>majorcards</th>\n",
       "      <th>active</th>\n",
       "    </tr>\n",
       "  </thead>\n",
       "  <tbody>\n",
       "    <tr>\n",
       "      <th>0</th>\n",
       "      <td>yes</td>\n",
       "      <td>0</td>\n",
       "      <td>37.66667</td>\n",
       "      <td>4.5200</td>\n",
       "      <td>0.033270</td>\n",
       "      <td>124.983300</td>\n",
       "      <td>yes</td>\n",
       "      <td>no</td>\n",
       "      <td>3</td>\n",
       "      <td>54</td>\n",
       "      <td>1</td>\n",
       "      <td>12</td>\n",
       "    </tr>\n",
       "    <tr>\n",
       "      <th>1</th>\n",
       "      <td>yes</td>\n",
       "      <td>0</td>\n",
       "      <td>33.25000</td>\n",
       "      <td>2.4200</td>\n",
       "      <td>0.005217</td>\n",
       "      <td>9.854167</td>\n",
       "      <td>no</td>\n",
       "      <td>no</td>\n",
       "      <td>3</td>\n",
       "      <td>34</td>\n",
       "      <td>1</td>\n",
       "      <td>13</td>\n",
       "    </tr>\n",
       "    <tr>\n",
       "      <th>2</th>\n",
       "      <td>yes</td>\n",
       "      <td>0</td>\n",
       "      <td>33.66667</td>\n",
       "      <td>4.5000</td>\n",
       "      <td>0.004156</td>\n",
       "      <td>15.000000</td>\n",
       "      <td>yes</td>\n",
       "      <td>no</td>\n",
       "      <td>4</td>\n",
       "      <td>58</td>\n",
       "      <td>1</td>\n",
       "      <td>5</td>\n",
       "    </tr>\n",
       "    <tr>\n",
       "      <th>3</th>\n",
       "      <td>yes</td>\n",
       "      <td>0</td>\n",
       "      <td>30.50000</td>\n",
       "      <td>2.5400</td>\n",
       "      <td>0.065214</td>\n",
       "      <td>137.869200</td>\n",
       "      <td>no</td>\n",
       "      <td>no</td>\n",
       "      <td>0</td>\n",
       "      <td>25</td>\n",
       "      <td>1</td>\n",
       "      <td>7</td>\n",
       "    </tr>\n",
       "    <tr>\n",
       "      <th>4</th>\n",
       "      <td>yes</td>\n",
       "      <td>0</td>\n",
       "      <td>32.16667</td>\n",
       "      <td>9.7867</td>\n",
       "      <td>0.067051</td>\n",
       "      <td>546.503300</td>\n",
       "      <td>yes</td>\n",
       "      <td>no</td>\n",
       "      <td>2</td>\n",
       "      <td>64</td>\n",
       "      <td>1</td>\n",
       "      <td>5</td>\n",
       "    </tr>\n",
       "  </tbody>\n",
       "</table>\n",
       "</div>"
      ],
      "text/plain": [
       "  target  reports       age  income     share  expenditure owner selfemp  \\\n",
       "0    yes        0  37.66667  4.5200  0.033270   124.983300   yes      no   \n",
       "1    yes        0  33.25000  2.4200  0.005217     9.854167    no      no   \n",
       "2    yes        0  33.66667  4.5000  0.004156    15.000000   yes      no   \n",
       "3    yes        0  30.50000  2.5400  0.065214   137.869200    no      no   \n",
       "4    yes        0  32.16667  9.7867  0.067051   546.503300   yes      no   \n",
       "\n",
       "   dependents  months  majorcards  active  \n",
       "0           3      54           1      12  \n",
       "1           3      34           1      13  \n",
       "2           4      58           1       5  \n",
       "3           0      25           1       7  \n",
       "4           2      64           1       5  "
      ]
     },
     "execution_count": 3,
     "metadata": {},
     "output_type": "execute_result"
    }
   ],
   "source": [
    "df = pd.read_csv(\"raw_data/[11] AER_credit_card_data.csv\",\n",
    "                  sep = ',')\n",
    "\n",
    "df = df.rename(columns={'card': 'target'})\n",
    "df.head()"
   ]
  },
  {
   "cell_type": "markdown",
   "id": "a8cec528",
   "metadata": {},
   "source": [
    "## 1.2.  Предобработка данных"
   ]
  },
  {
   "cell_type": "markdown",
   "id": "fc573dfe",
   "metadata": {},
   "source": [
    "Булевые переменные записываем в числовом формате. Целевой фактор обрабатываем отдельно и инверсионно, так как для нас число 1 означает дефолт и наоборот."
   ]
  },
  {
   "cell_type": "code",
   "execution_count": 4,
   "id": "d4ad6041",
   "metadata": {},
   "outputs": [],
   "source": [
    "df[df.columns[0]] = df[df.columns[0]].replace('yes', 0)\n",
    "df[df.columns[0]] = df[df.columns[0]].replace('no', 1)\n",
    "for item in df.columns[1:]:\n",
    "    df[item] = df[item].replace('yes', 1)\n",
    "    df[item] = df[item].replace('no', 0)"
   ]
  },
  {
   "cell_type": "code",
   "execution_count": 5,
   "id": "a5377194",
   "metadata": {},
   "outputs": [
    {
     "data": {
      "text/html": [
       "<div>\n",
       "<style scoped>\n",
       "    .dataframe tbody tr th:only-of-type {\n",
       "        vertical-align: middle;\n",
       "    }\n",
       "\n",
       "    .dataframe tbody tr th {\n",
       "        vertical-align: top;\n",
       "    }\n",
       "\n",
       "    .dataframe thead th {\n",
       "        text-align: right;\n",
       "    }\n",
       "</style>\n",
       "<table border=\"1\" class=\"dataframe\">\n",
       "  <thead>\n",
       "    <tr style=\"text-align: right;\">\n",
       "      <th></th>\n",
       "      <th>target</th>\n",
       "      <th>reports</th>\n",
       "      <th>age</th>\n",
       "      <th>income</th>\n",
       "      <th>share</th>\n",
       "      <th>expenditure</th>\n",
       "      <th>owner</th>\n",
       "      <th>selfemp</th>\n",
       "      <th>dependents</th>\n",
       "      <th>months</th>\n",
       "      <th>majorcards</th>\n",
       "      <th>active</th>\n",
       "    </tr>\n",
       "  </thead>\n",
       "  <tbody>\n",
       "    <tr>\n",
       "      <th>0</th>\n",
       "      <td>0</td>\n",
       "      <td>0</td>\n",
       "      <td>37.66667</td>\n",
       "      <td>4.5200</td>\n",
       "      <td>0.033270</td>\n",
       "      <td>124.983300</td>\n",
       "      <td>1</td>\n",
       "      <td>0</td>\n",
       "      <td>3</td>\n",
       "      <td>54</td>\n",
       "      <td>1</td>\n",
       "      <td>12</td>\n",
       "    </tr>\n",
       "    <tr>\n",
       "      <th>1</th>\n",
       "      <td>0</td>\n",
       "      <td>0</td>\n",
       "      <td>33.25000</td>\n",
       "      <td>2.4200</td>\n",
       "      <td>0.005217</td>\n",
       "      <td>9.854167</td>\n",
       "      <td>0</td>\n",
       "      <td>0</td>\n",
       "      <td>3</td>\n",
       "      <td>34</td>\n",
       "      <td>1</td>\n",
       "      <td>13</td>\n",
       "    </tr>\n",
       "    <tr>\n",
       "      <th>2</th>\n",
       "      <td>0</td>\n",
       "      <td>0</td>\n",
       "      <td>33.66667</td>\n",
       "      <td>4.5000</td>\n",
       "      <td>0.004156</td>\n",
       "      <td>15.000000</td>\n",
       "      <td>1</td>\n",
       "      <td>0</td>\n",
       "      <td>4</td>\n",
       "      <td>58</td>\n",
       "      <td>1</td>\n",
       "      <td>5</td>\n",
       "    </tr>\n",
       "    <tr>\n",
       "      <th>3</th>\n",
       "      <td>0</td>\n",
       "      <td>0</td>\n",
       "      <td>30.50000</td>\n",
       "      <td>2.5400</td>\n",
       "      <td>0.065214</td>\n",
       "      <td>137.869200</td>\n",
       "      <td>0</td>\n",
       "      <td>0</td>\n",
       "      <td>0</td>\n",
       "      <td>25</td>\n",
       "      <td>1</td>\n",
       "      <td>7</td>\n",
       "    </tr>\n",
       "    <tr>\n",
       "      <th>4</th>\n",
       "      <td>0</td>\n",
       "      <td>0</td>\n",
       "      <td>32.16667</td>\n",
       "      <td>9.7867</td>\n",
       "      <td>0.067051</td>\n",
       "      <td>546.503300</td>\n",
       "      <td>1</td>\n",
       "      <td>0</td>\n",
       "      <td>2</td>\n",
       "      <td>64</td>\n",
       "      <td>1</td>\n",
       "      <td>5</td>\n",
       "    </tr>\n",
       "  </tbody>\n",
       "</table>\n",
       "</div>"
      ],
      "text/plain": [
       "   target  reports       age  income     share  expenditure  owner  selfemp  \\\n",
       "0       0        0  37.66667  4.5200  0.033270   124.983300      1        0   \n",
       "1       0        0  33.25000  2.4200  0.005217     9.854167      0        0   \n",
       "2       0        0  33.66667  4.5000  0.004156    15.000000      1        0   \n",
       "3       0        0  30.50000  2.5400  0.065214   137.869200      0        0   \n",
       "4       0        0  32.16667  9.7867  0.067051   546.503300      1        0   \n",
       "\n",
       "   dependents  months  majorcards  active  \n",
       "0           3      54           1      12  \n",
       "1           3      34           1      13  \n",
       "2           4      58           1       5  \n",
       "3           0      25           1       7  \n",
       "4           2      64           1       5  "
      ]
     },
     "execution_count": 5,
     "metadata": {},
     "output_type": "execute_result"
    }
   ],
   "source": [
    "df.head()"
   ]
  },
  {
   "cell_type": "markdown",
   "id": "5118d80d",
   "metadata": {},
   "source": [
    "## 2.  Анализ факторов\n",
    "\n",
    "\n",
    "### Список факторов\n",
    "\n"
   ]
  },
  {
   "cell_type": "markdown",
   "id": "42caba5e",
   "metadata": {},
   "source": [
    "| No. | Attribute | Type | Description | Values (if qualitative)\n",
    "| -:- | --- | --- | --- | ---\n",
    "| 0 | target | binary | __0__ if application for credit card accepted, __1__ if not | - |\n",
    "| 1 | reports | numeric | Number of major derogatory reports | - |\n",
    "| 2 | age | numeric | Age n years plus twelfths of a year | - |\n",
    "| 3 | income | numeric | Yearly income (divided by 10,000) | - |\n",
    "| 4 | share | numeric | Ratio of monthly credit card expenditure to yearly income | - |\n",
    "| 5 | expenditure | numeric | Average monthly credit card expenditure | - |\n",
    "| 6 | owner | binary | 1 if owns their home, 0 if rent | - |\n",
    "| 7 | selfemp | binary | 1 if self employed, 0 if not | - |\n",
    "| 8 | dependents | numeric | 1 + number of dependents | - |\n",
    "| 9 | months | numeric | Months living at current address | - |\n",
    "| 10 | majorcards | binary | Number of major credit cards held | - |\n",
    "| 11 | active | numeric | Number of active credit accounts | - |\n",
    "\n",
    "Видим, что числовые факторы преобладают, а категориальных нет вообще."
   ]
  },
  {
   "cell_type": "markdown",
   "id": "9d058edf",
   "metadata": {},
   "source": [
    "### Разбиваем на train/test, записываем типы переменных и сохраняем."
   ]
  },
  {
   "cell_type": "code",
   "execution_count": 11,
   "id": "a5071504",
   "metadata": {},
   "outputs": [],
   "source": [
    "X = df.loc[:, df.columns != 'target']\n",
    "y = df.target\n",
    "\n",
    "X_train, X_test, y_train, y_test = train_test_split(X, y, test_size=0.3, random_state=None)\n",
    "\n",
    "X_train.reset_index(inplace=True, drop=True)\n",
    "X_test.reset_index(inplace=True, drop=True)\n",
    "y_train.reset_index(inplace=True, drop=True)\n",
    "y_test.reset_index(inplace=True, drop=True)\n",
    "\n",
    "# Save data & info ===\n",
    "# parquet is optimized for large volumes of data\n",
    "# !mkdir Users/vaneque/Desktop/L'ecole /Model risks/Data/\n",
    "X_train.to_parquet(\"samples/X_train.parquet\")\n",
    "X_test.to_parquet(\"samples/X_test.parquet\")\n",
    "# переводим pd.Series в pd.DataFrame для удобного экспорта\n",
    "pd.DataFrame(y_train).to_parquet(\"samples/y_train.parquet\")\n",
    "pd.DataFrame(y_test).to_parquet(\"samples/y_test.parquet\")\n",
    "\n",
    "# сохраняем списки категориальных и колич. переменных\n",
    "cat_vals = []\n",
    "num_vals = ['reports', 'age', 'income', 'share', 'expenditure', 'owner',\n",
    "           'selfemp', 'dependents', 'months', 'majorcards', 'active']\n",
    "\n",
    "with open(\"factors.json\", 'w') as f:\n",
    "    json.dump({'cat_vals': cat_vals, 'num_vals': num_vals}, f)"
   ]
  },
  {
   "cell_type": "markdown",
   "id": "49f69b85",
   "metadata": {},
   "source": [
    "## 3. Статистики и пропуски"
   ]
  },
  {
   "cell_type": "markdown",
   "id": "926583ca",
   "metadata": {},
   "source": [
    "### Статистики"
   ]
  },
  {
   "cell_type": "code",
   "execution_count": 12,
   "id": "b555ed74",
   "metadata": {},
   "outputs": [
    {
     "name": "stdout",
     "output_type": "stream",
     "text": [
      "Количество наблюдений: 1319\n",
      "Количество факторов: 11\n",
      "Количество целевых событий: 296\n",
      "Доля целевых событий: 22.44%\n"
     ]
    }
   ],
   "source": [
    "print(f'Количество наблюдений: {X.shape[0]}')\n",
    "print(f'Количество факторов: {X.shape[1]}')\n",
    "print(f'Количество целевых событий: {y.sum()}')\n",
    "print(f'Доля целевых событий: {np.round(y.sum() / X.shape[0] * 100, 2)}%')"
   ]
  },
  {
   "cell_type": "markdown",
   "id": "c270d4ee",
   "metadata": {},
   "source": [
    "### Пропуски\n",
    "Пропуски в данных отсутствуют."
   ]
  },
  {
   "cell_type": "code",
   "execution_count": 13,
   "id": "a099ce74",
   "metadata": {
    "scrolled": true
   },
   "outputs": [
    {
     "name": "stdout",
     "output_type": "stream",
     "text": [
      "Количество пропусков по фактору reports:\n",
      "\t0 или 0.00%\n",
      "Количество пропусков по фактору age:\n",
      "\t0 или 0.00%\n",
      "Количество пропусков по фактору income:\n",
      "\t0 или 0.00%\n",
      "Количество пропусков по фактору share:\n",
      "\t0 или 0.00%\n",
      "Количество пропусков по фактору expenditure:\n",
      "\t0 или 0.00%\n",
      "Количество пропусков по фактору owner:\n",
      "\t0 или 0.00%\n",
      "Количество пропусков по фактору selfemp:\n",
      "\t0 или 0.00%\n",
      "Количество пропусков по фактору dependents:\n",
      "\t0 или 0.00%\n",
      "Количество пропусков по фактору months:\n",
      "\t0 или 0.00%\n",
      "Количество пропусков по фактору majorcards:\n",
      "\t0 или 0.00%\n",
      "Количество пропусков по фактору active:\n",
      "\t0 или 0.00%\n"
     ]
    }
   ],
   "source": [
    "for col in X.columns:\n",
    "    print(f'Количество пропусков по фактору {col}:\\n\\t{X[col].isna().sum()} или {(X[col].isna().sum() / df.shape[0] * 100):.2f}%')"
   ]
  },
  {
   "cell_type": "markdown",
   "id": "64db7b10",
   "metadata": {},
   "source": [
    "## 4. Визуальный анализ и выбросы"
   ]
  },
  {
   "cell_type": "code",
   "execution_count": 14,
   "id": "6825188d",
   "metadata": {},
   "outputs": [
    {
     "data": {
      "image/png": "[encoded data removed]",
      "text/plain": [
       "<Figure size 432x288 with 1 Axes>"
      ]
     },
     "metadata": {
      "needs_background": "light"
     },
     "output_type": "display_data"
    },
    {
     "data": {
      "image/png": "[encoded data removed]",
      "text/plain": [
       "<Figure size 432x288 with 1 Axes>"
      ]
     },
     "metadata": {
      "needs_background": "light"
     },
     "output_type": "display_data"
    },
    {
     "data": {
      "image/png": "[encoded data removed]",
      "text/plain": [
       "<Figure size 432x288 with 1 Axes>"
      ]
     },
     "metadata": {
      "needs_background": "light"
     },
     "output_type": "display_data"
    },
    {
     "data": {
      "image/png": "[encoded data removed]",
      "text/plain": [
       "<Figure size 432x288 with 1 Axes>"
      ]
     },
     "metadata": {
      "needs_background": "light"
     },
     "output_type": "display_data"
    },
    {
     "data": {
      "image/png": "[encoded data removed]",
      "text/plain": [
       "<Figure size 432x288 with 1 Axes>"
      ]
     },
     "metadata": {
      "needs_background": "light"
     },
     "output_type": "display_data"
    },
    {
     "data": {
      "image/png": "[encoded data removed]",
      "text/plain": [
       "<Figure size 432x288 with 1 Axes>"
      ]
     },
     "metadata": {
      "needs_background": "light"
     },
     "output_type": "display_data"
    },
    {
     "data": {
      "image/png": "[encoded data removed]",
      "text/plain": [
       "<Figure size 432x288 with 1 Axes>"
      ]
     },
     "metadata": {
      "needs_background": "light"
     },
     "output_type": "display_data"
    },
    {
     "data": {
      "image/png": "[encoded data removed]",
      "text/plain": [
       "<Figure size 432x288 with 1 Axes>"
      ]
     },
     "metadata": {
      "needs_background": "light"
     },
     "output_type": "display_data"
    },
    {
     "data": {
      "image/png": "[encoded data removed]",
      "text/plain": [
       "<Figure size 432x288 with 1 Axes>"
      ]
     },
     "metadata": {
      "needs_background": "light"
     },
     "output_type": "display_data"
    },
    {
     "data": {
      "image/png": "[encoded data removed]",
      "text/plain": [
       "<Figure size 432x288 with 1 Axes>"
      ]
     },
     "metadata": {
      "needs_background": "light"
     },
     "output_type": "display_data"
    },
    {
     "data": {
      "image/png": "[encoded data removed]",
      "text/plain": [
       "<Figure size 432x288 with 1 Axes>"
      ]
     },
     "metadata": {
      "needs_background": "light"
     },
     "output_type": "display_data"
    }
   ],
   "source": [
    "for col in X.columns:\n",
    "    plt.hist(X[col], color='orange', ec='black', orientation = 'horizontal' )\n",
    "    plt.title(f'Distribution of {col}')\n",
    "    plt.show()"
   ]
  },
  {
   "cell_type": "markdown",
   "id": "b4b848a0",
   "metadata": {},
   "source": [
    "Приятный датасет, выбросов и пропусков нет, однако очень мало записей и факторов. Доля целевых событий удовлетворительна."
   ]
  }
 ],
 "metadata": {
  "kernelspec": {
   "display_name": "Python 3 (ipykernel)",
   "language": "python",
   "name": "python3"
  },
  "language_info": {
   "codemirror_mode": {
    "name": "ipython",
    "version": 3
   },
   "file_extension": ".py",
   "mimetype": "text/x-python",
   "name": "python",
   "nbconvert_exporter": "python",
   "pygments_lexer": "ipython3",
   "version": "3.9.7"
  }
 },
 "nbformat": 4,
 "nbformat_minor": 5
}
