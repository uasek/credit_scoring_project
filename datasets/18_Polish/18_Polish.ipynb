{
 "cells": [
  {
   "cell_type": "code",
   "execution_count": 1,
   "id": "f809b491-1dc0-4aee-8d7d-a32ce8dadffa",
   "metadata": {},
   "outputs": [],
   "source": [
    "import time\n",
    "import os\n",
    "import json\n",
    "import numpy as np\n",
    "import pandas as pd\n",
    "import matplotlib.pyplot as plt\n",
    "from sklearn.model_selection import train_test_split\n",
    "from scipy import stats\n",
    "from pandas.api.types import is_string_dtype\n",
    "from pandas.api.types import is_numeric_dtype\n",
    "from pprint import pprint\n",
    "import math\n",
    "from scipy.io import arff\n"
   ]
  },
  {
   "cell_type": "code",
   "execution_count": 2,
   "id": "57b39e95-5e64-47de-938f-7449b94c68f0",
   "metadata": {},
   "outputs": [],
   "source": [
    "# params\n",
    "seed = 42"
   ]
  },
  {
   "cell_type": "markdown",
   "id": "cb61c09b-5c09-4ae8-ac65-1e94eea3b53d",
   "metadata": {},
   "source": [
    "[Описание данных](https://archive.ics.uci.edu/ml/datasets/Polish+companies+bankruptcy+data#)"
   ]
  },
  {
   "cell_type": "code",
   "execution_count": 3,
   "id": "75a4d061-054b-4799-b184-ceebdcbe377a",
   "metadata": {},
   "outputs": [],
   "source": [
    "dfs = [arff.loadarff(\"./Data/\" + table_name) for table_name in os.listdir(\"./Data\")]\n",
    "dfs = [pd.DataFrame(data[0]) for data in dfs]\n",
    "\n",
    "dfs_names = [table_name.replace(\".csv\", \"\") for table_name in os.listdir(\"./Data\")]"
   ]
  },
  {
   "cell_type": "markdown",
   "id": "3484ccec-03e6-440c-8246-429ff35d12a1",
   "metadata": {},
   "source": [
    "Датасет изначально состоит из пяти таблиц. Вот какое описание дано для них в базе: \n",
    "- `1year.arff` the data contains financial rates from 1st year of the forecasting period and corresponding class label that indicates bankruptcy status after 5 years. The data contains 7027 instances (financial statements), 271 represents bankrupted companies, 6756 firms that did not bankrupt in the forecasting period.\n",
    "- `2year.arff` the data contains financial rates from 2nd year of the forecasting period and corresponding class label that indicates bankruptcy status after 4 years. The data contains 10173 instances (financial statements), 400 represents bankrupted companies, 9773 firms that did not bankrupt in the forecasting period.\n",
    "\n",
    "и так далее. Описание немного туманное. Тем не менее, по всей видимости, таблицы нельзя считать относящимися к одним и тем же entities, поэтому мы просто вертикально сложим их, создав новую переменную table_year, чтобы отличать данные из разных таблиц. "
   ]
  },
  {
   "cell_type": "code",
   "execution_count": 4,
   "id": "8443ad6e-bcdb-46d4-b97d-293249990f7f",
   "metadata": {},
   "outputs": [],
   "source": [
    "# сохранение отдельных выборок для каждого года -- AM\n",
    "for i in range(len(dfs)):\n",
    "    X = dfs[i].iloc[:, :-1]\n",
    "    y = dfs[i].iloc[:,  -1].astype(int)\n",
    "    X_train, X_test, y_train, y_test = train_test_split(X, y, test_size=0.2, random_state=seed)\n",
    "    \n",
    "    year = dfs_names[i].split('.')[0]\n",
    "    \n",
    "    X_train.reset_index(drop=True).to_parquet(f'./samples/{year}_X_train.parquet')\n",
    "    X_test.reset_index(drop=True).to_parquet(f'./samples/{year}_X_test.parquet')\n",
    "    pd.DataFrame(y_train).reset_index(drop=True).to_parquet(f'./samples/{year}_y_train.parquet')\n",
    "    pd.DataFrame(y_test).reset_index(drop=True).to_parquet(f'./samples/{year}_y_test.parquet')"
   ]
  },
  {
   "cell_type": "code",
   "execution_count": 5,
   "id": "05407fd9-d764-4664-82e1-4811c875a8f4",
   "metadata": {},
   "outputs": [],
   "source": [
    "def add_year_column(data, name):\n",
    "    data[\"table_year\"] = name.replace(\".arff\", \"\")\n",
    "    return data\n",
    "\n",
    "for df_num in range(len(dfs)):\n",
    "    dfs[df_num] = add_year_column(dfs[df_num], dfs_names[df_num])\n",
    "    \n",
    "df = pd.DataFrame(columns = dfs[0].columns)\n",
    "\n",
    "for df_num in range(len(dfs)):\n",
    "    df = df.append(dfs[df_num], ignore_index = True)"
   ]
  },
  {
   "cell_type": "code",
   "execution_count": 6,
   "id": "b2fc44e2-6084-4eb0-8191-981750e11c9f",
   "metadata": {},
   "outputs": [],
   "source": [
    "df[\"class\"] = df[\"class\"].str.decode(\"utf-8\")\n",
    "df[\"class\"] = pd.to_numeric(df['class'], errors='coerce')"
   ]
  },
  {
   "cell_type": "markdown",
   "id": "84287788-4177-45bb-8990-6a1ebeeea74a",
   "metadata": {},
   "source": [
    "### Список факторов:\n",
    "|    | Variable Name   | Description                                                                                                         | Unnamed: 2   |\n",
    "|---:|:----------------|:--------------------------------------------------------------------------------------------------------------------|:-------------|\n",
    "|  0 | Attr1           | net profit / total assets                                                                                           |              |\n",
    "|  1 | Attr2           | total liabilities / total assets                                                                                    |              |\n",
    "|  2 | Attr3           | working capital / total assets                                                                                      |              |\n",
    "|  3 | Attr4           | current assets / short-term liabilities                                                                             |              |\n",
    "|  4 | Attr5           | [(cash + short-term securities + receivables - short-term liabilities) / (operating expenses - depreciation)] * 365 |              |\n",
    "|  5 | Attr6           | retained earnings / total assets                                                                                    |              |\n",
    "|  6 | Attr7           | EBIT / total assets                                                                                                 |              |\n",
    "|  7 | Attr8           | book value of equity / total liabilities                                                                            |              |\n",
    "|  8 | Attr9           | sales / total assets                                                                                                |              |\n",
    "|  9 | Attr10          | equity / total assets                                                                                               |              |\n",
    "| 10 | Attr11          | (gross profit + extraordinary items + financial expenses) / total assets                                            |              |\n",
    "| 11 | Attr12          | gross profit / short-term liabilities                                                                               |              |\n",
    "| 12 | Attr13          | (gross profit + depreciation) / sales                                                                               |              |\n",
    "| 13 | Attr14          | (gross profit + interest) / total assets                                                                            |              |\n",
    "| 14 | Attr15          | (total liabilities * 365) / (gross profit + depreciation)                                                           |              |\n",
    "| 15 | Attr16          | (gross profit + depreciation) / total liabilities                                                                   |              |\n",
    "| 16 | Attr17          | total assets / total liabilities                                                                                    |              |\n",
    "| 17 | Attr18          | gross profit / total assets                                                                                         |              |\n",
    "| 18 | Attr19          | gross profit / sales                                                                                                |              |\n",
    "| 19 | Attr20          | (inventory * 365) / sales                                                                                           |              |\n",
    "| 20 | Attr21          | sales (n) / sales (n-1)                                                                                             |              |\n",
    "| 21 | Attr22          | profit on operating activities / total assets                                                                       |              |\n",
    "| 22 | Attr23          | net profit / sales                                                                                                  |              |\n",
    "| 23 | Attr24          | gross profit (in 3 years) / total assets                                                                            |              |\n",
    "| 24 | Attr25          | (equity - share capital) / total assets                                                                             |              |\n",
    "| 25 | Attr26          | (net profit + depreciation) / total liabilities                                                                     |              |\n",
    "| 26 | Attr27          | profit on operating activities / financial expenses                                                                 |              |\n",
    "| 27 | Attr28          | working capital / fixed assets                                                                                      |              |\n",
    "| 28 | Attr29          | logarithm of total assets                                                                                           |              |\n",
    "| 29 | Attr30          | (total liabilities - cash) / sales                                                                                  |              |\n",
    "| 30 | Attr31          | (gross profit + interest) / sales                                                                                   |              |\n",
    "| 31 | Attr32          | (current liabilities * 365) / cost of products sold                                                                 |              |\n",
    "| 32 | Attr33          | operating expenses / short-term liabilities                                                                         |              |\n",
    "| 33 | Attr34          | operating expenses / total liabilities                                                                              |              |\n",
    "| 34 | Attr35          | profit on sales / total assets                                                                                      |              |\n",
    "| 35 | Attr36          | total sales / total assets                                                                                          |              |\n",
    "| 36 | Attr37          | (current assets - inventories) / long-term liabilities                                                              |              |\n",
    "| 37 | Attr38          | constant capital / total assets                                                                                     |              |\n",
    "| 38 | Attr39          | profit on sales / sales                                                                                             |              |\n",
    "| 39 | Attr40          | (current assets - inventory - receivables) / short-term liabilities                                                 |              |\n",
    "| 40 | Attr41          | total liabilities / ((profit on operating activities + depreciation) * (12/365))                                    |              |\n",
    "| 41 | Attr42          | profit on operating activities / sales                                                                              |              |\n",
    "| 42 | Attr43          | rotation receivables + inventory turnover in days                                                                   |              |\n",
    "| 43 | Attr44          | (receivables * 365) / sales                                                                                         |              |\n",
    "| 44 | Attr45          | net profit / inventory                                                                                              |              |\n",
    "| 45 | Attr46          | (current assets - inventory) / short-term liabilities                                                               |              |\n",
    "| 46 | Attr47          | (inventory * 365) / cost of products sold                                                                           |              |\n",
    "| 47 | Attr48          | EBITDA (profit on operating activities - depreciation) / total assets                                               |              |\n",
    "| 48 | Attr49          | EBITDA (profit on operating activities - depreciation) / sales                                                      |              |\n",
    "| 49 | Attr50          | current assets / total liabilities                                                                                  |              |\n",
    "| 50 | Attr51          | short-term liabilities / total assets                                                                               |              |\n",
    "| 51 | Attr52          | (short-term liabilities * 365) / cost of products sold)                                                             |              |\n",
    "| 52 | Attr53          | equity / fixed assets                                                                                               |              |\n",
    "| 53 | Attr54          | constant capital / fixed assets                                                                                     |              |\n",
    "| 54 | Attr55          | working capital                                                                                                     |              |\n",
    "| 55 | Attr56          | (sales - cost of products sold) / sales                                                                             |              |\n",
    "| 56 | Attr57          | (current assets - inventory - short-term liabilities) / (sales - gross profit - depreciation)                       |              |\n",
    "| 57 | Attr58          | total costs /total sales                                                                                            |              |\n",
    "| 58 | Attr59          | long-term liabilities / equity                                                                                      |              |\n",
    "| 59 | Attr60          | sales / inventory                                                                                                   |              |\n",
    "| 60 | Attr61          | sales / receivables                                                                                                 |              |\n",
    "| 61 | Attr62          | (short-term liabilities *365) / sales                                                                               |              |\n",
    "| 62 | Attr63          | sales / short-term liabilities                                                                                      |              |\n",
    "| 63 | Attr64          | sales / fixed assets                                                                                                |              |"
   ]
  },
  {
   "cell_type": "code",
   "execution_count": 7,
   "id": "461e3d8b-3ad9-4b25-b24d-4308441f317a",
   "metadata": {
    "tags": []
   },
   "outputs": [
    {
     "ename": "FileNotFoundError",
     "evalue": "[Errno 2] No such file or directory: 'description.xlsx'",
     "output_type": "error",
     "traceback": [
      "\u001b[1;31m---------------------------------------------------------------------------\u001b[0m",
      "\u001b[1;31mFileNotFoundError\u001b[0m                         Traceback (most recent call last)",
      "\u001b[1;32mC:\\Users\\ANTONM~1\\AppData\\Local\\Temp/ipykernel_4056/4117312765.py\u001b[0m in \u001b[0;36m<module>\u001b[1;34m\u001b[0m\n\u001b[0;32m      1\u001b[0m \u001b[1;31m#get description of factors as tabulated markdown\u001b[0m\u001b[1;33m\u001b[0m\u001b[1;33m\u001b[0m\u001b[1;33m\u001b[0m\u001b[0m\n\u001b[1;32m----> 2\u001b[1;33m \u001b[0mdf_names\u001b[0m \u001b[1;33m=\u001b[0m \u001b[0mpd\u001b[0m\u001b[1;33m.\u001b[0m\u001b[0mread_excel\u001b[0m\u001b[1;33m(\u001b[0m\u001b[1;34m'description.xlsx'\u001b[0m\u001b[1;33m,\u001b[0m \u001b[0mheader\u001b[0m \u001b[1;33m=\u001b[0m \u001b[1;33m[\u001b[0m\u001b[1;36m0\u001b[0m\u001b[1;33m]\u001b[0m\u001b[1;33m)\u001b[0m \u001b[1;31m## сделай git add --force description.xlsx или вбей руками, плиз\u001b[0m\u001b[1;33m\u001b[0m\u001b[1;33m\u001b[0m\u001b[0m\n\u001b[0m\u001b[0;32m      3\u001b[0m \u001b[0mdf_names\u001b[0m \u001b[1;33m=\u001b[0m \u001b[0mdf_names\u001b[0m\u001b[1;33m.\u001b[0m\u001b[0mfillna\u001b[0m\u001b[1;33m(\u001b[0m\u001b[1;34m\"\"\u001b[0m\u001b[1;33m)\u001b[0m\u001b[1;33m\u001b[0m\u001b[1;33m\u001b[0m\u001b[0m\n\u001b[0;32m      4\u001b[0m \u001b[0mdf_names\u001b[0m\u001b[1;33m[\u001b[0m\u001b[1;34m\"Variable Name\"\u001b[0m\u001b[1;33m]\u001b[0m \u001b[1;33m=\u001b[0m \u001b[0mdf_names\u001b[0m\u001b[1;33m[\u001b[0m\u001b[1;34m\"Variable Name\"\u001b[0m\u001b[1;33m]\u001b[0m\u001b[1;33m.\u001b[0m\u001b[0mstr\u001b[0m\u001b[1;33m.\u001b[0m\u001b[0mreplace\u001b[0m\u001b[1;33m(\u001b[0m\u001b[1;34m\"X\"\u001b[0m\u001b[1;33m,\u001b[0m \u001b[1;34m\"Attr\"\u001b[0m\u001b[1;33m)\u001b[0m\u001b[1;33m\u001b[0m\u001b[1;33m\u001b[0m\u001b[0m\n\u001b[0;32m      5\u001b[0m \u001b[0mdf_names\u001b[0m\u001b[1;33m[\u001b[0m\u001b[1;34m\"Variable Name\"\u001b[0m\u001b[1;33m]\u001b[0m \u001b[1;33m=\u001b[0m \u001b[0mdf_names\u001b[0m\u001b[1;33m[\u001b[0m\u001b[1;34m\"Variable Name\"\u001b[0m\u001b[1;33m]\u001b[0m\u001b[1;33m.\u001b[0m\u001b[0mstr\u001b[0m\u001b[1;33m.\u001b[0m\u001b[0mreplace\u001b[0m\u001b[1;33m(\u001b[0m\u001b[1;34m\" \"\u001b[0m\u001b[1;33m,\u001b[0m \u001b[1;34m\"\"\u001b[0m\u001b[1;33m)\u001b[0m\u001b[1;33m\u001b[0m\u001b[1;33m\u001b[0m\u001b[0m\n",
      "\u001b[1;32mc:\\users\\antonmarkov\\01-studies\\01-phd\\year-3\\model-risks\\credit_scoring_project\\lib\\site-packages\\pandas\\util\\_decorators.py\u001b[0m in \u001b[0;36mwrapper\u001b[1;34m(*args, **kwargs)\u001b[0m\n\u001b[0;32m    309\u001b[0m                     \u001b[0mstacklevel\u001b[0m\u001b[1;33m=\u001b[0m\u001b[0mstacklevel\u001b[0m\u001b[1;33m,\u001b[0m\u001b[1;33m\u001b[0m\u001b[1;33m\u001b[0m\u001b[0m\n\u001b[0;32m    310\u001b[0m                 )\n\u001b[1;32m--> 311\u001b[1;33m             \u001b[1;32mreturn\u001b[0m \u001b[0mfunc\u001b[0m\u001b[1;33m(\u001b[0m\u001b[1;33m*\u001b[0m\u001b[0margs\u001b[0m\u001b[1;33m,\u001b[0m \u001b[1;33m**\u001b[0m\u001b[0mkwargs\u001b[0m\u001b[1;33m)\u001b[0m\u001b[1;33m\u001b[0m\u001b[1;33m\u001b[0m\u001b[0m\n\u001b[0m\u001b[0;32m    312\u001b[0m \u001b[1;33m\u001b[0m\u001b[0m\n\u001b[0;32m    313\u001b[0m         \u001b[1;32mreturn\u001b[0m \u001b[0mwrapper\u001b[0m\u001b[1;33m\u001b[0m\u001b[1;33m\u001b[0m\u001b[0m\n",
      "\u001b[1;32mc:\\users\\antonmarkov\\01-studies\\01-phd\\year-3\\model-risks\\credit_scoring_project\\lib\\site-packages\\pandas\\io\\excel\\_base.py\u001b[0m in \u001b[0;36mread_excel\u001b[1;34m(io, sheet_name, header, names, index_col, usecols, squeeze, dtype, engine, converters, true_values, false_values, skiprows, nrows, na_values, keep_default_na, na_filter, verbose, parse_dates, date_parser, thousands, comment, skipfooter, convert_float, mangle_dupe_cols, storage_options)\u001b[0m\n\u001b[0;32m    362\u001b[0m     \u001b[1;32mif\u001b[0m \u001b[1;32mnot\u001b[0m \u001b[0misinstance\u001b[0m\u001b[1;33m(\u001b[0m\u001b[0mio\u001b[0m\u001b[1;33m,\u001b[0m \u001b[0mExcelFile\u001b[0m\u001b[1;33m)\u001b[0m\u001b[1;33m:\u001b[0m\u001b[1;33m\u001b[0m\u001b[1;33m\u001b[0m\u001b[0m\n\u001b[0;32m    363\u001b[0m         \u001b[0mshould_close\u001b[0m \u001b[1;33m=\u001b[0m \u001b[1;32mTrue\u001b[0m\u001b[1;33m\u001b[0m\u001b[1;33m\u001b[0m\u001b[0m\n\u001b[1;32m--> 364\u001b[1;33m         \u001b[0mio\u001b[0m \u001b[1;33m=\u001b[0m \u001b[0mExcelFile\u001b[0m\u001b[1;33m(\u001b[0m\u001b[0mio\u001b[0m\u001b[1;33m,\u001b[0m \u001b[0mstorage_options\u001b[0m\u001b[1;33m=\u001b[0m\u001b[0mstorage_options\u001b[0m\u001b[1;33m,\u001b[0m \u001b[0mengine\u001b[0m\u001b[1;33m=\u001b[0m\u001b[0mengine\u001b[0m\u001b[1;33m)\u001b[0m\u001b[1;33m\u001b[0m\u001b[1;33m\u001b[0m\u001b[0m\n\u001b[0m\u001b[0;32m    365\u001b[0m     \u001b[1;32melif\u001b[0m \u001b[0mengine\u001b[0m \u001b[1;32mand\u001b[0m \u001b[0mengine\u001b[0m \u001b[1;33m!=\u001b[0m \u001b[0mio\u001b[0m\u001b[1;33m.\u001b[0m\u001b[0mengine\u001b[0m\u001b[1;33m:\u001b[0m\u001b[1;33m\u001b[0m\u001b[1;33m\u001b[0m\u001b[0m\n\u001b[0;32m    366\u001b[0m         raise ValueError(\n",
      "\u001b[1;32mc:\\users\\antonmarkov\\01-studies\\01-phd\\year-3\\model-risks\\credit_scoring_project\\lib\\site-packages\\pandas\\io\\excel\\_base.py\u001b[0m in \u001b[0;36m__init__\u001b[1;34m(self, path_or_buffer, engine, storage_options)\u001b[0m\n\u001b[0;32m   1190\u001b[0m             \u001b[1;32melse\u001b[0m\u001b[1;33m:\u001b[0m\u001b[1;33m\u001b[0m\u001b[1;33m\u001b[0m\u001b[0m\n\u001b[0;32m   1191\u001b[0m                 ext = inspect_excel_format(\n\u001b[1;32m-> 1192\u001b[1;33m                     \u001b[0mcontent_or_path\u001b[0m\u001b[1;33m=\u001b[0m\u001b[0mpath_or_buffer\u001b[0m\u001b[1;33m,\u001b[0m \u001b[0mstorage_options\u001b[0m\u001b[1;33m=\u001b[0m\u001b[0mstorage_options\u001b[0m\u001b[1;33m\u001b[0m\u001b[1;33m\u001b[0m\u001b[0m\n\u001b[0m\u001b[0;32m   1193\u001b[0m                 )\n\u001b[0;32m   1194\u001b[0m                 \u001b[1;32mif\u001b[0m \u001b[0mext\u001b[0m \u001b[1;32mis\u001b[0m \u001b[1;32mNone\u001b[0m\u001b[1;33m:\u001b[0m\u001b[1;33m\u001b[0m\u001b[1;33m\u001b[0m\u001b[0m\n",
      "\u001b[1;32mc:\\users\\antonmarkov\\01-studies\\01-phd\\year-3\\model-risks\\credit_scoring_project\\lib\\site-packages\\pandas\\io\\excel\\_base.py\u001b[0m in \u001b[0;36minspect_excel_format\u001b[1;34m(content_or_path, storage_options)\u001b[0m\n\u001b[0;32m   1069\u001b[0m \u001b[1;33m\u001b[0m\u001b[0m\n\u001b[0;32m   1070\u001b[0m     with get_handle(\n\u001b[1;32m-> 1071\u001b[1;33m         \u001b[0mcontent_or_path\u001b[0m\u001b[1;33m,\u001b[0m \u001b[1;34m\"rb\"\u001b[0m\u001b[1;33m,\u001b[0m \u001b[0mstorage_options\u001b[0m\u001b[1;33m=\u001b[0m\u001b[0mstorage_options\u001b[0m\u001b[1;33m,\u001b[0m \u001b[0mis_text\u001b[0m\u001b[1;33m=\u001b[0m\u001b[1;32mFalse\u001b[0m\u001b[1;33m\u001b[0m\u001b[1;33m\u001b[0m\u001b[0m\n\u001b[0m\u001b[0;32m   1072\u001b[0m     ) as handle:\n\u001b[0;32m   1073\u001b[0m         \u001b[0mstream\u001b[0m \u001b[1;33m=\u001b[0m \u001b[0mhandle\u001b[0m\u001b[1;33m.\u001b[0m\u001b[0mhandle\u001b[0m\u001b[1;33m\u001b[0m\u001b[1;33m\u001b[0m\u001b[0m\n",
      "\u001b[1;32mc:\\users\\antonmarkov\\01-studies\\01-phd\\year-3\\model-risks\\credit_scoring_project\\lib\\site-packages\\pandas\\io\\common.py\u001b[0m in \u001b[0;36mget_handle\u001b[1;34m(path_or_buf, mode, encoding, compression, memory_map, is_text, errors, storage_options)\u001b[0m\n\u001b[0;32m    709\u001b[0m         \u001b[1;32melse\u001b[0m\u001b[1;33m:\u001b[0m\u001b[1;33m\u001b[0m\u001b[1;33m\u001b[0m\u001b[0m\n\u001b[0;32m    710\u001b[0m             \u001b[1;31m# Binary mode\u001b[0m\u001b[1;33m\u001b[0m\u001b[1;33m\u001b[0m\u001b[1;33m\u001b[0m\u001b[0m\n\u001b[1;32m--> 711\u001b[1;33m             \u001b[0mhandle\u001b[0m \u001b[1;33m=\u001b[0m \u001b[0mopen\u001b[0m\u001b[1;33m(\u001b[0m\u001b[0mhandle\u001b[0m\u001b[1;33m,\u001b[0m \u001b[0mioargs\u001b[0m\u001b[1;33m.\u001b[0m\u001b[0mmode\u001b[0m\u001b[1;33m)\u001b[0m\u001b[1;33m\u001b[0m\u001b[1;33m\u001b[0m\u001b[0m\n\u001b[0m\u001b[0;32m    712\u001b[0m         \u001b[0mhandles\u001b[0m\u001b[1;33m.\u001b[0m\u001b[0mappend\u001b[0m\u001b[1;33m(\u001b[0m\u001b[0mhandle\u001b[0m\u001b[1;33m)\u001b[0m\u001b[1;33m\u001b[0m\u001b[1;33m\u001b[0m\u001b[0m\n\u001b[0;32m    713\u001b[0m \u001b[1;33m\u001b[0m\u001b[0m\n",
      "\u001b[1;31mFileNotFoundError\u001b[0m: [Errno 2] No such file or directory: 'description.xlsx'"
     ]
    }
   ],
   "source": [
    "#get description of factors as tabulated markdown\n",
    "df_names = pd.read_excel('description.xlsx', header = [0]) ## сделай git add --force description.xlsx или вбей руками, плиз\n",
    "df_names = df_names.fillna(\"\")\n",
    "df_names[\"Variable Name\"] = df_names[\"Variable Name\"].str.replace(\"X\", \"Attr\")\n",
    "df_names[\"Variable Name\"] = df_names[\"Variable Name\"].str.replace(\" \", \"\")\n",
    "df_names[\"Variable Name\"] = df_names[\"Variable Name\"].str.upper()\n",
    "#print(df_names.to_markdown())"
   ]
  },
  {
   "cell_type": "code",
   "execution_count": null,
   "id": "ebd49b1c-ec88-4c80-97d2-74083b3f3324",
   "metadata": {},
   "outputs": [],
   "source": [
    "df[\"class\"].value_counts().plot.barh()\n",
    "plt.title(\"Distribution of status\")\n",
    "plt.show()\n",
    "\n",
    "df[\"class\"].isnull().value_counts().plot.barh()\n",
    "plt.title(\"Number of accounts with missing default status (True for missing)\")\n",
    "plt.show()"
   ]
  },
  {
   "cell_type": "markdown",
   "id": "d152f0eb-2b07-43bd-a385-220029def2d5",
   "metadata": {},
   "source": [
    "Для единообразия нотации, создадим новую зависимую переменную target:"
   ]
  },
  {
   "cell_type": "code",
   "execution_count": null,
   "id": "0b81fa6a-c70a-46a2-a7c1-a664ff095d71",
   "metadata": {},
   "outputs": [],
   "source": [
    "df.rename(columns = {\"class\":\"target\"}, inplace = True)"
   ]
  },
  {
   "cell_type": "markdown",
   "id": "9d2086d2-ff95-4d03-bbaa-41dad8a0dfde",
   "metadata": {},
   "source": [
    "Пропуски заполнены NaN:"
   ]
  },
  {
   "cell_type": "code",
   "execution_count": null,
   "id": "a74e9137-25f5-4f8d-b525-05b9db9aa403",
   "metadata": {},
   "outputs": [],
   "source": [
    "df[df.Attr1.isnull()]"
   ]
  },
  {
   "cell_type": "markdown",
   "id": "3795227d-2084-4ff2-8ba4-34437a18aa35",
   "metadata": {},
   "source": [
    "Выделяем test & train сеты"
   ]
  },
  {
   "cell_type": "code",
   "execution_count": null,
   "id": "efc9d1b4-c62f-42e2-b8d9-a8d0659630be",
   "metadata": {},
   "outputs": [],
   "source": [
    "X = df.loc[:, df.columns != 'target']\n",
    "y = df.target\n",
    "\n",
    "X_train, X_test, y_train, y_test = train_test_split(X, y, test_size=0.2, random_state=seed)\n",
    "\n",
    "X_train.reset_index(inplace=True, drop=True)\n",
    "X_test.reset_index(inplace=True, drop=True)\n",
    "y_train.reset_index(inplace=True, drop=True)\n",
    "y_test.reset_index(inplace=True, drop=True)\n"
   ]
  },
  {
   "cell_type": "markdown",
   "id": "a7671598-499b-473f-8d09-164e7503cfad",
   "metadata": {},
   "source": [
    "Сохраняем данные"
   ]
  },
  {
   "cell_type": "code",
   "execution_count": null,
   "id": "196d58e4-e1ec-42ab-a0f5-0f146f58582f",
   "metadata": {},
   "outputs": [],
   "source": [
    "!pip install pyarrow\n",
    "!pip install fastparquet"
   ]
  },
  {
   "cell_type": "code",
   "execution_count": null,
   "id": "f1846a18-1374-4c54-9ae0-556074a88acf",
   "metadata": {},
   "outputs": [],
   "source": [
    "# Save data & info ===\n",
    "# parquet is optimized for large volumes of data\n",
    "!mkdir samples\n",
    "X_train.to_parquet('./samples/X_train.parquet')\n",
    "X_test.to_parquet('./samples/X_test.parquet')\n",
    "# переводим pd.Series в pd.DataFrame для удобного экспорта\n",
    "pd.DataFrame(y_train).to_parquet('./samples/y_train.parquet')\n",
    "pd.DataFrame(y_test).to_parquet('./samples/y_test.parquet')\n",
    "\n",
    "#списки категориальных и количественных переменных\n",
    "df_number_of_uniques = df.nunique()\n",
    "presumably_continuous = df_number_of_uniques[df_number_of_uniques >= 15]\n",
    "presumably_discrete = df_number_of_uniques[df_number_of_uniques < 15]\n",
    "\n",
    "presumably_continuous_names = list(presumably_continuous.index)\n",
    "presumably_discrete_names = list(presumably_discrete.index)\n",
    "\n",
    "with open('factors.json', 'w') as f:\n",
    "    json.dump({'cat_vals': presumably_discrete_names, \"num_vals\": presumably_continuous_names}, f)"
   ]
  },
  {
   "cell_type": "markdown",
   "id": "81d5f84a-0f12-4c61-bc05-33be9e04864c",
   "metadata": {
    "tags": []
   },
   "source": [
    "### Статистики"
   ]
  },
  {
   "cell_type": "markdown",
   "id": "78554cb8-da2d-4acb-98a0-223f4eab2ff2",
   "metadata": {},
   "source": [
    "Целевых событий немного."
   ]
  },
  {
   "cell_type": "code",
   "execution_count": null,
   "id": "2f6e765c-15c5-4b42-84ad-f76f6028074d",
   "metadata": {},
   "outputs": [],
   "source": [
    "print(f'Количество наблюдений: {X.shape[0]}')\n",
    "print(f'Количество наблюдений, где имеются данные о дефолте или его отсутствии: {X[y.isnull() == False].shape[0]}')\n",
    "print(f'Количество факторов: {X.shape[1]}')\n",
    "print(f'Количество целевых событий: {y.sum()}')\n",
    "print(f'Доля целевых событий: {y.sum() / X[y.isnull() == False].shape[0] * 100}%')"
   ]
  },
  {
   "cell_type": "markdown",
   "id": "16a18560-ea19-4a0d-8673-e189beb87a48",
   "metadata": {},
   "source": [
    "### Пропуски"
   ]
  },
  {
   "cell_type": "markdown",
   "id": "03ac37c6-04e8-4014-b691-c1d081fe4c78",
   "metadata": {},
   "source": [
    "В датасете присутствуют пропуски, но их доля несущественна: больше всего их в переменной, где их 6%, но в остальных почти всегда меньше процента"
   ]
  },
  {
   "cell_type": "code",
   "execution_count": null,
   "id": "6c62368a-1491-4565-9c54-8637eb20bbaa",
   "metadata": {},
   "outputs": [],
   "source": [
    "for col in X.columns:\n",
    "    print(f'Количество пропусков по фактору {col}:\\n\\t{X[col].isna().sum()} или {X[col].isna().sum() / df.shape[0] * 100}%')"
   ]
  },
  {
   "cell_type": "markdown",
   "id": "9e3370a8-765a-4262-b197-f682c5b9c920",
   "metadata": {},
   "source": [
    "### Визуальный анализ"
   ]
  },
  {
   "cell_type": "markdown",
   "id": "cd0b3ecf-1212-447f-ab20-a3177014f980",
   "metadata": {},
   "source": [
    "Изготовим маску для осмысленного наименования факторов:"
   ]
  },
  {
   "cell_type": "code",
   "execution_count": null,
   "id": "0e4c4721-c1d8-4b1d-8306-56585857b633",
   "metadata": {},
   "outputs": [],
   "source": [
    "from pprint import pprint \n",
    "df_names_short = df_names[[\"Variable Name\", \"Description\"]][(df_names[\"Variable Name\"] != \"\")&(df_names[\"Description\"] != \"\")]\n",
    "short_names = df_names_short[\"Variable Name\"]\n",
    "short_names = short_names.str.upper()\n",
    "meaningful_names = df_names_short[\"Description\"]\n",
    "names_mask = dict(zip(short_names, meaningful_names))\n",
    "names_mask[\"TABLE_YEAR\"] = \"Table of origin\"\n",
    "pprint(names_mask)"
   ]
  },
  {
   "cell_type": "code",
   "execution_count": null,
   "id": "23671bf6-0147-4b7b-af7a-8206523b0792",
   "metadata": {},
   "outputs": [],
   "source": [
    "X_cat = X.copy()\n",
    "X_cat.columns = X_cat.columns.str.upper()"
   ]
  },
  {
   "cell_type": "markdown",
   "id": "8bb9a8cd-284b-49a9-8cda-b08b24112aa8",
   "metadata": {},
   "source": [
    "Из графиков ниже видно, что у переменных все ОЧЕНЬ плохо с выбросами. Например:"
   ]
  },
  {
   "cell_type": "code",
   "execution_count": null,
   "id": "c4bb02ec-2cc4-4272-b31d-27b78f8c1197",
   "metadata": {},
   "outputs": [],
   "source": [
    "print(np.max(X_cat.ATTR1))\n",
    "print(np.mean(X_cat.ATTR1))\n",
    "print(np.std(X_cat.ATTR1))"
   ]
  },
  {
   "cell_type": "markdown",
   "id": "48ec9b2a-0720-48d4-86ad-6e5c2edb2ed3",
   "metadata": {},
   "source": [
    "Их нужно будет радикально убирать"
   ]
  },
  {
   "cell_type": "code",
   "execution_count": null,
   "id": "556128a1-5314-4d23-aee3-58fb6342bf81",
   "metadata": {},
   "outputs": [],
   "source": [
    "def plot_categorical(column, column_name, names_mask):\n",
    "    column.value_counts().plot.barh()\n",
    "    plt.title(f'Distribution of {column_name} ({names_mask[column_name]})')\n",
    "    plt.show()\n",
    "\n",
    "def plot_mixed(column, column_name, names_mask):\n",
    "    print(\"This is a column mixed of both numeric and non-numeric values\")\n",
    "    check_numeric = column.str.isnumeric()\n",
    "    check_numeric[check_numeric.isnull()] = True\n",
    "    check_numeric[column.isnull()] = False\n",
    "\n",
    "    plt.hist(column[check_numeric], orientation='horizontal')\n",
    "    plt.title(f'Distribution of {column_name} ({names_mask[column_name]}) without non-numeric values')\n",
    "    plt.show()\n",
    "\n",
    "    check_numeric.value_counts().plot.barh()\n",
    "    plt.title(f'Distribution of non-missing (numeric) values in {column_name} ({names_mask[column_name]})')\n",
    "    plt.show()\n",
    "\n",
    "def plot_numeric(column, column_name, names_mask):\n",
    "    plt.hist(column, orientation='horizontal')\n",
    "    plt.title(f'Distribution of {column_name} ({names_mask[column_name]})')\n",
    "    plt.show()    \n",
    "\n",
    "def plot_datetime(column, column_name, names_mask):\n",
    "    column.hist()\n",
    "    plt.title(f'Distribution of {column_name} ({names_mask[column_name]})')\n",
    "    plt.show()\n",
    "    \n",
    "def check_mixed_or_categorical(column):\n",
    "    if is_string_dtype(column) == False:\n",
    "        return(False)\n",
    "    else:\n",
    "        check_numeric = column.str.isnumeric()\n",
    "        check_numeric[check_numeric.isnull()] = True\n",
    "        check_numeric[column.isnull()] = False\n",
    "        if len(column[check_numeric]) == 0:\n",
    "            return(\"categorical\")\n",
    "        else:\n",
    "            return(\"mixed\")\n",
    "\n",
    "def check_factor_plotting_type(column, column_name, names_mask):\n",
    "    if column.dtype == pd.Series([np.datetime64(\"1995-05-05\")]).dtype:\n",
    "        return(\"datetime\")\n",
    "    elif check_mixed_or_categorical(column) != False:\n",
    "        return(check_mixed_or_categorical(column))\n",
    "    else:\n",
    "        return(\"numeric\")\n",
    "\n",
    "def plot_all(column, column_name, names_mask, presumably_discrete_names = presumably_discrete_names):\n",
    "    map_functions_to_types = {\n",
    "        \"categorical\" : plot_categorical,\n",
    "        \"mixed\" : plot_mixed,\n",
    "        \"numeric\" : plot_numeric, \n",
    "        \"datetime\" : plot_datetime\n",
    "    }\n",
    "    \n",
    "    type_checked = check_factor_plotting_type(column, column_name, names_mask)\n",
    "    print(type_checked)\n",
    "    map_functions_to_types[type_checked](column, column_name, names_mask)\n",
    "\n",
    "\n",
    "for col in X_cat.columns:\n",
    "    \n",
    "    plot_all(X_cat[col], col, names_mask)\n"
   ]
  },
  {
   "cell_type": "markdown",
   "id": "9439abc0-7be8-4ebe-a543-5ff09c6adee6",
   "metadata": {},
   "source": [
    "### Выводы\n",
    "\n",
    "Большой датасет по польским корпоратам с большим количеством переменных и низкой долей пропусков. Из недостатков нужно отметить низкую долю целевых событий (4%) и очень большие проблемы с аутлаерами."
   ]
  }
 ],
 "metadata": {
  "kernelspec": {
   "display_name": "Python 3 (ipykernel)",
   "language": "python",
   "name": "python3"
  },
  "language_info": {
   "codemirror_mode": {
    "name": "ipython",
    "version": 3
   },
   "file_extension": ".py",
   "mimetype": "text/x-python",
   "name": "python",
   "nbconvert_exporter": "python",
   "pygments_lexer": "ipython3",
   "version": "3.7.6"
  }
 },
 "nbformat": 4,
 "nbformat_minor": 5
}
