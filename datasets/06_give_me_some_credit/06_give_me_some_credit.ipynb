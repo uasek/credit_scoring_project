{
 "cells": [
  {
   "cell_type": "markdown",
   "id": "2206c6e8-9281-4b77-8f33-bc7667d9857a",
   "metadata": {},
   "source": [
    "# Give me some credit"
   ]
  },
  {
   "cell_type": "code",
   "execution_count": 1,
   "id": "ef2cc4c4-d6cb-4e77-95fa-dc1b4234dc92",
   "metadata": {},
   "outputs": [],
   "source": [
    "import time\n",
    "import os\n",
    "import json\n",
    "import numpy as np\n",
    "import pandas as pd\n",
    "import matplotlib.pyplot as plt\n",
    "from sklearn.model_selection import train_test_split"
   ]
  },
  {
   "cell_type": "code",
   "execution_count": 2,
   "id": "9c538545-c2e7-488e-b26f-499a382e35a3",
   "metadata": {},
   "outputs": [],
   "source": [
    "# params\n",
    "seed = 42"
   ]
  },
  {
   "cell_type": "markdown",
   "id": "66246da4-2f6b-4d05-a645-e3dc6bb1ecd9",
   "metadata": {},
   "source": [
    "## 1. Подгрузка данных"
   ]
  },
  {
   "cell_type": "markdown",
   "id": "eb3d13a4-f224-497e-9aaf-9301feaf3fea",
   "metadata": {
    "id": "dIlJWP2urVz-"
   },
   "source": [
    "Источник - [соревнование на kaggle](http://www.kaggle.com/c/GiveMeSomeCredit)\n",
    "\n",
    "*A small credit card dataset for simple econometric analysis*\n",
    "\n",
    "Странная целевая переменная: *card: Dummy variable, 1 if application for credit card accepted, 0 if not*. Отсюда и доля целевых событий в 77%.\n",
    "\n",
    "Показатели из других работ:\n",
    "\n",
    "| Paper | ACC | AUC | Gini |\n",
    "| --- | --- | --- | --- | \n",
    "| Engelmann & Lessmann, 2021 | - | 0.8415 | 0.6830 | \n",
    "| Melo Junior et al., 2020 | 0.65 | 0.77  |0.5400 |  \n",
    "| Tsai et al., 2021 | - | 0.850 | 0.7000 | \n",
    "\n",
    "\n"
   ]
  },
  {
   "cell_type": "code",
   "execution_count": 5,
   "id": "00d1f725",
   "metadata": {},
   "outputs": [
    {
     "data": {
      "text/html": [
       "<div>\n",
       "<style scoped>\n",
       "    .dataframe tbody tr th:only-of-type {\n",
       "        vertical-align: middle;\n",
       "    }\n",
       "\n",
       "    .dataframe tbody tr th {\n",
       "        vertical-align: top;\n",
       "    }\n",
       "\n",
       "    .dataframe thead th {\n",
       "        text-align: right;\n",
       "    }\n",
       "</style>\n",
       "<table border=\"1\" class=\"dataframe\">\n",
       "  <thead>\n",
       "    <tr style=\"text-align: right;\">\n",
       "      <th></th>\n",
       "      <th>card</th>\n",
       "      <th>reports</th>\n",
       "      <th>age</th>\n",
       "      <th>income</th>\n",
       "      <th>share</th>\n",
       "      <th>expenditure</th>\n",
       "      <th>owner</th>\n",
       "      <th>selfemp</th>\n",
       "      <th>dependents</th>\n",
       "      <th>months</th>\n",
       "      <th>majorcards</th>\n",
       "      <th>active</th>\n",
       "    </tr>\n",
       "  </thead>\n",
       "  <tbody>\n",
       "    <tr>\n",
       "      <th>0</th>\n",
       "      <td>yes</td>\n",
       "      <td>0</td>\n",
       "      <td>37.66667</td>\n",
       "      <td>4.5200</td>\n",
       "      <td>0.033270</td>\n",
       "      <td>124.983300</td>\n",
       "      <td>yes</td>\n",
       "      <td>no</td>\n",
       "      <td>3</td>\n",
       "      <td>54</td>\n",
       "      <td>1</td>\n",
       "      <td>12</td>\n",
       "    </tr>\n",
       "    <tr>\n",
       "      <th>1</th>\n",
       "      <td>yes</td>\n",
       "      <td>0</td>\n",
       "      <td>33.25000</td>\n",
       "      <td>2.4200</td>\n",
       "      <td>0.005217</td>\n",
       "      <td>9.854167</td>\n",
       "      <td>no</td>\n",
       "      <td>no</td>\n",
       "      <td>3</td>\n",
       "      <td>34</td>\n",
       "      <td>1</td>\n",
       "      <td>13</td>\n",
       "    </tr>\n",
       "    <tr>\n",
       "      <th>2</th>\n",
       "      <td>yes</td>\n",
       "      <td>0</td>\n",
       "      <td>33.66667</td>\n",
       "      <td>4.5000</td>\n",
       "      <td>0.004156</td>\n",
       "      <td>15.000000</td>\n",
       "      <td>yes</td>\n",
       "      <td>no</td>\n",
       "      <td>4</td>\n",
       "      <td>58</td>\n",
       "      <td>1</td>\n",
       "      <td>5</td>\n",
       "    </tr>\n",
       "    <tr>\n",
       "      <th>3</th>\n",
       "      <td>yes</td>\n",
       "      <td>0</td>\n",
       "      <td>30.50000</td>\n",
       "      <td>2.5400</td>\n",
       "      <td>0.065214</td>\n",
       "      <td>137.869200</td>\n",
       "      <td>no</td>\n",
       "      <td>no</td>\n",
       "      <td>0</td>\n",
       "      <td>25</td>\n",
       "      <td>1</td>\n",
       "      <td>7</td>\n",
       "    </tr>\n",
       "    <tr>\n",
       "      <th>4</th>\n",
       "      <td>yes</td>\n",
       "      <td>0</td>\n",
       "      <td>32.16667</td>\n",
       "      <td>9.7867</td>\n",
       "      <td>0.067051</td>\n",
       "      <td>546.503300</td>\n",
       "      <td>yes</td>\n",
       "      <td>no</td>\n",
       "      <td>2</td>\n",
       "      <td>64</td>\n",
       "      <td>1</td>\n",
       "      <td>5</td>\n",
       "    </tr>\n",
       "  </tbody>\n",
       "</table>\n",
       "</div>"
      ],
      "text/plain": [
       "  card  reports       age  income     share  expenditure owner selfemp  \\\n",
       "0  yes        0  37.66667  4.5200  0.033270   124.983300   yes      no   \n",
       "1  yes        0  33.25000  2.4200  0.005217     9.854167    no      no   \n",
       "2  yes        0  33.66667  4.5000  0.004156    15.000000   yes      no   \n",
       "3  yes        0  30.50000  2.5400  0.065214   137.869200    no      no   \n",
       "4  yes        0  32.16667  9.7867  0.067051   546.503300   yes      no   \n",
       "\n",
       "   dependents  months  majorcards  active  \n",
       "0           3      54           1      12  \n",
       "1           3      34           1      13  \n",
       "2           4      58           1       5  \n",
       "3           0      25           1       7  \n",
       "4           2      64           1       5  "
      ]
     },
     "execution_count": 5,
     "metadata": {},
     "output_type": "execute_result"
    }
   ],
   "source": [
    "df = pd.read_csv(\"AER_credit_card_data.csv\")\n",
    "\n",
    "df.head()"
   ]
  },
  {
   "cell_type": "markdown",
   "id": "9a0e5713-4615-41cf-a2bf-9696485ef65d",
   "metadata": {},
   "source": [
    "## 2. Анализ факторов"
   ]
  },
  {
   "cell_type": "markdown",
   "id": "4484f440-fdb9-486b-8960-58bbc6ae81a8",
   "metadata": {
    "id": "Cqj5IwbL4on1"
   },
   "source": [
    "Круто, что нет скрытых пропусков среди значений признаков!\n",
    "\n",
    "**card**: Dummy variable, 1 if application for credit card accepted, 0 if not\n",
    "\n",
    "**reports**: Number of major derogatory reports\n",
    "\n",
    "**age**: Age n years plus twelfths of a year\n",
    "\n",
    "**income**: Yearly income (divided by 10,000)\n",
    "\n",
    "**share**: Ratio of monthly credit card expenditure to yearly income\n",
    "\n",
    "**expenditure**: Average monthly credit card expenditure\n",
    "\n",
    "**owner**: 1 if owns their home, 0 if rent\n",
    "\n",
    "**selfempl**: 1 if self employed, 0 if not.\n",
    "\n",
    "**dependents**: 1 + number of dependents\n",
    "\n",
    "**months**: Months living at current address\n",
    "\n",
    "**majorcards**: Number of major credit cards held\n",
    "\n",
    "**active**: Number of active credit accounts\n",
    "\n",
    "😜😜😜\n",
    "\n",
    "Notes:\n",
    "According to Greene (2003, p. 952) dependents equals 1 + number of dependents.\n",
    "That is described above. The authors of the \"AER\" package in R believe it is the number of dependents.\n",
    "The correct definition is unresolved at this time ¯_(ツ)_/¯"
   ]
  },
  {
   "cell_type": "code",
   "execution_count": 12,
   "id": "95003f47-220c-4630-a0b7-e8dacc2764d8",
   "metadata": {
    "id": "CCmcyqPC4pGF"
   },
   "outputs": [
    {
     "name": "stderr",
     "output_type": "stream",
     "text": [
      "�������� ��� 䠩� samples 㦥 �������.\n"
     ]
    }
   ],
   "source": [
    "X = df.loc[:, df.columns != 'card']\n",
    "y = df['card'].map({'yes' : 1, 'no' : 0})\n",
    "\n",
    "X_train, X_test, y_train, y_test = train_test_split(X, y, test_size=0.2, random_state=seed)\n",
    "\n",
    "# Save data & info ===\n",
    "# parquet is optimized for large volumes of data\n",
    "!mkdir samples\n",
    "X_train.to_parquet('./samples/X_train.parquet')\n",
    "X_test.to_parquet('./samples/X_test.parquet')\n",
    "# переводим pd.Series в pd.DataFrame для удобного экспорта\n",
    "pd.DataFrame(y_train).to_parquet('./samples/y_train.parquet')\n",
    "pd.DataFrame(y_test).to_parquet('./samples/y_test.parquet')\n",
    "\n",
    "# сохраняем списки категориальных и колич. переменных\n",
    "cat_vals = ['owner', 'selfemp']\n",
    "num_vals = ['reports', 'age', 'income', 'share', \n",
    "            'expenditure', 'dependents', 'months',\n",
    "            'majorcards', 'active']\n",
    "\n",
    "with open('factors.json', 'w') as f:\n",
    "    json.dump({'cat_vals': cat_vals, \"num_vals\": num_vals}, f)"
   ]
  },
  {
   "cell_type": "markdown",
   "id": "613a8c71-6ce2-4e01-bc23-575a0299b55d",
   "metadata": {},
   "source": [
    "## 3. Статистики и пропуски"
   ]
  },
  {
   "cell_type": "markdown",
   "id": "75f23225-1a15-4d3b-a4a5-39d9d33047d0",
   "metadata": {
    "tags": []
   },
   "source": [
    "### Статистики"
   ]
  },
  {
   "cell_type": "code",
   "execution_count": 15,
   "id": "c2c7b4b3-4d4d-4f6c-9c93-589b58db49ba",
   "metadata": {},
   "outputs": [
    {
     "name": "stdout",
     "output_type": "stream",
     "text": [
      "Количество наблюдений: 1319\n",
      "Количество факторов: 11\n",
      "Количество целевых событий: 1023\n",
      "Доля целевых событий: 77.5587566338135%\n"
     ]
    }
   ],
   "source": [
    "print(f'Количество наблюдений: {X.shape[0]}')\n",
    "print(f'Количество факторов: {X.shape[1]}')\n",
    "print(f'Количество целевых событий: {y.sum()}')\n",
    "print(f'Доля целевых событий: {y.sum() / X.shape[0] * 100}%')"
   ]
  },
  {
   "cell_type": "markdown",
   "id": "4677fbaa-ad65-4d96-a255-e05cb3921f6c",
   "metadata": {},
   "source": [
    "### Пропуски"
   ]
  },
  {
   "cell_type": "markdown",
   "id": "4a9b9874-72e2-4988-b18a-cd2fdba0916d",
   "metadata": {},
   "source": [
    "Пропуски в датасете отсутствуют:"
   ]
  },
  {
   "cell_type": "code",
   "execution_count": 16,
   "id": "4088e19b-b009-4578-a498-c1e46e5495d7",
   "metadata": {},
   "outputs": [
    {
     "data": {
      "text/plain": [
       "0"
      ]
     },
     "execution_count": 16,
     "metadata": {},
     "output_type": "execute_result"
    }
   ],
   "source": [
    "X.columns.isna().sum()"
   ]
  },
  {
   "cell_type": "markdown",
   "id": "e76c7455-aacd-4d15-8737-40b3af7b1597",
   "metadata": {},
   "source": [
    "## 4. Визуальный анализ и выбросы"
   ]
  },
  {
   "cell_type": "code",
   "execution_count": 18,
   "id": "df550389-c07d-44de-84cd-d8f40d08ee5d",
   "metadata": {},
   "outputs": [
    {
     "data": {
      "image/png": "[encoded data removed]",
      "text/plain": [
       "<Figure size 432x288 with 1 Axes>"
      ]
     },
     "metadata": {
      "needs_background": "light"
     },
     "output_type": "display_data"
    },
    {
     "data": {
      "image/png": "[encoded data removed]",
      "text/plain": [
       "<Figure size 432x288 with 1 Axes>"
      ]
     },
     "metadata": {
      "needs_background": "light"
     },
     "output_type": "display_data"
    },
    {
     "data": {
      "image/png": "[encoded data removed]",
      "text/plain": [
       "<Figure size 432x288 with 1 Axes>"
      ]
     },
     "metadata": {
      "needs_background": "light"
     },
     "output_type": "display_data"
    },
    {
     "data": {
      "image/png": "[encoded data removed]",
      "text/plain": [
       "<Figure size 432x288 with 1 Axes>"
      ]
     },
     "metadata": {
      "needs_background": "light"
     },
     "output_type": "display_data"
    },
    {
     "data": {
      "image/png": "[encoded data removed]",
      "text/plain": [
       "<Figure size 432x288 with 1 Axes>"
      ]
     },
     "metadata": {
      "needs_background": "light"
     },
     "output_type": "display_data"
    },
    {
     "data": {
      "image/png": "[encoded data removed]",
      "text/plain": [
       "<Figure size 432x288 with 1 Axes>"
      ]
     },
     "metadata": {
      "needs_background": "light"
     },
     "output_type": "display_data"
    },
    {
     "data": {
      "image/png": "[encoded data removed]",
      "text/plain": [
       "<Figure size 432x288 with 1 Axes>"
      ]
     },
     "metadata": {
      "needs_background": "light"
     },
     "output_type": "display_data"
    },
    {
     "data": {
      "image/png": "[encoded data removed]",
      "text/plain": [
       "<Figure size 432x288 with 1 Axes>"
      ]
     },
     "metadata": {
      "needs_background": "light"
     },
     "output_type": "display_data"
    },
    {
     "data": {
      "image/png": "[encoded data removed]",
      "text/plain": [
       "<Figure size 432x288 with 1 Axes>"
      ]
     },
     "metadata": {
      "needs_background": "light"
     },
     "output_type": "display_data"
    },
    {
     "data": {
      "image/png": "[encoded data removed]",
      "text/plain": [
       "<Figure size 432x288 with 1 Axes>"
      ]
     },
     "metadata": {
      "needs_background": "light"
     },
     "output_type": "display_data"
    },
    {
     "data": {
      "image/png": "[encoded data removed]",
      "text/plain": [
       "<Figure size 432x288 with 1 Axes>"
      ]
     },
     "metadata": {
      "needs_background": "light"
     },
     "output_type": "display_data"
    }
   ],
   "source": [
    "for col in X.columns:\n",
    "    plt.hist(X[col], orientation='horizontal')\n",
    "    plt.title(f'Distribution of {col}')\n",
    "    plt.show()"
   ]
  },
  {
   "cell_type": "markdown",
   "id": "ad6dde9e-8758-4d93-b560-79b5b9abeb67",
   "metadata": {},
   "source": [
    "### Выводы \n",
    "\n",
    "Приятный датасет в смысле предобработки, однако непонятно зачем он нужен. Предсказывать решение банка по выдаче кк ? :)"
   ]
  }
 ],
 "metadata": {
  "interpreter": {
   "hash": "72b2bfcd922aebcd12d9196887742578a579554192d4ac5fc7179ac9127da2cb"
  },
  "kernelspec": {
   "display_name": "Python 3 (ipykernel)",
   "language": "python",
   "name": "python3"
  },
  "language_info": {
   "codemirror_mode": {
    "name": "ipython",
    "version": 3
   },
   "file_extension": ".py",
   "mimetype": "text/x-python",
   "name": "python",
   "nbconvert_exporter": "python",
   "pygments_lexer": "ipython3",
   "version": "3.9.7"
  }
 },
 "nbformat": 4,
 "nbformat_minor": 5
}
