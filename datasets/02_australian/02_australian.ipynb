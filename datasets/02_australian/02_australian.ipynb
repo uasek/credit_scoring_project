{
 "cells": [
  {
   "cell_type": "markdown",
   "id": "2206c6e8-9281-4b77-8f33-bc7667d9857a",
   "metadata": {},
   "source": [
    "# German dataset"
   ]
  },
  {
   "cell_type": "code",
   "execution_count": 1,
   "id": "ef2cc4c4-d6cb-4e77-95fa-dc1b4234dc92",
   "metadata": {},
   "outputs": [],
   "source": [
    "import time\n",
    "import os\n",
    "import json\n",
    "import numpy as np\n",
    "import pandas as pd\n",
    "import matplotlib.pyplot as plt\n",
    "from sklearn.model_selection import train_test_split"
   ]
  },
  {
   "cell_type": "code",
   "execution_count": 2,
   "id": "9c538545-c2e7-488e-b26f-499a382e35a3",
   "metadata": {},
   "outputs": [],
   "source": [
    "# params\n",
    "seed = 42"
   ]
  },
  {
   "cell_type": "markdown",
   "id": "66246da4-2f6b-4d05-a645-e3dc6bb1ecd9",
   "metadata": {},
   "source": [
    "## 1. Подгрузка данных"
   ]
  },
  {
   "cell_type": "markdown",
   "id": "eb3d13a4-f224-497e-9aaf-9301feaf3fea",
   "metadata": {
    "id": "dIlJWP2urVz-"
   },
   "source": [
    "[Ссылка на скачивание](http://archive.ics.uci.edu/ml/datasets/statlog+(australian+credit+approval))\n",
    "\n",
    "Второй по популярности, и еще меньший по объему датасет. Тоже многое уже подчищено.\n",
    "\n",
    "Самое удивительное — мы не знаем, что за факторы используются в модели."
   ]
  },
  {
   "cell_type": "code",
   "execution_count": 5,
   "id": "f0470a57-c387-4ba4-b21e-8c782bf45c63",
   "metadata": {
    "colab": {
     "base_uri": "https://localhost:8080/",
     "height": 226
    },
    "id": "ZzFSXTM_rU_N",
    "outputId": "d02e15ef-0858-4f21-dc0e-d618c4c0c918"
   },
   "outputs": [
    {
     "data": {
      "text/html": [
       "<div>\n",
       "<style scoped>\n",
       "    .dataframe tbody tr th:only-of-type {\n",
       "        vertical-align: middle;\n",
       "    }\n",
       "\n",
       "    .dataframe tbody tr th {\n",
       "        vertical-align: top;\n",
       "    }\n",
       "\n",
       "    .dataframe thead th {\n",
       "        text-align: right;\n",
       "    }\n",
       "</style>\n",
       "<table border=\"1\" class=\"dataframe\">\n",
       "  <thead>\n",
       "    <tr style=\"text-align: right;\">\n",
       "      <th></th>\n",
       "      <th>A1</th>\n",
       "      <th>A2</th>\n",
       "      <th>A3</th>\n",
       "      <th>A4</th>\n",
       "      <th>A5</th>\n",
       "      <th>A6</th>\n",
       "      <th>A7</th>\n",
       "      <th>A8</th>\n",
       "      <th>A9</th>\n",
       "      <th>A10</th>\n",
       "      <th>A11</th>\n",
       "      <th>A12</th>\n",
       "      <th>A13</th>\n",
       "      <th>A14</th>\n",
       "      <th>target</th>\n",
       "    </tr>\n",
       "  </thead>\n",
       "  <tbody>\n",
       "    <tr>\n",
       "      <th>0</th>\n",
       "      <td>1</td>\n",
       "      <td>22.08</td>\n",
       "      <td>11.46</td>\n",
       "      <td>2</td>\n",
       "      <td>4</td>\n",
       "      <td>4</td>\n",
       "      <td>1.585</td>\n",
       "      <td>0</td>\n",
       "      <td>0</td>\n",
       "      <td>0</td>\n",
       "      <td>1</td>\n",
       "      <td>2</td>\n",
       "      <td>100</td>\n",
       "      <td>1213</td>\n",
       "      <td>0</td>\n",
       "    </tr>\n",
       "    <tr>\n",
       "      <th>1</th>\n",
       "      <td>0</td>\n",
       "      <td>22.67</td>\n",
       "      <td>7.00</td>\n",
       "      <td>2</td>\n",
       "      <td>8</td>\n",
       "      <td>4</td>\n",
       "      <td>0.165</td>\n",
       "      <td>0</td>\n",
       "      <td>0</td>\n",
       "      <td>0</td>\n",
       "      <td>0</td>\n",
       "      <td>2</td>\n",
       "      <td>160</td>\n",
       "      <td>1</td>\n",
       "      <td>0</td>\n",
       "    </tr>\n",
       "    <tr>\n",
       "      <th>2</th>\n",
       "      <td>0</td>\n",
       "      <td>29.58</td>\n",
       "      <td>1.75</td>\n",
       "      <td>1</td>\n",
       "      <td>4</td>\n",
       "      <td>4</td>\n",
       "      <td>1.250</td>\n",
       "      <td>0</td>\n",
       "      <td>0</td>\n",
       "      <td>0</td>\n",
       "      <td>1</td>\n",
       "      <td>2</td>\n",
       "      <td>280</td>\n",
       "      <td>1</td>\n",
       "      <td>0</td>\n",
       "    </tr>\n",
       "    <tr>\n",
       "      <th>3</th>\n",
       "      <td>0</td>\n",
       "      <td>21.67</td>\n",
       "      <td>11.50</td>\n",
       "      <td>1</td>\n",
       "      <td>5</td>\n",
       "      <td>3</td>\n",
       "      <td>0.000</td>\n",
       "      <td>1</td>\n",
       "      <td>1</td>\n",
       "      <td>11</td>\n",
       "      <td>1</td>\n",
       "      <td>2</td>\n",
       "      <td>0</td>\n",
       "      <td>1</td>\n",
       "      <td>1</td>\n",
       "    </tr>\n",
       "    <tr>\n",
       "      <th>4</th>\n",
       "      <td>1</td>\n",
       "      <td>20.17</td>\n",
       "      <td>8.17</td>\n",
       "      <td>2</td>\n",
       "      <td>6</td>\n",
       "      <td>4</td>\n",
       "      <td>1.960</td>\n",
       "      <td>1</td>\n",
       "      <td>1</td>\n",
       "      <td>14</td>\n",
       "      <td>0</td>\n",
       "      <td>2</td>\n",
       "      <td>60</td>\n",
       "      <td>159</td>\n",
       "      <td>1</td>\n",
       "    </tr>\n",
       "  </tbody>\n",
       "</table>\n",
       "</div>"
      ],
      "text/plain": [
       "   A1     A2     A3  A4  A5  A6     A7  A8  A9  A10  A11  A12  A13   A14  \\\n",
       "0   1  22.08  11.46   2   4   4  1.585   0   0    0    1    2  100  1213   \n",
       "1   0  22.67   7.00   2   8   4  0.165   0   0    0    0    2  160     1   \n",
       "2   0  29.58   1.75   1   4   4  1.250   0   0    0    1    2  280     1   \n",
       "3   0  21.67  11.50   1   5   3  0.000   1   1   11    1    2    0     1   \n",
       "4   1  20.17   8.17   2   6   4  1.960   1   1   14    0    2   60   159   \n",
       "\n",
       "   target  \n",
       "0       0  \n",
       "1       0  \n",
       "2       0  \n",
       "3       1  \n",
       "4       1  "
      ]
     },
     "execution_count": 5,
     "metadata": {},
     "output_type": "execute_result"
    }
   ],
   "source": [
    "df = pd.read_csv('http://archive.ics.uci.edu/ml/machine-learning-databases/statlog/australian/australian.dat',\n",
    "                 header = None, sep = ' ')\n",
    "\n",
    "# based on the .doc data description\n",
    "df.columns = ['A1', 'A2', 'A3', 'A4', 'A5', 'A6', 'A7', 'A8', 'A9', 'A10', 'A11', 'A12', 'A13', 'A14', 'target']\n",
    "\n",
    "df.head()"
   ]
  },
  {
   "cell_type": "markdown",
   "id": "9a0e5713-4615-41cf-a2bf-9696485ef65d",
   "metadata": {},
   "source": [
    "## 2. Анализ факторов"
   ]
  },
  {
   "cell_type": "markdown",
   "id": "52e78f6f-eddc-49f8-b711-a4e63c48cddd",
   "metadata": {},
   "source": [
    "### Список факторов\n",
    "\n",
    "Отсутствует:\n",
    "\n",
    "> _All attribute names and values have been changed to meaningless symbols to protect confidentiality of the data._"
   ]
  },
  {
   "cell_type": "markdown",
   "id": "4484f440-fdb9-486b-8960-58bbc6ae81a8",
   "metadata": {
    "id": "Cqj5IwbL4on1"
   },
   "source": [
    "Очевидно, что мы имеем большое число категориальных переменных. В дальнейшем мы заменим их при помощи WOE-преобразования. На данный момент лишь сформируем разбивку train vs. test и запишем список переменных"
   ]
  },
  {
   "cell_type": "code",
   "execution_count": 7,
   "id": "95003f47-220c-4630-a0b7-e8dacc2764d8",
   "metadata": {
    "id": "CCmcyqPC4pGF"
   },
   "outputs": [],
   "source": [
    "X = df.loc[:, df.columns != 'target']\n",
    "y = df.target\n",
    "\n",
    "X_train, X_test, y_train, y_test = train_test_split(X, y, test_size=0.2, random_state=seed)\n",
    "\n",
    "X_train.reset_index(inplace=True, drop=True)\n",
    "X_test.reset_index(inplace=True, drop=True)\n",
    "y_train.reset_index(inplace=True, drop=True)\n",
    "y_test.reset_index(inplace=True, drop=True)\n",
    "\n",
    "# Save data & info ===\n",
    "# parquet is optimized for large volumes of data\n",
    "!mkdir samples\n",
    "X_train.to_parquet('./samples/X_train.parquet')\n",
    "X_test.to_parquet('./samples/X_test.parquet')\n",
    "# переводим pd.Series в pd.DataFrame для удобного экспорта\n",
    "pd.DataFrame(y_train).to_parquet('./samples/y_train.parquet')\n",
    "pd.DataFrame(y_test).to_parquet('./samples/y_test.parquet')\n",
    "\n",
    "# сохраняем списки категориальных и колич. переменных\n",
    "cat_vals = ['A1', 'A4', 'A5', 'A6', 'A8', 'A9', 'A11', 'A12']\n",
    "num_vals = ['A2', 'A3', 'A7', 'A10', 'A13', 'A14']\n",
    "\n",
    "with open('factors.json', 'w') as f:\n",
    "    json.dump({'cat_vals': cat_vals, \"num_vals\": num_vals}, f)"
   ]
  },
  {
   "cell_type": "markdown",
   "id": "613a8c71-6ce2-4e01-bc23-575a0299b55d",
   "metadata": {},
   "source": [
    "## 3. Статистики и пропуски"
   ]
  },
  {
   "cell_type": "markdown",
   "id": "75f23225-1a15-4d3b-a4a5-39d9d33047d0",
   "metadata": {
    "tags": []
   },
   "source": [
    "### Статистики"
   ]
  },
  {
   "cell_type": "code",
   "execution_count": 9,
   "id": "c2c7b4b3-4d4d-4f6c-9c93-589b58db49ba",
   "metadata": {},
   "outputs": [
    {
     "name": "stdout",
     "output_type": "stream",
     "text": [
      "Количество наблюдений: 690\n",
      "Количество факторов: 14\n",
      "Количество целевых событий: 307\n",
      "Доля целевых событий: 44.49%\n"
     ]
    }
   ],
   "source": [
    "print(f'Количество наблюдений: {X.shape[0]}')\n",
    "print(f'Количество факторов: {X.shape[1]}')\n",
    "print(f'Количество целевых событий: {y.sum()}')\n",
    "print(f'Доля целевых событий: {np.round(y.sum() / X.shape[0] * 100, 2)}%')"
   ]
  },
  {
   "cell_type": "markdown",
   "id": "4677fbaa-ad65-4d96-a255-e05cb3921f6c",
   "metadata": {},
   "source": [
    "### Пропуски"
   ]
  },
  {
   "cell_type": "markdown",
   "id": "4a9b9874-72e2-4988-b18a-cd2fdba0916d",
   "metadata": {},
   "source": [
    "Пропуски в датасете отсутствуют:"
   ]
  },
  {
   "cell_type": "code",
   "execution_count": 10,
   "id": "4088e19b-b009-4578-a498-c1e46e5495d7",
   "metadata": {},
   "outputs": [
    {
     "name": "stdout",
     "output_type": "stream",
     "text": [
      "Количество пропусков по фактору A1:\n",
      "\t0 или 0.0%\n",
      "Количество пропусков по фактору A2:\n",
      "\t0 или 0.0%\n",
      "Количество пропусков по фактору A3:\n",
      "\t0 или 0.0%\n",
      "Количество пропусков по фактору A4:\n",
      "\t0 или 0.0%\n",
      "Количество пропусков по фактору A5:\n",
      "\t0 или 0.0%\n",
      "Количество пропусков по фактору A6:\n",
      "\t0 или 0.0%\n",
      "Количество пропусков по фактору A7:\n",
      "\t0 или 0.0%\n",
      "Количество пропусков по фактору A8:\n",
      "\t0 или 0.0%\n",
      "Количество пропусков по фактору A9:\n",
      "\t0 или 0.0%\n",
      "Количество пропусков по фактору A10:\n",
      "\t0 или 0.0%\n",
      "Количество пропусков по фактору A11:\n",
      "\t0 или 0.0%\n",
      "Количество пропусков по фактору A12:\n",
      "\t0 или 0.0%\n",
      "Количество пропусков по фактору A13:\n",
      "\t0 или 0.0%\n",
      "Количество пропусков по фактору A14:\n",
      "\t0 или 0.0%\n"
     ]
    }
   ],
   "source": [
    "for col in X.columns:\n",
    "    print(f'Количество пропусков по фактору {col}:\\n\\t{X[col].isna().sum()} или {X[col].isna().sum() / df.shape[1] * 100}%')"
   ]
  },
  {
   "cell_type": "markdown",
   "id": "e76c7455-aacd-4d15-8737-40b3af7b1597",
   "metadata": {},
   "source": [
    "## 4. Визуальный анализ и выбросы"
   ]
  },
  {
   "cell_type": "code",
   "execution_count": 11,
   "id": "df550389-c07d-44de-84cd-d8f40d08ee5d",
   "metadata": {},
   "outputs": [
    {
     "data": {
      "image/png": "[encoded data removed]",
      "text/plain": [
       "<Figure size 432x288 with 1 Axes>"
      ]
     },
     "metadata": {
      "needs_background": "light"
     },
     "output_type": "display_data"
    },
    {
     "data": {
      "image/png": "[encoded data removed]",
      "text/plain": [
       "<Figure size 432x288 with 1 Axes>"
      ]
     },
     "metadata": {
      "needs_background": "light"
     },
     "output_type": "display_data"
    },
    {
     "data": {
      "image/png": "[encoded data removed]",
      "text/plain": [
       "<Figure size 432x288 with 1 Axes>"
      ]
     },
     "metadata": {
      "needs_background": "light"
     },
     "output_type": "display_data"
    },
    {
     "data": {
      "image/png": "[encoded data removed]",
      "text/plain": [
       "<Figure size 432x288 with 1 Axes>"
      ]
     },
     "metadata": {
      "needs_background": "light"
     },
     "output_type": "display_data"
    },
    {
     "data": {
      "image/png": "[encoded data removed]",
      "text/plain": [
       "<Figure size 432x288 with 1 Axes>"
      ]
     },
     "metadata": {
      "needs_background": "light"
     },
     "output_type": "display_data"
    },
    {
     "data": {
      "image/png": "[encoded data removed]",
      "text/plain": [
       "<Figure size 432x288 with 1 Axes>"
      ]
     },
     "metadata": {
      "needs_background": "light"
     },
     "output_type": "display_data"
    },
    {
     "data": {
      "image/png": "[encoded data removed]",
      "text/plain": [
       "<Figure size 432x288 with 1 Axes>"
      ]
     },
     "metadata": {
      "needs_background": "light"
     },
     "output_type": "display_data"
    },
    {
     "data": {
      "image/png": "[encoded data removed]",
      "text/plain": [
       "<Figure size 432x288 with 1 Axes>"
      ]
     },
     "metadata": {
      "needs_background": "light"
     },
     "output_type": "display_data"
    },
    {
     "data": {
      "image/png": "[encoded data removed]",
      "text/plain": [
       "<Figure size 432x288 with 1 Axes>"
      ]
     },
     "metadata": {
      "needs_background": "light"
     },
     "output_type": "display_data"
    },
    {
     "data": {
      "image/png": "[encoded data removed]",
      "text/plain": [
       "<Figure size 432x288 with 1 Axes>"
      ]
     },
     "metadata": {
      "needs_background": "light"
     },
     "output_type": "display_data"
    },
    {
     "data": {
      "image/png": "[encoded data removed]",
      "text/plain": [
       "<Figure size 432x288 with 1 Axes>"
      ]
     },
     "metadata": {
      "needs_background": "light"
     },
     "output_type": "display_data"
    },
    {
     "data": {
      "image/png": "[encoded data removed]",
      "text/plain": [
       "<Figure size 432x288 with 1 Axes>"
      ]
     },
     "metadata": {
      "needs_background": "light"
     },
     "output_type": "display_data"
    },
    {
     "data": {
      "image/png": "[encoded data removed]",
      "text/plain": [
       "<Figure size 432x288 with 1 Axes>"
      ]
     },
     "metadata": {
      "needs_background": "light"
     },
     "output_type": "display_data"
    },
    {
     "data": {
      "image/png": "[encoded data removed]",
      "text/plain": [
       "<Figure size 432x288 with 1 Axes>"
      ]
     },
     "metadata": {
      "needs_background": "light"
     },
     "output_type": "display_data"
    }
   ],
   "source": [
    "for col in X.columns:\n",
    "    plt.hist(X[col], orientation='horizontal')\n",
    "    plt.title(f'Distribution of {col}')\n",
    "    plt.show()"
   ]
  },
  {
   "cell_type": "markdown",
   "id": "ad6dde9e-8758-4d93-b560-79b5b9abeb67",
   "metadata": {},
   "source": [
    "### Выводы \n",
    "\n",
    "Все довольно предсказуемо. Пропусков нет. Понимания факторов нет, из-за этого сложно судить о выбросах, но как будто есть некоторое число выбросов (например, см. распределение А13 и А14). Очень мало факторов, рекомендуется к использованию только для сравнимости с литературой."
   ]
  }
 ],
 "metadata": {
  "kernelspec": {
   "display_name": "Python 3 (ipykernel)",
   "language": "python",
   "name": "python3"
  },
  "language_info": {
   "codemirror_mode": {
    "name": "ipython",
    "version": 3
   },
   "file_extension": ".py",
   "mimetype": "text/x-python",
   "name": "python",
   "nbconvert_exporter": "python",
   "pygments_lexer": "ipython3",
   "version": "3.7.6"
  }
 },
 "nbformat": 4,
 "nbformat_minor": 5
}
