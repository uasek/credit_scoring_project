{
 "cells": [
  {
   "cell_type": "code",
   "execution_count": 13,
   "id": "f809b491-1dc0-4aee-8d7d-a32ce8dadffa",
   "metadata": {},
   "outputs": [],
   "source": [
    "import time\n",
    "import os\n",
    "import json\n",
    "import numpy as np\n",
    "import pandas as pd\n",
    "import matplotlib.pyplot as plt\n",
    "from sklearn.model_selection import train_test_split\n",
    "from scipy import stats\n",
    "from pandas.api.types import is_string_dtype\n",
    "from pandas.api.types import is_numeric_dtype\n",
    "from pprint import pprint\n",
    "import math\n",
    "from scipy.io import arff"
   ]
  },
  {
   "cell_type": "code",
   "execution_count": 2,
   "id": "57b39e95-5e64-47de-938f-7449b94c68f0",
   "metadata": {},
   "outputs": [],
   "source": [
    "# params\n",
    "seed = 42"
   ]
  },
  {
   "cell_type": "markdown",
   "id": "cb61c09b-5c09-4ae8-ac65-1e94eea3b53d",
   "metadata": {},
   "source": [
    "Датасет содержит результаты качественной оценки корпоративных заемщиков "
   ]
  },
  {
   "cell_type": "code",
   "execution_count": 30,
   "id": "aaa7ee8a-8849-48ca-8cd9-f1562a7dd801",
   "metadata": {},
   "outputs": [
    {
     "data": {
      "text/html": [
       "<div>\n",
       "<style scoped>\n",
       "    .dataframe tbody tr th:only-of-type {\n",
       "        vertical-align: middle;\n",
       "    }\n",
       "\n",
       "    .dataframe tbody tr th {\n",
       "        vertical-align: top;\n",
       "    }\n",
       "\n",
       "    .dataframe thead th {\n",
       "        text-align: right;\n",
       "    }\n",
       "</style>\n",
       "<table border=\"1\" class=\"dataframe\">\n",
       "  <thead>\n",
       "    <tr style=\"text-align: right;\">\n",
       "      <th></th>\n",
       "      <th>IR</th>\n",
       "      <th>MR</th>\n",
       "      <th>FF</th>\n",
       "      <th>CR</th>\n",
       "      <th>CO</th>\n",
       "      <th>OP</th>\n",
       "      <th>Class</th>\n",
       "    </tr>\n",
       "  </thead>\n",
       "  <tbody>\n",
       "    <tr>\n",
       "      <th>0</th>\n",
       "      <td>P</td>\n",
       "      <td>P</td>\n",
       "      <td>A</td>\n",
       "      <td>A</td>\n",
       "      <td>A</td>\n",
       "      <td>P</td>\n",
       "      <td>NB</td>\n",
       "    </tr>\n",
       "    <tr>\n",
       "      <th>1</th>\n",
       "      <td>N</td>\n",
       "      <td>N</td>\n",
       "      <td>A</td>\n",
       "      <td>A</td>\n",
       "      <td>A</td>\n",
       "      <td>N</td>\n",
       "      <td>NB</td>\n",
       "    </tr>\n",
       "    <tr>\n",
       "      <th>2</th>\n",
       "      <td>A</td>\n",
       "      <td>A</td>\n",
       "      <td>A</td>\n",
       "      <td>A</td>\n",
       "      <td>A</td>\n",
       "      <td>A</td>\n",
       "      <td>NB</td>\n",
       "    </tr>\n",
       "    <tr>\n",
       "      <th>3</th>\n",
       "      <td>P</td>\n",
       "      <td>P</td>\n",
       "      <td>P</td>\n",
       "      <td>P</td>\n",
       "      <td>P</td>\n",
       "      <td>P</td>\n",
       "      <td>NB</td>\n",
       "    </tr>\n",
       "    <tr>\n",
       "      <th>4</th>\n",
       "      <td>N</td>\n",
       "      <td>N</td>\n",
       "      <td>P</td>\n",
       "      <td>P</td>\n",
       "      <td>P</td>\n",
       "      <td>N</td>\n",
       "      <td>NB</td>\n",
       "    </tr>\n",
       "    <tr>\n",
       "      <th>...</th>\n",
       "      <td>...</td>\n",
       "      <td>...</td>\n",
       "      <td>...</td>\n",
       "      <td>...</td>\n",
       "      <td>...</td>\n",
       "      <td>...</td>\n",
       "      <td>...</td>\n",
       "    </tr>\n",
       "    <tr>\n",
       "      <th>245</th>\n",
       "      <td>N</td>\n",
       "      <td>N</td>\n",
       "      <td>A</td>\n",
       "      <td>N</td>\n",
       "      <td>N</td>\n",
       "      <td>N</td>\n",
       "      <td>B</td>\n",
       "    </tr>\n",
       "    <tr>\n",
       "      <th>246</th>\n",
       "      <td>P</td>\n",
       "      <td>N</td>\n",
       "      <td>N</td>\n",
       "      <td>N</td>\n",
       "      <td>N</td>\n",
       "      <td>N</td>\n",
       "      <td>B</td>\n",
       "    </tr>\n",
       "    <tr>\n",
       "      <th>247</th>\n",
       "      <td>A</td>\n",
       "      <td>N</td>\n",
       "      <td>N</td>\n",
       "      <td>N</td>\n",
       "      <td>N</td>\n",
       "      <td>N</td>\n",
       "      <td>B</td>\n",
       "    </tr>\n",
       "    <tr>\n",
       "      <th>248</th>\n",
       "      <td>N</td>\n",
       "      <td>N</td>\n",
       "      <td>N</td>\n",
       "      <td>N</td>\n",
       "      <td>N</td>\n",
       "      <td>N</td>\n",
       "      <td>B</td>\n",
       "    </tr>\n",
       "    <tr>\n",
       "      <th>249</th>\n",
       "      <td>P</td>\n",
       "      <td>N</td>\n",
       "      <td>N</td>\n",
       "      <td>N</td>\n",
       "      <td>A</td>\n",
       "      <td>A</td>\n",
       "      <td>B</td>\n",
       "    </tr>\n",
       "  </tbody>\n",
       "</table>\n",
       "<p>250 rows × 7 columns</p>\n",
       "</div>"
      ],
      "text/plain": [
       "    IR MR FF CR CO OP Class\n",
       "0    P  P  A  A  A  P    NB\n",
       "1    N  N  A  A  A  N    NB\n",
       "2    A  A  A  A  A  A    NB\n",
       "3    P  P  P  P  P  P    NB\n",
       "4    N  N  P  P  P  N    NB\n",
       "..  .. .. .. .. .. ..   ...\n",
       "245  N  N  A  N  N  N     B\n",
       "246  P  N  N  N  N  N     B\n",
       "247  A  N  N  N  N  N     B\n",
       "248  N  N  N  N  N  N     B\n",
       "249  P  N  N  N  A  A     B\n",
       "\n",
       "[250 rows x 7 columns]"
      ]
     },
     "execution_count": 30,
     "metadata": {},
     "output_type": "execute_result"
    }
   ],
   "source": [
    "data = arff.loadarff('Qualitative_Bankruptcy.arff')\n",
    "df = pd.DataFrame(data[0])\n",
    "for column in df.columns:\n",
    "    df[column] = df[column].str.decode(\"UTF-8\")\n",
    "df"
   ]
  },
  {
   "cell_type": "markdown",
   "id": "9ea2c372-6bb6-49b0-8624-0105ffeb1d5e",
   "metadata": {},
   "source": [
    "Уже видим пропуски"
   ]
  },
  {
   "cell_type": "code",
   "execution_count": null,
   "id": "7176fa04-ffea-4f31-9203-bfcf65c6cee8",
   "metadata": {},
   "outputs": [],
   "source": []
  },
  {
   "cell_type": "markdown",
   "id": "84287788-4177-45bb-8990-6a1ebeeea74a",
   "metadata": {},
   "source": [
    "### Список факторов:\n",
    "|    | Variable Name   | Description                                        | Codings                             |\n",
    "|---:|:----------------|:---------------------------------------------------|:------------------------------------|\n",
    "|  0 | IR              | Industrial Risk                                    | (Identical for all variables below) |\n",
    "|  1 |                 | Government policies and International agreements,  | P = positive                        |\n",
    "|    |                 | \tCyclicality,                                                     |                                     |\n",
    "|    |                 | \tDegree of competition,\t\t\t\t                                                    |                                     |\n",
    "|    |                 | \tThe price and stability of market supply,                                                    |                                     |\n",
    "|    |                 | \tThe size and growth of market demand,\t                                                    |                                     |\n",
    "|    |                 | \tThe sensitivity to changes in macroeconomic factors,                                                    |                                     |\n",
    "|    |                 | \tDomestic and international competitive power,                                                     |                                     |\n",
    "|    |                 | \tProduct Life Cycle.                                                    |                                     |\n",
    "|  2 |                 |                                                    | A = average                         |\n",
    "|  3 |                 |                                                    | N = negative                        |\n",
    "|  4 | MR              | Management Risk:                                   |                                     |\n",
    "|  5 |                 | Stability of management,                           |                                     |\n",
    "|    |                 | \tThe relationship between management/ owner,                                                     |                                     |\n",
    "|    |                 | \tHuman resources management,                                                     |                                     |\n",
    "|    |                 | \tGrowth process/business performance,                                                     |                                     |\n",
    "|    |                 | \tShort and long term business planning,                                                     |                                     |\n",
    "|    |                 | \tachievement and feasibility                                                    |                                     |\n",
    "|  6 | FF              | Financial Flexibility                              |                                     |\n",
    "|  7 |                 | Direct financing,                                  |                                     |\n",
    "|    |                 | \tIndirect financing,                                                     |                                     |\n",
    "|    |                 | \tOther financing                                                    |                                     |\n",
    "|  8 | CR              | Credibility                                        |                                     |\n",
    "|  9 |                 | Credit history,                                    |                                     |\n",
    "|    |                 | \treliability of information,                                                     |                                     |\n",
    "|    |                 | \tThe relationship with financial institutes                                                    |                                     |\n",
    "| 10 | CO              | Competitiveness                                    |                                     |\n",
    "| 11 |                 | Market position,                                   |                                     |\n",
    "|    |                 | \tThe level of core capacities,                                                     |                                     |\n",
    "|    |                 | \tDifferentiated strategy                                                    |                                     |\n",
    "| 12 | OP              | Operating Risk                                     |                                     |\n",
    "| 13 |                 | The stability and diversity of procurement,        |                                     |\n",
    "|    |                 | \tThe stability of transaction,                                                     |                                     |\n",
    "|    |                 | \tThe efficiency of production,                                                     |                                     |\n",
    "|    |                 | \tThe prospects for demand for product and service,                                                     |                                     |\n",
    "|    |                 | \tSales diversification,                                                    |                                     |\n",
    "|    |                 | \tSales price and settlement condition,                                                     |                                     |\n",
    "|    |                 | \tCollection of A/R,                                                    |                                     |\n",
    "|    |                 | \tEffectiveness of sale network                                                    |                                     |\n",
    "| 14 | Class          | target                                             | NB = not bankrupt                   |\n",
    "| 15 |                 |                                                    | B = bankrupt                        |"
   ]
  },
  {
   "cell_type": "code",
   "execution_count": 36,
   "id": "461e3d8b-3ad9-4b25-b24d-4308441f317a",
   "metadata": {},
   "outputs": [],
   "source": [
    "#get description of factors as tabulated markdown\n",
    "df_names = pd.read_excel('description.xlsx', header = [0])\n",
    "df_names = df_names.fillna(\"\")\n",
    "#print(df_names.to_markdown())"
   ]
  },
  {
   "cell_type": "code",
   "execution_count": 33,
   "id": "ebd49b1c-ec88-4c80-97d2-74083b3f3324",
   "metadata": {},
   "outputs": [
    {
     "data": {
      "image/png": "[encoded data removed]",
      "text/plain": [
       "<Figure size 432x288 with 1 Axes>"
      ]
     },
     "metadata": {
      "needs_background": "light"
     },
     "output_type": "display_data"
    },
    {
     "data": {
      "image/png": "[encoded data removed]",
      "text/plain": [
       "<Figure size 432x288 with 1 Axes>"
      ]
     },
     "metadata": {
      "needs_background": "light"
     },
     "output_type": "display_data"
    }
   ],
   "source": [
    "df.Class.value_counts().plot.barh()\n",
    "plt.title(\"Distribution of status\")\n",
    "plt.show()\n",
    "\n",
    "df.Class.isnull().value_counts().plot.barh()\n",
    "plt.title(\"Number of accounts with missing default status (True for missing)\")\n",
    "plt.show()"
   ]
  },
  {
   "cell_type": "markdown",
   "id": "d152f0eb-2b07-43bd-a385-220029def2d5",
   "metadata": {},
   "source": [
    "Для единообразия нотации, создадим новую зависимую переменную target:"
   ]
  },
  {
   "cell_type": "code",
   "execution_count": 38,
   "id": "54b214fe-d87f-4fd9-91ca-7ec16ce5f995",
   "metadata": {},
   "outputs": [
    {
     "data": {
      "text/plain": [
       "0      NB\n",
       "1      NB\n",
       "2      NB\n",
       "3      NB\n",
       "4      NB\n",
       "       ..\n",
       "245     B\n",
       "246     B\n",
       "247     B\n",
       "248     B\n",
       "249     B\n",
       "Name: Class, Length: 250, dtype: object"
      ]
     },
     "execution_count": 38,
     "metadata": {},
     "output_type": "execute_result"
    }
   ],
   "source": [
    "df.Class"
   ]
  },
  {
   "cell_type": "code",
   "execution_count": 40,
   "id": "0b81fa6a-c70a-46a2-a7c1-a664ff095d71",
   "metadata": {},
   "outputs": [],
   "source": [
    "df[\"target\"] = np.where(df.Class == \"NB\", 0, 1)\n",
    "df.drop(\"Class\", inplace = True, axis = 1)"
   ]
  },
  {
   "cell_type": "markdown",
   "id": "3795227d-2084-4ff2-8ba4-34437a18aa35",
   "metadata": {},
   "source": [
    "Выделяем test&train сеты"
   ]
  },
  {
   "cell_type": "code",
   "execution_count": 41,
   "id": "efc9d1b4-c62f-42e2-b8d9-a8d0659630be",
   "metadata": {},
   "outputs": [],
   "source": [
    "X = df.loc[:, df.columns != 'target']\n",
    "y = df.target\n",
    "\n",
    "X_train, X_test, y_train, y_test = train_test_split(X, y, test_size=0.2, random_state=seed)\n",
    "\n",
    "X_train.reset_index(inplace=True, drop=True)\n",
    "X_test.reset_index(inplace=True, drop=True)\n",
    "y_train.reset_index(inplace=True, drop=True)\n",
    "y_test.reset_index(inplace=True, drop=True)\n"
   ]
  },
  {
   "cell_type": "markdown",
   "id": "a7671598-499b-473f-8d09-164e7503cfad",
   "metadata": {},
   "source": [
    "Сохраняем данные"
   ]
  },
  {
   "cell_type": "code",
   "execution_count": null,
   "id": "196d58e4-e1ec-42ab-a0f5-0f146f58582f",
   "metadata": {},
   "outputs": [],
   "source": [
    "!pip install pyarrow\n",
    "!pip install fastparquet"
   ]
  },
  {
   "cell_type": "code",
   "execution_count": 42,
   "id": "f1846a18-1374-4c54-9ae0-556074a88acf",
   "metadata": {},
   "outputs": [
    {
     "name": "stderr",
     "output_type": "stream",
     "text": [
      "A subdirectory or file samples already exists.\n"
     ]
    }
   ],
   "source": [
    "# Save data & info ===\n",
    "# parquet is optimized for large volumes of data\n",
    "!mkdir samples\n",
    "X_train.to_parquet('./samples/X_train.parquet')\n",
    "X_test.to_parquet('./samples/X_test.parquet')\n",
    "# переводим pd.Series в pd.DataFrame для удобного экспорта\n",
    "pd.DataFrame(y_train).to_parquet('./samples/y_train.parquet')\n",
    "pd.DataFrame(y_test).to_parquet('./samples/y_test.parquet')\n",
    "\n",
    "#списки категориальных и количественных переменных\n",
    "df_number_of_uniques = df.nunique()\n",
    "presumably_continuous = df_number_of_uniques[df_number_of_uniques >= 15]\n",
    "presumably_discrete = df_number_of_uniques[df_number_of_uniques < 15]\n",
    "\n",
    "presumably_continuous_names = list(presumably_continuous.index)\n",
    "presumably_discrete_names = list(presumably_discrete.index)\n",
    "\n",
    "with open('factors.json', 'w') as f:\n",
    "    json.dump({'cat_vals': presumably_discrete_names, \"num_vals\": presumably_continuous_names}, f)"
   ]
  },
  {
   "cell_type": "markdown",
   "id": "81d5f84a-0f12-4c61-bc05-33be9e04864c",
   "metadata": {
    "tags": []
   },
   "source": [
    "### Статистики"
   ]
  },
  {
   "cell_type": "code",
   "execution_count": 43,
   "id": "2f6e765c-15c5-4b42-84ad-f76f6028074d",
   "metadata": {},
   "outputs": [
    {
     "name": "stdout",
     "output_type": "stream",
     "text": [
      "Количество наблюдений: 250\n",
      "Количество наблюдений, где имеются данные о дефолте или его отсутствии: 250\n",
      "Количество факторов: 6\n",
      "Количество целевых событий: 107\n",
      "Доля целевых событий: 42.8%\n"
     ]
    }
   ],
   "source": [
    "print(f'Количество наблюдений: {X.shape[0]}')\n",
    "print(f'Количество наблюдений, где имеются данные о дефолте или его отсутствии: {X[y.isnull() == False].shape[0]}')\n",
    "print(f'Количество факторов: {X.shape[1]}')\n",
    "print(f'Количество целевых событий: {y.sum()}')\n",
    "print(f'Доля целевых событий: {y.sum() / X[y.isnull() == False].shape[0] * 100}%')"
   ]
  },
  {
   "cell_type": "markdown",
   "id": "16a18560-ea19-4a0d-8673-e189beb87a48",
   "metadata": {},
   "source": [
    "### Пропуски"
   ]
  },
  {
   "cell_type": "markdown",
   "id": "03ac37c6-04e8-4014-b691-c1d081fe4c78",
   "metadata": {},
   "source": [
    "Пропусков в данных нет"
   ]
  },
  {
   "cell_type": "code",
   "execution_count": 44,
   "id": "6c62368a-1491-4565-9c54-8637eb20bbaa",
   "metadata": {},
   "outputs": [
    {
     "name": "stdout",
     "output_type": "stream",
     "text": [
      "Количество пропусков по фактору IR:\n",
      "\t0 или 0.0%\n",
      "Количество пропусков по фактору MR:\n",
      "\t0 или 0.0%\n",
      "Количество пропусков по фактору FF:\n",
      "\t0 или 0.0%\n",
      "Количество пропусков по фактору CR:\n",
      "\t0 или 0.0%\n",
      "Количество пропусков по фактору CO:\n",
      "\t0 или 0.0%\n",
      "Количество пропусков по фактору OP:\n",
      "\t0 или 0.0%\n"
     ]
    }
   ],
   "source": [
    "for col in X.columns:\n",
    "    print(f'Количество пропусков по фактору {col}:\\n\\t{X[col].isna().sum()} или {X[col].isna().sum() / df.shape[0] * 100}%')"
   ]
  },
  {
   "cell_type": "markdown",
   "id": "9e3370a8-765a-4262-b197-f682c5b9c920",
   "metadata": {},
   "source": [
    "### Визуальный анализ"
   ]
  },
  {
   "cell_type": "markdown",
   "id": "cd0b3ecf-1212-447f-ab20-a3177014f980",
   "metadata": {},
   "source": [
    "Изготовим маску для осмысленного наименования факторов:"
   ]
  },
  {
   "cell_type": "code",
   "execution_count": 45,
   "id": "0e4c4721-c1d8-4b1d-8306-56585857b633",
   "metadata": {},
   "outputs": [
    {
     "name": "stdout",
     "output_type": "stream",
     "text": [
      "{'CO': 'Competitiveness',\n",
      " 'CR': 'Credibility',\n",
      " 'FF': 'Financial Flexibility',\n",
      " 'IR': 'Industrial Risk',\n",
      " 'MR': 'Management Risk:',\n",
      " 'OP': 'Operating Risk',\n",
      " 'TARGET': 'target'}\n"
     ]
    }
   ],
   "source": [
    "from pprint import pprint \n",
    "df_names_short = df_names[[\"Variable Name\", \"Description\"]][(df_names[\"Variable Name\"] != \"\")&(df_names[\"Description\"] != \"\")]\n",
    "short_names = df_names_short[\"Variable Name\"]\n",
    "short_names = short_names.str.upper()\n",
    "meaningful_names = df_names_short[\"Description\"]\n",
    "names_mask = dict(zip(short_names, meaningful_names))\n",
    "\n",
    "pprint(names_mask)"
   ]
  },
  {
   "cell_type": "markdown",
   "id": "a5a69a51-8d14-4799-9c89-270f752174e3",
   "metadata": {},
   "source": [
    "И маски для осмысленных обозначений кодов категориальных переменных:"
   ]
  },
  {
   "cell_type": "code",
   "execution_count": 46,
   "id": "f11905ef-cad8-4340-8000-3d79e5e45d71",
   "metadata": {},
   "outputs": [],
   "source": [
    "\n",
    "cat_vals_all_mask = {\n",
    "    \"P\" : \"Positive\",\n",
    "    \"N\" : \"Negative\",\n",
    "    \"A\" : \"Average\"\n",
    "}\n",
    "\n",
    "dict_of_masks = {\n",
    "    \"IR\" : cat_vals_all_mask,\n",
    "    \"CO\" : cat_vals_all_mask,\n",
    "    \"CR\" : cat_vals_all_mask,\n",
    "    \"FF\" : cat_vals_all_mask,\n",
    "    \"MR\" : cat_vals_all_mask,\n",
    "    \"OP\" : cat_vals_all_mask\n",
    "}"
   ]
  },
  {
   "cell_type": "code",
   "execution_count": 47,
   "id": "23671bf6-0147-4b7b-af7a-8206523b0792",
   "metadata": {},
   "outputs": [],
   "source": [
    "X_cat = X.copy()\n",
    "for col_name in dict_of_masks.keys():\n",
    "    X_cat[col_name] = X_cat[col_name].replace(dict_of_masks[col_name])"
   ]
  },
  {
   "cell_type": "code",
   "execution_count": 48,
   "id": "556128a1-5314-4d23-aee3-58fb6342bf81",
   "metadata": {},
   "outputs": [
    {
     "name": "stdout",
     "output_type": "stream",
     "text": [
      "categorical\n"
     ]
    },
    {
     "data": {
      "image/png": "[encoded data removed]",
      "text/plain": [
       "<Figure size 432x288 with 1 Axes>"
      ]
     },
     "metadata": {
      "needs_background": "light"
     },
     "output_type": "display_data"
    },
    {
     "name": "stdout",
     "output_type": "stream",
     "text": [
      "categorical\n"
     ]
    },
    {
     "data": {
      "image/png": "[encoded data removed]",
      "text/plain": [
       "<Figure size 432x288 with 1 Axes>"
      ]
     },
     "metadata": {
      "needs_background": "light"
     },
     "output_type": "display_data"
    },
    {
     "name": "stdout",
     "output_type": "stream",
     "text": [
      "categorical\n"
     ]
    },
    {
     "data": {
      "image/png": "[encoded data removed]",
      "text/plain": [
       "<Figure size 432x288 with 1 Axes>"
      ]
     },
     "metadata": {
      "needs_background": "light"
     },
     "output_type": "display_data"
    },
    {
     "name": "stdout",
     "output_type": "stream",
     "text": [
      "categorical\n"
     ]
    },
    {
     "data": {
      "image/png": "[encoded data removed]",
      "text/plain": [
       "<Figure size 432x288 with 1 Axes>"
      ]
     },
     "metadata": {
      "needs_background": "light"
     },
     "output_type": "display_data"
    },
    {
     "name": "stdout",
     "output_type": "stream",
     "text": [
      "categorical\n"
     ]
    },
    {
     "data": {
      "image/png": "[encoded data removed]",
      "text/plain": [
       "<Figure size 432x288 with 1 Axes>"
      ]
     },
     "metadata": {
      "needs_background": "light"
     },
     "output_type": "display_data"
    },
    {
     "name": "stdout",
     "output_type": "stream",
     "text": [
      "categorical\n"
     ]
    },
    {
     "data": {
      "image/png": "[encoded data removed]",
      "text/plain": [
       "<Figure size 432x288 with 1 Axes>"
      ]
     },
     "metadata": {
      "needs_background": "light"
     },
     "output_type": "display_data"
    }
   ],
   "source": [
    "def plot_categorical(column, column_name, names_mask):\n",
    "    column.value_counts().plot.barh()\n",
    "    plt.title(f'Distribution of {column_name} ({names_mask[column_name]})')\n",
    "    plt.show()\n",
    "\n",
    "def plot_mixed(column, column_name, names_mask):\n",
    "    print(\"This is a column mixed of both numeric and non-numeric values\")\n",
    "    check_numeric = column.str.isnumeric()\n",
    "    check_numeric[check_numeric.isnull()] = True\n",
    "    check_numeric[column.isnull()] = False\n",
    "\n",
    "    plt.hist(column[check_numeric], orientation='horizontal')\n",
    "    plt.title(f'Distribution of {column_name} ({names_mask[column_name]}) without non-numeric values')\n",
    "    plt.show()\n",
    "\n",
    "    check_numeric.value_counts().plot.barh()\n",
    "    plt.title(f'Distribution of non-missing (numeric) values in {column_name} ({names_mask[column_name]})')\n",
    "    plt.show()\n",
    "\n",
    "def plot_numeric(column, column_name, names_mask):\n",
    "    plt.hist(column, orientation='horizontal')\n",
    "    plt.title(f'Distribution of {column_name} ({names_mask[column_name]})')\n",
    "    plt.show()    \n",
    "\n",
    "def plot_datetime(column, column_name, names_mask):\n",
    "    column.hist()\n",
    "    plt.title(f'Distribution of {column_name} ({names_mask[column_name]})')\n",
    "    plt.show()\n",
    "    \n",
    "def check_mixed_or_categorical(column):\n",
    "    if is_string_dtype(column) == False:\n",
    "        return(False)\n",
    "    else:\n",
    "        check_numeric = column.str.isnumeric()\n",
    "        check_numeric[check_numeric.isnull()] = True\n",
    "        check_numeric[column.isnull()] = False\n",
    "        if len(column[check_numeric]) == 0:\n",
    "            return(\"categorical\")\n",
    "        else:\n",
    "            return(\"mixed\")\n",
    "\n",
    "def check_factor_plotting_type(column, column_name, names_mask):\n",
    "    if column.dtype == pd.Series([np.datetime64(\"1995-05-05\")]).dtype:\n",
    "        return(\"datetime\")\n",
    "    elif check_mixed_or_categorical(column) != False:\n",
    "        return(check_mixed_or_categorical(column))\n",
    "    else:\n",
    "        return(\"numeric\")\n",
    "\n",
    "def plot_all(column, column_name, names_mask, presumably_discrete_names = presumably_discrete_names):\n",
    "    map_functions_to_types = {\n",
    "        \"categorical\" : plot_categorical,\n",
    "        \"mixed\" : plot_mixed,\n",
    "        \"numeric\" : plot_numeric, \n",
    "        \"datetime\" : plot_datetime\n",
    "    }\n",
    "    \n",
    "    type_checked = check_factor_plotting_type(column, column_name, names_mask)\n",
    "    print(type_checked)\n",
    "    map_functions_to_types[type_checked](column, column_name, names_mask)\n",
    "\n",
    "\n",
    "for col in X_cat.columns:\n",
    "    \n",
    "    plot_all(X_cat[col], col, names_mask)\n"
   ]
  },
  {
   "cell_type": "markdown",
   "id": "6b5cafc1-57a5-4511-ac95-19c36ff80bfb",
   "metadata": {},
   "source": [
    "### Выбросы"
   ]
  },
  {
   "cell_type": "markdown",
   "id": "cdf9b99f-0fa9-47d2-ae1f-9ccab6bd370d",
   "metadata": {},
   "source": [
    "В датасете все переменные - категориальные"
   ]
  },
  {
   "cell_type": "markdown",
   "id": "9439abc0-7be8-4ebe-a543-5ff09c6adee6",
   "metadata": {},
   "source": [
    "### Выводы\n",
    "\n",
    "Очень маленький датасет, содержащий только категориальные переменные. С одной стороны, в нем нет пропусков и выбросов и довольно большая доля целевых событий (почти 50%). С другой, надежды построить надежную модель для получения прогнозов с таким количеством наблюдений достаточно мало, тем более, что вряд ли качественные факторы предоставляют исчерпывающую информацию для такого прогноза, а возможности присоединить к нему дополнительные факторы нет за анонимностью данных."
   ]
  }
 ],
 "metadata": {
  "kernelspec": {
   "display_name": "Python 3",
   "language": "python",
   "name": "python3"
  },
  "language_info": {
   "codemirror_mode": {
    "name": "ipython",
    "version": 3
   },
   "file_extension": ".py",
   "mimetype": "text/x-python",
   "name": "python",
   "nbconvert_exporter": "python",
   "pygments_lexer": "ipython3",
   "version": "3.8.8"
  }
 },
 "nbformat": 4,
 "nbformat_minor": 5
}
