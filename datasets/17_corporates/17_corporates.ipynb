{
 "cells": [
  {
   "cell_type": "code",
   "execution_count": 1,
   "id": "f809b491-1dc0-4aee-8d7d-a32ce8dadffa",
   "metadata": {},
   "outputs": [],
   "source": [
    "import time\n",
    "import os\n",
    "import json\n",
    "import numpy as np\n",
    "import pandas as pd\n",
    "import matplotlib.pyplot as plt\n",
    "from sklearn.model_selection import train_test_split\n",
    "from scipy import stats\n",
    "from pandas.api.types import is_string_dtype\n",
    "from pandas.api.types import is_numeric_dtype\n",
    "from pprint import pprint\n",
    "import math\n"
   ]
  },
  {
   "cell_type": "code",
   "execution_count": 2,
   "id": "57b39e95-5e64-47de-938f-7449b94c68f0",
   "metadata": {},
   "outputs": [],
   "source": [
    "# params\n",
    "seed = 42"
   ]
  },
  {
   "cell_type": "markdown",
   "id": "cb61c09b-5c09-4ae8-ac65-1e94eea3b53d",
   "metadata": {},
   "source": [
    "Данные по 50-ти корпоративным заемщикам. В качестве фактора - financial ratios.\n"
   ]
  },
  {
   "cell_type": "code",
   "execution_count": 6,
   "id": "75a4d061-054b-4799-b184-ceebdcbe377a",
   "metadata": {},
   "outputs": [
    {
     "data": {
      "text/html": [
       "<div>\n",
       "<style scoped>\n",
       "    .dataframe tbody tr th:only-of-type {\n",
       "        vertical-align: middle;\n",
       "    }\n",
       "\n",
       "    .dataframe tbody tr th {\n",
       "        vertical-align: top;\n",
       "    }\n",
       "\n",
       "    .dataframe thead th {\n",
       "        text-align: right;\n",
       "    }\n",
       "</style>\n",
       "<table border=\"1\" class=\"dataframe\">\n",
       "  <thead>\n",
       "    <tr style=\"text-align: right;\">\n",
       "      <th></th>\n",
       "      <th>Company</th>\n",
       "      <th>WC/TA</th>\n",
       "      <th>RE/TA</th>\n",
       "      <th>EBIT/TA</th>\n",
       "      <th>S/TA</th>\n",
       "      <th>BVE/BVL</th>\n",
       "      <th>Bankrupt</th>\n",
       "    </tr>\n",
       "  </thead>\n",
       "  <tbody>\n",
       "    <tr>\n",
       "      <th>0</th>\n",
       "      <td>360Networks</td>\n",
       "      <td>9.3</td>\n",
       "      <td>-7.7</td>\n",
       "      <td>1.6</td>\n",
       "      <td>9.1</td>\n",
       "      <td>3.726</td>\n",
       "      <td>1</td>\n",
       "    </tr>\n",
       "    <tr>\n",
       "      <th>1</th>\n",
       "      <td>Advanced Radio Telecom</td>\n",
       "      <td>42.6</td>\n",
       "      <td>-60.1</td>\n",
       "      <td>-10.1</td>\n",
       "      <td>0.3</td>\n",
       "      <td>4.130</td>\n",
       "      <td>1</td>\n",
       "    </tr>\n",
       "    <tr>\n",
       "      <th>2</th>\n",
       "      <td>Ardent Communications</td>\n",
       "      <td>-28.8</td>\n",
       "      <td>-203.2</td>\n",
       "      <td>-51.0</td>\n",
       "      <td>14.7</td>\n",
       "      <td>0.111</td>\n",
       "      <td>1</td>\n",
       "    </tr>\n",
       "    <tr>\n",
       "      <th>3</th>\n",
       "      <td>At Home Corp.</td>\n",
       "      <td>2.5</td>\n",
       "      <td>-433.1</td>\n",
       "      <td>-6.0</td>\n",
       "      <td>29.3</td>\n",
       "      <td>1.949</td>\n",
       "      <td>1</td>\n",
       "    </tr>\n",
       "    <tr>\n",
       "      <th>4</th>\n",
       "      <td>Convergent Communications</td>\n",
       "      <td>26.1</td>\n",
       "      <td>-57.4</td>\n",
       "      <td>-23.5</td>\n",
       "      <td>54.2</td>\n",
       "      <td>0.855</td>\n",
       "      <td>1</td>\n",
       "    </tr>\n",
       "  </tbody>\n",
       "</table>\n",
       "</div>"
      ],
      "text/plain": [
       "                     Company  WC/TA  RE/TA  EBIT/TA  S/TA  BVE/BVL  Bankrupt\n",
       "0                360Networks    9.3   -7.7      1.6   9.1    3.726         1\n",
       "1     Advanced Radio Telecom   42.6  -60.1    -10.1   0.3    4.130         1\n",
       "2      Ardent Communications  -28.8 -203.2    -51.0  14.7    0.111         1\n",
       "3              At Home Corp.    2.5 -433.1     -6.0  29.3    1.949         1\n",
       "4  Convergent Communications   26.1  -57.4    -23.5  54.2    0.855         1"
      ]
     },
     "execution_count": 6,
     "metadata": {},
     "output_type": "execute_result"
    }
   ],
   "source": [
    "#read the data\n",
    "df = pd.read_excel('bankruptcy.xls')\n",
    "\n",
    "df.head()"
   ]
  },
  {
   "cell_type": "markdown",
   "id": "9ea2c372-6bb6-49b0-8624-0105ffeb1d5e",
   "metadata": {},
   "source": [
    "Уже видим пропуски"
   ]
  },
  {
   "cell_type": "markdown",
   "id": "84287788-4177-45bb-8990-6a1ebeeea74a",
   "metadata": {},
   "source": [
    "### Список факторов:\n",
    "|    | Variable Name   | Description                         | Codings                                                 |\n",
    "|---:|:----------------|:------------------------------------|:--------------------------------------------------------|\n",
    "|  0 | Bankrupt             | target                              |  |\n",
    "|  1 | S/TA                | Sales to total assets                                    |                                  |\n",
    "|  2 | EBIT/TA            | Earnings before interest and tax to total assets          |                                                         |\n",
    "|  3 | RE/TA         | Retained earnings to total assets     |                                                         |\n",
    "|  4 | WC/TA           | Working capital to total assets           |                                                         |\n",
    "|  5 | BVE/BVL           | Book value of equity to book value of liabilities           |                                                         |"
   ]
  },
  {
   "cell_type": "code",
   "execution_count": 22,
   "id": "50ca06a2-2a4e-4230-983a-37281989c7a9",
   "metadata": {},
   "outputs": [
    {
     "data": {
      "text/html": [
       "<div>\n",
       "<style scoped>\n",
       "    .dataframe tbody tr th:only-of-type {\n",
       "        vertical-align: middle;\n",
       "    }\n",
       "\n",
       "    .dataframe tbody tr th {\n",
       "        vertical-align: top;\n",
       "    }\n",
       "\n",
       "    .dataframe thead th {\n",
       "        text-align: right;\n",
       "    }\n",
       "</style>\n",
       "<table border=\"1\" class=\"dataframe\">\n",
       "  <thead>\n",
       "    <tr style=\"text-align: right;\">\n",
       "      <th></th>\n",
       "      <th>Variable Name</th>\n",
       "      <th>Description</th>\n",
       "    </tr>\n",
       "  </thead>\n",
       "  <tbody>\n",
       "    <tr>\n",
       "      <th>0</th>\n",
       "      <td>Bankrupt</td>\n",
       "      <td>target</td>\n",
       "    </tr>\n",
       "    <tr>\n",
       "      <th>1</th>\n",
       "      <td>S/TA</td>\n",
       "      <td>Sales to total assets</td>\n",
       "    </tr>\n",
       "    <tr>\n",
       "      <th>2</th>\n",
       "      <td>EBIT/TA</td>\n",
       "      <td>Earnings before interest and tax to total assets</td>\n",
       "    </tr>\n",
       "    <tr>\n",
       "      <th>3</th>\n",
       "      <td>RE/TA</td>\n",
       "      <td>Retained earnings to total assets</td>\n",
       "    </tr>\n",
       "    <tr>\n",
       "      <th>4</th>\n",
       "      <td>WC/TA</td>\n",
       "      <td>Working capital to total assets</td>\n",
       "    </tr>\n",
       "    <tr>\n",
       "      <th>5</th>\n",
       "      <td>BVE/BVL</td>\n",
       "      <td>Book value of equity to book value of liabilities</td>\n",
       "    </tr>\n",
       "  </tbody>\n",
       "</table>\n",
       "</div>"
      ],
      "text/plain": [
       "  Variable Name                                        Description\n",
       "0      Bankrupt                                             target\n",
       "1          S/TA                              Sales to total assets\n",
       "2       EBIT/TA   Earnings before interest and tax to total assets\n",
       "3         RE/TA                  Retained earnings to total assets\n",
       "4         WC/TA                    Working capital to total assets\n",
       "5       BVE/BVL  Book value of equity to book value of liabilities"
      ]
     },
     "execution_count": 22,
     "metadata": {},
     "output_type": "execute_result"
    }
   ],
   "source": [
    "df_names = pd.DataFrame({\"Variable Name\" : [\"Bankrupt\", \"S/TA\", \"EBIT/TA\", \"RE/TA\", \"WC/TA\", \"BVE/BVL\"],\n",
    "                        \"Description\" : [\"target\", \"Sales to total assets\", \"Earnings before interest and tax to total assets\", \n",
    "                                         \"Retained earnings to total assets\", \"Working capital to total assets\",\n",
    "                                         \"Book value of equity to book value of liabilities\"]})\n",
    "df_names"
   ]
  },
  {
   "cell_type": "markdown",
   "id": "65b178a7-ddc6-4f31-b1c2-2edc120da44f",
   "metadata": {},
   "source": [
    "Датасет поделен пополам между дефолтнувшими и недефолтнувшими заемщиками"
   ]
  },
  {
   "cell_type": "code",
   "execution_count": 8,
   "id": "ebd49b1c-ec88-4c80-97d2-74083b3f3324",
   "metadata": {},
   "outputs": [
    {
     "data": {
      "image/png": "[encoded data removed]",
      "text/plain": [
       "<Figure size 432x288 with 1 Axes>"
      ]
     },
     "metadata": {
      "needs_background": "light"
     },
     "output_type": "display_data"
    },
    {
     "data": {
      "image/png": "[encoded data removed]",
      "text/plain": [
       "<Figure size 432x288 with 1 Axes>"
      ]
     },
     "metadata": {
      "needs_background": "light"
     },
     "output_type": "display_data"
    }
   ],
   "source": [
    "df.Bankrupt.value_counts().plot.barh()\n",
    "plt.title(\"Distribution of status\")\n",
    "plt.show()\n",
    "\n",
    "df.Bankrupt.isnull().value_counts().plot.barh()\n",
    "plt.title(\"Number of accounts with missing default status (True for missing)\")\n",
    "plt.show()"
   ]
  },
  {
   "cell_type": "markdown",
   "id": "d152f0eb-2b07-43bd-a385-220029def2d5",
   "metadata": {},
   "source": [
    "Для единообразия нотации, создадим новую зависимую переменную target:"
   ]
  },
  {
   "cell_type": "code",
   "execution_count": 29,
   "id": "0b81fa6a-c70a-46a2-a7c1-a664ff095d71",
   "metadata": {},
   "outputs": [],
   "source": [
    "df.rename(columns = {\"Bankrupt\":\"target\"}, inplace = True)\n",
    "df.drop(columns = [\"Company\"], inplace = True)"
   ]
  },
  {
   "cell_type": "markdown",
   "id": "3795227d-2084-4ff2-8ba4-34437a18aa35",
   "metadata": {},
   "source": [
    "Выделяем test&train сеты"
   ]
  },
  {
   "cell_type": "code",
   "execution_count": 30,
   "id": "efc9d1b4-c62f-42e2-b8d9-a8d0659630be",
   "metadata": {},
   "outputs": [],
   "source": [
    "X = df.loc[:, df.columns != 'target']\n",
    "y = df.target\n",
    "\n",
    "X_train, X_test, y_train, y_test = train_test_split(X, y, test_size=0.2, random_state=seed)\n",
    "\n",
    "X_train.reset_index(inplace=True, drop=True)\n",
    "X_test.reset_index(inplace=True, drop=True)\n",
    "y_train.reset_index(inplace=True, drop=True)\n",
    "y_test.reset_index(inplace=True, drop=True)\n"
   ]
  },
  {
   "cell_type": "markdown",
   "id": "a7671598-499b-473f-8d09-164e7503cfad",
   "metadata": {},
   "source": [
    "Сохраняем данные"
   ]
  },
  {
   "cell_type": "code",
   "execution_count": null,
   "id": "196d58e4-e1ec-42ab-a0f5-0f146f58582f",
   "metadata": {},
   "outputs": [],
   "source": [
    "!pip install pyarrow\n",
    "!pip install fastparquet"
   ]
  },
  {
   "cell_type": "code",
   "execution_count": 31,
   "id": "f1846a18-1374-4c54-9ae0-556074a88acf",
   "metadata": {},
   "outputs": [
    {
     "name": "stderr",
     "output_type": "stream",
     "text": [
      "A subdirectory or file samples already exists.\n"
     ]
    }
   ],
   "source": [
    "# Save data & info ===\n",
    "# parquet is optimized for large volumes of data\n",
    "!mkdir samples\n",
    "X_train.to_parquet('./samples/X_train.parquet')\n",
    "X_test.to_parquet('./samples/X_test.parquet')\n",
    "# переводим pd.Series в pd.DataFrame для удобного экспорта\n",
    "pd.DataFrame(y_train).to_parquet('./samples/y_train.parquet')\n",
    "pd.DataFrame(y_test).to_parquet('./samples/y_test.parquet')\n",
    "\n",
    "#списки категориальных и количественных переменных\n",
    "df_number_of_uniques = df.nunique()\n",
    "presumably_continuous = df_number_of_uniques[df_number_of_uniques >= 15]\n",
    "presumably_discrete = df_number_of_uniques[df_number_of_uniques < 15]\n",
    "\n",
    "presumably_continuous_names = list(presumably_continuous.index)\n",
    "presumably_discrete_names = list(presumably_discrete.index)\n",
    "\n",
    "with open('factors.json', 'w') as f:\n",
    "    json.dump({'cat_vals': presumably_discrete_names, \"num_vals\": presumably_continuous_names}, f)"
   ]
  },
  {
   "cell_type": "markdown",
   "id": "81d5f84a-0f12-4c61-bc05-33be9e04864c",
   "metadata": {
    "tags": []
   },
   "source": [
    "### Статистики"
   ]
  },
  {
   "cell_type": "code",
   "execution_count": 32,
   "id": "2f6e765c-15c5-4b42-84ad-f76f6028074d",
   "metadata": {},
   "outputs": [
    {
     "name": "stdout",
     "output_type": "stream",
     "text": [
      "Количество наблюдений: 50\n",
      "Количество наблюдений, где имеются данные о дефолте или его отсутствии: 50\n",
      "Количество факторов: 5\n",
      "Количество целевых событий: 25\n",
      "Доля целевых событий: 50.0%\n"
     ]
    }
   ],
   "source": [
    "print(f'Количество наблюдений: {X.shape[0]}')\n",
    "print(f'Количество наблюдений, где имеются данные о дефолте или его отсутствии: {X[y.isnull() == False].shape[0]}')\n",
    "print(f'Количество факторов: {X.shape[1]}')\n",
    "print(f'Количество целевых событий: {y.sum()}')\n",
    "print(f'Доля целевых событий: {y.sum() / X[y.isnull() == False].shape[0] * 100}%')"
   ]
  },
  {
   "cell_type": "markdown",
   "id": "16a18560-ea19-4a0d-8673-e189beb87a48",
   "metadata": {},
   "source": [
    "### Пропуски"
   ]
  },
  {
   "cell_type": "markdown",
   "id": "03ac37c6-04e8-4014-b691-c1d081fe4c78",
   "metadata": {},
   "source": [
    "В датасете присутствуют пропуски (но не в зависимой переменной)"
   ]
  },
  {
   "cell_type": "code",
   "execution_count": 33,
   "id": "6c62368a-1491-4565-9c54-8637eb20bbaa",
   "metadata": {},
   "outputs": [
    {
     "name": "stdout",
     "output_type": "stream",
     "text": [
      "Количество пропусков по фактору WC/TA:\n",
      "\t0 или 0.0%\n",
      "Количество пропусков по фактору RE/TA:\n",
      "\t0 или 0.0%\n",
      "Количество пропусков по фактору EBIT/TA:\n",
      "\t0 или 0.0%\n",
      "Количество пропусков по фактору S/TA:\n",
      "\t0 или 0.0%\n",
      "Количество пропусков по фактору BVE/BVL:\n",
      "\t0 или 0.0%\n"
     ]
    }
   ],
   "source": [
    "for col in X.columns:\n",
    "    print(f'Количество пропусков по фактору {col}:\\n\\t{X[col].isna().sum()} или {X[col].isna().sum() / df.shape[0] * 100}%')"
   ]
  },
  {
   "cell_type": "markdown",
   "id": "9e3370a8-765a-4262-b197-f682c5b9c920",
   "metadata": {},
   "source": [
    "### Визуальный анализ"
   ]
  },
  {
   "cell_type": "markdown",
   "id": "cd0b3ecf-1212-447f-ab20-a3177014f980",
   "metadata": {},
   "source": [
    "Изготовим маску для осмысленного наименования факторов:"
   ]
  },
  {
   "cell_type": "code",
   "execution_count": 34,
   "id": "0e4c4721-c1d8-4b1d-8306-56585857b633",
   "metadata": {},
   "outputs": [
    {
     "name": "stdout",
     "output_type": "stream",
     "text": [
      "{'BANKRUPT': 'target',\n",
      " 'BVE/BVL': 'Book value of equity to book value of liabilities',\n",
      " 'EBIT/TA': 'Earnings before interest and tax to total assets',\n",
      " 'RE/TA': 'Retained earnings to total assets',\n",
      " 'S/TA': 'Sales to total assets',\n",
      " 'WC/TA': 'Working capital to total assets'}\n"
     ]
    }
   ],
   "source": [
    "from pprint import pprint \n",
    "df_names_short = df_names[[\"Variable Name\", \"Description\"]][(df_names[\"Variable Name\"] != \"\")&(df_names[\"Description\"] != \"\")]\n",
    "short_names = df_names_short[\"Variable Name\"]\n",
    "short_names = short_names.str.upper()\n",
    "meaningful_names = df_names_short[\"Description\"]\n",
    "names_mask = dict(zip(short_names, meaningful_names))\n",
    "\n",
    "pprint(names_mask)"
   ]
  },
  {
   "cell_type": "markdown",
   "id": "a5a69a51-8d14-4799-9c89-270f752174e3",
   "metadata": {},
   "source": [
    "И маски для осмысленных обозначений кодов категориальных переменных:"
   ]
  },
  {
   "cell_type": "code",
   "execution_count": 26,
   "id": "f11905ef-cad8-4340-8000-3d79e5e45d71",
   "metadata": {},
   "outputs": [],
   "source": [
    "\n",
    "cat_vals_reason_mask = {\n",
    "    \"DebtCon\" : \"\"\n",
    "}\n",
    "\n",
    "dict_of_masks = {\n",
    "}"
   ]
  },
  {
   "cell_type": "code",
   "execution_count": 35,
   "id": "23671bf6-0147-4b7b-af7a-8206523b0792",
   "metadata": {},
   "outputs": [],
   "source": [
    "X_cat = X.copy()\n",
    "for col_name in dict_of_masks.keys():\n",
    "    X_cat[col_name] = X_cat[col_name].replace(dict_of_masks[col_name])"
   ]
  },
  {
   "cell_type": "code",
   "execution_count": 36,
   "id": "556128a1-5314-4d23-aee3-58fb6342bf81",
   "metadata": {},
   "outputs": [
    {
     "name": "stdout",
     "output_type": "stream",
     "text": [
      "numeric\n"
     ]
    },
    {
     "data": {
      "image/png": "[encoded data removed]",
      "text/plain": [
       "<Figure size 432x288 with 1 Axes>"
      ]
     },
     "metadata": {
      "needs_background": "light"
     },
     "output_type": "display_data"
    },
    {
     "name": "stdout",
     "output_type": "stream",
     "text": [
      "numeric\n"
     ]
    },
    {
     "data": {
      "image/png": "[encoded data removed]",
      "text/plain": [
       "<Figure size 432x288 with 1 Axes>"
      ]
     },
     "metadata": {
      "needs_background": "light"
     },
     "output_type": "display_data"
    },
    {
     "name": "stdout",
     "output_type": "stream",
     "text": [
      "numeric\n"
     ]
    },
    {
     "data": {
      "image/png": "[encoded data removed]",
      "text/plain": [
       "<Figure size 432x288 with 1 Axes>"
      ]
     },
     "metadata": {
      "needs_background": "light"
     },
     "output_type": "display_data"
    },
    {
     "name": "stdout",
     "output_type": "stream",
     "text": [
      "numeric\n"
     ]
    },
    {
     "data": {
      "image/png": "[encoded data removed]",
      "text/plain": [
       "<Figure size 432x288 with 1 Axes>"
      ]
     },
     "metadata": {
      "needs_background": "light"
     },
     "output_type": "display_data"
    },
    {
     "name": "stdout",
     "output_type": "stream",
     "text": [
      "numeric\n"
     ]
    },
    {
     "data": {
      "image/png": "[encoded data removed]",
      "text/plain": [
       "<Figure size 432x288 with 1 Axes>"
      ]
     },
     "metadata": {
      "needs_background": "light"
     },
     "output_type": "display_data"
    }
   ],
   "source": [
    "def plot_categorical(column, column_name, names_mask):\n",
    "    column.value_counts().plot.barh()\n",
    "    plt.title(f'Distribution of {column_name} ({names_mask[column_name]})')\n",
    "    plt.show()\n",
    "\n",
    "def plot_mixed(column, column_name, names_mask):\n",
    "    print(\"This is a column mixed of both numeric and non-numeric values\")\n",
    "    check_numeric = column.str.isnumeric()\n",
    "    check_numeric[check_numeric.isnull()] = True\n",
    "    check_numeric[column.isnull()] = False\n",
    "\n",
    "    plt.hist(column[check_numeric], orientation='horizontal')\n",
    "    plt.title(f'Distribution of {column_name} ({names_mask[column_name]}) without non-numeric values')\n",
    "    plt.show()\n",
    "\n",
    "    check_numeric.value_counts().plot.barh()\n",
    "    plt.title(f'Distribution of non-missing (numeric) values in {column_name} ({names_mask[column_name]})')\n",
    "    plt.show()\n",
    "\n",
    "def plot_numeric(column, column_name, names_mask):\n",
    "    plt.hist(column, orientation='horizontal')\n",
    "    plt.title(f'Distribution of {column_name} ({names_mask[column_name]})')\n",
    "    plt.show()    \n",
    "\n",
    "def plot_datetime(column, column_name, names_mask):\n",
    "    column.hist()\n",
    "    plt.title(f'Distribution of {column_name} ({names_mask[column_name]})')\n",
    "    plt.show()\n",
    "    \n",
    "def check_mixed_or_categorical(column):\n",
    "    if is_string_dtype(column) == False:\n",
    "        return(False)\n",
    "    else:\n",
    "        check_numeric = column.str.isnumeric()\n",
    "        check_numeric[check_numeric.isnull()] = True\n",
    "        check_numeric[column.isnull()] = False\n",
    "        if len(column[check_numeric]) == 0:\n",
    "            return(\"categorical\")\n",
    "        else:\n",
    "            return(\"mixed\")\n",
    "\n",
    "def check_factor_plotting_type(column, column_name, names_mask):\n",
    "    if column.dtype == pd.Series([np.datetime64(\"1995-05-05\")]).dtype:\n",
    "        return(\"datetime\")\n",
    "    elif check_mixed_or_categorical(column) != False:\n",
    "        return(check_mixed_or_categorical(column))\n",
    "    else:\n",
    "        return(\"numeric\")\n",
    "\n",
    "def plot_all(column, column_name, names_mask, presumably_discrete_names = presumably_discrete_names):\n",
    "    map_functions_to_types = {\n",
    "        \"categorical\" : plot_categorical,\n",
    "        \"mixed\" : plot_mixed,\n",
    "        \"numeric\" : plot_numeric, \n",
    "        \"datetime\" : plot_datetime\n",
    "    }\n",
    "    \n",
    "    type_checked = check_factor_plotting_type(column, column_name, names_mask)\n",
    "    print(type_checked)\n",
    "    map_functions_to_types[type_checked](column, column_name, names_mask)\n",
    "\n",
    "\n",
    "for col in X_cat.columns:\n",
    "    \n",
    "    plot_all(X_cat[col], col, names_mask)\n"
   ]
  },
  {
   "cell_type": "markdown",
   "id": "6b5cafc1-57a5-4511-ac95-19c36ff80bfb",
   "metadata": {},
   "source": [
    "Распределение переменных выглядит ок, хотя имеется странная вторая мода у BVE/BVL. Выбросов незаметно, хотя сложно о них судить для такого числа наблюдений.\n"
   ]
  },
  {
   "cell_type": "markdown",
   "id": "9439abc0-7be8-4ebe-a543-5ff09c6adee6",
   "metadata": {},
   "source": [
    "### Выводы\n",
    "\n",
    "Датасет очень маленький. Естественно, в нем нет пропусков и сложно сказать что-то о выбросах."
   ]
  }
 ],
 "metadata": {
  "kernelspec": {
   "display_name": "Python 3",
   "language": "python",
   "name": "python3"
  },
  "language_info": {
   "codemirror_mode": {
    "name": "ipython",
    "version": 3
   },
   "file_extension": ".py",
   "mimetype": "text/x-python",
   "name": "python",
   "nbconvert_exporter": "python",
   "pygments_lexer": "ipython3",
   "version": "3.8.8"
  }
 },
 "nbformat": 4,
 "nbformat_minor": 5
}
