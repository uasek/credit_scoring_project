{
 "cells": [
  {
   "cell_type": "markdown",
   "id": "3d12802c",
   "metadata": {},
   "source": [
    "# Lending Club dataset"
   ]
  },
  {
   "cell_type": "code",
   "execution_count": 1,
   "id": "6237c41d",
   "metadata": {},
   "outputs": [],
   "source": [
    "import time\n",
    "import os\n",
    "import json\n",
    "import numpy as np\n",
    "import pandas as pd\n",
    "import matplotlib.pyplot as plt\n",
    "from sklearn.model_selection import train_test_split\n",
    "# import pyarrow"
   ]
  },
  {
   "cell_type": "code",
   "execution_count": 2,
   "id": "def85ff7",
   "metadata": {},
   "outputs": [],
   "source": [
    "# params\n",
    "seed = 42"
   ]
  },
  {
   "cell_type": "markdown",
   "id": "ea607cff",
   "metadata": {},
   "source": [
    "[Ссылка на Kaggle-dataset](https://www.kaggle.com/wordsforthewise/lending-club?select=accepted_2007_to_2018Q4.csv.gz)\n",
    "\n",
    "Довольно популярный, особенно в последнее время. Один из топ-приоритетов при построении моделей.\n",
    "\n",
    "Датасет в целом состоит из одобренных и отклоненных кредитных заявок. Суть следующая: сначала платформа Lending Club (LC) получает заявку на кредит и выносит решение о её одобрении. Далее заявка выставляется на сайте и ищет финансирование. Потенциально могут быть заявки, которые не нашли финансирование. Не очень понятно, куда в данных попадают такие заявки: в описании датасета и на форуме не нашел соответствующих объяснений. Кажется, сам автор датасета этого не знает:\n",
    "\n",
    "> — Do we have access to the loans that are listed but not successfully funded?\n",
    ">\n",
    "> — I don't know if those are in there then, probably not. But they would be in the 'accepted' dataset if so.\n",
    ">\n",
    "> [(Discussion here)](https://www.kaggle.com/wordsforthewise/lending-club/discussion/253170)"
   ]
  },
  {
   "cell_type": "markdown",
   "id": "e4bc40c8-30a6-4606-a8ba-d5148c74d14a",
   "metadata": {},
   "source": [
    "***\n",
    "\n",
    "# I. Accepted Applications\n",
    "\n",
    "## 1. Подгрузка данных"
   ]
  },
  {
   "cell_type": "code",
   "execution_count": 3,
   "id": "c2989c64",
   "metadata": {},
   "outputs": [],
   "source": [
    "# К сожалению, файл очень большой и скачать по прямой ссылке сложно.\n",
    "# Сначала лучше вручную скачать данные из гугл-диска Вани П.:\n",
    "# https://drive.google.com/drive/folders/1-pkYWSUwiwZXrojOeIhdhBLbvr2Rxhww?usp=sharing\n",
    "\n",
    "df_acc = pd.read_csv('./raw_files/accepted_2007_to_2018Q4.csv', low_memory=False)\n",
    "# df_rej = pd.read_csv('./raw_files/rejected_2007_to_2018Q4.csv', low_memory=False)"
   ]
  },
  {
   "cell_type": "code",
   "execution_count": 4,
   "id": "dc3f2fd9",
   "metadata": {},
   "outputs": [
    {
     "data": {
      "text/html": [
       "<div>\n",
       "<style scoped>\n",
       "    .dataframe tbody tr th:only-of-type {\n",
       "        vertical-align: middle;\n",
       "    }\n",
       "\n",
       "    .dataframe tbody tr th {\n",
       "        vertical-align: top;\n",
       "    }\n",
       "\n",
       "    .dataframe thead th {\n",
       "        text-align: right;\n",
       "    }\n",
       "</style>\n",
       "<table border=\"1\" class=\"dataframe\">\n",
       "  <thead>\n",
       "    <tr style=\"text-align: right;\">\n",
       "      <th></th>\n",
       "      <th>id</th>\n",
       "      <th>member_id</th>\n",
       "      <th>loan_amnt</th>\n",
       "      <th>funded_amnt</th>\n",
       "      <th>funded_amnt_inv</th>\n",
       "      <th>term</th>\n",
       "      <th>int_rate</th>\n",
       "      <th>installment</th>\n",
       "      <th>grade</th>\n",
       "      <th>sub_grade</th>\n",
       "      <th>...</th>\n",
       "      <th>hardship_payoff_balance_amount</th>\n",
       "      <th>hardship_last_payment_amount</th>\n",
       "      <th>disbursement_method</th>\n",
       "      <th>debt_settlement_flag</th>\n",
       "      <th>debt_settlement_flag_date</th>\n",
       "      <th>settlement_status</th>\n",
       "      <th>settlement_date</th>\n",
       "      <th>settlement_amount</th>\n",
       "      <th>settlement_percentage</th>\n",
       "      <th>settlement_term</th>\n",
       "    </tr>\n",
       "  </thead>\n",
       "  <tbody>\n",
       "    <tr>\n",
       "      <th>0</th>\n",
       "      <td>68407277</td>\n",
       "      <td>NaN</td>\n",
       "      <td>3600.0</td>\n",
       "      <td>3600.0</td>\n",
       "      <td>3600.0</td>\n",
       "      <td>36 months</td>\n",
       "      <td>13.99</td>\n",
       "      <td>123.03</td>\n",
       "      <td>C</td>\n",
       "      <td>C4</td>\n",
       "      <td>...</td>\n",
       "      <td>NaN</td>\n",
       "      <td>NaN</td>\n",
       "      <td>Cash</td>\n",
       "      <td>N</td>\n",
       "      <td>NaN</td>\n",
       "      <td>NaN</td>\n",
       "      <td>NaN</td>\n",
       "      <td>NaN</td>\n",
       "      <td>NaN</td>\n",
       "      <td>NaN</td>\n",
       "    </tr>\n",
       "    <tr>\n",
       "      <th>1</th>\n",
       "      <td>68355089</td>\n",
       "      <td>NaN</td>\n",
       "      <td>24700.0</td>\n",
       "      <td>24700.0</td>\n",
       "      <td>24700.0</td>\n",
       "      <td>36 months</td>\n",
       "      <td>11.99</td>\n",
       "      <td>820.28</td>\n",
       "      <td>C</td>\n",
       "      <td>C1</td>\n",
       "      <td>...</td>\n",
       "      <td>NaN</td>\n",
       "      <td>NaN</td>\n",
       "      <td>Cash</td>\n",
       "      <td>N</td>\n",
       "      <td>NaN</td>\n",
       "      <td>NaN</td>\n",
       "      <td>NaN</td>\n",
       "      <td>NaN</td>\n",
       "      <td>NaN</td>\n",
       "      <td>NaN</td>\n",
       "    </tr>\n",
       "    <tr>\n",
       "      <th>2</th>\n",
       "      <td>68341763</td>\n",
       "      <td>NaN</td>\n",
       "      <td>20000.0</td>\n",
       "      <td>20000.0</td>\n",
       "      <td>20000.0</td>\n",
       "      <td>60 months</td>\n",
       "      <td>10.78</td>\n",
       "      <td>432.66</td>\n",
       "      <td>B</td>\n",
       "      <td>B4</td>\n",
       "      <td>...</td>\n",
       "      <td>NaN</td>\n",
       "      <td>NaN</td>\n",
       "      <td>Cash</td>\n",
       "      <td>N</td>\n",
       "      <td>NaN</td>\n",
       "      <td>NaN</td>\n",
       "      <td>NaN</td>\n",
       "      <td>NaN</td>\n",
       "      <td>NaN</td>\n",
       "      <td>NaN</td>\n",
       "    </tr>\n",
       "    <tr>\n",
       "      <th>3</th>\n",
       "      <td>66310712</td>\n",
       "      <td>NaN</td>\n",
       "      <td>35000.0</td>\n",
       "      <td>35000.0</td>\n",
       "      <td>35000.0</td>\n",
       "      <td>60 months</td>\n",
       "      <td>14.85</td>\n",
       "      <td>829.90</td>\n",
       "      <td>C</td>\n",
       "      <td>C5</td>\n",
       "      <td>...</td>\n",
       "      <td>NaN</td>\n",
       "      <td>NaN</td>\n",
       "      <td>Cash</td>\n",
       "      <td>N</td>\n",
       "      <td>NaN</td>\n",
       "      <td>NaN</td>\n",
       "      <td>NaN</td>\n",
       "      <td>NaN</td>\n",
       "      <td>NaN</td>\n",
       "      <td>NaN</td>\n",
       "    </tr>\n",
       "    <tr>\n",
       "      <th>4</th>\n",
       "      <td>68476807</td>\n",
       "      <td>NaN</td>\n",
       "      <td>10400.0</td>\n",
       "      <td>10400.0</td>\n",
       "      <td>10400.0</td>\n",
       "      <td>60 months</td>\n",
       "      <td>22.45</td>\n",
       "      <td>289.91</td>\n",
       "      <td>F</td>\n",
       "      <td>F1</td>\n",
       "      <td>...</td>\n",
       "      <td>NaN</td>\n",
       "      <td>NaN</td>\n",
       "      <td>Cash</td>\n",
       "      <td>N</td>\n",
       "      <td>NaN</td>\n",
       "      <td>NaN</td>\n",
       "      <td>NaN</td>\n",
       "      <td>NaN</td>\n",
       "      <td>NaN</td>\n",
       "      <td>NaN</td>\n",
       "    </tr>\n",
       "  </tbody>\n",
       "</table>\n",
       "<p>5 rows × 151 columns</p>\n",
       "</div>"
      ],
      "text/plain": [
       "         id  member_id  loan_amnt  funded_amnt  funded_amnt_inv        term  \\\n",
       "0  68407277        NaN     3600.0       3600.0           3600.0   36 months   \n",
       "1  68355089        NaN    24700.0      24700.0          24700.0   36 months   \n",
       "2  68341763        NaN    20000.0      20000.0          20000.0   60 months   \n",
       "3  66310712        NaN    35000.0      35000.0          35000.0   60 months   \n",
       "4  68476807        NaN    10400.0      10400.0          10400.0   60 months   \n",
       "\n",
       "   int_rate  installment grade sub_grade  ... hardship_payoff_balance_amount  \\\n",
       "0     13.99       123.03     C        C4  ...                            NaN   \n",
       "1     11.99       820.28     C        C1  ...                            NaN   \n",
       "2     10.78       432.66     B        B4  ...                            NaN   \n",
       "3     14.85       829.90     C        C5  ...                            NaN   \n",
       "4     22.45       289.91     F        F1  ...                            NaN   \n",
       "\n",
       "  hardship_last_payment_amount disbursement_method  debt_settlement_flag  \\\n",
       "0                          NaN                Cash                     N   \n",
       "1                          NaN                Cash                     N   \n",
       "2                          NaN                Cash                     N   \n",
       "3                          NaN                Cash                     N   \n",
       "4                          NaN                Cash                     N   \n",
       "\n",
       "  debt_settlement_flag_date settlement_status settlement_date  \\\n",
       "0                       NaN               NaN             NaN   \n",
       "1                       NaN               NaN             NaN   \n",
       "2                       NaN               NaN             NaN   \n",
       "3                       NaN               NaN             NaN   \n",
       "4                       NaN               NaN             NaN   \n",
       "\n",
       "  settlement_amount settlement_percentage settlement_term  \n",
       "0               NaN                   NaN             NaN  \n",
       "1               NaN                   NaN             NaN  \n",
       "2               NaN                   NaN             NaN  \n",
       "3               NaN                   NaN             NaN  \n",
       "4               NaN                   NaN             NaN  \n",
       "\n",
       "[5 rows x 151 columns]"
      ]
     },
     "execution_count": 4,
     "metadata": {},
     "output_type": "execute_result"
    }
   ],
   "source": [
    "df_acc.head()"
   ]
  },
  {
   "cell_type": "code",
   "execution_count": 5,
   "id": "4db79ec2",
   "metadata": {
    "colab": {
     "base_uri": "https://localhost:8080/",
     "height": 226
    },
    "id": "ZzFSXTM_rU_N",
    "outputId": "d02e15ef-0858-4f21-dc0e-d618c4c0c918"
   },
   "outputs": [
    {
     "name": "stdout",
     "output_type": "stream",
     "text": [
      "(2260701, 151)\n"
     ]
    }
   ],
   "source": [
    "print(df_acc.shape)\n",
    "# print(df_rej.shape)"
   ]
  },
  {
   "cell_type": "markdown",
   "id": "e786e679",
   "metadata": {},
   "source": [
    "## 2. Анализ факторов"
   ]
  },
  {
   "cell_type": "markdown",
   "id": "a216dccc",
   "metadata": {},
   "source": [
    "### 2.1. Список факторов\n",
    "\n",
    "Данные датасета представлены следующим образом: 1 запись соответствует 1 займу. Промежуточные срезы соответствуют. Следовательно, на таких данных наиболее удобно и корректно оценить аппликативную (заявочную) кредитно-скоринговую модель. \n",
    "\n",
    "В литературе принято в качестве таргета выбирать не факт деволта в течение 1 года с отчетной даты, а факт полного погашения займа в обозначенные сроки. Это возможно, т.к. в данных представлены займы только на 3 и 5 лет. Как следствие, рекомендуется разделить датасет на две части по фактору 95 \"term\" на 3-летние и 5-летние кредиты соответственно, построить отдельные модули финальной модели. \n",
    "\n",
    "Хотим также отметить, что многие из факторов в данных явно отсутствовали на момент подачи заявления. Включение таких факторов в модель методологически неверно: получаем \"утечку\" (leak) информации из будущего в прошлое. Например, фактор \"hardship_start_date\" — начало проблем с погашением — очень близко по смыслу с таргетом: кредит с финасновыми проблемами с большей вероятностью не будет погашен. Рассмотрев описание каждого фактора, мы экспертно разделили их на несколько групп:\n",
    "\n",
    "* OK — фактор может использоваться в модели\n",
    "* RISKY — фактор, возможно, был недоступен на момент подачи заявки на кредит. Включение фактора в модель несёт риск \"утечки\" данных из будущего\n",
    "* BAD — фактор явно отсутствовал на момент подачи заявки и проставлялся постфактум ИЛИ является малоинформативным (например, ссылка на займ на сайте Lending Club)\n",
    "* IDs (REPORT_D, CLIENT_ID, LOAN_ID, term, loan_status) — прочие технические мета-поля, необходимые для построения модели\n",
    "\n",
    "| N | Column | Description | Is field correct? | numerical? | categorical? | binary? | date? |\n",
    "| --- | --- | --- | --- | --- | --- | --- | --- |\n",
    "| 1 | acc_now_delinq | The number of accounts on which the borrower is now delinquent. | BAD | 0 | 0 | 0 | 0 |\n",
    "| 2 | acc_open_past_24mths | Number of trades opened in past 24 months. | RISKY | 1 | 0 | 0 | 0 |\n",
    "| 3 | addr_state | The state provided by the borrower in the loan application | ОК | 0 | 1 | 0 | 0 |\n",
    "| 4 | all_util | Balance to credit limit on all trades | RISKY | 1 | 0 | 0 | 0 |\n",
    "| 5 | annual_inc | The self-reported annual income provided by the borrower during registration. | ОК | 1 | 0 | 0 | 0 |\n",
    "| 6 | annual_inc_joint | The combined self-reported annual income provided by the co-borrowers during registration | ОК | 1 | 0 | 0 | 0 |\n",
    "| 7 | application_type | Indicates whether the loan is an individual application or a joint application with two co-borrowers | ОК | 0 | 1 | 1 | 0 |\n",
    "| 8 | avg_cur_bal | Average current balance of all accounts | RISKY | 1 | 0 | 0 | 0 |\n",
    "| 9 | bc_open_to_buy | Total open to buy on revolving bankcards. | RISKY | 1 | 0 | 0 | 0 |\n",
    "| 10 | bc_util | Ratio of total current balance to high credit/credit limit for all bankcard accounts. | RISKY | 1 | 0 | 0 | 0 |\n",
    "| 11 | chargeoff_within_12_mths | Number of charge-offs within 12 months | RISKY | 1 | 0 | 0 | 0 |\n",
    "| 12 | collection_recovery_fee | post charge off collection fee | BAD | 0 | 0 | 0 | 0 |\n",
    "| 13 | collections_12_mths_ex_med | Number of collections in 12 months excluding medical collections | RISKY | 1 | 0 | 0 | 0 |\n",
    "| 14 | delinq_2yrs | The number of 30+ days past-due incidences of delinquency in the borrower's credit file for the past 2 years | RISKY | 1 | 0 | 0 | 0 |\n",
    "| 15 | delinq_amnt | The past-due amount owed for the accounts on which the borrower is now delinquent. | BAD | 0 | 0 | 0 | 0 |\n",
    "| 16 | desc | Loan description provided by the borrower | BAD | 0 | 1 | 0 | 0 |\n",
    "| 17 | dti | A ratio calculated using the borrower’s total monthly debt payments on the total debt obligations, excluding mortgage and the requested LC loan, divided by the borrower’s self-reported monthly income. | ОК | 1 | 0 | 0 | 0 |\n",
    "| 18 | dti_joint | A ratio calculated using the co-borrowers' total monthly payments on the total debt obligations, excluding mortgages and the requested LC loan, divided by the co-borrowers' combined self-reported monthly income | ОК | 1 | 0 | 0 | 0 |\n",
    "| 19 | earliest_cr_line | The month the borrower's earliest reported credit line was opened | ОК | 0 | 0 | 0 | 1 |\n",
    "| 20 | emp_length | Employment length in years. Possible values are between 0 and 10 where 0 means less than one year and 10 means ten or more years.  | RISKY | 1 | 0 | 0 | 0 |\n",
    "| 21 | emp_title | The job title supplied by the Borrower when applying for the loan.* | BAD | 0 | 0 | 0 | 0 |\n",
    "| 22 | fico_range_high | The upper boundary range the borrower’s FICO at loan origination belongs to. | ОК | 1 | 0 | 0 | 0 |\n",
    "| 23 | fico_range_low | The lower boundary range the borrower’s FICO at loan origination belongs to. | ОК | 1 | 0 | 0 | 0 |\n",
    "| 24 | funded_amnt | The total amount committed to that loan at that point in time. | ОК | 1 | 0 | 0 | 0 |\n",
    "| 25 | funded_amnt_inv | The total amount committed by investors for that loan at that point in time. | ОК | 1 | 0 | 0 | 0 |\n",
    "| 26 | grade | LC assigned loan grade | ОК | 0 | 1 | 0 | 0 |\n",
    "| 27 | home_ownership | The home ownership status provided by the borrower during registration or obtained from the credit report. Our values are: RENT, OWN, MORTGAGE, OTHER | ОК | 0 | 1 | 0 | 0 |\n",
    "| 28 | id | A unique LC assigned ID for the loan listing. | LOAN_ID | 0 | 1 | 0 | 0 |\n",
    "| 29 | il_util | Ratio of total current balance to high credit/credit limit on all install acct | RISKY | 1 | 0 | 0 | 0 |\n",
    "| 30 | initial_list_status | The initial listing status of the loan. Possible values are – W, F | ОК | 0 | 1 | 1 | 0 |\n",
    "| 31 | inq_fi | Number of personal finance inquiries | RISKY | 1 | 0 | 0 | 0 |\n",
    "| 32 | inq_last_12m | Number of credit inquiries in past 12 months | RISKY | 1 | 0 | 0 | 0 |\n",
    "| 33 | inq_last_6mths | The number of inquiries in past 6 months (excluding auto and mortgage inquiries) | RISKY | 1 | 0 | 0 | 0 |\n",
    "| 34 | installment | The monthly payment owed by the borrower if the loan originates. | ОК | 1 | 0 | 0 | 0 |\n",
    "| 35 | int_rate | Interest Rate on the loan | ОК | 1 | 0 | 0 | 0 |\n",
    "| 36 | issue_d | The month which the loan was funded | ID | 0 | 0 | 0 | 1 |\n",
    "| 37 | last_credit_pull_d | The most recent month LC pulled credit for this loan | RISKY | 0 | 0 | 0 | 1 |\n",
    "| 38 | last_fico_range_high | The upper boundary range the borrower’s last FICO pulled belongs to. | BAD | 0 | 0 | 0 | 0 |\n",
    "| 39 | last_fico_range_low | The lower boundary range the borrower’s last FICO pulled belongs to. | BAD | 0 | 0 | 0 | 0 |\n",
    "| 40 | last_pymnt_amnt | Last total payment amount received | BAD | 0 | 0 | 0 | 0 |\n",
    "| 41 | last_pymnt_d | Last month payment was received | BAD | 0 | 0 | 0 | 1 |\n",
    "| 42 | loan_amnt | The listed amount of the loan applied for by the borrower. If at some point in time, the credit department reduces the loan amount, then it will be reflected in this value. | BAD | 0 | 0 | 0 | 0 |\n",
    "| 43 | loan_status | Current status of the loan | BAD | 0 | 0 | 0 | 0 |\n",
    "| 44 | max_bal_bc | Maximum current balance owed on all revolving accounts | RISKY | 1 | 0 | 0 | 0 |\n",
    "| 45 | member_id | A unique LC assigned Id for the borrower member. | CLIENT_ID | 0 | 1 | 0 | 0 |\n",
    "| 46 | mo_sin_old_il_acct | Months since oldest bank installment account opened | RISKY | 1 | 0 | 0 | 0 |\n",
    "| 47 | mo_sin_old_rev_tl_op | Months since oldest revolving account opened | RISKY | 1 | 0 | 0 | 0 |\n",
    "| 48 | mo_sin_rcnt_rev_tl_op | Months since most recent revolving account opened | RISKY | 1 | 0 | 0 | 0 |\n",
    "| 49 | mo_sin_rcnt_tl | Months since most recent account opened | RISKY | 1 | 0 | 0 | 0 |\n",
    "| 50 | mort_acc | Number of mortgage accounts. | RISKY | 1 | 0 | 0 | 0 |\n",
    "| 51 | mths_since_last_delinq | The number of months since the borrower's last delinquency. | RISKY | 1 | 0 | 0 | 0 |\n",
    "| 52 | mths_since_last_major_derog | Months since most recent 90-day or worse rating | RISKY | 1 | 0 | 0 | 0 |\n",
    "| 53 | mths_since_last_record | The number of months since the last public record. | RISKY | 1 | 0 | 0 | 0 |\n",
    "| 54 | mths_since_rcnt_il | Months since most recent installment accounts opened | RISKY | 1 | 0 | 0 | 0 |\n",
    "| 55 | mths_since_recent_bc | Months since most recent bankcard account opened. | RISKY | 1 | 0 | 0 | 0 |\n",
    "| 56 | mths_since_recent_bc_dlq | Months since most recent bankcard delinquency | RISKY | 1 | 0 | 0 | 0 |\n",
    "| 57 | mths_since_recent_inq | Months since most recent inquiry. | RISKY | 1 | 0 | 0 | 0 |\n",
    "| 58 | mths_since_recent_revol_delinq | Months since most recent revolving delinquency. | RISKY | 1 | 0 | 0 | 0 |\n",
    "| 59 | next_pymnt_d | Next scheduled payment date | BAD | 0 | 0 | 0 | 0 |\n",
    "| 60 | num_accts_ever_120_pd | Number of accounts ever 120 or more days past due | RISKY | 1 | 0 | 0 | 0 |\n",
    "| 61 | num_actv_bc_tl | Number of currently active bankcard accounts | RISKY | 1 | 0 | 0 | 0 |\n",
    "| 62 | num_actv_rev_tl | Number of currently active revolving trades | RISKY | 1 | 0 | 0 | 0 |\n",
    "| 63 | num_bc_sats | Number of satisfactory bankcard accounts | RISKY | 1 | 0 | 0 | 0 |\n",
    "| 64 | num_bc_tl | Number of bankcard accounts | RISKY | 1 | 0 | 0 | 0 |\n",
    "| 65 | num_il_tl | Number of installment accounts | RISKY | 1 | 0 | 0 | 0 |\n",
    "| 66 | num_op_rev_tl | Number of open revolving accounts | RISKY | 1 | 0 | 0 | 0 |\n",
    "| 67 | num_rev_accts | Number of revolving accounts | RISKY | 1 | 0 | 0 | 0 |\n",
    "| 68 | num_rev_tl_bal_gt_0 | Number of revolving trades with balance > 0 | RISKY | 1 | 0 | 0 | 0 |\n",
    "| 69 | num_sats | Number of satisfactory accounts | RISKY | 1 | 0 | 0 | 0 |\n",
    "| 70 | num_tl_120dpd_2m | Number of accounts currently 120 days past due (updated in past 2 months) | RISKY | 1 | 0 | 0 | 0 |\n",
    "| 71 | num_tl_30dpd | Number of accounts currently 30 days past due (updated in past 2 months) | RISKY | 1 | 0 | 0 | 0 |\n",
    "| 72 | num_tl_90g_dpd_24m | Number of accounts 90 or more days past due in last 24 months | RISKY | 1 | 0 | 0 | 0 |\n",
    "| 73 | num_tl_op_past_12m | Number of accounts opened in past 12 months | RISKY | 1 | 0 | 0 | 0 |\n",
    "| 74 | open_acc | The number of open credit lines in the borrower's credit file. | RISKY | 1 | 0 | 0 | 0 |\n",
    "| 75 | open_acc_6m | Number of open trades in last 6 months | RISKY | 1 | 0 | 0 | 0 |\n",
    "| 76 | open_il_12m | Number of installment accounts opened in past 12 months | RISKY | 1 | 0 | 0 | 0 |\n",
    "| 77 | open_il_24m | Number of installment accounts opened in past 24 months | RISKY | 1 | 0 | 0 | 0 |\n",
    "| 78 | open_act_il | Number of currently active installment trades | RISKY | 1 | 0 | 0 | 0 |\n",
    "| 79 | open_rv_12m | Number of revolving trades opened in past 12 months | RISKY | 1 | 0 | 0 | 0 |\n",
    "| 80 | open_rv_24m | Number of revolving trades opened in past 24 months | RISKY | 1 | 0 | 0 | 0 |\n",
    "| 81 | out_prncp | Remaining outstanding principal for total amount funded | RISKY | 1 | 0 | 0 | 0 |\n",
    "| 82 | out_prncp_inv | Remaining outstanding principal for portion of total amount funded by investors | RISKY | 1 | 0 | 0 | 0 |\n",
    "| 83 | pct_tl_nvr_dlq | Percent of trades never delinquent | RISKY | 1 | 0 | 0 | 0 |\n",
    "| 84 | percent_bc_gt_75 | Percentage of all bankcard accounts > 75% of limit. | RISKY | 1 | 0 | 0 | 0 |\n",
    "| 85 | policy_code | publicly available policy_code=1 new products not publicly available policy_code=2 | RISKY | 0 | 1 | 1 | 0 |\n",
    "| 86 | pub_rec | Number of derogatory public records | RISKY | 1 | 0 | 0 | 0 |\n",
    "| 87 | pub_rec_bankruptcies | Number of public record bankruptcies | RISKY | 1 | 0 | 0 | 0 |\n",
    "| 88 | purpose | A category provided by the borrower for the loan request.  | ОК | 0 | 1 | 0 | 0 |\n",
    "| 89 | pymnt_plan | Indicates if a payment plan has been put in place for the loan | RISKY | 0 | 1 | 1 | 0 |\n",
    "| 90 | recoveries | post charge off gross recovery | BAD | 0 | 0 | 0 | 0 |\n",
    "| 91 | revol_bal | Total credit revolving balance | RISKY | 1 | 0 | 0 | 0 |\n",
    "| 92 | revol_util | Revolving line utilization rate, or the amount of credit the borrower is using relative to all available revolving credit. | RISKY | 1 | 0 | 0 | 0 |\n",
    "| 93 | sub_grade | LC assigned loan subgrade | ОК | 0 | 1 | 0 | 0 |\n",
    "| 94 | tax_liens | Number of tax liens | RISKY | 1 | 0 | 0 | 0 |\n",
    "| 95 | term | The number of payments on the loan. Values are in months and can be either 36 or 60. | ОК | 1 | 0 | 0 | 0 |\n",
    "| 96 | title | The loan title provided by the borrower | ОК | 1 | 0 | 0 | 0 |\n",
    "| 97 | tot_coll_amt | Total collection amounts ever owed | RISKY | 1 | 0 | 0 | 0 |\n",
    "| 98 | tot_cur_bal | Total current balance of all accounts | RISKY | 1 | 0 | 0 | 0 |\n",
    "| 99 | tot_hi_cred_lim | Total high credit/credit limit | RISKY | 1 | 0 | 0 | 0 |\n",
    "| 100 | total_acc | The total number of credit lines currently in the borrower's credit file | RISKY | 1 | 0 | 0 | 0 |\n",
    "| 101 | total_bal_ex_mort | Total credit balance excluding mortgage | RISKY | 1 | 0 | 0 | 0 |\n",
    "| 102 | total_bal_il | Total current balance of all installment accounts | RISKY | 1 | 0 | 0 | 0 |\n",
    "| 103 | total_bc_limit | Total bankcard high credit/credit limit | RISKY | 1 | 0 | 0 | 0 |\n",
    "| 104 | total_cu_tl | Number of finance trades | RISKY | 1 | 0 | 0 | 0 |\n",
    "| 105 | total_il_high_credit_limit | Total installment high credit/credit limit | RISKY | 1 | 0 | 0 | 0 |\n",
    "| 106 | total_pymnt | Payments received to date for total amount funded | BAD | 0 | 0 | 0 | 0 |\n",
    "| 107 | total_pymnt_inv | Payments received to date for portion of total amount funded by investors | BAD | 0 | 0 | 0 | 0 |\n",
    "| 108 | total_rec_int | Interest received to date | BAD | 0 | 0 | 0 | 0 |\n",
    "| 109 | total_rec_late_fee | Late fees received to date | BAD | 0 | 0 | 0 | 0 |\n",
    "| 110 | total_rec_prncp | Principal received to date | BAD | 0 | 0 | 0 | 0 |\n",
    "| 111 | total_rev_hi_lim   | Total revolving high credit/credit limit | RISKY | 1 | 0 | 0 | 0 |\n",
    "| 112 | url | URL for the LC page with listing data. | BAD | 0 | 0 | 0 | 0 |\n",
    "| 113 | verification_status | Indicates if income was verified by LC, not verified, or if the income source was verified | ОК | 0 | 1 | 0 | 0 |\n",
    "| 114 | verified_status_joint | Indicates if the co-borrowers' joint income was verified by LC, not verified, or if the income source was verified | ОК | 0 | 1 | 0 | 0 |\n",
    "| 115 | zip_code | The first 3 numbers of the zip code provided by the borrower in the loan application. | ОК | 0 | 1 | 0 | 0 |\n",
    "| 116 | revol_bal_joint  |  Sum of revolving credit balance of the co-borrowers, net of duplicate balances | RISKY | 1 | 0 | 0 | 0 |\n",
    "| 117 | sec_app_fico_range_low  |  FICO range (high) for the secondary applicant | RISKY | 1 | 0 | 0 | 0 |\n",
    "| 118 | sec_app_fico_range_high  |  FICO range (low) for the secondary applicant | RISKY | 1 | 0 | 0 | 0 |\n",
    "| 119 | sec_app_earliest_cr_line  |  Earliest credit line at time of application for the secondary applicant | ОК | 1 | 0 | 0 | 0 |\n",
    "| 120 | sec_app_inq_last_6mths  |  Credit inquiries in the last 6 months at time of application for the secondary applicant | ОК | 1 | 0 | 0 | 0 |\n",
    "| 121 | sec_app_mort_acc  |  Number of mortgage accounts at time of application for the secondary applicant | ОК | 1 | 0 | 0 | 0 |\n",
    "| 122 | sec_app_open_acc  |  Number of open trades at time of application for the secondary applicant | ОК | 1 | 0 | 0 | 0 |\n",
    "| 123 | sec_app_revol_util  |  Ratio of total current balance to high credit/credit limit for all revolving accounts | RISKY | 1 | 0 | 0 | 0 |\n",
    "| 124 | sec_app_open_act_il |  Number of currently active installment trades at time of application for the secondary applicant | ОК | 1 | 0 | 0 | 0 |\n",
    "| 125 | sec_app_num_rev_accts  |  Number of revolving accounts at time of application for the secondary applicant | ОК | 1 | 0 | 0 | 0 |\n",
    "| 126 | sec_app_chargeoff_within_12_mths  |  Number of charge-offs within last 12 months at time of application for the secondary applicant | ОК | 1 | 0 | 0 | 0 |\n",
    "| 127 | sec_app_collections_12_mths_ex_med  |  Number of collections within last 12 months excluding medical collections at time of application for the secondary applicant | ОК | 1 | 0 | 0 | 0 |\n",
    "| 128 | sec_app_mths_since_last_major_derog  |  Months since most recent 90-day or worse rating at time of application for the secondary applicant | ОК | 1 | 0 | 0 | 0 |\n",
    "| 129 | hardship_flag | Flags whether or not the borrower is on a hardship plan | BAD | 0 | 0 | 0 | 0 |\n",
    "| 130 | hardship_type | Describes the hardship plan offering | BAD | 0 | 0 | 0 | 0 |\n",
    "| 131 | hardship_reason | Describes the reason the hardship plan was offered | BAD | 0 | 0 | 0 | 0 |\n",
    "| 132 | hardship_status | Describes if the hardship plan is active, pending, canceled, completed, or broken | BAD | 0 | 0 | 0 | 0 |\n",
    "| 133 | deferral_term | Amount of months that the borrower is expected to pay less than the contractual monthly payment amount due to a hardship plan | BAD | 0 | 0 | 0 | 0 |\n",
    "| 134 | hardship_amount | The interest payment that the borrower has committed to make each month while they are on a hardship plan | BAD | 0 | 0 | 0 | 0 |\n",
    "| 135 | hardship_start_date | The start date of the hardship plan period | BAD | 0 | 0 | 0 | 1 |\n",
    "| 136 | hardship_end_date | The end date of the hardship plan period | BAD | 0 | 0 | 0 | 1 |\n",
    "| 137 | payment_plan_start_date | The day the first hardship plan payment is due. For example, if a borrower has a hardship plan period of 3 months, the start date is the start of the three-month period in which the borrower is allowed to make interest-only payments. | BAD | 0 | 0 | 0 | 1 |\n",
    "| 138 | hardship_length | The number of months the borrower will make smaller payments than normally obligated due to a hardship plan | BAD | 0 | 0 | 0 | 0 |\n",
    "| 139 | hardship_dpd | Account days past due as of the hardship plan start date | BAD | 0 | 0 | 0 | 0 |\n",
    "| 140 | hardship_loan_status | Loan Status as of the hardship plan start date | BAD | 0 | 0 | 0 | 0 |\n",
    "| 141 | orig_projected_additional_accrued_interest | The original projected additional interest amount that will accrue for the given hardship payment plan as of the Hardship Start Date. This field will be null if the borrower has broken their hardship payment plan. | BAD | 0 | 0 | 0 | 0 |\n",
    "| 142 | hardship_payoff_balance_amount | The payoff balance amount as of the hardship plan start date | BAD | 0 | 0 | 0 | 0 |\n",
    "| 143 | hardship_last_payment_amount | The last payment amount as of the hardship plan start date | BAD | 0 | 0 | 0 | 0 |\n",
    "| 144 | disbursement_method | The method by which the borrower receives their loan. Possible values are: CASH, DIRECT_PAY | ОК | 0 | 1 | 1 | 0 |\n",
    "| 145 | debt_settlement_flag | Flags whether or not the borrower, who has charged-off, is working with a debt-settlement company. | BAD | 0 | 0 | 0 | 0 |\n",
    "| 146 | debt_settlement_flag_date | The most recent date that the Debt_Settlement_Flag has been set   | BAD | 0 | 0 | 0 | 1 |\n",
    "| 147 | settlement_status | The status of the borrower’s settlement plan. Possible values are: COMPLETE, ACTIVE, BROKEN, CANCELLED, DENIED, DRAFT | BAD | 0 | 0 | 0 | 0 |\n",
    "| 148 | settlement_date | The date that the borrower agrees to the settlement plan | BAD | 0 | 0 | 0 | 1 |\n",
    "| 149 | settlement_amount | The loan amount that the borrower has agreed to settle for | BAD | 0 | 0 | 0 | 0 |\n",
    "| 150 | settlement_percentage | The settlement amount as a percentage of the payoff balance amount on the loan | BAD | 0 | 0 | 0 | 0 |\n",
    "| 151 | settlement_term | The number of months that the borrower will be on the settlement plan | BAD | 0 | 0 | 0 | 0 |\n",
    "\n",
    "\\* Employer Title replaces Employer Name for all loans listed after 9/23/2013\n"
   ]
  },
  {
   "cell_type": "markdown",
   "id": "86f5ba9c",
   "metadata": {
    "id": "Cqj5IwbL4on1"
   },
   "source": [
    "Очевидно, что мы имеем большое число категориальных переменных. В дальнейшем мы заменим их при помощи WOE- или какого-либо иного преобразования. На данный момент лишь сформируем разбивку train vs. test и запишем список переменных"
   ]
  },
  {
   "cell_type": "code",
   "execution_count": 6,
   "id": "9674dfc7",
   "metadata": {},
   "outputs": [],
   "source": [
    "# for i in df_acc.columns:\n",
    "#     print(\"\\n----------------------------------\")\n",
    "#     print(i)\n",
    "#     print(df_acc[i].unique())"
   ]
  },
  {
   "cell_type": "code",
   "execution_count": 7,
   "id": "0277c483",
   "metadata": {},
   "outputs": [],
   "source": [
    "# сохраняем списки категориальных и колич. переменных\n",
    "# если фактор отсутствует в одном из списков, значит, он проставляется пост-фактум\n",
    "# и должен быть исключен как минимум из аппликативной модели\n",
    "\n",
    "# bad_vals сразу исключаются из датасетов\n",
    "bad_vals = [\n",
    "    'acc_now_delinq',\n",
    "    'collection_recovery_fee',\n",
    "    'delinq_amnt',\n",
    "    'desc',\n",
    "    'emp_title',\n",
    "    'last_fico_range_high',\n",
    "    'last_fico_range_low',\n",
    "    'last_pymnt_amnt',\n",
    "    'last_pymnt_d',\n",
    "    'loan_amnt',\n",
    "#     'loan_status',\n",
    "    'next_pymnt_d',\n",
    "    'recoveries',\n",
    "    'total_pymnt',\n",
    "    'total_pymnt_inv',\n",
    "    'total_rec_int',\n",
    "    'total_rec_late_fee',\n",
    "    'total_rec_prncp',\n",
    "    'url',\n",
    "    'hardship_flag',\n",
    "    'hardship_type',\n",
    "    'hardship_reason',\n",
    "    'hardship_status',\n",
    "    'deferral_term',\n",
    "    'hardship_amount',\n",
    "    'hardship_start_date',\n",
    "    'hardship_end_date',\n",
    "    'payment_plan_start_date',\n",
    "    'hardship_length',\n",
    "    'hardship_dpd',\n",
    "    'hardship_loan_status',\n",
    "    'orig_projected_additional_accrued_interest',\n",
    "    'hardship_payoff_balance_amount',\n",
    "    'hardship_last_payment_amount',\n",
    "    'debt_settlement_flag',\n",
    "    'debt_settlement_flag_date',\n",
    "    'settlement_status',\n",
    "    'settlement_date',\n",
    "    'settlement_amount',\n",
    "    'settlement_percentage',\n",
    "    'settlement_term'\n",
    "]\n",
    "\n",
    "# risky_vals пока сохраняю \n",
    "risky_vals = [\n",
    "    'acc_open_past_24mths',\n",
    "    'all_util',\n",
    "    'avg_cur_bal',\n",
    "    'bc_open_to_buy',\n",
    "    'bc_util',\n",
    "    'chargeoff_within_12_mths',\n",
    "    'collections_12_mths_ex_med',\n",
    "    'delinq_2yrs',\n",
    "    'emp_length',\n",
    "    'il_util',\n",
    "    'inq_fi',\n",
    "    'inq_last_12m',\n",
    "    'inq_last_6mths',\n",
    "    'last_credit_pull_d',\n",
    "    'max_bal_bc',\n",
    "    'mo_sin_old_il_acct',\n",
    "    'mo_sin_old_rev_tl_op',\n",
    "    'mo_sin_rcnt_rev_tl_op',\n",
    "    'mo_sin_rcnt_tl',\n",
    "    'mort_acc',\n",
    "    'mths_since_last_delinq',\n",
    "    'mths_since_last_major_derog',\n",
    "    'mths_since_last_record',\n",
    "    'mths_since_rcnt_il',\n",
    "    'mths_since_recent_bc',\n",
    "    'mths_since_recent_bc_dlq',\n",
    "    'mths_since_recent_inq',\n",
    "    'mths_since_recent_revol_delinq',\n",
    "    'num_accts_ever_120_pd',\n",
    "    'num_actv_bc_tl',\n",
    "    'num_actv_rev_tl',\n",
    "    'num_bc_sats',\n",
    "    'num_bc_tl',\n",
    "    'num_il_tl',\n",
    "    'num_op_rev_tl',\n",
    "    'num_rev_accts',\n",
    "    'num_rev_tl_bal_gt_0',\n",
    "    'num_sats',\n",
    "    'num_tl_120dpd_2m',\n",
    "    'num_tl_30dpd',\n",
    "    'num_tl_90g_dpd_24m',\n",
    "    'num_tl_op_past_12m',\n",
    "    'open_acc',\n",
    "    'open_acc_6m',\n",
    "    'open_il_12m',\n",
    "    'open_il_24m',\n",
    "    'open_act_il',\n",
    "    'open_rv_12m',\n",
    "    'open_rv_24m',\n",
    "    'out_prncp',\n",
    "    'out_prncp_inv',\n",
    "    'pct_tl_nvr_dlq',\n",
    "    'percent_bc_gt_75',\n",
    "    'policy_code',\n",
    "    'pub_rec',\n",
    "    'pub_rec_bankruptcies',\n",
    "    'pymnt_plan',\n",
    "    'revol_bal',\n",
    "    'revol_util',\n",
    "    'tax_liens',\n",
    "    'tot_coll_amt',\n",
    "    'tot_cur_bal',\n",
    "    'tot_hi_cred_lim',\n",
    "    'total_acc',\n",
    "    'total_bal_ex_mort',\n",
    "    'total_bal_il',\n",
    "    'total_bc_limit',\n",
    "    'total_cu_tl',\n",
    "    'total_il_high_credit_limit',\n",
    "    'total_rev_hi_lim',\n",
    "    'revol_bal_joint', \n",
    "    'sec_app_fico_range_low', \n",
    "    'sec_app_fico_range_high', \n",
    "    'sec_app_revol_util' \n",
    "]\n",
    "\n",
    "good_vals = [\n",
    "    'addr_state',\n",
    "    'annual_inc',\n",
    "    'annual_inc_joint',\n",
    "    'application_type',\n",
    "    'dti',\n",
    "    'dti_joint',\n",
    "    'earliest_cr_line',\n",
    "    'fico_range_high',\n",
    "    'fico_range_low',\n",
    "    'funded_amnt',\n",
    "    'funded_amnt_inv',\n",
    "    'grade',\n",
    "    'home_ownership',\n",
    "    'initial_list_status',\n",
    "    'installment',\n",
    "    'int_rate',\n",
    "    'purpose',\n",
    "    'sub_grade',\n",
    "    'term',\n",
    "    'title',\n",
    "    'verification_status',\n",
    "    'verified_status_joint',\n",
    "    'zip_code',\n",
    "    'sec_app_earliest_cr_line', \n",
    "    'sec_app_inq_last_6mths', \n",
    "    'sec_app_mort_acc', \n",
    "    'sec_app_open_acc', \n",
    "    'sec_app_open_act_il',\n",
    "    'sec_app_num_rev_accts', \n",
    "    'sec_app_chargeoff_within_12_mths', \n",
    "    'sec_app_collections_12_mths_ex_med', \n",
    "    'sec_app_mths_since_last_major_derog', \n",
    "    'disbursement_method'\n",
    "]\n",
    "\n",
    "#  \n",
    "ids = ['id', 'issue_d', 'member_id']\n",
    "binary_vals = ['application_type','initial_list_status','policy_code','pymnt_plan','disbursement_method']\n",
    "dates = ['earliest_cr_line','last_credit_pull_d']\n",
    "\n",
    "cat_vals = [\n",
    "    'addr_state','grade','home_ownership','purpose','sub_grade',\n",
    "    'verification_status','verified_status_joint','zip_code'\n",
    "]\n",
    "\n",
    "num_vals = [\n",
    "    'acc_open_past_24mths',\n",
    "    'all_util',\n",
    "    'annual_inc',\n",
    "    'annual_inc_joint',\n",
    "    'avg_cur_bal',\n",
    "    'bc_open_to_buy',\n",
    "    'bc_util',\n",
    "    'chargeoff_within_12_mths',\n",
    "    'collections_12_mths_ex_med',\n",
    "    'delinq_2yrs',\n",
    "    'dti',\n",
    "    'dti_joint',\n",
    "    'emp_length',\n",
    "    'fico_range_high',\n",
    "    'fico_range_low',\n",
    "    'funded_amnt',\n",
    "    'funded_amnt_inv',\n",
    "    'il_util',\n",
    "    'inq_fi',\n",
    "    'inq_last_12m',\n",
    "    'inq_last_6mths',\n",
    "    'installment',\n",
    "    'int_rate',\n",
    "    'max_bal_bc',\n",
    "    'mo_sin_old_il_acct',\n",
    "    'mo_sin_old_rev_tl_op',\n",
    "    'mo_sin_rcnt_rev_tl_op',\n",
    "    'mo_sin_rcnt_tl',\n",
    "    'mort_acc',\n",
    "    'mths_since_last_delinq',\n",
    "    'mths_since_last_major_derog',\n",
    "    'mths_since_last_record',\n",
    "    'mths_since_rcnt_il',\n",
    "    'mths_since_recent_bc',\n",
    "    'mths_since_recent_bc_dlq',\n",
    "    'mths_since_recent_inq',\n",
    "    'mths_since_recent_revol_delinq',\n",
    "    'num_accts_ever_120_pd',\n",
    "    'num_actv_bc_tl',\n",
    "    'num_actv_rev_tl',\n",
    "    'num_bc_sats',\n",
    "    'num_bc_tl',\n",
    "    'num_il_tl',\n",
    "    'num_op_rev_tl',\n",
    "    'num_rev_accts',\n",
    "    'num_rev_tl_bal_gt_0',\n",
    "    'num_sats',\n",
    "    'num_tl_120dpd_2m',\n",
    "    'num_tl_30dpd',\n",
    "    'num_tl_90g_dpd_24m',\n",
    "    'num_tl_op_past_12m',\n",
    "    'open_acc',\n",
    "    'open_acc_6m',\n",
    "    'open_il_12m',\n",
    "    'open_il_24m',\n",
    "    'open_act_il',\n",
    "    'open_rv_12m',\n",
    "    'open_rv_24m',\n",
    "    'out_prncp',\n",
    "    'out_prncp_inv',\n",
    "    'pct_tl_nvr_dlq',\n",
    "    'percent_bc_gt_75',\n",
    "    'pub_rec',\n",
    "    'pub_rec_bankruptcies',\n",
    "    'revol_bal',\n",
    "    'revol_util',\n",
    "    'tax_liens',\n",
    "#     'term', # поскольку фактор принимает только два значения - 3 и 5 лет - будем строить 2 сабмодуля модели\n",
    "    'title',\n",
    "    'tot_coll_amt',\n",
    "    'tot_cur_bal',\n",
    "    'tot_hi_cred_lim',\n",
    "    'total_acc',\n",
    "    'total_bal_ex_mort',\n",
    "    'total_bal_il',\n",
    "    'total_bc_limit',\n",
    "    'total_cu_tl',\n",
    "    'total_il_high_credit_limit',\n",
    "    'total_rev_hi_lim',\n",
    "    'revol_bal_joint', \n",
    "    'sec_app_fico_range_low', \n",
    "    'sec_app_fico_range_high', \n",
    "    'sec_app_earliest_cr_line', \n",
    "    'sec_app_inq_last_6mths', \n",
    "    'sec_app_mort_acc', \n",
    "    'sec_app_open_acc', \n",
    "    'sec_app_revol_util', \n",
    "    'sec_app_open_act_il',\n",
    "    'sec_app_num_rev_accts', \n",
    "    'sec_app_chargeoff_within_12_mths', \n",
    "    'sec_app_collections_12_mths_ex_med', \n",
    "    'sec_app_mths_since_last_major_derog'\n",
    "]\n",
    "\n",
    "factor_types = {\n",
    "    \"bad_vals\": bad_vals,\n",
    "    \"risky_vals\": risky_vals,\n",
    "    \"good_vals\": good_vals,\n",
    "    \"ids\": ids,\n",
    "    \"binary_vals\": binary_vals,\n",
    "    \"dates\": dates,\n",
    "    'cat_vals': cat_vals, \n",
    "    \"num_vals\": num_vals\n",
    "}\n",
    "\n",
    "with open('accepted_factors.json', 'w') as f:\n",
    "    json.dump(factor_types, f)"
   ]
  },
  {
   "cell_type": "markdown",
   "id": "3c56eada",
   "metadata": {},
   "source": [
    "### 2.2. Фильтрация невызревших кредитов"
   ]
  },
  {
   "cell_type": "code",
   "execution_count": 8,
   "id": "36a6ab16",
   "metadata": {},
   "outputs": [],
   "source": [
    "df_acc.issue_d = pd.to_datetime(df_acc.issue_d)\n",
    "\n",
    "for col_date in factor_types[\"dates\"]:\n",
    "    df_acc[col_date] = pd.to_datetime(df_acc[col_date])"
   ]
  },
  {
   "cell_type": "code",
   "execution_count": 9,
   "id": "eae0a316",
   "metadata": {},
   "outputs": [],
   "source": [
    "df_acc_3y = df_acc.loc[df_acc.term == ' 36 months']\n",
    "df_acc_5y = df_acc.loc[df_acc.term == ' 60 months']"
   ]
  },
  {
   "cell_type": "markdown",
   "id": "56d25be8",
   "metadata": {},
   "source": [
    "Самое логичное — фильтровать по дате выдачи: нет ни одного Current кредита с выпуском до 2014 г. Убеждаемся, что до 2014q4 нет ни одного займа в 'Current' статусе среди 5-летних займов."
   ]
  },
  {
   "cell_type": "code",
   "execution_count": 10,
   "id": "e453d158",
   "metadata": {},
   "outputs": [
    {
     "data": {
      "text/html": [
       "<div>\n",
       "<style scoped>\n",
       "    .dataframe tbody tr th:only-of-type {\n",
       "        vertical-align: middle;\n",
       "    }\n",
       "\n",
       "    .dataframe tbody tr th {\n",
       "        vertical-align: top;\n",
       "    }\n",
       "\n",
       "    .dataframe thead th {\n",
       "        text-align: right;\n",
       "    }\n",
       "</style>\n",
       "<table border=\"1\" class=\"dataframe\">\n",
       "  <thead>\n",
       "    <tr style=\"text-align: right;\">\n",
       "      <th>loan_status</th>\n",
       "      <th>issue_d</th>\n",
       "      <th>Charged Off</th>\n",
       "      <th>Current</th>\n",
       "      <th>Default</th>\n",
       "      <th>Does not meet the credit policy. Status:Charged Off</th>\n",
       "      <th>Does not meet the credit policy. Status:Fully Paid</th>\n",
       "      <th>Fully Paid</th>\n",
       "      <th>In Grace Period</th>\n",
       "      <th>Late (16-30 days)</th>\n",
       "      <th>Late (31-120 days)</th>\n",
       "    </tr>\n",
       "  </thead>\n",
       "  <tbody>\n",
       "    <tr>\n",
       "      <th>32</th>\n",
       "      <td>2013-01-01</td>\n",
       "      <td>354.0</td>\n",
       "      <td>NaN</td>\n",
       "      <td>NaN</td>\n",
       "      <td>NaN</td>\n",
       "      <td>NaN</td>\n",
       "      <td>981.0</td>\n",
       "      <td>NaN</td>\n",
       "      <td>NaN</td>\n",
       "      <td>NaN</td>\n",
       "    </tr>\n",
       "    <tr>\n",
       "      <th>33</th>\n",
       "      <td>2013-02-01</td>\n",
       "      <td>383.0</td>\n",
       "      <td>NaN</td>\n",
       "      <td>NaN</td>\n",
       "      <td>NaN</td>\n",
       "      <td>NaN</td>\n",
       "      <td>1167.0</td>\n",
       "      <td>NaN</td>\n",
       "      <td>NaN</td>\n",
       "      <td>NaN</td>\n",
       "    </tr>\n",
       "    <tr>\n",
       "      <th>34</th>\n",
       "      <td>2013-03-01</td>\n",
       "      <td>409.0</td>\n",
       "      <td>NaN</td>\n",
       "      <td>NaN</td>\n",
       "      <td>NaN</td>\n",
       "      <td>NaN</td>\n",
       "      <td>1424.0</td>\n",
       "      <td>NaN</td>\n",
       "      <td>NaN</td>\n",
       "      <td>NaN</td>\n",
       "    </tr>\n",
       "    <tr>\n",
       "      <th>35</th>\n",
       "      <td>2013-04-01</td>\n",
       "      <td>588.0</td>\n",
       "      <td>NaN</td>\n",
       "      <td>NaN</td>\n",
       "      <td>NaN</td>\n",
       "      <td>NaN</td>\n",
       "      <td>1593.0</td>\n",
       "      <td>NaN</td>\n",
       "      <td>NaN</td>\n",
       "      <td>NaN</td>\n",
       "    </tr>\n",
       "    <tr>\n",
       "      <th>36</th>\n",
       "      <td>2013-05-01</td>\n",
       "      <td>699.0</td>\n",
       "      <td>NaN</td>\n",
       "      <td>NaN</td>\n",
       "      <td>NaN</td>\n",
       "      <td>NaN</td>\n",
       "      <td>1880.0</td>\n",
       "      <td>NaN</td>\n",
       "      <td>NaN</td>\n",
       "      <td>NaN</td>\n",
       "    </tr>\n",
       "    <tr>\n",
       "      <th>37</th>\n",
       "      <td>2013-06-01</td>\n",
       "      <td>728.0</td>\n",
       "      <td>NaN</td>\n",
       "      <td>NaN</td>\n",
       "      <td>NaN</td>\n",
       "      <td>NaN</td>\n",
       "      <td>2044.0</td>\n",
       "      <td>NaN</td>\n",
       "      <td>NaN</td>\n",
       "      <td>NaN</td>\n",
       "    </tr>\n",
       "    <tr>\n",
       "      <th>38</th>\n",
       "      <td>2013-07-01</td>\n",
       "      <td>725.0</td>\n",
       "      <td>NaN</td>\n",
       "      <td>NaN</td>\n",
       "      <td>NaN</td>\n",
       "      <td>NaN</td>\n",
       "      <td>2207.0</td>\n",
       "      <td>NaN</td>\n",
       "      <td>NaN</td>\n",
       "      <td>NaN</td>\n",
       "    </tr>\n",
       "    <tr>\n",
       "      <th>39</th>\n",
       "      <td>2013-08-01</td>\n",
       "      <td>832.0</td>\n",
       "      <td>NaN</td>\n",
       "      <td>NaN</td>\n",
       "      <td>NaN</td>\n",
       "      <td>NaN</td>\n",
       "      <td>2661.0</td>\n",
       "      <td>NaN</td>\n",
       "      <td>NaN</td>\n",
       "      <td>NaN</td>\n",
       "    </tr>\n",
       "    <tr>\n",
       "      <th>40</th>\n",
       "      <td>2013-09-01</td>\n",
       "      <td>954.0</td>\n",
       "      <td>NaN</td>\n",
       "      <td>NaN</td>\n",
       "      <td>NaN</td>\n",
       "      <td>NaN</td>\n",
       "      <td>2874.0</td>\n",
       "      <td>NaN</td>\n",
       "      <td>NaN</td>\n",
       "      <td>NaN</td>\n",
       "    </tr>\n",
       "    <tr>\n",
       "      <th>41</th>\n",
       "      <td>2013-10-01</td>\n",
       "      <td>1019.0</td>\n",
       "      <td>2.0</td>\n",
       "      <td>NaN</td>\n",
       "      <td>NaN</td>\n",
       "      <td>NaN</td>\n",
       "      <td>3115.0</td>\n",
       "      <td>NaN</td>\n",
       "      <td>NaN</td>\n",
       "      <td>NaN</td>\n",
       "    </tr>\n",
       "    <tr>\n",
       "      <th>42</th>\n",
       "      <td>2013-11-01</td>\n",
       "      <td>963.0</td>\n",
       "      <td>NaN</td>\n",
       "      <td>NaN</td>\n",
       "      <td>NaN</td>\n",
       "      <td>NaN</td>\n",
       "      <td>2859.0</td>\n",
       "      <td>NaN</td>\n",
       "      <td>NaN</td>\n",
       "      <td>NaN</td>\n",
       "    </tr>\n",
       "    <tr>\n",
       "      <th>43</th>\n",
       "      <td>2013-12-01</td>\n",
       "      <td>992.0</td>\n",
       "      <td>4.0</td>\n",
       "      <td>NaN</td>\n",
       "      <td>NaN</td>\n",
       "      <td>NaN</td>\n",
       "      <td>2931.0</td>\n",
       "      <td>1.0</td>\n",
       "      <td>NaN</td>\n",
       "      <td>3.0</td>\n",
       "    </tr>\n",
       "  </tbody>\n",
       "</table>\n",
       "</div>"
      ],
      "text/plain": [
       "loan_status    issue_d  Charged Off  Current  Default  \\\n",
       "32          2013-01-01        354.0      NaN      NaN   \n",
       "33          2013-02-01        383.0      NaN      NaN   \n",
       "34          2013-03-01        409.0      NaN      NaN   \n",
       "35          2013-04-01        588.0      NaN      NaN   \n",
       "36          2013-05-01        699.0      NaN      NaN   \n",
       "37          2013-06-01        728.0      NaN      NaN   \n",
       "38          2013-07-01        725.0      NaN      NaN   \n",
       "39          2013-08-01        832.0      NaN      NaN   \n",
       "40          2013-09-01        954.0      NaN      NaN   \n",
       "41          2013-10-01       1019.0      2.0      NaN   \n",
       "42          2013-11-01        963.0      NaN      NaN   \n",
       "43          2013-12-01        992.0      4.0      NaN   \n",
       "\n",
       "loan_status  Does not meet the credit policy. Status:Charged Off  \\\n",
       "32                                                         NaN     \n",
       "33                                                         NaN     \n",
       "34                                                         NaN     \n",
       "35                                                         NaN     \n",
       "36                                                         NaN     \n",
       "37                                                         NaN     \n",
       "38                                                         NaN     \n",
       "39                                                         NaN     \n",
       "40                                                         NaN     \n",
       "41                                                         NaN     \n",
       "42                                                         NaN     \n",
       "43                                                         NaN     \n",
       "\n",
       "loan_status  Does not meet the credit policy. Status:Fully Paid  Fully Paid  \\\n",
       "32                                                         NaN        981.0   \n",
       "33                                                         NaN       1167.0   \n",
       "34                                                         NaN       1424.0   \n",
       "35                                                         NaN       1593.0   \n",
       "36                                                         NaN       1880.0   \n",
       "37                                                         NaN       2044.0   \n",
       "38                                                         NaN       2207.0   \n",
       "39                                                         NaN       2661.0   \n",
       "40                                                         NaN       2874.0   \n",
       "41                                                         NaN       3115.0   \n",
       "42                                                         NaN       2859.0   \n",
       "43                                                         NaN       2931.0   \n",
       "\n",
       "loan_status  In Grace Period  Late (16-30 days)  Late (31-120 days)  \n",
       "32                       NaN                NaN                 NaN  \n",
       "33                       NaN                NaN                 NaN  \n",
       "34                       NaN                NaN                 NaN  \n",
       "35                       NaN                NaN                 NaN  \n",
       "36                       NaN                NaN                 NaN  \n",
       "37                       NaN                NaN                 NaN  \n",
       "38                       NaN                NaN                 NaN  \n",
       "39                       NaN                NaN                 NaN  \n",
       "40                       NaN                NaN                 NaN  \n",
       "41                       NaN                NaN                 NaN  \n",
       "42                       NaN                NaN                 NaN  \n",
       "43                       1.0                NaN                 3.0  "
      ]
     },
     "execution_count": 10,
     "metadata": {},
     "output_type": "execute_result"
    }
   ],
   "source": [
    "res = df_acc_5y.groupby(['issue_d', 'loan_status']).id.count().reset_index().pivot(index='issue_d', columns='loan_status', values='id').reset_index()\n",
    "res.loc[res.issue_d.dt.year == 2013]"
   ]
  },
  {
   "cell_type": "markdown",
   "id": "368a18f9",
   "metadata": {},
   "source": [
    "Аналогично убеждаемся, что до 2016q4 среди 3-летних займов нет ни одного Current кредита."
   ]
  },
  {
   "cell_type": "code",
   "execution_count": 11,
   "id": "74d73678",
   "metadata": {},
   "outputs": [
    {
     "data": {
      "text/html": [
       "<div>\n",
       "<style scoped>\n",
       "    .dataframe tbody tr th:only-of-type {\n",
       "        vertical-align: middle;\n",
       "    }\n",
       "\n",
       "    .dataframe tbody tr th {\n",
       "        vertical-align: top;\n",
       "    }\n",
       "\n",
       "    .dataframe thead th {\n",
       "        text-align: right;\n",
       "    }\n",
       "</style>\n",
       "<table border=\"1\" class=\"dataframe\">\n",
       "  <thead>\n",
       "    <tr style=\"text-align: right;\">\n",
       "      <th>loan_status</th>\n",
       "      <th>issue_d</th>\n",
       "      <th>Charged Off</th>\n",
       "      <th>Current</th>\n",
       "      <th>Default</th>\n",
       "      <th>Does not meet the credit policy. Status:Charged Off</th>\n",
       "      <th>Does not meet the credit policy. Status:Fully Paid</th>\n",
       "      <th>Fully Paid</th>\n",
       "      <th>In Grace Period</th>\n",
       "      <th>Late (16-30 days)</th>\n",
       "      <th>Late (31-120 days)</th>\n",
       "    </tr>\n",
       "  </thead>\n",
       "  <tbody>\n",
       "    <tr>\n",
       "      <th>91</th>\n",
       "      <td>2015-01-01</td>\n",
       "      <td>3516.0</td>\n",
       "      <td>1.0</td>\n",
       "      <td>NaN</td>\n",
       "      <td>NaN</td>\n",
       "      <td>NaN</td>\n",
       "      <td>20115.0</td>\n",
       "      <td>NaN</td>\n",
       "      <td>NaN</td>\n",
       "      <td>NaN</td>\n",
       "    </tr>\n",
       "    <tr>\n",
       "      <th>92</th>\n",
       "      <td>2015-02-01</td>\n",
       "      <td>2270.0</td>\n",
       "      <td>NaN</td>\n",
       "      <td>NaN</td>\n",
       "      <td>NaN</td>\n",
       "      <td>NaN</td>\n",
       "      <td>13753.0</td>\n",
       "      <td>NaN</td>\n",
       "      <td>NaN</td>\n",
       "      <td>NaN</td>\n",
       "    </tr>\n",
       "    <tr>\n",
       "      <th>93</th>\n",
       "      <td>2015-03-01</td>\n",
       "      <td>2605.0</td>\n",
       "      <td>NaN</td>\n",
       "      <td>NaN</td>\n",
       "      <td>NaN</td>\n",
       "      <td>NaN</td>\n",
       "      <td>14309.0</td>\n",
       "      <td>NaN</td>\n",
       "      <td>NaN</td>\n",
       "      <td>NaN</td>\n",
       "    </tr>\n",
       "    <tr>\n",
       "      <th>94</th>\n",
       "      <td>2015-04-01</td>\n",
       "      <td>3670.0</td>\n",
       "      <td>NaN</td>\n",
       "      <td>NaN</td>\n",
       "      <td>NaN</td>\n",
       "      <td>NaN</td>\n",
       "      <td>19949.0</td>\n",
       "      <td>NaN</td>\n",
       "      <td>NaN</td>\n",
       "      <td>NaN</td>\n",
       "    </tr>\n",
       "    <tr>\n",
       "      <th>95</th>\n",
       "      <td>2015-05-01</td>\n",
       "      <td>3280.0</td>\n",
       "      <td>NaN</td>\n",
       "      <td>NaN</td>\n",
       "      <td>NaN</td>\n",
       "      <td>NaN</td>\n",
       "      <td>18259.0</td>\n",
       "      <td>NaN</td>\n",
       "      <td>NaN</td>\n",
       "      <td>NaN</td>\n",
       "    </tr>\n",
       "    <tr>\n",
       "      <th>96</th>\n",
       "      <td>2015-06-01</td>\n",
       "      <td>2928.0</td>\n",
       "      <td>NaN</td>\n",
       "      <td>NaN</td>\n",
       "      <td>NaN</td>\n",
       "      <td>NaN</td>\n",
       "      <td>16136.0</td>\n",
       "      <td>NaN</td>\n",
       "      <td>NaN</td>\n",
       "      <td>NaN</td>\n",
       "    </tr>\n",
       "    <tr>\n",
       "      <th>97</th>\n",
       "      <td>2015-07-01</td>\n",
       "      <td>4512.0</td>\n",
       "      <td>2.0</td>\n",
       "      <td>NaN</td>\n",
       "      <td>NaN</td>\n",
       "      <td>NaN</td>\n",
       "      <td>26352.0</td>\n",
       "      <td>NaN</td>\n",
       "      <td>NaN</td>\n",
       "      <td>NaN</td>\n",
       "    </tr>\n",
       "    <tr>\n",
       "      <th>98</th>\n",
       "      <td>2015-08-01</td>\n",
       "      <td>3410.0</td>\n",
       "      <td>NaN</td>\n",
       "      <td>NaN</td>\n",
       "      <td>NaN</td>\n",
       "      <td>NaN</td>\n",
       "      <td>20528.0</td>\n",
       "      <td>NaN</td>\n",
       "      <td>NaN</td>\n",
       "      <td>1.0</td>\n",
       "    </tr>\n",
       "    <tr>\n",
       "      <th>99</th>\n",
       "      <td>2015-09-01</td>\n",
       "      <td>2803.0</td>\n",
       "      <td>1.0</td>\n",
       "      <td>NaN</td>\n",
       "      <td>NaN</td>\n",
       "      <td>NaN</td>\n",
       "      <td>15962.0</td>\n",
       "      <td>NaN</td>\n",
       "      <td>NaN</td>\n",
       "      <td>1.0</td>\n",
       "    </tr>\n",
       "    <tr>\n",
       "      <th>100</th>\n",
       "      <td>2015-10-01</td>\n",
       "      <td>4694.0</td>\n",
       "      <td>8.0</td>\n",
       "      <td>NaN</td>\n",
       "      <td>NaN</td>\n",
       "      <td>NaN</td>\n",
       "      <td>28492.0</td>\n",
       "      <td>1.0</td>\n",
       "      <td>3.0</td>\n",
       "      <td>4.0</td>\n",
       "    </tr>\n",
       "    <tr>\n",
       "      <th>101</th>\n",
       "      <td>2015-11-01</td>\n",
       "      <td>3730.0</td>\n",
       "      <td>16.0</td>\n",
       "      <td>NaN</td>\n",
       "      <td>NaN</td>\n",
       "      <td>NaN</td>\n",
       "      <td>21512.0</td>\n",
       "      <td>1.0</td>\n",
       "      <td>2.0</td>\n",
       "      <td>8.0</td>\n",
       "    </tr>\n",
       "    <tr>\n",
       "      <th>102</th>\n",
       "      <td>2015-12-01</td>\n",
       "      <td>4714.0</td>\n",
       "      <td>44.0</td>\n",
       "      <td>NaN</td>\n",
       "      <td>NaN</td>\n",
       "      <td>NaN</td>\n",
       "      <td>25527.0</td>\n",
       "      <td>7.0</td>\n",
       "      <td>NaN</td>\n",
       "      <td>47.0</td>\n",
       "    </tr>\n",
       "  </tbody>\n",
       "</table>\n",
       "</div>"
      ],
      "text/plain": [
       "loan_status    issue_d  Charged Off  Current  Default  \\\n",
       "91          2015-01-01       3516.0      1.0      NaN   \n",
       "92          2015-02-01       2270.0      NaN      NaN   \n",
       "93          2015-03-01       2605.0      NaN      NaN   \n",
       "94          2015-04-01       3670.0      NaN      NaN   \n",
       "95          2015-05-01       3280.0      NaN      NaN   \n",
       "96          2015-06-01       2928.0      NaN      NaN   \n",
       "97          2015-07-01       4512.0      2.0      NaN   \n",
       "98          2015-08-01       3410.0      NaN      NaN   \n",
       "99          2015-09-01       2803.0      1.0      NaN   \n",
       "100         2015-10-01       4694.0      8.0      NaN   \n",
       "101         2015-11-01       3730.0     16.0      NaN   \n",
       "102         2015-12-01       4714.0     44.0      NaN   \n",
       "\n",
       "loan_status  Does not meet the credit policy. Status:Charged Off  \\\n",
       "91                                                         NaN     \n",
       "92                                                         NaN     \n",
       "93                                                         NaN     \n",
       "94                                                         NaN     \n",
       "95                                                         NaN     \n",
       "96                                                         NaN     \n",
       "97                                                         NaN     \n",
       "98                                                         NaN     \n",
       "99                                                         NaN     \n",
       "100                                                        NaN     \n",
       "101                                                        NaN     \n",
       "102                                                        NaN     \n",
       "\n",
       "loan_status  Does not meet the credit policy. Status:Fully Paid  Fully Paid  \\\n",
       "91                                                         NaN      20115.0   \n",
       "92                                                         NaN      13753.0   \n",
       "93                                                         NaN      14309.0   \n",
       "94                                                         NaN      19949.0   \n",
       "95                                                         NaN      18259.0   \n",
       "96                                                         NaN      16136.0   \n",
       "97                                                         NaN      26352.0   \n",
       "98                                                         NaN      20528.0   \n",
       "99                                                         NaN      15962.0   \n",
       "100                                                        NaN      28492.0   \n",
       "101                                                        NaN      21512.0   \n",
       "102                                                        NaN      25527.0   \n",
       "\n",
       "loan_status  In Grace Period  Late (16-30 days)  Late (31-120 days)  \n",
       "91                       NaN                NaN                 NaN  \n",
       "92                       NaN                NaN                 NaN  \n",
       "93                       NaN                NaN                 NaN  \n",
       "94                       NaN                NaN                 NaN  \n",
       "95                       NaN                NaN                 NaN  \n",
       "96                       NaN                NaN                 NaN  \n",
       "97                       NaN                NaN                 NaN  \n",
       "98                       NaN                NaN                 1.0  \n",
       "99                       NaN                NaN                 1.0  \n",
       "100                      1.0                3.0                 4.0  \n",
       "101                      1.0                2.0                 8.0  \n",
       "102                      7.0                NaN                47.0  "
      ]
     },
     "execution_count": 11,
     "metadata": {},
     "output_type": "execute_result"
    }
   ],
   "source": [
    "res = df_acc_3y.groupby(['issue_d', 'loan_status']).id.count().reset_index().pivot(index='issue_d', columns='loan_status', values='id').reset_index()\n",
    "res.loc[res.issue_d.dt.year == 2015]"
   ]
  },
  {
   "cell_type": "markdown",
   "id": "8e4077bc",
   "metadata": {},
   "source": [
    "В обоих случаях всё ок. Фильтровать по вызреванию кажется хорошей идеей."
   ]
  },
  {
   "cell_type": "code",
   "execution_count": 12,
   "id": "621fe2da",
   "metadata": {},
   "outputs": [],
   "source": [
    "df_acc_5y = df_acc_5y.loc[df_acc_5y.issue_d.dt.year <= 2013]\n",
    "df_acc_3y = df_acc_3y.loc[df_acc_3y.issue_d.dt.year <= 2015]"
   ]
  },
  {
   "cell_type": "markdown",
   "id": "996a0d65",
   "metadata": {},
   "source": [
    "### 2.3. Таргет и сборка датасетов"
   ]
  },
  {
   "cell_type": "markdown",
   "id": "66010b61",
   "metadata": {},
   "source": [
    "Оставляем только кредиты, которые либо были полностью погашены, либо списаны. Факт списания кредита становится таргетом:"
   ]
  },
  {
   "cell_type": "code",
   "execution_count": 13,
   "id": "917e294e",
   "metadata": {},
   "outputs": [
    {
     "data": {
      "text/plain": [
       "Fully Paid                                             532629\n",
       "Charged Off                                             85955\n",
       "Does not meet the credit policy. Status:Fully Paid       1789\n",
       "Does not meet the credit policy. Status:Charged Off       649\n",
       "Current                                                    72\n",
       "Late (31-120 days)                                         61\n",
       "In Grace Period                                             9\n",
       "Late (16-30 days)                                           5\n",
       "Name: loan_status, dtype: int64"
      ]
     },
     "execution_count": 13,
     "metadata": {},
     "output_type": "execute_result"
    }
   ],
   "source": [
    "df_acc_3y.loan_status.value_counts()"
   ]
  },
  {
   "cell_type": "code",
   "execution_count": 14,
   "id": "20720ca2",
   "metadata": {},
   "outputs": [
    {
     "data": {
      "text/plain": [
       "Fully Paid                                             41139\n",
       "Charged Off                                            13830\n",
       "Does not meet the credit policy. Status:Fully Paid       199\n",
       "Does not meet the credit policy. Status:Charged Off      112\n",
       "Current                                                    6\n",
       "Late (31-120 days)                                         3\n",
       "In Grace Period                                            1\n",
       "Name: loan_status, dtype: int64"
      ]
     },
     "execution_count": 14,
     "metadata": {},
     "output_type": "execute_result"
    }
   ],
   "source": [
    "df_acc_5y.loan_status.value_counts()"
   ]
  },
  {
   "cell_type": "markdown",
   "id": "8c6a1197",
   "metadata": {},
   "source": [
    "Исключим небольшие группы \"Current\", \"Late (31-120 days)\" и \"In Grace Period\"."
   ]
  },
  {
   "cell_type": "code",
   "execution_count": 15,
   "id": "12f0b4e2",
   "metadata": {},
   "outputs": [],
   "source": [
    "df_acc_5y = df_acc_5y.loc[~(df_acc_5y.loan_status.isin([\"Current\", \"Late (31-120 days)\", \"In Grace Period\"]))]\n",
    "df_acc_3y = df_acc_3y.loc[~(df_acc_3y.loan_status.isin([\"Current\", \"Late (31-120 days)\", \"In Grace Period\"]))]"
   ]
  },
  {
   "cell_type": "markdown",
   "id": "593d522c",
   "metadata": {},
   "source": [
    "Соберём выборки по 5-летним займам:"
   ]
  },
  {
   "cell_type": "code",
   "execution_count": 16,
   "id": "ceeddae7",
   "metadata": {
    "id": "CCmcyqPC4pGF"
   },
   "outputs": [
    {
     "name": "stderr",
     "output_type": "stream",
     "text": [
      "A subdirectory or file samples already exists.\n"
     ]
    }
   ],
   "source": [
    "X_5y = df_acc_5y.loc[:, df_acc_5y.columns.isin(factor_types['good_vals'] + factor_types['risky_vals'] + factor_types['ids'])].reset_index(drop=True)\n",
    "y_5y = (df_acc_5y.loan_status.isin(['Charged Off', 'Does not meet the credit policy. Status:Charged Off']) * 1).reset_index(drop=True)\n",
    "X_train_5y, X_test_5y, y_train_5y, y_test_5y = train_test_split(X_5y, y_5y, test_size=0.2, random_state=seed)\n",
    "\n",
    "X_train_5y.reset_index(inplace=True, drop=True)\n",
    "X_test_5y.reset_index(inplace=True, drop=True)\n",
    "y_train_5y.reset_index(inplace=True, drop=True)\n",
    "y_test_5y.reset_index(inplace=True, drop=True)\n",
    "                                   \n",
    "# Save data & info ===\n",
    "# parquet is optimized for large volumes of data\n",
    "!mkdir samples\n",
    "X_train_5y.to_parquet('./samples/accepted_X_train_5y.parquet')\n",
    "X_test_5y.to_parquet('./samples/accepted_X_test_5y.parquet')\n",
    "# переводим pd.Series в pd.DataFrame для удобного экспорта\n",
    "pd.DataFrame(y_train_5y).to_parquet('./samples/accepted_y_train_5y.parquet')\n",
    "pd.DataFrame(y_test_5y).to_parquet('./samples/accepted_y_test_5y.parquet')"
   ]
  },
  {
   "cell_type": "markdown",
   "id": "e1814e78",
   "metadata": {},
   "source": [
    "Соберём выборки по 3-летним займам:"
   ]
  },
  {
   "cell_type": "code",
   "execution_count": 17,
   "id": "9add4d24",
   "metadata": {
    "id": "CCmcyqPC4pGF"
   },
   "outputs": [
    {
     "name": "stderr",
     "output_type": "stream",
     "text": [
      "A subdirectory or file samples already exists.\n"
     ]
    }
   ],
   "source": [
    "X_3y = df_acc_3y.loc[:, df_acc_3y.columns.isin(factor_types['good_vals'] + factor_types['risky_vals'] + factor_types['ids'])].reset_index(drop=True)\n",
    "y_3y = (df_acc_3y.loan_status.isin(['Charged Off', 'Does not meet the credit policy. Status:Charged Off']) * 1).reset_index(drop=True)\n",
    "X_train_3y, X_test_3y, y_train_3y, y_test_3y = train_test_split(X_3y, y_3y, test_size=0.2, random_state=seed)\n",
    "\n",
    "X_train_3y.reset_index(inplace=True, drop=True)\n",
    "X_test_3y.reset_index(inplace=True, drop=True)\n",
    "y_train_3y.reset_index(inplace=True, drop=True)\n",
    "y_test_3y.reset_index(inplace=True, drop=True)\n",
    "                                   \n",
    "# Save data & info ===\n",
    "# parquet is optimized for large volumes of data\n",
    "!mkdir samples\n",
    "X_train_3y.to_parquet('./samples/accepted_X_train_3y.parquet')\n",
    "X_test_3y.to_parquet('./samples/accepted_X_test_3y.parquet')\n",
    "# переводим pd.Series в pd.DataFrame для удобного экспорта\n",
    "pd.DataFrame(y_train_3y).to_parquet('./samples/accepted_y_train_3y.parquet')\n",
    "pd.DataFrame(y_test_3y).to_parquet('./samples/accepted_y_test_3y.parquet')"
   ]
  },
  {
   "cell_type": "markdown",
   "id": "5ce06d32",
   "metadata": {},
   "source": [
    "## 3. Статистики и пропуски"
   ]
  },
  {
   "cell_type": "markdown",
   "id": "45628877",
   "metadata": {
    "tags": []
   },
   "source": [
    "### Статистики"
   ]
  },
  {
   "cell_type": "markdown",
   "id": "201c23ec-64b1-4fbe-887d-209078f3b8f0",
   "metadata": {},
   "source": [
    "#### 3-летний датасет:"
   ]
  },
  {
   "cell_type": "code",
   "execution_count": 18,
   "id": "5742e99f",
   "metadata": {},
   "outputs": [
    {
     "name": "stdout",
     "output_type": "stream",
     "text": [
      "Количество наблюдений: 621027\n",
      "Количество факторов: 109\n",
      "Количество целевых событий: 86604\n",
      "Доля целевых событий: 13.945287402963155%\n"
     ]
    }
   ],
   "source": [
    "print(f'Количество наблюдений: {X_3y.shape[0]}')\n",
    "print(f'Количество факторов: {X_3y.shape[1]}')\n",
    "print(f'Количество целевых событий: {y_3y.sum()}')\n",
    "print(f'Доля целевых событий: {y_3y.sum() / X_3y.shape[0] * 100}%')"
   ]
  },
  {
   "cell_type": "markdown",
   "id": "b2fbcd72-5e3a-4927-bf9b-b8272fb1002b",
   "metadata": {},
   "source": [
    "#### 5-летний датасет:"
   ]
  },
  {
   "cell_type": "code",
   "execution_count": 19,
   "id": "25bcbf3d-9fd8-4ed8-b16e-5118f47955b8",
   "metadata": {},
   "outputs": [
    {
     "name": "stdout",
     "output_type": "stream",
     "text": [
      "Количество наблюдений: 55280\n",
      "Количество факторов: 109\n",
      "Количество целевых событий: 13942\n",
      "Доля целевых событий: 25.220694645441387%\n"
     ]
    }
   ],
   "source": [
    "print(f'Количество наблюдений: {X_5y.shape[0]}')\n",
    "print(f'Количество факторов: {X_5y.shape[1]}')\n",
    "print(f'Количество целевых событий: {y_5y.sum()}')\n",
    "print(f'Доля целевых событий: {y_5y.sum() / X_5y.shape[0] * 100}%')"
   ]
  },
  {
   "cell_type": "markdown",
   "id": "e6bcfb4d",
   "metadata": {},
   "source": [
    "### Пропуски"
   ]
  },
  {
   "cell_type": "markdown",
   "id": "68410cd9",
   "metadata": {},
   "source": [
    "Пропуски в датасете отсутствуют:"
   ]
  },
  {
   "cell_type": "markdown",
   "id": "96bea82d-f694-4fda-9971-5b882b942431",
   "metadata": {},
   "source": [
    "#### 3-летний датасет:"
   ]
  },
  {
   "cell_type": "code",
   "execution_count": null,
   "id": "2500a0cb-3bb8-421e-9c7d-eb8c6d5bb460",
   "metadata": {},
   "outputs": [],
   "source": [
    "for col in X_3y.columns:\n",
    "    print(f'Количество пропусков по фактору {col}:\\n\\t{X_3y[col].isna().sum()} или {X_3y[col].isna().sum() / X_3y.shape[0] * 100}%')"
   ]
  },
  {
   "cell_type": "markdown",
   "id": "98f59623-ec42-4844-bf90-3262f10cb28d",
   "metadata": {},
   "source": [
    "#### 5-летний датасет:"
   ]
  },
  {
   "cell_type": "code",
   "execution_count": null,
   "id": "f1d30b9b",
   "metadata": {},
   "outputs": [],
   "source": [
    "for col in X_5y.columns:\n",
    "    print(f'Количество пропусков по фактору {col}:\\n\\t{X_5y[col].isna().sum()} или {X_5y[col].isna().sum() / X_5y.shape[0] * 100}%')"
   ]
  },
  {
   "cell_type": "markdown",
   "id": "bbafc6b5",
   "metadata": {},
   "source": [
    "## 4. Визуальный анализ и выбросы"
   ]
  },
  {
   "cell_type": "code",
   "execution_count": null,
   "id": "aec52865",
   "metadata": {
    "tags": []
   },
   "outputs": [],
   "source": [
    "for col in X_3y.columns:\n",
    "    # есть колонки со всеми пропусками, пропускаем их\n",
    "    if X_3y[col].isna().sum() != X_3y.shape[0]:\n",
    "        # если переменная категориальная, а вариантов > 15, строим распределение ТОП-15 значений + Other\n",
    "        if (isinstance(X_3y[col][0], str)) & (X_3y[col].unique().shape[0] > 15):\n",
    "            graph_df = X_3y[col].value_counts().head()\n",
    "            graph_df = graph_df.append(pd.Series({'OTHER': X_3y.shape[0] - graph_df.sum()}))\n",
    "            graph_df.plot.barh()\n",
    "            plt.title(f'Distribution of {col}')\n",
    "            plt.show()\n",
    "        # общий случай\n",
    "        else:\n",
    "            plt.hist(X_3y.loc[~(X_3y[col].isna()), col], orientation='horizontal')\n",
    "            plt.title(f'Distribution of {col}')\n",
    "            plt.show()\n",
    "    else:\n",
    "        print(f'{col} is skipped!')"
   ]
  },
  {
   "cell_type": "code",
   "execution_count": null,
   "id": "9ee7e397-6c3a-481a-9a6d-03a534146f82",
   "metadata": {},
   "outputs": [],
   "source": [
    "for col in X_5y.columns:\n",
    "    # есть колонки со всеми пропусками, пропускаем их\n",
    "    if X_5y[col].isna().sum() != X_5y.shape[0]:\n",
    "        # если переменная категориальная, а вариантов > 15, строим распределение ТОП-15 значений + Other\n",
    "        if (isinstance(X_5y[col][0], str)) & (X_5y[col].unique().shape[0] > 15):\n",
    "            graph_df = X_5y[col].value_counts().head()\n",
    "            graph_df = graph_df.append(pd.Series({'OTHER': X_5y.shape[0] - graph_df.sum()}))\n",
    "            graph_df.plot.barh()\n",
    "            plt.title(f'Distribution of {col}')\n",
    "            plt.show()\n",
    "        # общий случай\n",
    "        else:\n",
    "            plt.hist(X_5y.loc[~(X_5y[col].isna()), col], orientation='horizontal')\n",
    "            plt.title(f'Distribution of {col}')\n",
    "            plt.show()\n",
    "    else:\n",
    "        print(f'{col} is skipped!')"
   ]
  },
  {
   "cell_type": "markdown",
   "id": "6eff5d1c-eb84-4c3c-8596-5e39f2a928c2",
   "metadata": {},
   "source": [
    "***\n",
    "\n",
    "# II. Rejected Applications"
   ]
  },
  {
   "cell_type": "markdown",
   "id": "5cb267d5-7c46-4887-938f-a5dd880cdd54",
   "metadata": {},
   "source": [
    "## 1. Подгрузка данных"
   ]
  },
  {
   "cell_type": "code",
   "execution_count": 5,
   "id": "937bd11b-5409-4fba-8409-835061cd9918",
   "metadata": {},
   "outputs": [],
   "source": [
    "# К сожалению, файл очень большой и скачать по прямой ссылке сложно.\n",
    "# Сначала лучше вручную скачать данные из гугл-диска Вани П.:\n",
    "# https://drive.google.com/drive/folders/1-pkYWSUwiwZXrojOeIhdhBLbvr2Rxhww?usp=sharing\n",
    "df_rej = pd.read_csv('./raw_files/rejected_2007_to_2018Q4.csv', low_memory=False)"
   ]
  },
  {
   "cell_type": "code",
   "execution_count": 6,
   "id": "ad3dbc2e-3117-47f8-bedb-dde4c40f8107",
   "metadata": {},
   "outputs": [
    {
     "data": {
      "text/html": [
       "<div>\n",
       "<style scoped>\n",
       "    .dataframe tbody tr th:only-of-type {\n",
       "        vertical-align: middle;\n",
       "    }\n",
       "\n",
       "    .dataframe tbody tr th {\n",
       "        vertical-align: top;\n",
       "    }\n",
       "\n",
       "    .dataframe thead th {\n",
       "        text-align: right;\n",
       "    }\n",
       "</style>\n",
       "<table border=\"1\" class=\"dataframe\">\n",
       "  <thead>\n",
       "    <tr style=\"text-align: right;\">\n",
       "      <th></th>\n",
       "      <th>Amount Requested</th>\n",
       "      <th>Application Date</th>\n",
       "      <th>Loan Title</th>\n",
       "      <th>Risk_Score</th>\n",
       "      <th>Debt-To-Income Ratio</th>\n",
       "      <th>Zip Code</th>\n",
       "      <th>State</th>\n",
       "      <th>Employment Length</th>\n",
       "      <th>Policy Code</th>\n",
       "    </tr>\n",
       "  </thead>\n",
       "  <tbody>\n",
       "    <tr>\n",
       "      <th>0</th>\n",
       "      <td>1000.0</td>\n",
       "      <td>2007-05-26</td>\n",
       "      <td>Wedding Covered but No Honeymoon</td>\n",
       "      <td>693.0</td>\n",
       "      <td>10%</td>\n",
       "      <td>481xx</td>\n",
       "      <td>NM</td>\n",
       "      <td>4 years</td>\n",
       "      <td>0.0</td>\n",
       "    </tr>\n",
       "    <tr>\n",
       "      <th>1</th>\n",
       "      <td>1000.0</td>\n",
       "      <td>2007-05-26</td>\n",
       "      <td>Consolidating Debt</td>\n",
       "      <td>703.0</td>\n",
       "      <td>10%</td>\n",
       "      <td>010xx</td>\n",
       "      <td>MA</td>\n",
       "      <td>&lt; 1 year</td>\n",
       "      <td>0.0</td>\n",
       "    </tr>\n",
       "    <tr>\n",
       "      <th>2</th>\n",
       "      <td>11000.0</td>\n",
       "      <td>2007-05-27</td>\n",
       "      <td>Want to consolidate my debt</td>\n",
       "      <td>715.0</td>\n",
       "      <td>10%</td>\n",
       "      <td>212xx</td>\n",
       "      <td>MD</td>\n",
       "      <td>1 year</td>\n",
       "      <td>0.0</td>\n",
       "    </tr>\n",
       "    <tr>\n",
       "      <th>3</th>\n",
       "      <td>6000.0</td>\n",
       "      <td>2007-05-27</td>\n",
       "      <td>waksman</td>\n",
       "      <td>698.0</td>\n",
       "      <td>38.64%</td>\n",
       "      <td>017xx</td>\n",
       "      <td>MA</td>\n",
       "      <td>&lt; 1 year</td>\n",
       "      <td>0.0</td>\n",
       "    </tr>\n",
       "    <tr>\n",
       "      <th>4</th>\n",
       "      <td>1500.0</td>\n",
       "      <td>2007-05-27</td>\n",
       "      <td>mdrigo</td>\n",
       "      <td>509.0</td>\n",
       "      <td>9.43%</td>\n",
       "      <td>209xx</td>\n",
       "      <td>MD</td>\n",
       "      <td>&lt; 1 year</td>\n",
       "      <td>0.0</td>\n",
       "    </tr>\n",
       "  </tbody>\n",
       "</table>\n",
       "</div>"
      ],
      "text/plain": [
       "   Amount Requested Application Date                        Loan Title  \\\n",
       "0            1000.0       2007-05-26  Wedding Covered but No Honeymoon   \n",
       "1            1000.0       2007-05-26                Consolidating Debt   \n",
       "2           11000.0       2007-05-27       Want to consolidate my debt   \n",
       "3            6000.0       2007-05-27                           waksman   \n",
       "4            1500.0       2007-05-27                            mdrigo   \n",
       "\n",
       "   Risk_Score Debt-To-Income Ratio Zip Code State Employment Length  \\\n",
       "0       693.0                  10%    481xx    NM           4 years   \n",
       "1       703.0                  10%    010xx    MA          < 1 year   \n",
       "2       715.0                  10%    212xx    MD            1 year   \n",
       "3       698.0               38.64%    017xx    MA          < 1 year   \n",
       "4       509.0                9.43%    209xx    MD          < 1 year   \n",
       "\n",
       "   Policy Code  \n",
       "0          0.0  \n",
       "1          0.0  \n",
       "2          0.0  \n",
       "3          0.0  \n",
       "4          0.0  "
      ]
     },
     "execution_count": 6,
     "metadata": {},
     "output_type": "execute_result"
    }
   ],
   "source": [
    "df_rej.head()"
   ]
  },
  {
   "cell_type": "code",
   "execution_count": 7,
   "id": "3050ead9-7883-4786-b609-d0b10e69c68c",
   "metadata": {
    "colab": {
     "base_uri": "https://localhost:8080/",
     "height": 226
    },
    "id": "ZzFSXTM_rU_N",
    "outputId": "d02e15ef-0858-4f21-dc0e-d618c4c0c918"
   },
   "outputs": [
    {
     "name": "stdout",
     "output_type": "stream",
     "text": [
      "(27648741, 9)\n"
     ]
    }
   ],
   "source": [
    "print(df_rej.shape)"
   ]
  },
  {
   "cell_type": "markdown",
   "id": "a6a315fe-33b0-4309-b057-a7747dc3a98e",
   "metadata": {},
   "source": [
    "## 2. Анализ факторов"
   ]
  },
  {
   "cell_type": "markdown",
   "id": "24d22add-dda3-433f-89cf-9ea50370a365",
   "metadata": {},
   "source": [
    "### 2.1. Список факторов\n",
    "\n",
    "Все факторы могут в дальнейшем использоваться в модели. Многие факторы пересекаются с факторами принятых заявок, что теоретически позволяет оценить смещение обучающей выборки (reject inference).\n",
    "\n",
    "| N | Column | Description | Is field correct? | numerical? | categorical? | binary? | date? |\n",
    "| --- | --- | --- | --- | --- | --- | --- | --- |\n",
    "| 1 | Amount Requested | The total amount requested by the borrower | OK | 1 | 0 | 0 | 0 |\n",
    "| 2 | Application Date | The date which the borrower applied  | OK | 0 | 0 | 0 | 1 |\n",
    "| 3 | Loan Title | The loan title provided by the borrower | OK | 0 | 1 | 0 | 0 |\n",
    "| 4 | Risk_Score | For applications prior to November 5, 2013 the risk score is the borrower's FICO score. For applications after November 5, 2013 the risk score is the borrower's Vantage score. | OK | 1 | 0 | 0 | 0 |\n",
    "| 5 | Debt-To-Income Ratio | A ratio calculated using the borrower’s total monthly debt payments on the total debt obligations, excluding mortgage and the requested LC loan, divided by the borrower’s self-reported monthly income. | OK | 1 | 0 | 0 | 0 |\n",
    "| 6 | Zip Code | The first 3 numbers of the zip code provided by the borrower in the loan application. | OK | 0 | 1 | 0 | 0 |\n",
    "| 7 | State | The state provided by the borrower in the loan application | OK | 0 | 1 | 0 | 0 |\n",
    "| 8 | Employment Length | Employment length in years. Possible values are between 0 and 10 where 0 means less than one year and 10 means ten or more years. | OK | 1 | 0 | 0 | 0 |\n",
    "| 9 | Policy Code | publicly available policy_code = 1; new products not publicly available policy_code = 2 | OK | 0 | 0 | 1 | 0 |\n",
    "\n"
   ]
  },
  {
   "cell_type": "code",
   "execution_count": 8,
   "id": "ab4b881a-31aa-41ff-9e81-7047ef0aaadb",
   "metadata": {},
   "outputs": [
    {
     "name": "stderr",
     "output_type": "stream",
     "text": [
      "A subdirectory or file samples already exists.\n"
     ]
    }
   ],
   "source": [
    "X = df_rej.copy()\n",
    "\n",
    "# таргет по отклоненным заявкам, очевидно, отсутствует\n",
    "# y = df_rej.target - 1\n",
    "\n",
    "X_train, X_test = train_test_split(X, test_size=0.2, random_state=seed)\n",
    "\n",
    "X_train.reset_index(inplace=True, drop=True)\n",
    "X_test.reset_index(inplace=True, drop=True)\n",
    "\n",
    "# Save data & info ===\n",
    "# parquet is optimized for large volumes of data\n",
    "!mkdir samples\n",
    "X_train.to_parquet('./samples/rejected_X_train.parquet')\n",
    "X_test.to_parquet('./samples/rejected_X_test.parquet')\n",
    "\n",
    "# сохраняем списки категориальных и колич. переменных\n",
    "cat_vals = ['Loan Title', 'Zip Code', 'State']\n",
    "num_vals = ['Amount Requested', 'Risk_Score', 'Debt-To-Income Ratio', 'Employment Length']\n",
    "dates = ['Application Date']\n",
    "binary_vals = ['Policy Code']\n",
    "\n",
    "with open('rejected_factors.json', 'w') as f:\n",
    "    json.dump({'cat_vals': cat_vals, \"num_vals\": num_vals, 'dates': dates, 'binary_vals': binary_vals}, f)"
   ]
  },
  {
   "cell_type": "markdown",
   "id": "7a700673-3718-4898-a1f5-314c38055896",
   "metadata": {},
   "source": [
    "## 3. Статистики и пропуски"
   ]
  },
  {
   "cell_type": "markdown",
   "id": "f8d6dfd3-3116-41ef-b435-3ad6a6714d61",
   "metadata": {
    "tags": []
   },
   "source": [
    "### Статистики"
   ]
  },
  {
   "cell_type": "code",
   "execution_count": 10,
   "id": "4f25c184-b0a6-49d4-a6e6-bedb814cd0a1",
   "metadata": {},
   "outputs": [
    {
     "name": "stdout",
     "output_type": "stream",
     "text": [
      "Количество наблюдений: 27648741\n",
      "Количество факторов: 9\n"
     ]
    }
   ],
   "source": [
    "print(f'Количество наблюдений: {X.shape[0]}')\n",
    "print(f'Количество факторов: {X.shape[1]}')"
   ]
  },
  {
   "cell_type": "markdown",
   "id": "2afa90aa-fb93-4481-9616-d431b532bea0",
   "metadata": {},
   "source": [
    "### Пропуски"
   ]
  },
  {
   "cell_type": "markdown",
   "id": "1d5ae77c-534e-471d-b21c-7530732ecb18",
   "metadata": {},
   "source": [
    "Пропуски в датасете отсутствуют:"
   ]
  },
  {
   "cell_type": "code",
   "execution_count": 13,
   "id": "86826977-d2a6-417a-8a40-8d8c2e19f6db",
   "metadata": {},
   "outputs": [
    {
     "name": "stdout",
     "output_type": "stream",
     "text": [
      "Количество пропусков по фактору Amount Requested:\n",
      "\t0 или 0.0%\n",
      "Количество пропусков по фактору Application Date:\n",
      "\t0 или 0.0%\n",
      "Количество пропусков по фактору Loan Title:\n",
      "\t1303 или 0.004712691981164712%\n",
      "Количество пропусков по фактору Risk_Score:\n",
      "\t18497630 или 66.90225063050791%\n",
      "Количество пропусков по фактору Debt-To-Income Ratio:\n",
      "\t0 или 0.0%\n",
      "Количество пропусков по фактору Zip Code:\n",
      "\t293 или 0.0010597227555497013%\n",
      "Количество пропусков по фактору State:\n",
      "\t22 или 7.95696266965646e-05%\n",
      "Количество пропусков по фактору Employment Length:\n",
      "\t951355 или 3.440861918450464%\n",
      "Количество пропусков по фактору Policy Code:\n",
      "\t918 или 0.0033202235139748316%\n"
     ]
    }
   ],
   "source": [
    "for col in X.columns:\n",
    "    print(f'Количество пропусков по фактору {col}:\\n\\t{X[col].isna().sum()} или {X[col].isna().sum() / X.shape[0] * 100}%')"
   ]
  },
  {
   "cell_type": "markdown",
   "id": "763072b8-a9f5-40ab-9f9f-a02ca7315f65",
   "metadata": {},
   "source": [
    "Кажется странным, что риск-скор отсутствует по двум третям заявок. Давайте посмотрим этот же показатель во времени:"
   ]
  },
  {
   "cell_type": "code",
   "execution_count": 22,
   "id": "6e173766-a4fa-4873-8fe8-96388d51fa16",
   "metadata": {},
   "outputs": [],
   "source": [
    "X['Risk_Score_adj'] = X.Risk_Score.isna()"
   ]
  },
  {
   "cell_type": "code",
   "execution_count": 27,
   "id": "d278069a-8808-431d-889b-2467f72e3e90",
   "metadata": {},
   "outputs": [],
   "source": [
    "res = X.groupby('Application Date').Risk_Score_adj.sum() / X.groupby('Application Date').Risk_Score_adj.count()"
   ]
  },
  {
   "cell_type": "code",
   "execution_count": 30,
   "id": "21e91ebf-320a-4788-ab89-a2319269379e",
   "metadata": {},
   "outputs": [
    {
     "data": {
      "text/plain": [
       "<AxesSubplot:xlabel='Application Date'>"
      ]
     },
     "execution_count": 30,
     "metadata": {},
     "output_type": "execute_result"
    },
    {
     "data": {
      "image/png": "[encoded data removed]",
      "text/plain": [
       "<Figure size 432x288 with 1 Axes>"
      ]
     },
     "metadata": {
      "needs_background": "light"
     },
     "output_type": "display_data"
    }
   ],
   "source": [
    "res.plot()"
   ]
  },
  {
   "cell_type": "markdown",
   "id": "d72be1a7-b2d2-4f59-b235-42f19bc460e2",
   "metadata": {},
   "source": [
    "Итак, где-то с 2015-ого года внешние рейтинги перестают использоваться в Lending Club. Созможно, причина в появлении внутренних моделей.\n",
    "\n",
    "Поскольку оба наших датасета из одобренных заявок фильтруются 2015-м годом, это не так портит картину, однако заставляет задуматься о грядущем структурном сдвиге в модели."
   ]
  },
  {
   "cell_type": "markdown",
   "id": "8ee66b8f-2330-4a48-962d-d22bb3b6a884",
   "metadata": {},
   "source": [
    "## 4. Визуальный анализ и выбросы"
   ]
  },
  {
   "cell_type": "code",
   "execution_count": 41,
   "id": "e2f0d4ed-56a3-411f-87d8-7bd27c211522",
   "metadata": {},
   "outputs": [],
   "source": [
    "X.drop('Risk_Score_adj', axis = 1, inplace=True)"
   ]
  },
  {
   "cell_type": "code",
   "execution_count": 42,
   "id": "51632dd7-ead0-4992-978f-281ffb60bff3",
   "metadata": {},
   "outputs": [
    {
     "data": {
      "image/png": "[encoded data removed]",
      "text/plain": [
       "<Figure size 432x288 with 1 Axes>"
      ]
     },
     "metadata": {
      "needs_background": "light"
     },
     "output_type": "display_data"
    },
    {
     "data": {
      "image/png": "[encoded data removed]",
      "text/plain": [
       "<Figure size 432x288 with 1 Axes>"
      ]
     },
     "metadata": {
      "needs_background": "light"
     },
     "output_type": "display_data"
    },
    {
     "data": {
      "image/png": "[encoded data removed]",
      "text/plain": [
       "<Figure size 432x288 with 1 Axes>"
      ]
     },
     "metadata": {
      "needs_background": "light"
     },
     "output_type": "display_data"
    },
    {
     "data": {
      "image/png": "[encoded data removed]",
      "text/plain": [
       "<Figure size 432x288 with 1 Axes>"
      ]
     },
     "metadata": {
      "needs_background": "light"
     },
     "output_type": "display_data"
    },
    {
     "data": {
      "image/png": "[encoded data removed]",
      "text/plain": [
       "<Figure size 432x288 with 1 Axes>"
      ]
     },
     "metadata": {
      "needs_background": "light"
     },
     "output_type": "display_data"
    },
    {
     "data": {
      "image/png": "[encoded data removed]",
      "text/plain": [
       "<Figure size 432x288 with 1 Axes>"
      ]
     },
     "metadata": {
      "needs_background": "light"
     },
     "output_type": "display_data"
    },
    {
     "data": {
      "image/png": "[encoded data removed]",
      "text/plain": [
       "<Figure size 432x288 with 1 Axes>"
      ]
     },
     "metadata": {
      "needs_background": "light"
     },
     "output_type": "display_data"
    },
    {
     "data": {
      "image/png": "[encoded data removed]",
      "text/plain": [
       "<Figure size 432x288 with 1 Axes>"
      ]
     },
     "metadata": {
      "needs_background": "light"
     },
     "output_type": "display_data"
    },
    {
     "data": {
      "image/png": "[encoded data removed]",
      "text/plain": [
       "<Figure size 432x288 with 1 Axes>"
      ]
     },
     "metadata": {
      "needs_background": "light"
     },
     "output_type": "display_data"
    }
   ],
   "source": [
    "for col in X.columns:\n",
    "    # есть колонки со всеми пропусками, пропускаем их\n",
    "    if X[col].isna().sum() != X.shape[0]:\n",
    "        # если переменная категориальная, а вариантов > 15, строим распределение ТОП-15 значений + Other\n",
    "        if (isinstance(X[col][0], str)) & (X[col].unique().shape[0] > 15):\n",
    "            graph_df = X[col].value_counts().head()\n",
    "            graph_df = graph_df.append(pd.Series({'OTHER': X.shape[0] - graph_df.sum()}))\n",
    "            graph_df.plot.barh()\n",
    "            plt.title(f'Distribution of {col}')\n",
    "            plt.show()\n",
    "        # общий случай\n",
    "        else:\n",
    "            plt.hist(X.loc[~(X[col].isna()), col], orientation='horizontal')\n",
    "            plt.title(f'Distribution of {col}')\n",
    "            plt.show()\n",
    "    else:\n",
    "        print(f'{col} is skipped!')"
   ]
  },
  {
   "cell_type": "markdown",
   "id": "38871d0a",
   "metadata": {
    "tags": []
   },
   "source": [
    "***\n",
    "\n",
    "# Выводы "
   ]
  },
  {
   "cell_type": "markdown",
   "id": "3d1ae769-8840-421a-94ef-7163c2e0203d",
   "metadata": {},
   "source": [
    "На данных можно построить аппликативную модель. Данные разделяются на одобренные и отклоненные заявки. По одобренным займам значительно большее число факторов, но наблюдений меньше. \n",
    "\n",
    "__Одобренные заявки__ разделяются на 2 подмодуля: займы на 3 и на 5 лет. Некоторые авторы рекомендуют фильтровать выдачи с 2010-ого года (до этого заполняемость хуже), но мы пока этого не делаем.\n",
    "\n",
    "__Отклоненные заявки__ могут иметь структурный сдвиг: с 2015 г. значительно увличивается количество пропусков по внешних скорам заемщиков. Тем не менее, с учетом вызревания это слабо повлияет на наши данные. Кроме того, в с 5 ноября 2013 г. произошла смена поставшика скоров: скоры FICO заменены на Vantage.\n",
    "\n",
    "Преимущества использования датасета:\n",
    "* Сравнительно большое число наблюдений\n",
    "* Критических выбросов не обнаружено\n",
    "* Возможен учёт reject inference\n",
    "* есть различные поколения выдач, можно смотреть динамику во времени\n",
    "* потенциально есть датасет 2020q3, но мне не понравилось качество данных. По идее мы можем получить примерно + 1-1.5 года доп. информации\n",
    "\n",
    "Основные проблемы:\n",
    "* большое число факторов сомнительные и могут содержать информацию из будущего. Однозначно некорректные факторы уже отфильтровал, оставшиеся разделил на хорошие 'good' и потенциально некорректные 'risky'\n",
    "* достаточно большое число пропусков, но они, кажется, часто имеют экономическое объяснение (например, при отсутствии импотеки должна отсутствовать дата получения ипотеки)\n",
    "* идентификаторы клиентов не заполнены"
   ]
  },
  {
   "cell_type": "markdown",
   "id": "9fc84ef6",
   "metadata": {},
   "source": [
    "***\n",
    "\n",
    "# Appendix"
   ]
  },
  {
   "cell_type": "code",
   "execution_count": 24,
   "id": "cc9fc73a",
   "metadata": {
    "tags": []
   },
   "outputs": [],
   "source": [
    "# df1 = pd.read_csv('C:/Users/antonmarkov/01-studies/01-phd/year-3/model-risks/credit_scoring_project/datasets/03_lending_club/raw_files/Loan_status_2007-2020Q3.gzip', low_memory=False)\n",
    "# df2 = pd.read_csv('./raw_files/accepted_2007_to_2018Q4.csv', low_memory=False)"
   ]
  },
  {
   "cell_type": "code",
   "execution_count": 25,
   "id": "9ef9b0fc",
   "metadata": {},
   "outputs": [],
   "source": [
    "# res1 = pd.DataFrame(df1.groupby('issue_d').id.count()).reset_index()\n",
    "# res2 = pd.DataFrame(df2.groupby('issue_d').id.count()).reset_index()\n",
    "\n",
    "# res1.columns = ['issue_d', 'nrow_2019q3']\n",
    "# res2.columns = ['issue_d', 'nrow_2020q4']"
   ]
  },
  {
   "cell_type": "code",
   "execution_count": 26,
   "id": "5ecb7637",
   "metadata": {},
   "outputs": [],
   "source": [
    "# pd.merge(res1, res2, how='left').sort_values('issue_d').tail(60)"
   ]
  },
  {
   "cell_type": "code",
   "execution_count": 27,
   "id": "a9994974",
   "metadata": {},
   "outputs": [],
   "source": [
    "# df_acc = pd.read_csv('C:/Users/antonmarkov/01-studies/01-phd/year-3/model-risks/credit_scoring_project/datasets/03_lending_club/raw_files/Loan_status_2007-2020Q3.gzip', low_memory=False)"
   ]
  }
 ],
 "metadata": {
  "kernelspec": {
   "display_name": "Python 3 (ipykernel)",
   "language": "python",
   "name": "python3"
  },
  "language_info": {
   "codemirror_mode": {
    "name": "ipython",
    "version": 3
   },
   "file_extension": ".py",
   "mimetype": "text/x-python",
   "name": "python",
   "nbconvert_exporter": "python",
   "pygments_lexer": "ipython3",
   "version": "3.7.6"
  }
 },
 "nbformat": 4,
 "nbformat_minor": 5
}
